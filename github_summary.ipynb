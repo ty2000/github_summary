{
 "cells": [
  {
   "cell_type": "code",
   "execution_count": 46,
   "metadata": {
    "colab": {
     "base_uri": "https://localhost:8080/",
     "height": 35
    },
    "colab_type": "code",
    "executionInfo": {
     "elapsed": 682,
     "status": "ok",
     "timestamp": 1556240310354,
     "user": {
      "displayName": "Y T",
      "photoUrl": "https://lh5.googleusercontent.com/-cKJn6SIVybk/AAAAAAAAAAI/AAAAAAAAAC8/LkrUz0GW-ck/s64/photo.jpg",
      "userId": "15655710450810905216"
     },
     "user_tz": 300
    },
    "id": "-Rk58DqEEZDy",
    "outputId": "daf22510-62ba-4fb9-beed-a2246f02b293"
   },
   "outputs": [
    {
     "name": "stdout",
     "output_type": "stream",
     "text": [
      "Automatic pdb calling has been turned ON\n"
     ]
    }
   ],
   "source": [
    "%matplotlib inline\n",
    "%reload_ext autoreload\n",
    "%autoreload 2\n",
    "%pdb 1\n"
   ]
  },
  {
   "cell_type": "markdown",
   "metadata": {
    "colab_type": "text",
    "id": "7GUxFuooEZEJ"
   },
   "source": [
    "Please note that this notebook is most likely going to cause a stuck process. So if you are going to run it, please make sure to restart your jupyter notebook as soon as you completed running it.\n",
    "\n",
    "The bug happens inside the `fastText` library, which we have no control over. You can check the status of this issue: [here](https://github.com/fastai/fastai/issues/754) and [here](https://github.com/facebookresearch/fastText/issues/618#issuecomment-419554225).\n",
    "\n",
    "For the future, note that there're 3 separate implementations of fasttext, perhaps one of them works:\n",
    "https://github.com/facebookresearch/fastText/tree/master/python\n",
    "https://pypi.org/project/fasttext/\n",
    "https://radimrehurek.com/gensim/models/fasttext.html#module-gensim.models.fasttext"
   ]
  },
  {
   "cell_type": "markdown",
   "metadata": {
    "colab_type": "text",
    "id": "yyT6ebYgEZEN"
   },
   "source": [
    "## Translation files"
   ]
  },
  {
   "cell_type": "code",
   "execution_count": 1,
   "metadata": {
    "colab": {},
    "colab_type": "code",
    "collapsed": true,
    "id": "M9vizz7MEZER"
   },
   "outputs": [],
   "source": [
    "from fastai.text import *"
   ]
  },
  {
   "cell_type": "code",
   "execution_count": 0,
   "metadata": {
    "colab": {
     "base_uri": "https://localhost:8080/",
     "height": 90
    },
    "colab_type": "code",
    "executionInfo": {
     "elapsed": 20497,
     "status": "ok",
     "timestamp": 1556198985928,
     "user": {
      "displayName": "Y T",
      "photoUrl": "https://lh5.googleusercontent.com/-cKJn6SIVybk/AAAAAAAAAAI/AAAAAAAAAC8/LkrUz0GW-ck/s64/photo.jpg",
      "userId": "15655710450810905216"
     },
     "user_tz": 300
    },
    "id": "OdBDyTgwOxfa",
    "outputId": "c8462abe-2479-42d5-e861-08bc5ebfab5a"
   },
   "outputs": [
    {
     "name": "stdout",
     "output_type": "stream",
     "text": [
      "  % Total    % Received % Xferd  Average Speed   Time    Time     Time  Current\n",
      "                                 Dload  Upload   Total   Spent    Left  Speed\n",
      "100   608    0   608    0     0   2909      0 --:--:-- --:--:-- --:--:--  2895\n",
      "100  979M  100  979M    0     0  70.1M      0  0:00:13  0:00:13 --:--:-- 72.3M\n"
     ]
    }
   ],
   "source": [
    "!curl -L -O https://github.com/ty2000/github_summary/releases/download/0.1/github-issues.zip"
   ]
  },
  {
   "cell_type": "code",
   "execution_count": 0,
   "metadata": {
    "colab": {
     "base_uri": "https://localhost:8080/",
     "height": 54
    },
    "colab_type": "code",
    "executionInfo": {
     "elapsed": 51002,
     "status": "ok",
     "timestamp": 1556199016501,
     "user": {
      "displayName": "Y T",
      "photoUrl": "https://lh5.googleusercontent.com/-cKJn6SIVybk/AAAAAAAAAAI/AAAAAAAAAC8/LkrUz0GW-ck/s64/photo.jpg",
      "userId": "15655710450810905216"
     },
     "user_tz": 300
    },
    "id": "S8p-jfB2O59X",
    "outputId": "cb6d3ce2-ab74-46d2-906d-fcc6edf3e5c4"
   },
   "outputs": [
    {
     "name": "stdout",
     "output_type": "stream",
     "text": [
      "Archive:  github-issues.zip\n",
      "  inflating: github_issues.csv       \n"
     ]
    }
   ],
   "source": [
    "!unzip *zip"
   ]
  },
  {
   "cell_type": "code",
   "execution_count": 0,
   "metadata": {
    "colab": {
     "base_uri": "https://localhost:8080/",
     "height": 90
    },
    "colab_type": "code",
    "executionInfo": {
     "elapsed": 52674,
     "status": "ok",
     "timestamp": 1556199018215,
     "user": {
      "displayName": "Y T",
      "photoUrl": "https://lh5.googleusercontent.com/-cKJn6SIVybk/AAAAAAAAAAI/AAAAAAAAAC8/LkrUz0GW-ck/s64/photo.jpg",
      "userId": "15655710450810905216"
     },
     "user_tz": 300
    },
    "id": "aSpvVTDITwxF",
    "outputId": "2b810916-b4b2-4fef-f985-46aed0cb2a30"
   },
   "outputs": [
    {
     "name": "stdout",
     "output_type": "stream",
     "text": [
      "total 3788908\n",
      "-rw-r--r-- 1 root root 2852401417 Jan 17  2018 github_issues.csv\n",
      "-rw-r--r-- 1 root root 1027424178 Apr 25 13:29 github-issues.zip\n",
      "drwxr-xr-x 1 root root       4096 Apr  4 20:20 sample_data\n"
     ]
    }
   ],
   "source": [
    "!ls -l"
   ]
  },
  {
   "cell_type": "code",
   "execution_count": 0,
   "metadata": {
    "colab": {
     "base_uri": "https://localhost:8080/",
     "height": 221
    },
    "colab_type": "code",
    "executionInfo": {
     "elapsed": 54668,
     "status": "ok",
     "timestamp": 1556199020252,
     "user": {
      "displayName": "Y T",
      "photoUrl": "https://lh5.googleusercontent.com/-cKJn6SIVybk/AAAAAAAAAAI/AAAAAAAAAC8/LkrUz0GW-ck/s64/photo.jpg",
      "userId": "15655710450810905216"
     },
     "user_tz": 300
    },
    "id": "eoNeStVmPjr6",
    "outputId": "403a9fc9-9be9-4ac8-e288-53a01dcb8866"
   },
   "outputs": [
    {
     "name": "stdout",
     "output_type": "stream",
     "text": [
      "issue_url,issue_title,body\n",
      "\"\"\"https://github.com/zhangyuanwei/node-images/issues/123\"\"\",can't load the addon. issue to: https://github.com/zhangyuanwei/node-images/issues error: /lib64/libc.so.6: version glibc_2.14' not found required by /usr/local/app/taf/fileserver.fileserver/bin/src/node_modules/images/bindings/linux/x64/8.0.0/binding.node,can't load the addon. issue to: https://github.com/zhangyuanwei/node-images/issues error: /lib64/libc.so.6: version glibc_2.14' not found required by /usr/local/app/taf/fileserver.fileserver/bin/src/node_modules/images/bindings/linux/x64/8.0.0/binding.node 有低点的版本，不需要glibc_2.14的吗\n",
      "\"\"\"https://github.com/Microsoft/pxt/issues/2543\"\"\",hcl accessibility a11yblocking a11ymas mas4.2.10 hcl-makecode win10-edge -title screen reader-help-javascript-call a function narrator focus does not moving to expand side a documentation button after pressing enter on collapse side a documentation button.,user experience: user who depends on screen reader will get confused if narrator focus does not retain on expand side a documentation button after pressing enter on collapse side a documentation button test environment os: rs2 version 1703 os build 15063.483 platform: edge. screen reader: narrator repro steps 1-navigate to https://makecode.microbit.org/acc 2-navigate to the micro bit section element and select code control given on it. 3-navigate to the help control lying in the header section on the page and select it. 4-navigate to 'javascript' control and select it. 5-navigate to various controls lying on the pane opened. 6-navigate to the pane opened and select any link listed under it. 7-verify narrator focus moving or not on expand side a documentation button after pressing enter on collapse side a documentation button. actual result narrator focus does not retain on expand side a documentation button after pressing enter on collapse side a documentation button. after pressing enter on collapse side a documentation button narrator focus visible on same place not moving to expand button. expected result narrator focus should be shift to expand side a documentation button after pressing enter on collapse side a documentation button. mas reference https://microsoft.sharepoint.com/teams/msenable/_layouts/15/wopiframe.aspx?sourcedoc={b24201d1-2276-4471-8183-e1e5353031ad} please refer attachment for more details: mas2.4.7_call a function_ visual focus indicator is not visible on side a documentation button.zip https://github.com/microsoft/pxt/files/1179553/mas2.4.7_call.a.function_visual.focus.indicator.is.not.visible.on.siade.a.documentation.button.zip\n",
      "\"\"\"https://github.com/MatisiekPL/Czekolada/issues/1268\"\"\",issue 1265: issue 1264: issue 1261: issue 1260: issue 1257: issue 1256: issue 1253: issue 1252: issue 1250: issue 1247: issue 1246: issue 1243: issue 1242: issue 1239: issue 1237: issue 1236: issue 1233: issue 1231: issue 1230: issue 1227: issue 1226: issu,┆attachments: <a href= https:& x2f;& x2f;github.com& x2f;matisiekpl& x2f;czekolada& x2f;issues& x2f;1265 >https:& x2f;& x2f;github.com& x2f;matisiekpl& x2f;czekolada& x2f;issues& x2f;1265</a>\n",
      "\"\"\"https://github.com/MatisiekPL/Czekolada/issues/1267\"\"\",issue 1266: issue 1263: issue 1262: issue 1259: issue 1258: issue 1255: issue 1254: issue 1251: issue 1249: issue 1248: issue 1245: issue 1244: issue 1241: issue 1240: issue 1238: issue 1235: issue 1234: issue 1232: issue 1229: issue 1228: issue 1225: issu,\"gitlo = github x trello\n",
      "---\n",
      "this board is now linked with https://github.com/matisiekpl/czekolada , any update on the issue tracker will be sync to this board. -------\n",
      "via trello, you can: --- __✍ create github issues__ - add a card in the corresponding column, an issue will be created in github ! add an issue http://i.imgur.com/yewicu8.gif ------- __✐ comment on github issues__ - just comment as you always do in a card ! comment on an issue http://i.imgur.com/jdnjscf.gif ------- __➦ close opened issues__ - move issue cards to close list - of course you can reopen them by dragging them out of close list ! close an issue http://i.imgur.com/opaazo8.gif ------- __✕ close pull requests__ - move pr cards to close list - important: you can not merge a pr via trello ! close pr http://i.imgur.com/nras2dg.gif __✚__ add any custom columns you need - the column will be sync to github as a label ------- default columns\n",
      "---\n",
      "we've set up default columns for you - please help keeping them in place ; you can also add your custom columns to enhance your work flow. ! add a column http://i.imgur.com/1rxnqcv.gif ------- dashboard & settings\n"
     ]
    }
   ],
   "source": [
    "!head -n 10 github_issues.csv"
   ]
  },
  {
   "cell_type": "code",
   "execution_count": 0,
   "metadata": {
    "colab": {},
    "colab_type": "code",
    "collapsed": true,
    "id": "v-z2YJ_7T9ON"
   },
   "outputs": [],
   "source": [
    "import pandas as pd"
   ]
  },
  {
   "cell_type": "code",
   "execution_count": 0,
   "metadata": {
    "colab": {},
    "colab_type": "code",
    "collapsed": true,
    "id": "1v0YRN1cT_BX"
   },
   "outputs": [],
   "source": [
    "df = pd.read_csv('github_issues.csv').sample(n=100000)"
   ]
  },
  {
   "cell_type": "code",
   "execution_count": 0,
   "metadata": {
    "colab": {
     "base_uri": "https://localhost:8080/",
     "height": 175
    },
    "colab_type": "code",
    "executionInfo": {
     "elapsed": 91212,
     "status": "ok",
     "timestamp": 1556199056851,
     "user": {
      "displayName": "Y T",
      "photoUrl": "https://lh5.googleusercontent.com/-cKJn6SIVybk/AAAAAAAAAAI/AAAAAAAAAC8/LkrUz0GW-ck/s64/photo.jpg",
      "userId": "15655710450810905216"
     },
     "user_tz": 300
    },
    "id": "g9bJ6FECU_Wm",
    "outputId": "869a2637-825e-43aa-ddda-d88fd1727ac7"
   },
   "outputs": [
    {
     "data": {
      "text/html": [
       "<div>\n",
       "<style scoped>\n",
       "    .dataframe tbody tr th:only-of-type {\n",
       "        vertical-align: middle;\n",
       "    }\n",
       "\n",
       "    .dataframe tbody tr th {\n",
       "        vertical-align: top;\n",
       "    }\n",
       "\n",
       "    .dataframe thead th {\n",
       "        text-align: right;\n",
       "    }\n",
       "</style>\n",
       "<table border=\"1\" class=\"dataframe\">\n",
       "  <thead>\n",
       "    <tr style=\"text-align: right;\">\n",
       "      <th></th>\n",
       "      <th>issue_url</th>\n",
       "      <th>issue_title</th>\n",
       "      <th>body</th>\n",
       "    </tr>\n",
       "  </thead>\n",
       "  <tbody>\n",
       "    <tr>\n",
       "      <th>count</th>\n",
       "      <td>100000</td>\n",
       "      <td>100000</td>\n",
       "      <td>100000</td>\n",
       "    </tr>\n",
       "    <tr>\n",
       "      <th>unique</th>\n",
       "      <td>99966</td>\n",
       "      <td>96219</td>\n",
       "      <td>97023</td>\n",
       "    </tr>\n",
       "    <tr>\n",
       "      <th>top</th>\n",
       "      <td>\"https://github.com/cmty-test/cmty-repository-...</td>\n",
       "      <td>first from flow in uk south</td>\n",
       "      <td>first from flow in uk south</td>\n",
       "    </tr>\n",
       "    <tr>\n",
       "      <th>freq</th>\n",
       "      <td>7</td>\n",
       "      <td>1716</td>\n",
       "      <td>1716</td>\n",
       "    </tr>\n",
       "  </tbody>\n",
       "</table>\n",
       "</div>"
      ],
      "text/plain": [
       "                                                issue_url  \\\n",
       "count                                              100000   \n",
       "unique                                              99966   \n",
       "top     \"https://github.com/cmty-test/cmty-repository-...   \n",
       "freq                                                    7   \n",
       "\n",
       "                        issue_title                         body  \n",
       "count                        100000                       100000  \n",
       "unique                        96219                        97023  \n",
       "top     first from flow in uk south  first from flow in uk south  \n",
       "freq                           1716                         1716  "
      ]
     },
     "execution_count": 9,
     "metadata": {
      "tags": []
     },
     "output_type": "execute_result"
    }
   ],
   "source": [
    "df.describe()"
   ]
  },
  {
   "cell_type": "code",
   "execution_count": 2,
   "metadata": {
    "colab": {},
    "colab_type": "code",
    "collapsed": true,
    "id": "dVknrM6bEZEl"
   },
   "outputs": [],
   "source": [
    "PATH = Path('data/translate')\n",
    "TMP_PATH = PATH/'tmp'\n",
    "TMP_PATH.mkdir(exist_ok=True, parents=True)"
   ]
  },
  {
   "cell_type": "code",
   "execution_count": 3,
   "metadata": {},
   "outputs": [
    {
     "name": "stdout",
     "output_type": "stream",
     "text": [
      "E:\\work\\machine.learning\\github\\github_summary\\data\\translate\\tmp\n"
     ]
    }
   ],
   "source": [
    "print(TMP_PATH.resolve())"
   ]
  },
  {
   "cell_type": "code",
   "execution_count": 0,
   "metadata": {
    "colab": {},
    "colab_type": "code",
    "collapsed": true,
    "id": "s1iNjqoPXCgL"
   },
   "outputs": [],
   "source": [
    "titles_raw = df[\"issue_title\"].tolist()\n",
    "body_raw = df[\"body\"].tolist()\n",
    "\n",
    "pickle.dump(titles_raw, (PATH/'title_raw.pkl').open('wb'))\n",
    "pickle.dump(body_raw, (PATH/'body_raw.pkl').open('wb'))\n",
    "\n"
   ]
  },
  {
   "cell_type": "code",
   "execution_count": 0,
   "metadata": {
    "colab": {},
    "colab_type": "code",
    "collapsed": true,
    "id": "VycUqpVzskP_"
   },
   "outputs": [],
   "source": [
    "title_raw = pickle.load((PATH/'title_raw.pkl').open('rb'));\n",
    "body_raw = pickle.load((PATH/'body_raw.pkl').open('rb'));\n"
   ]
  },
  {
   "cell_type": "code",
   "execution_count": 0,
   "metadata": {
    "colab": {
     "base_uri": "https://localhost:8080/",
     "height": 35
    },
    "colab_type": "code",
    "executionInfo": {
     "elapsed": 92247,
     "status": "ok",
     "timestamp": 1556199057950,
     "user": {
      "displayName": "Y T",
      "photoUrl": "https://lh5.googleusercontent.com/-cKJn6SIVybk/AAAAAAAAAAI/AAAAAAAAAC8/LkrUz0GW-ck/s64/photo.jpg",
      "userId": "15655710450810905216"
     },
     "user_tz": 300
    },
    "id": "nAb8UfbuXHYc",
    "outputId": "174f2f9b-7374-4054-f2de-38db9c016b2d"
   },
   "outputs": [
    {
     "data": {
      "text/plain": [
       "(list, 100000, 100000)"
      ]
     },
     "execution_count": 13,
     "metadata": {
      "tags": []
     },
     "output_type": "execute_result"
    }
   ],
   "source": [
    "type(titles_raw), len(titles_raw), len(body_raw)"
   ]
  },
  {
   "cell_type": "code",
   "execution_count": 0,
   "metadata": {
    "colab": {
     "base_uri": "https://localhost:8080/",
     "height": 221
    },
    "colab_type": "code",
    "executionInfo": {
     "elapsed": 92215,
     "status": "ok",
     "timestamp": 1556199057961,
     "user": {
      "displayName": "Y T",
      "photoUrl": "https://lh5.googleusercontent.com/-cKJn6SIVybk/AAAAAAAAAAI/AAAAAAAAAC8/LkrUz0GW-ck/s64/photo.jpg",
      "userId": "15655710450810905216"
     },
     "user_tz": 300
    },
    "id": "CmVyUh3iYSH7",
    "outputId": "ae2caa4e-13cd-46b1-8329-aa7112390b26"
   },
   "outputs": [
    {
     "data": {
      "text/plain": [
       "(['2. logica de negocio backend',\n",
       "  'fix up file system path resolution',\n",
       "  'first from flow in uk south',\n",
       "  'donate page needs to be updated',\n",
       "  'frost mage artifact weapon ebonchill bug.'],\n",
       " ['creacion de los servicios que se consumiran dentro del front end, todos los servicios rest deben tener los siguientes entregables - codigo fuente del servicio rest asignado - documentación del codigo segun la plantilla cargada a github cualquier issue creado que tenga relacion a la logica de negocio backend debe tener la siguiente nomenclatura 2.x debe fijarse que no este creado ese subindice para evitar repetidos . nombre del modulo que estan trabajando',\n",
       "  \"path resolution is currently done by relying on things like appdomain.currentdomain.basedirectory and using string.format ... in places like baseprotectiveservice . two problems: 1 apparently the results of appdomain.currentdomain.basedirectory are not consistent. yay. 2 path.combine ... should be used to build out paths because it's more robust as it's designed for this. presently, this appears to be partially responsible for the failure of the embedded services to start.\",\n",
       "  'first from flow in uk south',\n",
       "  'zay/treasurer will provide most up-to-date donation platform',\n",
       "  \"hey, when i try to kill legion mobs ingame, my artifact weapon keeps missing this didnt happen with my previous weapons , so after the 100th try it hits, but after that im dead :p. so the weapon as i said, misses every single hit, and it isnt suppost to do that, maybe a miss here and there, but this has to be resolved, i get killed with top notch gear. steps to reproduce the problem : 1. i guess you can try script this or something. 2. reduce the ammount of misses by atleast 90% 3. any other idea? my ingame character name is: physyslord'.\"])"
      ]
     },
     "execution_count": 14,
     "metadata": {
      "tags": []
     },
     "output_type": "execute_result"
    }
   ],
   "source": [
    "title_raw[:5], body_raw[:5]"
   ]
  },
  {
   "cell_type": "code",
   "execution_count": 0,
   "metadata": {
    "colab": {},
    "colab_type": "code",
    "collapsed": true,
    "id": "_x9uNAUgYt1d"
   },
   "outputs": [],
   "source": [
    "tokenizer = Tokenizer()\n",
    "title_tok = tokenizer.process_all(title_raw)\n",
    "pickle.dump(title_tok, (PATH/'title_tok.pkl').open('wb'))\n",
    "\n",
    "body_tok = tokenizer.process_all(body_raw)\n",
    "pickle.dump(body_tok, (PATH/'body_tok.pkl').open('wb'))\n",
    "\n"
   ]
  },
  {
   "cell_type": "code",
   "execution_count": 132,
   "metadata": {
    "colab": {
     "base_uri": "https://localhost:8080/",
     "height": 35
    },
    "colab_type": "code",
    "executionInfo": {
     "elapsed": 1639947,
     "status": "ok",
     "timestamp": 1556226044617,
     "user": {
      "displayName": "Y T",
      "photoUrl": "https://lh5.googleusercontent.com/-cKJn6SIVybk/AAAAAAAAAAI/AAAAAAAAAC8/LkrUz0GW-ck/s64/photo.jpg",
      "userId": "15655710450810905216"
     },
     "user_tz": 300
    },
    "id": "1bouINo2sozp",
    "outputId": "38229771-6ddf-4a1c-f5ef-d41ebf57781f"
   },
   "outputs": [
    {
     "data": {
      "text/plain": [
       "(57387, 57387)"
      ]
     },
     "execution_count": 132,
     "metadata": {
      "tags": []
     },
     "output_type": "execute_result"
    }
   ],
   "source": [
    "title_tok = pickle.load((PATH/'title_tok.pkl').open('rb'))\n",
    "body_tok =  pickle.load((PATH/'body_tok.pkl').open('rb'))\n",
    "len(title_tok), len(body_tok)"
   ]
  },
  {
   "cell_type": "code",
   "execution_count": 59,
   "metadata": {
    "colab": {
     "base_uri": "https://localhost:8080/",
     "height": 35
    },
    "colab_type": "code",
    "executionInfo": {
     "elapsed": 199177,
     "status": "ok",
     "timestamp": 1556199165018,
     "user": {
      "displayName": "Y T",
      "photoUrl": "https://lh5.googleusercontent.com/-cKJn6SIVybk/AAAAAAAAAAI/AAAAAAAAAC8/LkrUz0GW-ck/s64/photo.jpg",
      "userId": "15655710450810905216"
     },
     "user_tz": 300
    },
    "id": "v-mBRbIdaplF",
    "outputId": "28ef99bf-ea07-4ca6-a70f-11e7f41bad77"
   },
   "outputs": [
    {
     "data": {
      "text/plain": [
       "600"
      ]
     },
     "execution_count": 59,
     "metadata": {},
     "output_type": "execute_result"
    }
   ],
   "source": [
    "df = None\n",
    "\n",
    "import gc\n",
    "\n",
    "gc.collect()"
   ]
  },
  {
   "cell_type": "code",
   "execution_count": 0,
   "metadata": {
    "colab": {
     "base_uri": "https://localhost:8080/",
     "height": 1984
    },
    "colab_type": "code",
    "executionInfo": {
     "elapsed": 199147,
     "status": "ok",
     "timestamp": 1556199165031,
     "user": {
      "displayName": "Y T",
      "photoUrl": "https://lh5.googleusercontent.com/-cKJn6SIVybk/AAAAAAAAAAI/AAAAAAAAAC8/LkrUz0GW-ck/s64/photo.jpg",
      "userId": "15655710450810905216"
     },
     "user_tz": 300
    },
    "id": "On7KYTWfaDqb",
    "outputId": "4d2aec68-55dd-4a7b-ee85-da89796aad3d"
   },
   "outputs": [
    {
     "data": {
      "text/plain": [
       "(['forge', 'not', 'correctly', 'registering', 'rpcs'],\n",
       " 'forge not correctly registering rpcs',\n",
       " ['version',\n",
       "  'number',\n",
       "  'and',\n",
       "  'operating',\n",
       "  'system',\n",
       "  's',\n",
       "  ':',\n",
       "  'git',\n",
       "  'pulled',\n",
       "  'on',\n",
       "  'the',\n",
       "  '30',\n",
       "  '/',\n",
       "  '8',\n",
       "  '/',\n",
       "  '17',\n",
       "  '-',\n",
       "  'win',\n",
       "  '10',\n",
       "  'expected',\n",
       "  'behavior',\n",
       "  ':',\n",
       "  'cubeforge',\n",
       "  'should',\n",
       "  'serialise',\n",
       "  'world',\n",
       "  'and',\n",
       "  'send',\n",
       "  'to',\n",
       "  'all',\n",
       "  'players',\n",
       "  'that',\n",
       "  'connect',\n",
       "  'in',\n",
       "  '.',\n",
       "  'actual',\n",
       "  'behavior',\n",
       "  ':',\n",
       "  'cubeforge',\n",
       "  'intermittently',\n",
       "  'fails',\n",
       "  'to',\n",
       "  'serialise',\n",
       "  'world',\n",
       "  'for',\n",
       "  'some',\n",
       "  'players',\n",
       "  'and',\n",
       "  'some',\n",
       "  'rpcs',\n",
       "  'do',\n",
       "  'nt',\n",
       "  'appear',\n",
       "  'to',\n",
       "  'work',\n",
       "  'for',\n",
       "  'that',\n",
       "  'player',\n",
       "  '.',\n",
       "  'steps',\n",
       "  'to',\n",
       "  'reproduce',\n",
       "  ':',\n",
       "  'start',\n",
       "  'a',\n",
       "  'cubeforge',\n",
       "  'server',\n",
       "  '.',\n",
       "  'make',\n",
       "  'a',\n",
       "  'couple',\n",
       "  'of',\n",
       "  'changes',\n",
       "  'to',\n",
       "  'the',\n",
       "  'world',\n",
       "  'and',\n",
       "  'then',\n",
       "  'connect',\n",
       "  'in',\n",
       "  'about',\n",
       "  '10',\n",
       "  'clients',\n",
       "  '.',\n",
       "  'you',\n",
       "  'will',\n",
       "  'notice',\n",
       "  'some',\n",
       "  'of',\n",
       "  'the',\n",
       "  'players',\n",
       "  'do',\n",
       "  \"n't\",\n",
       "  'get',\n",
       "  'the',\n",
       "  'world',\n",
       "  'state',\n",
       "  '.',\n",
       "  'optional',\n",
       "  'discord',\n",
       "  'username',\n",
       "  ':',\n",
       "  'smiggsgdog'],\n",
       " \"version number and operating system s : git pulled on the 30/8/17 - win 10 expected behavior: cubeforge should serialise world and send to all players that connect in. actual behavior: cubeforge intermittently fails to serialise world for some players and some rpcs dont appear to work for that player. steps to reproduce: start a cubeforge server. make a couple of changes to the world and then connect in about 10 clients. you will notice some of the players don't get the world state. optional discord username: smiggsgdog\")"
      ]
     },
     "execution_count": 18,
     "metadata": {
      "tags": []
     },
     "output_type": "execute_result"
    }
   ],
   "source": [
    "idx = 11\n",
    "title_tok[idx], title_raw[idx],body_tok[idx], body_raw[idx]"
   ]
  },
  {
   "cell_type": "markdown",
   "metadata": {
    "colab_type": "text",
    "id": "QBUpyyewdK5F"
   },
   "source": [
    "We have to keep the \"sentence\" size under a threshold, otherwise the padding will be too much"
   ]
  },
  {
   "cell_type": "code",
   "execution_count": 0,
   "metadata": {
    "colab": {
     "base_uri": "https://localhost:8080/",
     "height": 35
    },
    "colab_type": "code",
    "executionInfo": {
     "elapsed": 199109,
     "status": "ok",
     "timestamp": 1556199165036,
     "user": {
      "displayName": "Y T",
      "photoUrl": "https://lh5.googleusercontent.com/-cKJn6SIVybk/AAAAAAAAAAI/AAAAAAAAAC8/LkrUz0GW-ck/s64/photo.jpg",
      "userId": "15655710450810905216"
     },
     "user_tz": 300
    },
    "id": "Zq9J8eo2EZG8",
    "outputId": "33085aeb-1d2b-43a4-f0c4-08d3b70ea1a6"
   },
   "outputs": [
    {
     "data": {
      "text/plain": [
       "(12.0, 74.0)"
      ]
     },
     "execution_count": 19,
     "metadata": {
      "tags": []
     },
     "output_type": "execute_result"
    }
   ],
   "source": [
    "np.percentile([len(o) for o in title_tok], 90), np.percentile([len(o) for o in body_tok], 60)"
   ]
  },
  {
   "cell_type": "code",
   "execution_count": 0,
   "metadata": {
    "colab": {},
    "colab_type": "code",
    "collapsed": true,
    "id": "pblBVyCsEZHH"
   },
   "outputs": [],
   "source": [
    "keep = np.array([len(o)<70 for o in body_tok])"
   ]
  },
  {
   "cell_type": "markdown",
   "metadata": {
    "colab_type": "text",
    "id": "Z3OPU_Dp2GLl"
   },
   "source": [
    "We only keep data items whose body is shorter than 70. When we emoving rows this way, we use the same keep indice for both the body and title (X and Y)"
   ]
  },
  {
   "cell_type": "code",
   "execution_count": 193,
   "metadata": {
    "colab": {
     "base_uri": "https://localhost:8080/",
     "height": 302
    },
    "colab_type": "code",
    "executionInfo": {
     "elapsed": 4879,
     "status": "error",
     "timestamp": 1556240327061,
     "user": {
      "displayName": "Y T",
      "photoUrl": "https://lh5.googleusercontent.com/-cKJn6SIVybk/AAAAAAAAAAI/AAAAAAAAAC8/LkrUz0GW-ck/s64/photo.jpg",
      "userId": "15655710450810905216"
     },
     "user_tz": 300
    },
    "id": "OIE6cHm6EZHO",
    "outputId": "0bda2a71-3dfb-45b9-d4c7-16428f2c9bf8"
   },
   "outputs": [
    {
     "ename": "IndexError",
     "evalue": "ignored",
     "output_type": "error",
     "traceback": [
      "\u001b[0;31m---------------------------------------------------------------------------\u001b[0m",
      "\u001b[0;31mIndexError\u001b[0m                                Traceback (most recent call last)",
      "\u001b[0;32m<ipython-input-193-5f8e8eb0ba32>\u001b[0m in \u001b[0;36m<module>\u001b[0;34m()\u001b[0m\n\u001b[0;32m----> 1\u001b[0;31m \u001b[0mbody_tok\u001b[0m \u001b[0;34m=\u001b[0m \u001b[0mnp\u001b[0m\u001b[0;34m.\u001b[0m\u001b[0marray\u001b[0m\u001b[0;34m(\u001b[0m\u001b[0mbody_tok\u001b[0m\u001b[0;34m)\u001b[0m\u001b[0;34m[\u001b[0m\u001b[0mkeep\u001b[0m\u001b[0;34m]\u001b[0m\u001b[0;34m\u001b[0m\u001b[0;34m\u001b[0m\u001b[0m\n\u001b[0m\u001b[1;32m      2\u001b[0m \u001b[0mtitle_tok\u001b[0m \u001b[0;34m=\u001b[0m \u001b[0mnp\u001b[0m\u001b[0;34m.\u001b[0m\u001b[0marray\u001b[0m\u001b[0;34m(\u001b[0m\u001b[0mtitle_tok\u001b[0m\u001b[0;34m)\u001b[0m\u001b[0;34m[\u001b[0m\u001b[0mkeep\u001b[0m\u001b[0;34m]\u001b[0m\u001b[0;34m\u001b[0m\u001b[0;34m\u001b[0m\u001b[0m\n",
      "\u001b[0;31mIndexError\u001b[0m: boolean index did not match indexed array along dimension 0; dimension is 57387 but corresponding boolean dimension is 100000"
     ]
    },
    {
     "name": "stdout",
     "output_type": "stream",
     "text": [
      "> \u001b[0;32m<ipython-input-193-5f8e8eb0ba32>\u001b[0m(1)\u001b[0;36m<module>\u001b[0;34m()\u001b[0m\n",
      "\u001b[0;32m----> 1 \u001b[0;31m\u001b[0mbody_tok\u001b[0m \u001b[0;34m=\u001b[0m \u001b[0mnp\u001b[0m\u001b[0;34m.\u001b[0m\u001b[0marray\u001b[0m\u001b[0;34m(\u001b[0m\u001b[0mbody_tok\u001b[0m\u001b[0;34m)\u001b[0m\u001b[0;34m[\u001b[0m\u001b[0mkeep\u001b[0m\u001b[0;34m]\u001b[0m\u001b[0;34m\u001b[0m\u001b[0;34m\u001b[0m\u001b[0m\n",
      "\u001b[0m\u001b[0;32m      2 \u001b[0;31m\u001b[0mtitle_tok\u001b[0m \u001b[0;34m=\u001b[0m \u001b[0mnp\u001b[0m\u001b[0;34m.\u001b[0m\u001b[0marray\u001b[0m\u001b[0;34m(\u001b[0m\u001b[0mtitle_tok\u001b[0m\u001b[0;34m)\u001b[0m\u001b[0;34m[\u001b[0m\u001b[0mkeep\u001b[0m\u001b[0;34m]\u001b[0m\u001b[0;34m\u001b[0m\u001b[0;34m\u001b[0m\u001b[0m\n",
      "\u001b[0m\n",
      "ipdb> c\n"
     ]
    }
   ],
   "source": [
    "body_tok = np.array(body_tok)[keep]\n",
    "title_tok = np.array(title_tok)[keep]"
   ]
  },
  {
   "cell_type": "code",
   "execution_count": 0,
   "metadata": {
    "colab": {},
    "colab_type": "code",
    "collapsed": true,
    "id": "D3-08qz4EZHb"
   },
   "outputs": [],
   "source": [
    "pickle.dump(body_tok, (PATH/'body_tok.pkl').open('wb'))\n",
    "pickle.dump(title_tok, (PATH/'title_tok.pkl').open('wb'))"
   ]
  },
  {
   "cell_type": "code",
   "execution_count": 4,
   "metadata": {
    "colab": {
     "base_uri": "https://localhost:8080/",
     "height": 35
    },
    "colab_type": "code",
    "executionInfo": {
     "elapsed": 1288,
     "status": "ok",
     "timestamp": 1556240331417,
     "user": {
      "displayName": "Y T",
      "photoUrl": "https://lh5.googleusercontent.com/-cKJn6SIVybk/AAAAAAAAAAI/AAAAAAAAAC8/LkrUz0GW-ck/s64/photo.jpg",
      "userId": "15655710450810905216"
     },
     "user_tz": 300
    },
    "id": "k7SXamcGEZHj",
    "outputId": "3880cc5d-2a32-4d88-e791-c39a74d1ff39"
   },
   "outputs": [
    {
     "ename": "FileNotFoundError",
     "evalue": "[Errno 2] No such file or directory: 'data\\\\translate\\\\body_tok.pkl'",
     "output_type": "error",
     "traceback": [
      "\u001b[1;31m---------------------------------------------------------------------------\u001b[0m",
      "\u001b[1;31mFileNotFoundError\u001b[0m                         Traceback (most recent call last)",
      "\u001b[1;32m<ipython-input-4-78a00d0e9403>\u001b[0m in \u001b[0;36m<module>\u001b[1;34m()\u001b[0m\n\u001b[1;32m----> 1\u001b[1;33m \u001b[0mbody_tok\u001b[0m \u001b[1;33m=\u001b[0m \u001b[0mpickle\u001b[0m\u001b[1;33m.\u001b[0m\u001b[0mload\u001b[0m\u001b[1;33m(\u001b[0m\u001b[1;33m(\u001b[0m\u001b[0mPATH\u001b[0m\u001b[1;33m/\u001b[0m\u001b[1;34m'body_tok.pkl'\u001b[0m\u001b[1;33m)\u001b[0m\u001b[1;33m.\u001b[0m\u001b[0mopen\u001b[0m\u001b[1;33m(\u001b[0m\u001b[1;34m'rb'\u001b[0m\u001b[1;33m)\u001b[0m\u001b[1;33m)\u001b[0m\u001b[1;33m\u001b[0m\u001b[1;33m\u001b[0m\u001b[0m\n\u001b[0m\u001b[0;32m      2\u001b[0m \u001b[0mtitle_tok\u001b[0m \u001b[1;33m=\u001b[0m \u001b[0mpickle\u001b[0m\u001b[1;33m.\u001b[0m\u001b[0mload\u001b[0m\u001b[1;33m(\u001b[0m\u001b[1;33m(\u001b[0m\u001b[0mPATH\u001b[0m\u001b[1;33m/\u001b[0m\u001b[1;34m'title_tok.pkl'\u001b[0m\u001b[1;33m)\u001b[0m\u001b[1;33m.\u001b[0m\u001b[0mopen\u001b[0m\u001b[1;33m(\u001b[0m\u001b[1;34m'rb'\u001b[0m\u001b[1;33m)\u001b[0m\u001b[1;33m)\u001b[0m\u001b[1;33m\u001b[0m\u001b[1;33m\u001b[0m\u001b[0m\n\u001b[0;32m      3\u001b[0m \u001b[0mlen\u001b[0m\u001b[1;33m(\u001b[0m\u001b[0mbody_tok\u001b[0m\u001b[1;33m)\u001b[0m\u001b[1;33m,\u001b[0m \u001b[0mlen\u001b[0m\u001b[1;33m(\u001b[0m\u001b[0mtitle_tok\u001b[0m\u001b[1;33m)\u001b[0m\u001b[1;33m\u001b[0m\u001b[1;33m\u001b[0m\u001b[0m\n",
      "\u001b[1;32md:\\tools\\Anaconda3\\envs\\pytorch\\lib\\pathlib.py\u001b[0m in \u001b[0;36mopen\u001b[1;34m(self, mode, buffering, encoding, errors, newline)\u001b[0m\n\u001b[0;32m   1181\u001b[0m             \u001b[0mself\u001b[0m\u001b[1;33m.\u001b[0m\u001b[0m_raise_closed\u001b[0m\u001b[1;33m(\u001b[0m\u001b[1;33m)\u001b[0m\u001b[1;33m\u001b[0m\u001b[1;33m\u001b[0m\u001b[0m\n\u001b[0;32m   1182\u001b[0m         return io.open(str(self), mode, buffering, encoding, errors, newline,\n\u001b[1;32m-> 1183\u001b[1;33m                        opener=self._opener)\n\u001b[0m\u001b[0;32m   1184\u001b[0m \u001b[1;33m\u001b[0m\u001b[0m\n\u001b[0;32m   1185\u001b[0m     \u001b[1;32mdef\u001b[0m \u001b[0mread_bytes\u001b[0m\u001b[1;33m(\u001b[0m\u001b[0mself\u001b[0m\u001b[1;33m)\u001b[0m\u001b[1;33m:\u001b[0m\u001b[1;33m\u001b[0m\u001b[1;33m\u001b[0m\u001b[0m\n",
      "\u001b[1;32md:\\tools\\Anaconda3\\envs\\pytorch\\lib\\pathlib.py\u001b[0m in \u001b[0;36m_opener\u001b[1;34m(self, name, flags, mode)\u001b[0m\n\u001b[0;32m   1035\u001b[0m     \u001b[1;32mdef\u001b[0m \u001b[0m_opener\u001b[0m\u001b[1;33m(\u001b[0m\u001b[0mself\u001b[0m\u001b[1;33m,\u001b[0m \u001b[0mname\u001b[0m\u001b[1;33m,\u001b[0m \u001b[0mflags\u001b[0m\u001b[1;33m,\u001b[0m \u001b[0mmode\u001b[0m\u001b[1;33m=\u001b[0m\u001b[1;36m0o666\u001b[0m\u001b[1;33m)\u001b[0m\u001b[1;33m:\u001b[0m\u001b[1;33m\u001b[0m\u001b[1;33m\u001b[0m\u001b[0m\n\u001b[0;32m   1036\u001b[0m         \u001b[1;31m# A stub for the opener argument to built-in open()\u001b[0m\u001b[1;33m\u001b[0m\u001b[1;33m\u001b[0m\u001b[1;33m\u001b[0m\u001b[0m\n\u001b[1;32m-> 1037\u001b[1;33m         \u001b[1;32mreturn\u001b[0m \u001b[0mself\u001b[0m\u001b[1;33m.\u001b[0m\u001b[0m_accessor\u001b[0m\u001b[1;33m.\u001b[0m\u001b[0mopen\u001b[0m\u001b[1;33m(\u001b[0m\u001b[0mself\u001b[0m\u001b[1;33m,\u001b[0m \u001b[0mflags\u001b[0m\u001b[1;33m,\u001b[0m \u001b[0mmode\u001b[0m\u001b[1;33m)\u001b[0m\u001b[1;33m\u001b[0m\u001b[1;33m\u001b[0m\u001b[0m\n\u001b[0m\u001b[0;32m   1038\u001b[0m \u001b[1;33m\u001b[0m\u001b[0m\n\u001b[0;32m   1039\u001b[0m     \u001b[1;32mdef\u001b[0m \u001b[0m_raw_open\u001b[0m\u001b[1;33m(\u001b[0m\u001b[0mself\u001b[0m\u001b[1;33m,\u001b[0m \u001b[0mflags\u001b[0m\u001b[1;33m,\u001b[0m \u001b[0mmode\u001b[0m\u001b[1;33m=\u001b[0m\u001b[1;36m0o777\u001b[0m\u001b[1;33m)\u001b[0m\u001b[1;33m:\u001b[0m\u001b[1;33m\u001b[0m\u001b[1;33m\u001b[0m\u001b[0m\n",
      "\u001b[1;32md:\\tools\\Anaconda3\\envs\\pytorch\\lib\\pathlib.py\u001b[0m in \u001b[0;36mwrapped\u001b[1;34m(pathobj, *args)\u001b[0m\n\u001b[0;32m    385\u001b[0m         \u001b[1;33m@\u001b[0m\u001b[0mfunctools\u001b[0m\u001b[1;33m.\u001b[0m\u001b[0mwraps\u001b[0m\u001b[1;33m(\u001b[0m\u001b[0mstrfunc\u001b[0m\u001b[1;33m)\u001b[0m\u001b[1;33m\u001b[0m\u001b[1;33m\u001b[0m\u001b[0m\n\u001b[0;32m    386\u001b[0m         \u001b[1;32mdef\u001b[0m \u001b[0mwrapped\u001b[0m\u001b[1;33m(\u001b[0m\u001b[0mpathobj\u001b[0m\u001b[1;33m,\u001b[0m \u001b[1;33m*\u001b[0m\u001b[0margs\u001b[0m\u001b[1;33m)\u001b[0m\u001b[1;33m:\u001b[0m\u001b[1;33m\u001b[0m\u001b[1;33m\u001b[0m\u001b[0m\n\u001b[1;32m--> 387\u001b[1;33m             \u001b[1;32mreturn\u001b[0m \u001b[0mstrfunc\u001b[0m\u001b[1;33m(\u001b[0m\u001b[0mstr\u001b[0m\u001b[1;33m(\u001b[0m\u001b[0mpathobj\u001b[0m\u001b[1;33m)\u001b[0m\u001b[1;33m,\u001b[0m \u001b[1;33m*\u001b[0m\u001b[0margs\u001b[0m\u001b[1;33m)\u001b[0m\u001b[1;33m\u001b[0m\u001b[1;33m\u001b[0m\u001b[0m\n\u001b[0m\u001b[0;32m    388\u001b[0m         \u001b[1;32mreturn\u001b[0m \u001b[0mstaticmethod\u001b[0m\u001b[1;33m(\u001b[0m\u001b[0mwrapped\u001b[0m\u001b[1;33m)\u001b[0m\u001b[1;33m\u001b[0m\u001b[1;33m\u001b[0m\u001b[0m\n\u001b[0;32m    389\u001b[0m \u001b[1;33m\u001b[0m\u001b[0m\n",
      "\u001b[1;31mFileNotFoundError\u001b[0m: [Errno 2] No such file or directory: 'data\\\\translate\\\\body_tok.pkl'"
     ]
    },
    {
     "name": "stdout",
     "output_type": "stream",
     "text": [
      "> d:\\tools\\anaconda3\\envs\\pytorch\\lib\\pathlib.py(387)wrapped()\n",
      "    385         @functools.wraps(strfunc)\n",
      "    386         def wrapped(pathobj, *args):\n",
      "--> 387             return strfunc(str(pathobj), *args)\n",
      "    388         return staticmethod(wrapped)\n",
      "    389 \n",
      "\n",
      "ipdb> c\n"
     ]
    }
   ],
   "source": [
    "body_tok = pickle.load((PATH/'body_tok.pkl').open('rb'))\n",
    "title_tok = pickle.load((PATH/'title_tok.pkl').open('rb'))\n",
    "len(body_tok), len(title_tok)"
   ]
  },
  {
   "cell_type": "code",
   "execution_count": 5,
   "metadata": {
    "colab": {},
    "colab_type": "code",
    "collapsed": true,
    "id": "KhtYsg3TEZH2"
   },
   "outputs": [],
   "source": [
    "def toks2ids(tok,pre):\n",
    "    freq = Counter(p for o in tok for p in o)\n",
    "    itos = [o for o,c in freq.most_common(40000)]\n",
    "    itos.insert(0, '_bos_')\n",
    "    itos.insert(1, '_pad_')\n",
    "    itos.insert(2, '_eos_')\n",
    "    itos.insert(3, '_unk')\n",
    "    stoi = collections.defaultdict(lambda: 3, {v:k for k,v in enumerate(itos)})\n",
    "    ids = np.array([([stoi[o] for o in p] + [2]) for p in tok]) # note the _eos_ at the end\n",
    "    np.save(TMP_PATH/f'{pre}_ids.npy', ids)\n",
    "    pickle.dump(itos, open(TMP_PATH/f'{pre}_itos.pkl', 'wb'))\n",
    "    return ids,itos,stoi"
   ]
  },
  {
   "cell_type": "code",
   "execution_count": 0,
   "metadata": {
    "colab": {},
    "colab_type": "code",
    "collapsed": true,
    "id": "U_LRk1-GEZIT"
   },
   "outputs": [],
   "source": [
    "body_ids,body_itos,body_stoi = toks2ids(body_tok,'body')\n",
    "title_ids,title_itos,title_stoi = toks2ids(title_tok,'title')"
   ]
  },
  {
   "cell_type": "code",
   "execution_count": 4,
   "metadata": {
    "colab": {},
    "colab_type": "code",
    "collapsed": true,
    "id": "-FV49sodEZId"
   },
   "outputs": [],
   "source": [
    "def load_ids(pre):\n",
    "    ids = np.load(TMP_PATH/f'{pre}_ids.npy', allow_pickle=True)\n",
    "    itos = pickle.load(open(TMP_PATH/f'{pre}_itos.pkl', 'rb'))\n",
    "    stoi = collections.defaultdict(lambda: 3, {v:k for k,v in enumerate(itos)})\n",
    "    return ids,itos,stoi"
   ]
  },
  {
   "cell_type": "code",
   "execution_count": 5,
   "metadata": {
    "colab": {},
    "colab_type": "code",
    "collapsed": true,
    "id": "kMxkaJDaEZIq"
   },
   "outputs": [],
   "source": [
    "body_ids,body_itos,body_stoi = load_ids('body')\n",
    "title_ids,title_itos,title_stoi = load_ids('title')"
   ]
  },
  {
   "cell_type": "code",
   "execution_count": 17,
   "metadata": {
    "colab": {
     "base_uri": "https://localhost:8080/",
     "height": 127
    },
    "colab_type": "code",
    "executionInfo": {
     "elapsed": 603,
     "status": "ok",
     "timestamp": 1556201216472,
     "user": {
      "displayName": "Y T",
      "photoUrl": "https://lh5.googleusercontent.com/-cKJn6SIVybk/AAAAAAAAAAI/AAAAAAAAAC8/LkrUz0GW-ck/s64/photo.jpg",
      "userId": "15655710450810905216"
     },
     "user_tz": 300
    },
    "id": "iBINiNVYEZJJ",
    "outputId": "e24b3dc6-8c76-4864-8976-2444f5faa1c9"
   },
   "outputs": [
    {
     "data": {
      "text/plain": [
       "(['first', 'from', 'flow', 'in', 'uk', 'south', '_eos_'],\n",
       " [24, 19, 28, 5, 29, 30, 2],\n",
       " ['first', 'from', 'flow', 'in', 'uk', 'south', '_eos_'],\n",
       " [79, 29, 115, 12, 124, 125, 2],\n",
       " 40004,\n",
       " 40004)"
      ]
     },
     "execution_count": 17,
     "metadata": {},
     "output_type": "execute_result"
    }
   ],
   "source": [
    "[title_itos[o] for o in title_ids[0]], title_ids[0], [body_itos[o] for o in body_ids[0]], body_ids[0], len(body_itos), len(title_itos)"
   ]
  },
  {
   "cell_type": "markdown",
   "metadata": {
    "colab_type": "text",
    "id": "5ILkcw3TEZJj"
   },
   "source": [
    "## Word vectors"
   ]
  },
  {
   "cell_type": "markdown",
   "metadata": {
    "colab_type": "text",
    "id": "L-RV-uU6EZJl"
   },
   "source": [
    "fasttext word vectors available from https://fasttext.cc/docs/en/english-vectors.html"
   ]
  },
  {
   "cell_type": "code",
   "execution_count": 0,
   "metadata": {
    "colab": {
     "base_uri": "https://localhost:8080/",
     "height": 239
    },
    "colab_type": "code",
    "executionInfo": {
     "elapsed": 39824,
     "status": "ok",
     "timestamp": 1556201261431,
     "user": {
      "displayName": "Y T",
      "photoUrl": "https://lh5.googleusercontent.com/-cKJn6SIVybk/AAAAAAAAAAI/AAAAAAAAAC8/LkrUz0GW-ck/s64/photo.jpg",
      "userId": "15655710450810905216"
     },
     "user_tz": 300
    },
    "id": "FAzkQnS7EZJo",
    "outputId": "c104e9b2-dff2-4f9b-ec55-fd9f40938a02"
   },
   "outputs": [
    {
     "name": "stdout",
     "output_type": "stream",
     "text": [
      "Collecting git+https://github.com/facebookresearch/fastText.git\n",
      "  Cloning https://github.com/facebookresearch/fastText.git to /tmp/pip-req-build-3cuchzjg\n",
      "Requirement already satisfied: pybind11>=2.2 in /usr/local/lib/python3.6/dist-packages (from fasttext==0.8.22) (2.2.4)\n",
      "Requirement already satisfied: setuptools>=0.7.0 in /usr/local/lib/python3.6/dist-packages (from fasttext==0.8.22) (40.9.0)\n",
      "Requirement already satisfied: numpy in /usr/local/lib/python3.6/dist-packages (from fasttext==0.8.22) (1.16.3)\n",
      "Building wheels for collected packages: fasttext\n",
      "  Building wheel for fasttext (setup.py) ... \u001b[?25ldone\n",
      "\u001b[?25h  Stored in directory: /tmp/pip-ephem-wheel-cache-bw0mo3oc/wheels/69/f8/19/7f0ab407c078795bc9f86e1f6381349254f86fd7d229902355\n",
      "Successfully built fasttext\n",
      "Installing collected packages: fasttext\n",
      "Successfully installed fasttext-0.8.22\n"
     ]
    }
   ],
   "source": [
    "! pip install git+https://github.com/facebookresearch/fastText.git"
   ]
  },
  {
   "cell_type": "code",
   "execution_count": 0,
   "metadata": {
    "colab": {},
    "colab_type": "code",
    "collapsed": true,
    "id": "n__YOeaOEZKA"
   },
   "outputs": [],
   "source": [
    "import fastText as ft"
   ]
  },
  {
   "cell_type": "markdown",
   "metadata": {
    "colab_type": "text",
    "id": "edBpCe6bEZKO"
   },
   "source": [
    "To use the fastText library, you'll need to download [fasttext word vectors](https://github.com/facebookresearch/fastText/blob/master/pretrained-vectors.md) for your language (download the 'bin plus text' ones)."
   ]
  },
  {
   "cell_type": "code",
   "execution_count": 0,
   "metadata": {
    "colab": {
     "base_uri": "https://localhost:8080/",
     "height": 127
    },
    "colab_type": "code",
    "executionInfo": {
     "elapsed": 535753,
     "status": "ok",
     "timestamp": 1556201762957,
     "user": {
      "displayName": "Y T",
      "photoUrl": "https://lh5.googleusercontent.com/-cKJn6SIVybk/AAAAAAAAAAI/AAAAAAAAAC8/LkrUz0GW-ck/s64/photo.jpg",
      "userId": "15655710450810905216"
     },
     "user_tz": 300
    },
    "id": "5HthOTu6lLxn",
    "outputId": "1f1dbf55-9627-432a-c9bb-6012226b13fc"
   },
   "outputs": [
    {
     "name": "stdout",
     "output_type": "stream",
     "text": [
      "  % Total    % Received % Xferd  Average Speed   Time    Time     Time  Current\n",
      "                                 Dload  Upload   Total   Spent    Left  Speed\n",
      "100 9877M  100 9877M    0     0  37.3M      0  0:04:24  0:04:24 --:--:-- 36.4M\n",
      "Archive:  data/translate/wiki.en.zip\n",
      "  inflating: data/translate/wiki.en.vec  \n",
      "  inflating: data/translate/wiki.en.bin  \n"
     ]
    }
   ],
   "source": [
    "!curl https://dl.fbaipublicfiles.com/fasttext/vectors-wiki/wiki.en.zip -o {PATH}/wiki.en.zip\n",
    "!unzip {PATH}/wiki.en.zip -d {PATH}\n",
    "\n",
    "#!mv wiki.en* {PATH}\n",
    "\n",
    "  "
   ]
  },
  {
   "cell_type": "code",
   "execution_count": 0,
   "metadata": {
    "colab": {},
    "colab_type": "code",
    "collapsed": true,
    "id": "iS-nay1aEZKP"
   },
   "outputs": [],
   "source": [
    "en_vecs = ft.load_model(str((PATH/'wiki.en.bin')))"
   ]
  },
  {
   "cell_type": "code",
   "execution_count": 0,
   "metadata": {
    "colab": {
     "base_uri": "https://localhost:8080/",
     "height": 35
    },
    "colab_type": "code",
    "executionInfo": {
     "elapsed": 595723,
     "status": "ok",
     "timestamp": 1556201824504,
     "user": {
      "displayName": "Y T",
      "photoUrl": "https://lh5.googleusercontent.com/-cKJn6SIVybk/AAAAAAAAAAI/AAAAAAAAAC8/LkrUz0GW-ck/s64/photo.jpg",
      "userId": "15655710450810905216"
     },
     "user_tz": 300
    },
    "id": "5MSEj_ZyhRjp",
    "outputId": "ee4de9ec-5226-4f09-e662-1dad31f51514"
   },
   "outputs": [
    {
     "data": {
      "text/plain": [
       "(list, 2519370, ['out', 'state', 'states', 'national', 'wikipedia'])"
      ]
     },
     "execution_count": 39,
     "metadata": {
      "tags": []
     },
     "output_type": "execute_result"
    }
   ],
   "source": [
    "type(en_vecs.get_words()), len(en_vecs.get_words()), en_vecs.get_words()[100:105]"
   ]
  },
  {
   "cell_type": "code",
   "execution_count": 6,
   "metadata": {
    "colab": {},
    "colab_type": "code",
    "collapsed": true,
    "id": "NK8zuJ8EEZLX"
   },
   "outputs": [],
   "source": [
    "def get_vecs(token_type, ft_vecs, token_list):\n",
    "    vecd = {w:ft_vecs.get_word_vector(w) for w in token_list}\n",
    "    pickle.dump(vecd, open(PATH/f'wiki.embedding.{token_type}.pkl','wb'))\n",
    "    return vecd"
   ]
  },
  {
   "cell_type": "markdown",
   "metadata": {
    "colab_type": "text",
    "id": "WYrzDGLkbdz4"
   },
   "source": [
    "Lookup the word vector (embedding) from the fasttext trained dictionary"
   ]
  },
  {
   "cell_type": "code",
   "execution_count": 7,
   "metadata": {
    "colab": {},
    "colab_type": "code",
    "id": "TgG_AGmZEZLv"
   },
   "outputs": [
    {
     "ename": "NameError",
     "evalue": "name 'en_vecs' is not defined",
     "output_type": "error",
     "traceback": [
      "\u001b[1;31m---------------------------------------------------------------------------\u001b[0m",
      "\u001b[1;31mNameError\u001b[0m                                 Traceback (most recent call last)",
      "\u001b[1;32m<ipython-input-7-a83ba58e5ead>\u001b[0m in \u001b[0;36m<module>\u001b[1;34m()\u001b[0m\n\u001b[1;32m----> 1\u001b[1;33m \u001b[0mbody_vecd\u001b[0m \u001b[1;33m=\u001b[0m \u001b[0mget_vecs\u001b[0m\u001b[1;33m(\u001b[0m\u001b[1;34m'body'\u001b[0m\u001b[1;33m,\u001b[0m \u001b[0men_vecs\u001b[0m\u001b[1;33m,\u001b[0m \u001b[0mbody_itos\u001b[0m\u001b[1;33m)\u001b[0m\u001b[1;33m\u001b[0m\u001b[1;33m\u001b[0m\u001b[0m\n\u001b[0m\u001b[0;32m      2\u001b[0m \u001b[0mtitle_vecd\u001b[0m \u001b[1;33m=\u001b[0m \u001b[0mget_vecs\u001b[0m\u001b[1;33m(\u001b[0m\u001b[1;34m'title'\u001b[0m\u001b[1;33m,\u001b[0m \u001b[0men_vecs\u001b[0m\u001b[1;33m,\u001b[0m \u001b[0mtitle_itos\u001b[0m\u001b[1;33m)\u001b[0m\u001b[1;33m\u001b[0m\u001b[1;33m\u001b[0m\u001b[0m\n",
      "\u001b[1;31mNameError\u001b[0m: name 'en_vecs' is not defined"
     ]
    },
    {
     "name": "stdout",
     "output_type": "stream",
     "text": [
      "> <ipython-input-7-a83ba58e5ead>(1)<module>()\n",
      "----> 1 body_vecd = get_vecs('body', en_vecs, body_itos)\n",
      "      2 title_vecd = get_vecs('title', en_vecs, title_itos)\n",
      "\n",
      "ipdb> c\n"
     ]
    }
   ],
   "source": [
    "body_vecd = get_vecs('body', en_vecs, body_itos)\n",
    "title_vecd = get_vecs('title', en_vecs, title_itos)\n"
   ]
  },
  {
   "cell_type": "code",
   "execution_count": 6,
   "metadata": {
    "colab": {
     "base_uri": "https://localhost:8080/",
     "height": 35
    },
    "colab_type": "code",
    "executionInfo": {
     "elapsed": 826,
     "status": "ok",
     "timestamp": 1556240350252,
     "user": {
      "displayName": "Y T",
      "photoUrl": "https://lh5.googleusercontent.com/-cKJn6SIVybk/AAAAAAAAAAI/AAAAAAAAAC8/LkrUz0GW-ck/s64/photo.jpg",
      "userId": "15655710450810905216"
     },
     "user_tz": 300
    },
    "id": "tpdnP2jbEZL6",
    "outputId": "8dafe607-bc29-4226-eaf8-18619b0ac45d"
   },
   "outputs": [
    {
     "data": {
      "text/plain": [
       "(40004, 40004)"
      ]
     },
     "execution_count": 6,
     "metadata": {},
     "output_type": "execute_result"
    }
   ],
   "source": [
    "body_vecd = pickle.load(open(PATH/'wiki.embedding.body.pkl','rb'))\n",
    "title_vecd = pickle.load(open(PATH/'wiki.embedding.title.pkl','rb'))\n",
    "len(body_vecd), len(title_vecd)"
   ]
  },
  {
   "cell_type": "code",
   "execution_count": 7,
   "metadata": {
    "colab": {
     "base_uri": "https://localhost:8080/",
     "height": 35
    },
    "colab_type": "code",
    "executionInfo": {
     "elapsed": 594991,
     "status": "ok",
     "timestamp": 1556201829385,
     "user": {
      "displayName": "Y T",
      "photoUrl": "https://lh5.googleusercontent.com/-cKJn6SIVybk/AAAAAAAAAAI/AAAAAAAAAC8/LkrUz0GW-ck/s64/photo.jpg",
      "userId": "15655710450810905216"
     },
     "user_tz": 300
    },
    "id": "pis4pRfLetWh",
    "outputId": "67abf8e2-a1b4-4062-9918-05c18e42bc42"
   },
   "outputs": [
    {
     "data": {
      "text/plain": [
       "(40004, 40004)"
      ]
     },
     "execution_count": 7,
     "metadata": {},
     "output_type": "execute_result"
    }
   ],
   "source": [
    "len(body_itos), len(title_itos),"
   ]
  },
  {
   "cell_type": "code",
   "execution_count": 8,
   "metadata": {
    "colab": {
     "base_uri": "https://localhost:8080/",
     "height": 35
    },
    "colab_type": "code",
    "executionInfo": {
     "elapsed": 403,
     "status": "ok",
     "timestamp": 1556226484886,
     "user": {
      "displayName": "Y T",
      "photoUrl": "https://lh5.googleusercontent.com/-cKJn6SIVybk/AAAAAAAAAAI/AAAAAAAAAC8/LkrUz0GW-ck/s64/photo.jpg",
      "userId": "15655710450810905216"
     },
     "user_tz": 300
    },
    "id": "4zuGInx2b1tq",
    "outputId": "10bfeef5-b5fa-4acf-fa54-5b1725a69e8e"
   },
   "outputs": [
    {
     "data": {
      "text/plain": [
       "(300, 300)"
      ]
     },
     "execution_count": 8,
     "metadata": {},
     "output_type": "execute_result"
    }
   ],
   "source": [
    "dim_body_vec = len(body_vecd[','])\n",
    "dim_title_vec = len(title_vecd[','])\n",
    "dim_body_vec, dim_title_vec"
   ]
  },
  {
   "cell_type": "code",
   "execution_count": 21,
   "metadata": {
    "colab": {
     "base_uri": "https://localhost:8080/",
     "height": 35
    },
    "colab_type": "code",
    "executionInfo": {
     "elapsed": 593729,
     "status": "ok",
     "timestamp": 1556201830201,
     "user": {
      "displayName": "Y T",
      "photoUrl": "https://lh5.googleusercontent.com/-cKJn6SIVybk/AAAAAAAAAAI/AAAAAAAAAC8/LkrUz0GW-ck/s64/photo.jpg",
      "userId": "15655710450810905216"
     },
     "user_tz": 300
    },
    "id": "9U4A4MBOe9lT",
    "outputId": "e0770288-f327-417c-cd59-1e47c1861cd9"
   },
   "outputs": [
    {
     "data": {
      "text/plain": [
       "0"
      ]
     },
     "execution_count": 21,
     "metadata": {},
     "output_type": "execute_result"
    }
   ],
   "source": [
    "en_vecs = None\n",
    "gc.collect()"
   ]
  },
  {
   "cell_type": "markdown",
   "metadata": {
    "colab_type": "text",
    "id": "xJEL3TkEEZM2"
   },
   "source": [
    "## Model data"
   ]
  },
  {
   "cell_type": "code",
   "execution_count": 9,
   "metadata": {
    "colab": {
     "base_uri": "https://localhost:8080/",
     "height": 35
    },
    "colab_type": "code",
    "executionInfo": {
     "elapsed": 345,
     "status": "ok",
     "timestamp": 1556240353881,
     "user": {
      "displayName": "Y T",
      "photoUrl": "https://lh5.googleusercontent.com/-cKJn6SIVybk/AAAAAAAAAAI/AAAAAAAAAC8/LkrUz0GW-ck/s64/photo.jpg",
      "userId": "15655710450810905216"
     },
     "user_tz": 300
    },
    "id": "MB0DdYHnEZM3",
    "outputId": "a3c44663-2f5b-4009-8bc7-46c87890899b"
   },
   "outputs": [
    {
     "data": {
      "text/plain": [
       "(99, 21)"
      ]
     },
     "execution_count": 9,
     "metadata": {},
     "output_type": "execute_result"
    }
   ],
   "source": [
    "body_len_90 = int(np.percentile([len(o) for o in body_ids], 99))\n",
    "title_len_90 = int(np.percentile([len(o) for o in title_ids], 99))\n",
    "body_len_90,title_len_90"
   ]
  },
  {
   "cell_type": "code",
   "execution_count": 10,
   "metadata": {
    "colab": {},
    "colab_type": "code",
    "collapsed": true,
    "id": "iGtcfScY2OT3"
   },
   "outputs": [],
   "source": [
    "def trim_and_pad(rows, max_len:int=100, pad_index:int=1, pad_first:bool=True, needs_pad:bool=True):\n",
    "  trimmed = np.array([r[:max_len] for r in rows])\n",
    "  res = trimmed\n",
    "  if needs_pad:\n",
    "    res = np.zeros([len(rows), max_len], dtype=int) + pad_index  #initialize all cells to pad_index\n",
    "    for i,s in enumerate(trimmed):\n",
    "      if pad_first: res[i,-len(s):] = s\n",
    "      else:         res[i,:len(s)] = s\n",
    "  return res\n",
    "  "
   ]
  },
  {
   "cell_type": "code",
   "execution_count": 0,
   "metadata": {
    "colab": {},
    "colab_type": "code",
    "collapsed": true,
    "id": "pbIQ48nv38Bg"
   },
   "outputs": [],
   "source": [
    "x = trim_and_pad(title_ids[1:5], max_len=19, pad_first=False)\n",
    "[len(o) for o in x]"
   ]
  },
  {
   "cell_type": "markdown",
   "metadata": {
    "colab_type": "text",
    "id": "ycae3_Cc16gk"
   },
   "source": [
    "This time we trim by column, in other words, we throw away whatever that\n",
    "is beyond the max length"
   ]
  },
  {
   "cell_type": "code",
   "execution_count": 0,
   "metadata": {
    "colab": {},
    "colab_type": "code",
    "collapsed": true,
    "id": "LOufovwcEZNX"
   },
   "outputs": [],
   "source": [
    "#body_ids_trimmed = np.array([o[:body_len_90] for o in body_ids])\n",
    "#title_ids_trimmed = np.array([o[:title_len_90] for o in title_ids])"
   ]
  },
  {
   "cell_type": "markdown",
   "metadata": {
    "colab_type": "text",
    "id": "DxtIrT6g3dmI"
   },
   "source": [
    "The X (body) sequence lengths does not have to be the same for all items of X, while the sequence lenghts for Y (title) needs to be the same, since in the Seq2SeqRNN we need know how many loops to use to calculate the decoder. So we only trim but not pad the body, but trim and pad the title. Each batch of the body will be padded by the pad_collate function"
   ]
  },
  {
   "cell_type": "code",
   "execution_count": 11,
   "metadata": {
    "colab": {},
    "colab_type": "code",
    "collapsed": true,
    "id": "nDsmV2CA5e_i"
   },
   "outputs": [],
   "source": [
    "#body_ids_trimmed = trim_and_pad(body_ids, body_len_90, pad_first=False)\n",
    "body_ids_trimmed = trim_and_pad(body_ids, body_len_90, needs_pad=False)\n",
    "title_ids_trimmed = trim_and_pad(title_ids, title_len_90, pad_first=False)"
   ]
  },
  {
   "cell_type": "code",
   "execution_count": 12,
   "metadata": {
    "colab": {
     "base_uri": "https://localhost:8080/",
     "height": 35
    },
    "colab_type": "code",
    "executionInfo": {
     "elapsed": 705,
     "status": "ok",
     "timestamp": 1556240366583,
     "user": {
      "displayName": "Y T",
      "photoUrl": "https://lh5.googleusercontent.com/-cKJn6SIVybk/AAAAAAAAAAI/AAAAAAAAAC8/LkrUz0GW-ck/s64/photo.jpg",
      "userId": "15655710450810905216"
     },
     "user_tz": 300
    },
    "id": "hpz_CO3N21Nl",
    "outputId": "913d0a83-0060-4042-db7a-735f1d8b8b8f"
   },
   "outputs": [
    {
     "data": {
      "text/plain": [
       "(3, 99)"
      ]
     },
     "execution_count": 12,
     "metadata": {},
     "output_type": "execute_result"
    }
   ],
   "source": [
    "body_ids_len = [len(row) for row in body_ids_trimmed]\n",
    "min(body_ids_len), max(body_ids_len)"
   ]
  },
  {
   "cell_type": "code",
   "execution_count": 13,
   "metadata": {
    "colab": {},
    "colab_type": "code",
    "collapsed": true,
    "id": "anchZiHYIcKQ"
   },
   "outputs": [],
   "source": [
    "def A(*a):\n",
    "    \"\"\"convert iterable object into numpy array\"\"\"\n",
    "    return np.array(a[0]) if len(a)==1 else [np.array(o) for o in a]"
   ]
  },
  {
   "cell_type": "code",
   "execution_count": 14,
   "metadata": {
    "colab": {},
    "colab_type": "code",
    "collapsed": true,
    "id": "zG4F-lFZEZNa"
   },
   "outputs": [],
   "source": [
    "class Seq2SeqDataset(Dataset):\n",
    "    def __init__(self, x, y): self.x,self.y = x,y\n",
    "    def __getitem__(self, idx): return A(self.x[idx], self.y[idx])\n",
    "    def __len__(self): return len(self.x)"
   ]
  },
  {
   "cell_type": "code",
   "execution_count": 15,
   "metadata": {
    "colab": {
     "base_uri": "https://localhost:8080/",
     "height": 35
    },
    "colab_type": "code",
    "executionInfo": {
     "elapsed": 305,
     "status": "ok",
     "timestamp": 1556240371010,
     "user": {
      "displayName": "Y T",
      "photoUrl": "https://lh5.googleusercontent.com/-cKJn6SIVybk/AAAAAAAAAAI/AAAAAAAAAC8/LkrUz0GW-ck/s64/photo.jpg",
      "userId": "15655710450810905216"
     },
     "user_tz": 300
    },
    "id": "TunUUjDwEZN2",
    "outputId": "d71eaaf2-4682-4a46-b4a7-06531cdf33a8"
   },
   "outputs": [
    {
     "data": {
      "text/plain": [
       "(254227, 28336, 254227, 28336)"
      ]
     },
     "execution_count": 15,
     "metadata": {},
     "output_type": "execute_result"
    }
   ],
   "source": [
    "np.random.seed(42)\n",
    "trn_keep = np.random.rand(len(body_ids_trimmed))>0.1\n",
    "body_trn,title_trn = body_ids_trimmed[trn_keep],title_ids_trimmed[trn_keep]\n",
    "body_val,title_val = body_ids_trimmed[~trn_keep],title_ids_trimmed[~trn_keep]\n",
    "len(body_trn),len(body_val),len(title_trn), len(title_val)"
   ]
  },
  {
   "cell_type": "code",
   "execution_count": 16,
   "metadata": {
    "colab": {},
    "colab_type": "code",
    "collapsed": true,
    "id": "C7RNTEnBEZN9"
   },
   "outputs": [],
   "source": [
    "trn_ds = Seq2SeqDataset(body_trn,title_trn)\n",
    "val_ds = Seq2SeqDataset(body_val,title_val)"
   ]
  },
  {
   "cell_type": "code",
   "execution_count": 17,
   "metadata": {
    "colab": {
     "base_uri": "https://localhost:8080/",
     "height": 166
    },
    "colab_type": "code",
    "executionInfo": {
     "elapsed": 564919,
     "status": "ok",
     "timestamp": 1556201831473,
     "user": {
      "displayName": "Y T",
      "photoUrl": "https://lh5.googleusercontent.com/-cKJn6SIVybk/AAAAAAAAAAI/AAAAAAAAAC8/LkrUz0GW-ck/s64/photo.jpg",
      "userId": "15655710450810905216"
     },
     "user_tz": 300
    },
    "id": "A9rQm7WUFseS",
    "outputId": "3a810a6c-5346-41ad-df08-28f085408e03"
   },
   "outputs": [
    {
     "data": {
      "text/plain": [
       "([array([    3,     3,     3,     3, ..., 23689,     3,     3,     2]),\n",
       "  array([    3,     3,     3,     3, 20838,     3, 11976, 20839,     3,    19,     2,     1,     1,     1,     1,     1,\n",
       "             1,     1,     1,     1,     1])],\n",
       " [array([758,   7,  10,  77, ...,  18, 229,   6,   2]),\n",
       "  array([13279,    13,     7,    56,   175,     2,     1,     1,     1,     1,     1,     1,     1,     1,     1,     1,\n",
       "             1,     1,     1,     1,     1])])"
      ]
     },
     "execution_count": 17,
     "metadata": {},
     "output_type": "execute_result"
    }
   ],
   "source": [
    "trn_ds[12], val_ds[7]"
   ]
  },
  {
   "cell_type": "code",
   "execution_count": 18,
   "metadata": {
    "colab": {},
    "colab_type": "code",
    "collapsed": true,
    "id": "C6T7I1xREZOq"
   },
   "outputs": [],
   "source": [
    "bs=64"
   ]
  },
  {
   "cell_type": "code",
   "execution_count": 19,
   "metadata": {
    "colab": {},
    "colab_type": "code",
    "collapsed": true,
    "id": "aEokTB3PEZOt"
   },
   "outputs": [],
   "source": [
    "trn_samp = SortishSampler(body_trn, key=lambda x: len(body_trn[x]), bs=bs)\n",
    "val_samp = SortSampler(body_val, key=lambda x: len(body_val[x]))"
   ]
  },
  {
   "cell_type": "code",
   "execution_count": 20,
   "metadata": {
    "colab": {},
    "colab_type": "code",
    "collapsed": true,
    "id": "OSY5P8tC7ds5"
   },
   "outputs": [],
   "source": [
    "class Seq2SeqTextDataBunch(TextDataBunch):\n",
    "    \"Create a `TextDataBunch` suitable for training a Seq2Seq RNN classifier.\"\n",
    "    @classmethod\n",
    "    def create(cls, train_ds, valid_ds, test_ds=None, path:PathOrStr='.', bs:int=32, val_bs:int=None, pad_idx=1,\n",
    "               pad_first=True, device:torch.device=None, no_check:bool=False, backwards:bool=False, **dl_kwargs) -> DataBunch:\n",
    "        \"Function that transform the `datasets` in a `DataBunch` for classification. Passes `**dl_kwargs` on to `DataLoader()`\"\n",
    "        datasets = cls._init_ds(train_ds, valid_ds, test_ds)\n",
    "        val_bs = ifnone(val_bs, bs)\n",
    "        collate_fn = partial(pad_collate, pad_idx=pad_idx, pad_first=pad_first, backwards=backwards)\n",
    "        train_sampler = SortishSampler(datasets[0].x, key=lambda t: len(datasets[0][t][0].data), bs=bs)\n",
    "        train_dl = DataLoader(datasets[0], batch_size=bs, sampler=train_sampler, drop_last=True, num_workers=0, **dl_kwargs)\n",
    "        dataloaders = [train_dl]\n",
    "        for ds in datasets[1:]:\n",
    "            sampler = SortSampler(ds.x, key=lambda t: len(datasets[0][t][0].data))\n",
    "            dataloaders.append(DataLoader(ds, batch_size=val_bs, sampler=sampler,num_workers=0,  **dl_kwargs))\n",
    "        return cls(*dataloaders, path=path, device=device, collate_fn=collate_fn, no_check=no_check)"
   ]
  },
  {
   "cell_type": "code",
   "execution_count": 21,
   "metadata": {
    "colab": {},
    "colab_type": "code",
    "collapsed": true,
    "id": "dbDdJ2XciUBW"
   },
   "outputs": [],
   "source": [
    "#md = ModelData(PATH, trn_dl, val_dl)\n",
    "#ModelData is now DataBunch\n",
    "md = Seq2SeqTextDataBunch.create(trn_ds, val_ds, None, PATH, bs, pad_first=False)"
   ]
  },
  {
   "cell_type": "markdown",
   "metadata": {
    "colab_type": "text",
    "id": "iTf6KjVQEZPO"
   },
   "source": [
    "## Initial model"
   ]
  },
  {
   "cell_type": "code",
   "execution_count": 61,
   "metadata": {
    "colab": {},
    "colab_type": "code",
    "collapsed": true,
    "id": "eBqS35rZ66-l"
   },
   "outputs": [],
   "source": [
    "import pdb"
   ]
  },
  {
   "cell_type": "code",
   "execution_count": 23,
   "metadata": {
    "colab": {},
    "colab_type": "code",
    "collapsed": true,
    "id": "-9Ps37MSEZPT"
   },
   "outputs": [],
   "source": [
    "def create_emb(vecs, itos, em_sz):\n",
    "    emb = nn.Embedding(len(itos), em_sz, padding_idx=1)\n",
    "    wgts = emb.weight.data\n",
    "    miss = []\n",
    "    for i,w in enumerate(itos):\n",
    "        try: wgts[i] = torch.from_numpy(vecs[w]*3)\n",
    "        except: miss.append(w)\n",
    "    print(len(miss),miss[5:10])\n",
    "    return emb"
   ]
  },
  {
   "cell_type": "code",
   "execution_count": 22,
   "metadata": {
    "colab": {},
    "colab_type": "code",
    "collapsed": true,
    "id": "GA9pTnhqEZPd"
   },
   "outputs": [],
   "source": [
    "# nh,nl = 256,2\n",
    "nh,nl = 128,2"
   ]
  },
  {
   "cell_type": "code",
   "execution_count": 28,
   "metadata": {
    "colab": {},
    "colab_type": "code",
    "collapsed": true,
    "id": "biMCeqLIEZPg"
   },
   "outputs": [],
   "source": [
    "class Seq2SeqRNN(nn.Module):\n",
    "    def __init__(self, vecs_enc, itos_enc, em_sz_enc, vecs_dec, itos_dec, em_sz_dec, nh, out_sl, nl=2):\n",
    "        super().__init__()\n",
    "        self.nl,self.nh,self.out_sl = nl,nh,out_sl\n",
    "        self.emb_enc = create_emb(vecs_enc, itos_enc, em_sz_enc)\n",
    "        self.emb_enc_drop = nn.Dropout(0.15)\n",
    "        self.gru_enc = nn.GRU(em_sz_enc, nh, num_layers=nl, dropout=0.25)\n",
    "        self.out_enc = nn.Linear(nh, em_sz_dec, bias=False)\n",
    "        \n",
    "        self.emb_dec = create_emb(vecs_dec, itos_dec, em_sz_dec)\n",
    "        self.gru_dec = nn.GRU(em_sz_dec, em_sz_dec, num_layers=nl, dropout=0.1)\n",
    "        self.out_drop = nn.Dropout(0.35)\n",
    "        self.out = nn.Linear(em_sz_dec, len(itos_dec))\n",
    "        self.out.weight.data = self.emb_dec.weight.data\n",
    "        \n",
    "    def forward(self, inp):\n",
    "#         pdb.set_trace()\n",
    "# transpose inp\n",
    "        inp = inp.t()\n",
    "        sl,bs = inp.size()\n",
    "        h = self.initHidden(bs)\n",
    "        emb = self.emb_enc_drop(self.emb_enc(inp))\n",
    "        enc_out, h = self.gru_enc(emb, h)\n",
    "        h = self.out_enc(h)\n",
    "\n",
    "#         dec_inp = V(torch.zeros(bs).long())\n",
    "        dec_inp = to_device(torch.zeros(bs).long(), 'cuda:0')\n",
    "        res = []\n",
    "        for i in range(self.out_sl):\n",
    "            emb = self.emb_dec(dec_inp).unsqueeze(0)\n",
    "            outp, h = self.gru_dec(emb, h)\n",
    "            outp = self.out(self.out_drop(outp[0]))\n",
    "            res.append(outp)\n",
    "#             dec_inp = V(outp.data.max(1)[1])\n",
    "            dec_inp = outp.data.max(1)[1]\n",
    "            if (dec_inp==1).all(): break\n",
    "#  ugly hack, since rnn.py expects the true output to be in the first element      \n",
    "#         return torch.stack(res)\n",
    "        res = torch.stack(res)\n",
    "        res = [res, res, res]\n",
    "        return res\n",
    "    \n",
    "#     def initHidden(self, bs): return V(torch.zeros(self.nl, bs, self.nh))\n",
    "    def initHidden(self, bs): return to_device(torch.zeros(self.nl, bs, self.nh),'cuda:0')\n",
    "    \n",
    "    def reset(self):\n",
    "#         self.gru_enc.reset()\n",
    "#         self.out_enc.reset()\n",
    "#         self.gru_dec.reset()\n",
    "#         self.out.reset()\n",
    "         pass\n"
   ]
  },
  {
   "cell_type": "markdown",
   "metadata": {
    "colab_type": "text",
    "id": "Pw2j6AHDXPER"
   },
   "source": []
  },
  {
   "cell_type": "code",
   "execution_count": 24,
   "metadata": {
    "colab": {},
    "colab_type": "code",
    "collapsed": true,
    "id": "2Bu5FBW-EZPn"
   },
   "outputs": [],
   "source": [
    "def seq2seq_loss(input, target):\n",
    "    target2 = target.t()\n",
    "    sl,bs = target2.size()\n",
    "#    bs,sl = target.size()\n",
    "#    input2 = input.permute(1,0,2)\n",
    "#    bs_in,sl_in,nc = input2.size()\n",
    "    sl_in,bs_in,nc = input.size()\n",
    "#    bs_in,sl_in,nc = input.size()\n",
    "    if sl>sl_in: input = F.pad(input, (0,0,0,0,0,sl-sl_in))\n",
    "    input = input[:sl]\n",
    "    return F.cross_entropy(input.view(-1,nc), target2.contiguous().view(-1))#, ignore_index=1)"
   ]
  },
  {
   "cell_type": "code",
   "execution_count": 25,
   "metadata": {
    "colab": {},
    "colab_type": "code",
    "collapsed": true,
    "id": "Zsf9HoOxEZP5"
   },
   "outputs": [],
   "source": [
    "opt_fn = partial(optim.Adam, betas=(0.8, 0.99))"
   ]
  },
  {
   "cell_type": "code",
   "execution_count": 31,
   "metadata": {
    "colab": {
     "base_uri": "https://localhost:8080/",
     "height": 54
    },
    "colab_type": "code",
    "executionInfo": {
     "elapsed": 1530,
     "status": "ok",
     "timestamp": 1556204338271,
     "user": {
      "displayName": "Y T",
      "photoUrl": "https://lh5.googleusercontent.com/-cKJn6SIVybk/AAAAAAAAAAI/AAAAAAAAAC8/LkrUz0GW-ck/s64/photo.jpg",
      "userId": "15655710450810905216"
     },
     "user_tz": 300
    },
    "id": "pApValHnEZP_",
    "outputId": "9c99d4d4-fdfa-47e6-add4-c5fb870cab34"
   },
   "outputs": [
    {
     "name": "stdout",
     "output_type": "stream",
     "text": [
      "0 []\n",
      "0 []\n"
     ]
    }
   ],
   "source": [
    "rnn = Seq2SeqRNN(body_vecd, body_itos, dim_body_vec, title_vecd, title_itos, dim_title_vec, nh, title_len_90,nl)\n",
    "#learn = RNNLearner(md, SingleModel(to_gpu(rnn)), opt_fn=opt_fn)\n",
    "learn=RNNLearner(md, rnn, opt_func=opt_fn)\n",
    "#learn.crit = seq2seq_loss\n",
    "learn.loss_func = seq2seq_loss"
   ]
  },
  {
   "cell_type": "code",
   "execution_count": 0,
   "metadata": {
    "colab": {
     "base_uri": "https://localhost:8080/",
     "height": 54
    },
    "colab_type": "code",
    "executionInfo": {
     "elapsed": 546002,
     "status": "ok",
     "timestamp": 1556201839379,
     "user": {
      "displayName": "Y T",
      "photoUrl": "https://lh5.googleusercontent.com/-cKJn6SIVybk/AAAAAAAAAAI/AAAAAAAAAC8/LkrUz0GW-ck/s64/photo.jpg",
      "userId": "15655710450810905216"
     },
     "user_tz": 300
    },
    "id": "rRozTGm1umAE",
    "outputId": "979254e1-107c-49ab-f8d9-408852341b8d"
   },
   "outputs": [
    {
     "name": "stdout",
     "output_type": "stream",
     "text": [
      "Breakpoint 1 at /usr/local/lib/python3.6/dist-packages/fastai/text/data.py:130\n",
      "NOTE: Enter 'c' at the ipdb>  prompt to continue execution.\n"
     ]
    }
   ],
   "source": [
    "%debug -b /usr/local/lib/python3.6/dist-packages/fastai/text/data.py:130"
   ]
  },
  {
   "cell_type": "code",
   "execution_count": 32,
   "metadata": {
    "colab": {
     "base_uri": "https://localhost:8080/",
     "height": 301
    },
    "colab_type": "code",
    "executionInfo": {
     "elapsed": 17713,
     "status": "ok",
     "timestamp": 1556204358046,
     "user": {
      "displayName": "Y T",
      "photoUrl": "https://lh5.googleusercontent.com/-cKJn6SIVybk/AAAAAAAAAAI/AAAAAAAAAC8/LkrUz0GW-ck/s64/photo.jpg",
      "userId": "15655710450810905216"
     },
     "user_tz": 300
    },
    "id": "Yi9BD_PjEZQM",
    "outputId": "7d7f32ca-395e-4638-c852-73ef1dbd41af"
   },
   "outputs": [
    {
     "data": {
      "text/html": [],
      "text/plain": [
       "<IPython.core.display.HTML object>"
      ]
     },
     "metadata": {},
     "output_type": "display_data"
    },
    {
     "name": "stderr",
     "output_type": "stream",
     "text": [
      "d:\\tools\\Anaconda3\\envs\\pytorch\\lib\\site-packages\\fastai\\torch_core.py:83: UserWarning: Tensor is int32: upgrading to int64; for better performance use int64 input\n",
      "  warn('Tensor is int32: upgrading to int64; for better performance use int64 input')\n"
     ]
    },
    {
     "name": "stdout",
     "output_type": "stream",
     "text": [
      "LR Finder is complete, type {learner_name}.recorder.plot() to see the graph.\n"
     ]
    },
    {
     "data": {
      "image/png": "[encoded data removed]",
      "text/plain": [
       "<Figure size 432x288 with 1 Axes>"
      ]
     },
     "metadata": {},
     "output_type": "display_data"
    }
   ],
   "source": [
    "learn.lr_find()\n",
    "learn.recorder.plot()"
   ]
  },
  {
   "cell_type": "code",
   "execution_count": 30,
   "metadata": {
    "colab": {},
    "colab_type": "code",
    "collapsed": true,
    "id": "J-8olIoGEZQa"
   },
   "outputs": [],
   "source": [
    "lr=5e-4"
   ]
  },
  {
   "cell_type": "code",
   "execution_count": 0,
   "metadata": {
    "colab": {
     "base_uri": "https://localhost:8080/",
     "height": 1618
    },
    "colab_type": "code",
    "executionInfo": {
     "elapsed": 2939997,
     "status": "ok",
     "timestamp": 1556207303986,
     "user": {
      "displayName": "Y T",
      "photoUrl": "https://lh5.googleusercontent.com/-cKJn6SIVybk/AAAAAAAAAAI/AAAAAAAAAC8/LkrUz0GW-ck/s64/photo.jpg",
      "userId": "15655710450810905216"
     },
     "user_tz": 300
    },
    "id": "WWz9ryvfEZQd",
    "outputId": "0fe565e5-fbc2-4559-b694-b9f3dcbb7cd3"
   },
   "outputs": [
    {
     "data": {
      "text/html": [
       "<table border=\"1\" class=\"dataframe\">\n",
       "  <thead>\n",
       "    <tr style=\"text-align: left;\">\n",
       "      <th>epoch</th>\n",
       "      <th>train_loss</th>\n",
       "      <th>valid_loss</th>\n",
       "      <th>time</th>\n",
       "    </tr>\n",
       "  </thead>\n",
       "  <tbody>\n",
       "    <tr>\n",
       "      <td>0</td>\n",
       "      <td>6.411302</td>\n",
       "      <td>10.054371</td>\n",
       "      <td>01:23</td>\n",
       "    </tr>\n",
       "    <tr>\n",
       "      <td>1</td>\n",
       "      <td>7.018110</td>\n",
       "      <td>9.715379</td>\n",
       "      <td>01:18</td>\n",
       "    </tr>\n",
       "    <tr>\n",
       "      <td>2</td>\n",
       "      <td>9.077241</td>\n",
       "      <td>9.847617</td>\n",
       "      <td>01:02</td>\n",
       "    </tr>\n",
       "    <tr>\n",
       "      <td>3</td>\n",
       "      <td>9.482083</td>\n",
       "      <td>9.584431</td>\n",
       "      <td>00:51</td>\n",
       "    </tr>\n",
       "    <tr>\n",
       "      <td>4</td>\n",
       "      <td>9.317714</td>\n",
       "      <td>9.536546</td>\n",
       "      <td>00:49</td>\n",
       "    </tr>\n",
       "    <tr>\n",
       "      <td>5</td>\n",
       "      <td>9.192128</td>\n",
       "      <td>9.450941</td>\n",
       "      <td>00:48</td>\n",
       "    </tr>\n",
       "    <tr>\n",
       "      <td>6</td>\n",
       "      <td>9.546196</td>\n",
       "      <td>9.680360</td>\n",
       "      <td>00:46</td>\n",
       "    </tr>\n",
       "    <tr>\n",
       "      <td>7</td>\n",
       "      <td>9.388327</td>\n",
       "      <td>9.046721</td>\n",
       "      <td>00:46</td>\n",
       "    </tr>\n",
       "    <tr>\n",
       "      <td>8</td>\n",
       "      <td>9.522371</td>\n",
       "      <td>9.391160</td>\n",
       "      <td>00:47</td>\n",
       "    </tr>\n",
       "    <tr>\n",
       "      <td>9</td>\n",
       "      <td>9.411379</td>\n",
       "      <td>8.910757</td>\n",
       "      <td>00:47</td>\n",
       "    </tr>\n",
       "    <tr>\n",
       "      <td>10</td>\n",
       "      <td>9.143490</td>\n",
       "      <td>8.955923</td>\n",
       "      <td>00:48</td>\n",
       "    </tr>\n",
       "    <tr>\n",
       "      <td>11</td>\n",
       "      <td>9.011511</td>\n",
       "      <td>8.789374</td>\n",
       "      <td>00:48</td>\n",
       "    </tr>\n",
       "    <tr>\n",
       "      <td>12</td>\n",
       "      <td>8.916258</td>\n",
       "      <td>8.711443</td>\n",
       "      <td>00:48</td>\n",
       "    </tr>\n",
       "    <tr>\n",
       "      <td>13</td>\n",
       "      <td>8.855347</td>\n",
       "      <td>8.685438</td>\n",
       "      <td>00:49</td>\n",
       "    </tr>\n",
       "    <tr>\n",
       "      <td>14</td>\n",
       "      <td>8.804240</td>\n",
       "      <td>8.742763</td>\n",
       "      <td>00:49</td>\n",
       "    </tr>\n",
       "    <tr>\n",
       "      <td>15</td>\n",
       "      <td>8.696566</td>\n",
       "      <td>8.518903</td>\n",
       "      <td>00:50</td>\n",
       "    </tr>\n",
       "    <tr>\n",
       "      <td>16</td>\n",
       "      <td>8.442482</td>\n",
       "      <td>8.434150</td>\n",
       "      <td>00:52</td>\n",
       "    </tr>\n",
       "    <tr>\n",
       "      <td>17</td>\n",
       "      <td>8.348261</td>\n",
       "      <td>8.234941</td>\n",
       "      <td>00:52</td>\n",
       "    </tr>\n",
       "    <tr>\n",
       "      <td>18</td>\n",
       "      <td>8.384691</td>\n",
       "      <td>8.302661</td>\n",
       "      <td>00:52</td>\n",
       "    </tr>\n",
       "    <tr>\n",
       "      <td>19</td>\n",
       "      <td>8.163210</td>\n",
       "      <td>8.165594</td>\n",
       "      <td>00:52</td>\n",
       "    </tr>\n",
       "    <tr>\n",
       "      <td>20</td>\n",
       "      <td>8.224750</td>\n",
       "      <td>8.290462</td>\n",
       "      <td>00:53</td>\n",
       "    </tr>\n",
       "    <tr>\n",
       "      <td>21</td>\n",
       "      <td>8.092382</td>\n",
       "      <td>8.164281</td>\n",
       "      <td>00:54</td>\n",
       "    </tr>\n",
       "    <tr>\n",
       "      <td>22</td>\n",
       "      <td>7.979243</td>\n",
       "      <td>8.121826</td>\n",
       "      <td>00:54</td>\n",
       "    </tr>\n",
       "    <tr>\n",
       "      <td>23</td>\n",
       "      <td>7.768505</td>\n",
       "      <td>7.809355</td>\n",
       "      <td>00:56</td>\n",
       "    </tr>\n",
       "    <tr>\n",
       "      <td>24</td>\n",
       "      <td>7.796700</td>\n",
       "      <td>7.828198</td>\n",
       "      <td>00:55</td>\n",
       "    </tr>\n",
       "    <tr>\n",
       "      <td>25</td>\n",
       "      <td>7.614772</td>\n",
       "      <td>7.783886</td>\n",
       "      <td>00:57</td>\n",
       "    </tr>\n",
       "    <tr>\n",
       "      <td>26</td>\n",
       "      <td>7.550244</td>\n",
       "      <td>7.963683</td>\n",
       "      <td>00:57</td>\n",
       "    </tr>\n",
       "    <tr>\n",
       "      <td>27</td>\n",
       "      <td>7.234813</td>\n",
       "      <td>7.909151</td>\n",
       "      <td>00:59</td>\n",
       "    </tr>\n",
       "    <tr>\n",
       "      <td>28</td>\n",
       "      <td>7.208351</td>\n",
       "      <td>7.340720</td>\n",
       "      <td>00:59</td>\n",
       "    </tr>\n",
       "    <tr>\n",
       "      <td>29</td>\n",
       "      <td>7.149841</td>\n",
       "      <td>7.970212</td>\n",
       "      <td>00:59</td>\n",
       "    </tr>\n",
       "    <tr>\n",
       "      <td>30</td>\n",
       "      <td>6.814468</td>\n",
       "      <td>6.803071</td>\n",
       "      <td>01:01</td>\n",
       "    </tr>\n",
       "    <tr>\n",
       "      <td>31</td>\n",
       "      <td>6.760152</td>\n",
       "      <td>7.153863</td>\n",
       "      <td>01:01</td>\n",
       "    </tr>\n",
       "    <tr>\n",
       "      <td>32</td>\n",
       "      <td>6.824028</td>\n",
       "      <td>7.210580</td>\n",
       "      <td>01:01</td>\n",
       "    </tr>\n",
       "    <tr>\n",
       "      <td>33</td>\n",
       "      <td>6.825581</td>\n",
       "      <td>6.790360</td>\n",
       "      <td>01:02</td>\n",
       "    </tr>\n",
       "    <tr>\n",
       "      <td>34</td>\n",
       "      <td>6.458213</td>\n",
       "      <td>6.794174</td>\n",
       "      <td>01:03</td>\n",
       "    </tr>\n",
       "    <tr>\n",
       "      <td>35</td>\n",
       "      <td>6.440702</td>\n",
       "      <td>6.696487</td>\n",
       "      <td>01:04</td>\n",
       "    </tr>\n",
       "    <tr>\n",
       "      <td>36</td>\n",
       "      <td>6.456522</td>\n",
       "      <td>7.038657</td>\n",
       "      <td>01:03</td>\n",
       "    </tr>\n",
       "    <tr>\n",
       "      <td>37</td>\n",
       "      <td>6.352709</td>\n",
       "      <td>6.449441</td>\n",
       "      <td>01:05</td>\n",
       "    </tr>\n",
       "    <tr>\n",
       "      <td>38</td>\n",
       "      <td>6.197024</td>\n",
       "      <td>6.413587</td>\n",
       "      <td>01:05</td>\n",
       "    </tr>\n",
       "    <tr>\n",
       "      <td>39</td>\n",
       "      <td>6.037861</td>\n",
       "      <td>6.108827</td>\n",
       "      <td>01:06</td>\n",
       "    </tr>\n",
       "    <tr>\n",
       "      <td>40</td>\n",
       "      <td>6.108057</td>\n",
       "      <td>6.242936</td>\n",
       "      <td>01:05</td>\n",
       "    </tr>\n",
       "    <tr>\n",
       "      <td>41</td>\n",
       "      <td>5.951302</td>\n",
       "      <td>6.338137</td>\n",
       "      <td>01:07</td>\n",
       "    </tr>\n",
       "    <tr>\n",
       "      <td>42</td>\n",
       "      <td>5.967325</td>\n",
       "      <td>6.464256</td>\n",
       "      <td>01:06</td>\n",
       "    </tr>\n",
       "    <tr>\n",
       "      <td>43</td>\n",
       "      <td>5.898856</td>\n",
       "      <td>6.319608</td>\n",
       "      <td>01:07</td>\n",
       "    </tr>\n",
       "    <tr>\n",
       "      <td>44</td>\n",
       "      <td>5.853833</td>\n",
       "      <td>6.354377</td>\n",
       "      <td>01:06</td>\n",
       "    </tr>\n",
       "    <tr>\n",
       "      <td>45</td>\n",
       "      <td>5.711511</td>\n",
       "      <td>6.275274</td>\n",
       "      <td>01:06</td>\n",
       "    </tr>\n",
       "    <tr>\n",
       "      <td>46</td>\n",
       "      <td>5.998713</td>\n",
       "      <td>6.358510</td>\n",
       "      <td>01:07</td>\n",
       "    </tr>\n",
       "    <tr>\n",
       "      <td>47</td>\n",
       "      <td>5.951492</td>\n",
       "      <td>6.119987</td>\n",
       "      <td>01:06</td>\n",
       "    </tr>\n",
       "    <tr>\n",
       "      <td>48</td>\n",
       "      <td>5.835589</td>\n",
       "      <td>6.120770</td>\n",
       "      <td>01:07</td>\n",
       "    </tr>\n",
       "    <tr>\n",
       "      <td>49</td>\n",
       "      <td>5.860172</td>\n",
       "      <td>6.121069</td>\n",
       "      <td>01:08</td>\n",
       "    </tr>\n",
       "  </tbody>\n",
       "</table>"
      ],
      "text/plain": [
       "<IPython.core.display.HTML object>"
      ]
     },
     "metadata": {
      "tags": []
     },
     "output_type": "display_data"
    }
   ],
   "source": [
    "#learn.fit(lr, 1, cycle_len=12, use_clr=(20,10))\n",
    "learn.fit_one_cycle(cyc_len=50, max_lr=lr)"
   ]
  },
  {
   "cell_type": "code",
   "execution_count": 0,
   "metadata": {
    "colab": {},
    "colab_type": "code",
    "collapsed": true,
    "id": "t4XdqpwKEZQj"
   },
   "outputs": [],
   "source": [
    "learn.save('initial')"
   ]
  },
  {
   "cell_type": "code",
   "execution_count": 0,
   "metadata": {
    "colab": {
     "base_uri": "https://localhost:8080/",
     "height": 1029
    },
    "colab_type": "code",
    "executionInfo": {
     "elapsed": 2719,
     "status": "ok",
     "timestamp": 1556128386899,
     "user": {
      "displayName": "Y T",
      "photoUrl": "https://lh5.googleusercontent.com/-cKJn6SIVybk/AAAAAAAAAAI/AAAAAAAAAC8/LkrUz0GW-ck/s64/photo.jpg",
      "userId": "15655710450810905216"
     },
     "user_tz": 300
    },
    "id": "KuZxChM4EZQ9",
    "outputId": "ae1971e5-7742-4187-b4b2-b752f0beedba"
   },
   "outputs": [
    {
     "name": "stderr",
     "output_type": "stream",
     "text": [
      "/usr/local/lib/python3.6/dist-packages/torch/serialization.py:251: UserWarning: Couldn't retrieve source code for container of type Seq2SeqRNN. It won't be checked for correctness upon loading.\n",
      "  \"type \" + obj.__name__ + \". It won't be checked \"\n"
     ]
    },
    {
     "data": {
      "text/plain": [
       "RNNLearner(data=Seq2SeqTextDataBunch;\n",
       "\n",
       "Train: <__main__.Seq2SeqDataset object at 0x7f84e0c95160>;\n",
       "\n",
       "Valid: <__main__.Seq2SeqDataset object at 0x7f84e0c95358>;\n",
       "\n",
       "Test: None, model=Seq2SeqRNN(\n",
       "  (emb_enc): Embedding(40004, 300, padding_idx=1)\n",
       "  (emb_enc_drop): Dropout(p=0.15)\n",
       "  (gru_enc): GRU(300, 256, num_layers=2, dropout=0.25)\n",
       "  (out_enc): Linear(in_features=256, out_features=300, bias=False)\n",
       "  (emb_dec): Embedding(40004, 300, padding_idx=1)\n",
       "  (gru_dec): GRU(300, 300, num_layers=2, dropout=0.1)\n",
       "  (out_drop): Dropout(p=0.35)\n",
       "  (out): Linear(in_features=300, out_features=40004, bias=True)\n",
       "), opt_func=functools.partial(<class 'torch.optim.adam.Adam'>, betas=(0.8, 0.99)), loss_func=<function seq2seq_loss at 0x7f84cb981a60>, metrics=[], true_wd=True, bn_wd=True, wd=0.01, train_bn=True, path=PosixPath('data/translate'), model_dir='models', callback_fns=[functools.partial(<class 'fastai.basic_train.Recorder'>, add_time=True)], callbacks=[RNNTrainer\n",
       "learn: RNNLearner(data=Seq2SeqTextDataBunch;\n",
       "\n",
       "Train: <__main__.Seq2SeqDataset object at 0x7f84e0c95160>;\n",
       "\n",
       "Valid: <__main__.Seq2SeqDataset object at 0x7f84e0c95358>;\n",
       "\n",
       "Test: None, model=Seq2SeqRNN(\n",
       "  (emb_enc): Embedding(40004, 300, padding_idx=1)\n",
       "  (emb_enc_drop): Dropout(p=0.15)\n",
       "  (gru_enc): GRU(300, 256, num_layers=2, dropout=0.25)\n",
       "  (out_enc): Linear(in_features=256, out_features=300, bias=False)\n",
       "  (emb_dec): Embedding(40004, 300, padding_idx=1)\n",
       "  (gru_dec): GRU(300, 300, num_layers=2, dropout=0.1)\n",
       "  (out_drop): Dropout(p=0.35)\n",
       "  (out): Linear(in_features=300, out_features=40004, bias=True)\n",
       "), opt_func=functools.partial(<class 'torch.optim.adam.Adam'>, betas=(0.8, 0.99)), loss_func=<function seq2seq_loss at 0x7f84cb981a60>, metrics=[], true_wd=True, bn_wd=True, wd=0.01, train_bn=True, path=PosixPath('data/translate'), model_dir='models', callback_fns=[functools.partial(<class 'fastai.basic_train.Recorder'>, add_time=True)], callbacks=[...], layer_groups=[Sequential(\n",
       "  (0): Embedding(40004, 300, padding_idx=1)\n",
       "  (1): Dropout(p=0.15)\n",
       "  (2): GRU(300, 256, num_layers=2, dropout=0.25)\n",
       "  (3): Linear(in_features=256, out_features=300, bias=False)\n",
       "  (4): Embedding(40004, 300, padding_idx=1)\n",
       "  (5): GRU(300, 300, num_layers=2, dropout=0.1)\n",
       "  (6): Dropout(p=0.35)\n",
       "  (7): Linear(in_features=300, out_features=40004, bias=True)\n",
       ")], add_time=True)\n",
       "alpha: 2.0\n",
       "beta: 1.0], layer_groups=[Sequential(\n",
       "  (0): Embedding(40004, 300, padding_idx=1)\n",
       "  (1): Dropout(p=0.15)\n",
       "  (2): GRU(300, 256, num_layers=2, dropout=0.25)\n",
       "  (3): Linear(in_features=256, out_features=300, bias=False)\n",
       "  (4): Embedding(40004, 300, padding_idx=1)\n",
       "  (5): GRU(300, 300, num_layers=2, dropout=0.1)\n",
       "  (6): Dropout(p=0.35)\n",
       "  (7): Linear(in_features=300, out_features=40004, bias=True)\n",
       ")], add_time=True)"
      ]
     },
     "execution_count": 122,
     "metadata": {
      "tags": []
     },
     "output_type": "execute_result"
    }
   ],
   "source": [
    "learn.load('initial')"
   ]
  },
  {
   "cell_type": "code",
   "execution_count": 0,
   "metadata": {
    "colab": {
     "base_uri": "https://localhost:8080/",
     "height": 1618
    },
    "colab_type": "code",
    "executionInfo": {
     "elapsed": 3723566,
     "status": "ok",
     "timestamp": 1556212250254,
     "user": {
      "displayName": "Y T",
      "photoUrl": "https://lh5.googleusercontent.com/-cKJn6SIVybk/AAAAAAAAAAI/AAAAAAAAAC8/LkrUz0GW-ck/s64/photo.jpg",
      "userId": "15655710450810905216"
     },
     "user_tz": 300
    },
    "id": "1FioKQ2-hOS3",
    "outputId": "6f9693ed-9221-4da9-ab75-1f6f98ee3ca4"
   },
   "outputs": [
    {
     "data": {
      "text/html": [
       "<table border=\"1\" class=\"dataframe\">\n",
       "  <thead>\n",
       "    <tr style=\"text-align: left;\">\n",
       "      <th>epoch</th>\n",
       "      <th>train_loss</th>\n",
       "      <th>valid_loss</th>\n",
       "      <th>time</th>\n",
       "    </tr>\n",
       "  </thead>\n",
       "  <tbody>\n",
       "    <tr>\n",
       "      <td>0</td>\n",
       "      <td>5.967715</td>\n",
       "      <td>6.327040</td>\n",
       "      <td>01:05</td>\n",
       "    </tr>\n",
       "    <tr>\n",
       "      <td>1</td>\n",
       "      <td>5.735187</td>\n",
       "      <td>6.103289</td>\n",
       "      <td>01:05</td>\n",
       "    </tr>\n",
       "    <tr>\n",
       "      <td>2</td>\n",
       "      <td>5.674162</td>\n",
       "      <td>6.013767</td>\n",
       "      <td>01:07</td>\n",
       "    </tr>\n",
       "    <tr>\n",
       "      <td>3</td>\n",
       "      <td>6.119915</td>\n",
       "      <td>6.210729</td>\n",
       "      <td>01:06</td>\n",
       "    </tr>\n",
       "    <tr>\n",
       "      <td>4</td>\n",
       "      <td>5.745633</td>\n",
       "      <td>6.237931</td>\n",
       "      <td>01:06</td>\n",
       "    </tr>\n",
       "    <tr>\n",
       "      <td>5</td>\n",
       "      <td>5.927518</td>\n",
       "      <td>6.266725</td>\n",
       "      <td>01:06</td>\n",
       "    </tr>\n",
       "    <tr>\n",
       "      <td>6</td>\n",
       "      <td>5.872571</td>\n",
       "      <td>6.055237</td>\n",
       "      <td>01:07</td>\n",
       "    </tr>\n",
       "    <tr>\n",
       "      <td>7</td>\n",
       "      <td>5.941336</td>\n",
       "      <td>6.194974</td>\n",
       "      <td>01:06</td>\n",
       "    </tr>\n",
       "    <tr>\n",
       "      <td>8</td>\n",
       "      <td>6.058371</td>\n",
       "      <td>6.803541</td>\n",
       "      <td>01:07</td>\n",
       "    </tr>\n",
       "    <tr>\n",
       "      <td>9</td>\n",
       "      <td>5.986291</td>\n",
       "      <td>6.643789</td>\n",
       "      <td>01:06</td>\n",
       "    </tr>\n",
       "    <tr>\n",
       "      <td>10</td>\n",
       "      <td>5.925054</td>\n",
       "      <td>6.378608</td>\n",
       "      <td>01:07</td>\n",
       "    </tr>\n",
       "    <tr>\n",
       "      <td>11</td>\n",
       "      <td>5.421046</td>\n",
       "      <td>6.378717</td>\n",
       "      <td>01:07</td>\n",
       "    </tr>\n",
       "    <tr>\n",
       "      <td>12</td>\n",
       "      <td>5.810044</td>\n",
       "      <td>6.377693</td>\n",
       "      <td>01:08</td>\n",
       "    </tr>\n",
       "    <tr>\n",
       "      <td>13</td>\n",
       "      <td>5.542552</td>\n",
       "      <td>6.508199</td>\n",
       "      <td>01:07</td>\n",
       "    </tr>\n",
       "    <tr>\n",
       "      <td>14</td>\n",
       "      <td>5.384377</td>\n",
       "      <td>6.289419</td>\n",
       "      <td>01:09</td>\n",
       "    </tr>\n",
       "    <tr>\n",
       "      <td>15</td>\n",
       "      <td>5.281575</td>\n",
       "      <td>6.305434</td>\n",
       "      <td>01:09</td>\n",
       "    </tr>\n",
       "    <tr>\n",
       "      <td>16</td>\n",
       "      <td>5.315626</td>\n",
       "      <td>6.299627</td>\n",
       "      <td>01:09</td>\n",
       "    </tr>\n",
       "    <tr>\n",
       "      <td>17</td>\n",
       "      <td>4.982688</td>\n",
       "      <td>5.812958</td>\n",
       "      <td>01:10</td>\n",
       "    </tr>\n",
       "    <tr>\n",
       "      <td>18</td>\n",
       "      <td>5.506368</td>\n",
       "      <td>6.400557</td>\n",
       "      <td>01:10</td>\n",
       "    </tr>\n",
       "    <tr>\n",
       "      <td>19</td>\n",
       "      <td>4.987608</td>\n",
       "      <td>5.760521</td>\n",
       "      <td>01:11</td>\n",
       "    </tr>\n",
       "    <tr>\n",
       "      <td>20</td>\n",
       "      <td>4.933573</td>\n",
       "      <td>6.003222</td>\n",
       "      <td>01:12</td>\n",
       "    </tr>\n",
       "    <tr>\n",
       "      <td>21</td>\n",
       "      <td>4.758784</td>\n",
       "      <td>5.731034</td>\n",
       "      <td>01:12</td>\n",
       "    </tr>\n",
       "    <tr>\n",
       "      <td>22</td>\n",
       "      <td>4.629495</td>\n",
       "      <td>5.373379</td>\n",
       "      <td>01:14</td>\n",
       "    </tr>\n",
       "    <tr>\n",
       "      <td>23</td>\n",
       "      <td>4.479235</td>\n",
       "      <td>5.705955</td>\n",
       "      <td>01:15</td>\n",
       "    </tr>\n",
       "    <tr>\n",
       "      <td>24</td>\n",
       "      <td>4.250286</td>\n",
       "      <td>5.345917</td>\n",
       "      <td>01:15</td>\n",
       "    </tr>\n",
       "    <tr>\n",
       "      <td>25</td>\n",
       "      <td>4.300628</td>\n",
       "      <td>5.403646</td>\n",
       "      <td>01:15</td>\n",
       "    </tr>\n",
       "    <tr>\n",
       "      <td>26</td>\n",
       "      <td>4.047663</td>\n",
       "      <td>5.426328</td>\n",
       "      <td>01:17</td>\n",
       "    </tr>\n",
       "    <tr>\n",
       "      <td>27</td>\n",
       "      <td>4.054356</td>\n",
       "      <td>5.412074</td>\n",
       "      <td>01:16</td>\n",
       "    </tr>\n",
       "    <tr>\n",
       "      <td>28</td>\n",
       "      <td>3.902559</td>\n",
       "      <td>5.367095</td>\n",
       "      <td>01:16</td>\n",
       "    </tr>\n",
       "    <tr>\n",
       "      <td>29</td>\n",
       "      <td>4.167180</td>\n",
       "      <td>5.102015</td>\n",
       "      <td>01:17</td>\n",
       "    </tr>\n",
       "    <tr>\n",
       "      <td>30</td>\n",
       "      <td>3.858015</td>\n",
       "      <td>5.667898</td>\n",
       "      <td>01:17</td>\n",
       "    </tr>\n",
       "    <tr>\n",
       "      <td>31</td>\n",
       "      <td>3.650350</td>\n",
       "      <td>5.341980</td>\n",
       "      <td>01:18</td>\n",
       "    </tr>\n",
       "    <tr>\n",
       "      <td>32</td>\n",
       "      <td>3.803143</td>\n",
       "      <td>5.618306</td>\n",
       "      <td>01:18</td>\n",
       "    </tr>\n",
       "    <tr>\n",
       "      <td>33</td>\n",
       "      <td>3.787000</td>\n",
       "      <td>5.587833</td>\n",
       "      <td>01:19</td>\n",
       "    </tr>\n",
       "    <tr>\n",
       "      <td>34</td>\n",
       "      <td>3.613671</td>\n",
       "      <td>5.414385</td>\n",
       "      <td>01:18</td>\n",
       "    </tr>\n",
       "    <tr>\n",
       "      <td>35</td>\n",
       "      <td>3.604172</td>\n",
       "      <td>5.258762</td>\n",
       "      <td>01:20</td>\n",
       "    </tr>\n",
       "    <tr>\n",
       "      <td>36</td>\n",
       "      <td>3.447119</td>\n",
       "      <td>5.611690</td>\n",
       "      <td>01:19</td>\n",
       "    </tr>\n",
       "    <tr>\n",
       "      <td>37</td>\n",
       "      <td>3.186585</td>\n",
       "      <td>5.449718</td>\n",
       "      <td>01:20</td>\n",
       "    </tr>\n",
       "    <tr>\n",
       "      <td>38</td>\n",
       "      <td>3.573309</td>\n",
       "      <td>5.500444</td>\n",
       "      <td>01:21</td>\n",
       "    </tr>\n",
       "    <tr>\n",
       "      <td>39</td>\n",
       "      <td>3.403616</td>\n",
       "      <td>5.505441</td>\n",
       "      <td>01:20</td>\n",
       "    </tr>\n",
       "    <tr>\n",
       "      <td>40</td>\n",
       "      <td>3.319525</td>\n",
       "      <td>5.418126</td>\n",
       "      <td>01:20</td>\n",
       "    </tr>\n",
       "    <tr>\n",
       "      <td>41</td>\n",
       "      <td>3.235050</td>\n",
       "      <td>5.377270</td>\n",
       "      <td>01:21</td>\n",
       "    </tr>\n",
       "    <tr>\n",
       "      <td>42</td>\n",
       "      <td>3.198465</td>\n",
       "      <td>5.454674</td>\n",
       "      <td>01:21</td>\n",
       "    </tr>\n",
       "    <tr>\n",
       "      <td>43</td>\n",
       "      <td>3.413928</td>\n",
       "      <td>5.233612</td>\n",
       "      <td>01:20</td>\n",
       "    </tr>\n",
       "    <tr>\n",
       "      <td>44</td>\n",
       "      <td>3.179342</td>\n",
       "      <td>5.438550</td>\n",
       "      <td>01:20</td>\n",
       "    </tr>\n",
       "    <tr>\n",
       "      <td>45</td>\n",
       "      <td>3.133263</td>\n",
       "      <td>5.388870</td>\n",
       "      <td>01:21</td>\n",
       "    </tr>\n",
       "    <tr>\n",
       "      <td>46</td>\n",
       "      <td>3.184083</td>\n",
       "      <td>5.422068</td>\n",
       "      <td>01:21</td>\n",
       "    </tr>\n",
       "    <tr>\n",
       "      <td>47</td>\n",
       "      <td>3.067014</td>\n",
       "      <td>5.356619</td>\n",
       "      <td>01:22</td>\n",
       "    </tr>\n",
       "    <tr>\n",
       "      <td>48</td>\n",
       "      <td>3.169277</td>\n",
       "      <td>5.367600</td>\n",
       "      <td>01:21</td>\n",
       "    </tr>\n",
       "    <tr>\n",
       "      <td>49</td>\n",
       "      <td>3.164722</td>\n",
       "      <td>5.366800</td>\n",
       "      <td>01:21</td>\n",
       "    </tr>\n",
       "  </tbody>\n",
       "</table>"
      ],
      "text/plain": [
       "<IPython.core.display.HTML object>"
      ]
     },
     "metadata": {
      "tags": []
     },
     "output_type": "display_data"
    }
   ],
   "source": [
    "learn.fit_one_cycle(cyc_len=50, max_lr=lr)"
   ]
  },
  {
   "cell_type": "code",
   "execution_count": 0,
   "metadata": {
    "colab": {},
    "colab_type": "code",
    "collapsed": true,
    "id": "Y-f0CdzDhS3C"
   },
   "outputs": [],
   "source": [
    "learn.save('after100')"
   ]
  },
  {
   "cell_type": "markdown",
   "metadata": {
    "colab_type": "text",
    "id": "VM7nrCGYEZRE"
   },
   "source": [
    "### Test"
   ]
  },
  {
   "cell_type": "code",
   "execution_count": 42,
   "metadata": {
    "colab": {},
    "colab_type": "code",
    "collapsed": true,
    "id": "fuSVJnxVk9TJ"
   },
   "outputs": [],
   "source": [
    "\n",
    "sampler = SortSampler(val_ds.x, key=lambda t: len(val_ds[t][0].data))\n",
    "collate_fn = partial(pad_collate, pad_idx=1, pad_first=False)\n",
    "val_dl = DataLoader(val_ds, batch_size=bs, sampler=sampler,num_workers=0,collate_fn=collate_fn)"
   ]
  },
  {
   "cell_type": "code",
   "execution_count": 43,
   "metadata": {
    "colab": {},
    "colab_type": "code",
    "collapsed": true,
    "id": "yvo5zxA5xiRM"
   },
   "outputs": [],
   "source": [
    "it = iter(val_dl)"
   ]
  },
  {
   "cell_type": "code",
   "execution_count": 50,
   "metadata": {
    "colab": {
     "base_uri": "https://localhost:8080/",
     "height": 772
    },
    "colab_type": "code",
    "executionInfo": {
     "elapsed": 746,
     "status": "ok",
     "timestamp": 1556222484766,
     "user": {
      "displayName": "Y T",
      "photoUrl": "https://lh5.googleusercontent.com/-cKJn6SIVybk/AAAAAAAAAAI/AAAAAAAAAC8/LkrUz0GW-ck/s64/photo.jpg",
      "userId": "15655710450810905216"
     },
     "user_tz": 300
    },
    "id": "SXhcGXIyEZRF",
    "outputId": "e09ac164-db3f-47d8-ae2b-c1060ac98039"
   },
   "outputs": [
    {
     "name": "stderr",
     "output_type": "stream",
     "text": [
      "d:\\tools\\Anaconda3\\envs\\pytorch\\lib\\site-packages\\fastai\\torch_core.py:83: UserWarning: Tensor is int32: upgrading to int64; for better performance use int64 input\n",
      "  warn('Tensor is int32: upgrading to int64; for better performance use int64 input')\n",
      "d:\\tools\\Anaconda3\\envs\\pytorch\\lib\\site-packages\\torch\\nn\\functional.py:1320: UserWarning: nn.functional.tanh is deprecated. Use torch.tanh instead.\n",
      "  warnings.warn(\"nn.functional.tanh is deprecated. Use torch.tanh instead.\")\n"
     ]
    },
    {
     "name": "stdout",
     "output_type": "stream",
     "text": [
      "there is an immediate need to deploy to staging , which would be an internet - accessible site that is as identical as possible to production except for data in the database . identical includes the way it 's deployed . the purpose in the short term at least is to be able to test and fix deploys without affecting production . because of the way we share environments on our production server , it 's not obvious how _unk can be made to deploy to different directories , without a lot of risky manual intervention . _eos_\n",
      "how to use _unk to deploy to test / staging / training - type environments _eos_\n",
      "deploy production for production _eos_ _eos_\n",
      "\n",
      "when a user is invited to a board , and they visit the board page , they get a dialog with a ' accept ' button in it . if the user clicks that button , it makes a post request to ' https : / / _unk / resource / _unk / update / ' - along with this payload : _unk : / < username > / < _unk > / data : { options : { _unk : < _unk > , _unk : < _unk > } , context : { } } _eos_\n",
      "accept boards invitation _eos_\n",
      "_unk a to to to to to a _eos_ _eos_\n",
      "\n",
      "with chrome this proxy works great but with firefox there 's strange problems . without any modifications the json.parse fails inside firefox . the old version of keepassxc - proxy - rust did n't cut the json message by its lenght so the \\ u xxrep 4 0 's in the end were not recognized . after the latest changes the first two replies are detected normally but then nothing happens . and i still do n't know why . if anyone is willing to inspect this issue with me , i would be very happy : _eos_\n",
      "does n't work with firefox _eos_\n",
      "_unk _unk with with _unk _eos_\n",
      "\n",
      "hi simplero when creating a larger course on a membership site , with more than 3 - 4 modules containing more than a few lessons in each module , the sidebar gets pretty long . would it be possible to show the sub menu items as dropdown ? making it possible to open / close the lesson list and only have the lessons open in the active module ? i attached an example , in case i don´t make myself clear : - ! sub menu items dropdown https : / / user-images.githubusercontent.com / _unk / _unk _eos_\n",
      "sidebar modules dropdown _eos_\n",
      "add : : for items _eos_ _eos_\n",
      "\n",
      "hi i am working on add your _unk simulation to my _unk simulation package . thanks for providing the function , that made it really easy to implement . i was just wondering if you have a suggested method for deciding on the number of each gene type to simulate based on a counts matrix of real data ? at the moment i am just evenly dividing up the total number of genes . i am happy to leave it at that but just thought i would check if there is something else you suggest . thanks _eos_\n",
      "estimating gene types _eos_\n",
      "_unk of of of _eos_ _eos_\n",
      "\n",
      "add an optional _unk < path > command line option that specifies a script to run whenever a certificate is created or updated . the idea is that in a distributed setup you could run the daemon on a server and then trigger a script that syncs the certificates with all the web hosts . having it just call a script leaves it open to the user to determine how they want to do that , eg . rsync the folder of certs , add / update them in a distributed key - value store etc . _eos_\n",
      "add _unk option _eos_\n",
      "add script to to to to to to _eos_ _eos_\n",
      "\n",
      "environment - os : ubuntu 14.04 - erlang / otp : erlang / otp 19 _unk source 64-bit _unk async - _unk _unk kernel - poll : false - emq : 2.3.0 description when two broker cluster is established two instances _unk and _unk - publishing a message to server a as retained . - clients do not receive the message if they are connected and subscribed to server a only mqtt client disconnect and connect again , the message is received by client . the behaviour is simply retained messages not arriving to online subscribing clients _eos_\n",
      "clustering does not pass retained messages , they are not published even on same server _eos_\n",
      "_unk messages messages messages when when when when when server server _eos_ _eos_\n",
      "\n",
      "as was recently brought to my attention , many most of our sites _unk , _unk , jujucharms.com have full - width headers : ! header https : / / user-images.githubusercontent.com / _unk / _unk this is different from _unk , as well as www.ubuntu.com and _unk : ! _unk https : / / user-images.githubusercontent.com / _unk / _unk if the full - width version represents the more modern design thinking , as i feel it does , then should the vanilla default be for it to be full - width ? while still supporting the alternative _eos_\n",
      "question : should vanilla 's default header be full width ? _eos_\n",
      "full width width width width width width width width _eos_ _eos_\n",
      "\n",
      "originally reported of google code with i d 839 . what software version are you running ? $ gnt - cluster --version gnt - cluster ganeti _unk 2.10.1 today , to shutdown all instances on a cluster , an operator can use : gnt - instance stop --all --force - multiple --no - remember however , no equivalent exists in the ganeti _unk . this issue is a request to add support to _unk for an operation to shutdown all instances . originally added on 2014 - 05 - 27 _unk + xxrep 4 0 utc . _eos_\n",
      "rapi to support shutdown of all instances in cluster . _eos_\n",
      "support all instances instances instances all group _eos_ _eos_\n",
      "\n",
      "many thanks for this code example . my idea is to use it as a base for screen - mirroring . i noted that when the sample app 's activity is the _unk , the capture of the images slows down drastically while if i move on to another screen of another app or the home - screen the image - creation is very fast numerous one within a second . any idea what is happening why this is happening and how this can be resolved ? could a service resolve this problem ? thank you . _eos_\n",
      "slows down in its own activity _eos_\n",
      "_unk - _unk _unk _unk _unk _eos_ _eos_\n",
      "\n"
     ]
    }
   ],
   "source": [
    "\n",
    "x,y = next(it)\n",
    "x = to_device(x, 'cuda:0')\n",
    "y = to_device(y, 'cuda:0')\n",
    "probs = learn.model(x)\n",
    "preds = to_np(probs[0].data.max(2)[1].t())\n",
    "\n",
    "\n",
    "for i in range(20,30):\n",
    "    print(' '.join([body_itos[o] for o in x[i,:] if o != 1]))\n",
    "    print(' '.join([title_itos[o] for o in y[i,:] if o != 1]))\n",
    "    print(' '.join([title_itos[o] for o in preds[i,:] if o!=1]))\n",
    "    print()"
   ]
  },
  {
   "cell_type": "code",
   "execution_count": 45,
   "metadata": {
    "colab": {
     "base_uri": "https://localhost:8080/",
     "height": 2241
    },
    "colab_type": "code",
    "executionInfo": {
     "elapsed": 391,
     "status": "ok",
     "timestamp": 1556222508616,
     "user": {
      "displayName": "Y T",
      "photoUrl": "https://lh5.googleusercontent.com/-cKJn6SIVybk/AAAAAAAAAAI/AAAAAAAAAC8/LkrUz0GW-ck/s64/photo.jpg",
      "userId": "15655710450810905216"
     },
     "user_tz": 300
    },
    "id": "V73JAh3hnd9f",
    "outputId": "afccdfc9-2bbb-411f-9ec1-b1b98f3c8926"
   },
   "outputs": [
    {
     "name": "stdout",
     "output_type": "stream",
     "text": [
      "using the ontology search to add a restriction directly to a sheet : ! image https : / / cloud.githubusercontent.com / assets / 112839 / _unk / _unk choosing descendants = > an incomplete list of types and parts - 39 terms in total this term has 18 descendant classes dl query ‘ part _unk some _unk = > 58 classes 26 direct . choosing the subclasses instead = > 8 classes . also a mix of types and parts ! details here : https : / / docs.google.com / spreadsheets / d / _unk / edit?usp = sharing\n",
      "bug with setting restrictions _eos_\n",
      "_unk : of of of _unk _eos_ _eos_\n",
      "\n",
      "1 . children 1 - 6 years / _unk 1 - 6 _unk 2 . children 7 - 12 years / _unk 7 - 12 _unk 3 . _unk 13 - 15 years / _unk 13 - 15 _unk 4 . _unk / _unk _unk 5 . _unk / _unk _unk 6 . _unk retarded / _unk _unk 7 . alzheimer ’s / _unk 8 . miscellaneous adults / _unk _unk 9 . _unk / _unk 10 . hunters / _unk 11 . climbers / _unk 12 . _unk / _unk 13 . _unk general / _unk _unk _eos_\n",
      "_unk : add more categories _eos_\n",
      "_unk _unk _unk _unk _unk _unk _eos_ _eos_\n",
      "\n",
      "any server with swim - able water . you swim out and come back to shore but do nt walk up onto land , as soon at you hit the land you stop , alt - turn and drink while pressing your _unk keybind . if done right , you 'll slide forward a small amount and will be able to walk / run underwater until you fall . the second you fall you begin swimming again and slowly rise to the surface . https : / / gyazo.com / _unk https : / / gyazo.com / _unk _eos_\n",
      "walking underwater glitch _eos_\n",
      "_unk does does n't n't n't n't n't _eos_ _eos_\n",
      "\n",
      "hello all , i just do the update _unk 0.7.1 to 0.9.0 . i backup my data / _unk , and copy / past all the package of the 0.9.0 . since this update i have a message on the top right corner to do an update : ● shaarli 0.7.0 / is available . i do n't think it was normal lol ... how can i check if the update will do correctly ? i do the copy / past two times , but the message stay when i 'm logged . thank 's in advance . _eos_\n",
      "update from 0.7.1 to 0.9.0 - message to update when i 'm connected _eos_\n",
      "the is the the the ? _eos_\n",
      "\n",
      "1 . while it says only the pc uses _unk . other critters will use the extra unused stat _unk = 10 in _unk , actually all critters use _unk as well , and using _unk / _unk _unk only returns 0 . 2 . when setting _unk to _unk to limit the weight check to used items only , even if the pc is overloaded weight text turns red by equipped items , the pc does n't seems to be affected by negative effects e.g. can still run normally and no warning text in message box . _eos_\n",
      "some issues with _unk _eos_\n",
      "_unk _unk not not not not _unk _eos_ _eos_\n",
      "\n",
      "we 've noticed a bunch of bugs and / or requirement as we 've been rolling out the approval - process . let 's use this issue as an umbrella to open all related issues and keep track of progress and make sure we fix bugs only once : list of issues : - _unk _unk : only one command is parsed from comment - _unk _unk : allow commands anywhere in the comment - _unk _unk : it takes two cycles to get approved label detected - _unk _unk : alias in approvers does n't work well _eos_\n",
      "umbrella approval - process roll - out _eos_\n",
      "_unk _unk _unk _unk _unk _eos_ _eos_\n",
      "\n",
      "добрый день ! _unk _unk , _unk в системе , _unk каталог _unk / tmp / _unk / _unk там _unk _unk файлов . _unk проблема в том , что если система работает 5 + _unk , то в этом _unk будет _unk 10 - 15 файлов , которые _unk и _unk количество _unk . _unk того , что система будет _unk и _unk , что _unk _unk , так и еще когда проблема _unk _unk , то и удалить их будет _unk . удаление _unk _unk файлов _unk 23 часа . пожалуйста , _unk _unk на это !\n",
      "проблема с _unk _eos_\n",
      "_unk _unk _unk _eos_\n",
      "\n",
      "dear developers , i tried to log in to the docker website this morning . my docker is up ; i can reach the login page when i go to localhost:8000 , but it does n't recognize my username / password when i try to log in . if i reset my account / recover my password i do n't get an email and if i try to make a new account i do n't get an email . is there a malfunction ? the normal site does work with my username / password . best , _unk _eos_\n",
      "ca n't log in to _unk docker website _eos_\n",
      "ca n't login login login login _eos_\n",
      "\n",
      "< ! -- @browser : firefox 54.0 -- > \n",
      "  < ! -- @ua_header : mozilla / 5.0 macintosh ; intel mac os x 10.11 ; rv:54.0 gecko / 20100101 firefox / 54.0 -- > \n",
      "  < ! -- @reported_with : web -- > url : www.test.com browser / version : firefox 54.0 operating system : mac os x 10.11 problem type : video does n't play steps to reproduce 1 . navigate to : www.test.com 2 . … expected behavior : actual behavior : _ from webcompat.com https : / / webcompat.com / with ❤ ️ _ _eos_\n",
      "_unk - video does n't play _eos_\n",
      "_unk - - - _unk _eos_ _eos_\n",
      "\n",
      "affected components : env monitoring affected documentation : - estimated delivery : q1 / 2017 external reference : https : / / _unk / browse / _unk , https : / / _unk / browse / _unk problem xroad - monitor checks for updates of package lists only at the re- start of xroad - monitor process . after that this data remains unchanged until the next restart and for example the package list is not updated after installing new packages . acceptance criteria - environmental monitoring package list is updated correctly whenever packages are updated / changed _eos_\n",
      "bug : environmental monitoring package list is not updated when new packets were installed _eos_\n",
      "monitor not not not not _eos_ _eos_\n",
      "\n",
      "most of the time i seem to get format not recognized even on supported _unk . if no error i will get a file upload is required for new media when trying to save . nothing saved to database . files are uploaded and found in / assets / uploads checking the console i get following js error when the upload is finished : _unk uncaught syntaxerror : unexpected token < at _unk _unk at _unk as complete _unk at j jquery.min.js:2 at object.firewith jquery.min.js:2 at x jquery.min.js:4 at xmlhttprequest.<anonymous > jquery.min.js:4 installed on _unk / php _unk _eos_\n",
      "upload - format not recognized _eos_\n",
      "not not not working _eos_ _eos_\n",
      "\n",
      "hey , i noticed that if i send a signal to the process it does n't get finalized , even though the server gets stopped . it turns our that this behavior happens due to _unk not stopping the execution of the process after stopping the server : https : / / github.com / _unk / magnet / blob / _unk xxrep 4 a _unk / src / bin / magnet - start _unk i 'd say the fix would be to add a process.exit 0 after _unk . is there anything i 'm missing ? thx ! _eos_\n",
      "process does n't exit on sigterm | sigint _eos_\n",
      "_unk _unk _unk _unk _unk _unk _unk _unk _eos_ _eos_\n",
      "\n",
      "a feature i like from alot is the ability to change the visual display of a tag name ; i use this to replace common names like inbox with a single unicode character . http : / / _unk / en / latest / configuration / _unk custom - _unk - formatting is this a plugin issue , perhaps ? i 've been reading old issues but i 'm not totally sure at the moment . of course , you may run into problems calculating the output width of a string if you start using unicode a lot .\n",
      "display variations of tag names _eos_\n",
      "feature request for name names _eos_ _eos_\n",
      "\n",
      "bug : a facade is rendering as a immersive engineering garden cloche , sideways ! 2017 - 08 - _unk 47 02 https : / / user-images.githubusercontent.com / _unk / _unk how to reproduce : place an advanced connector next to a garden - cloche and apply a facade so that is _unk the cloche . it will render as a weird cloche , sideways . ! 2017 - 08 - _unk 13 55 https : / / user-images.githubusercontent.com / _unk / _unk versions used : forge : _unk xnet : _unk immersive engineering : 0.12 - 70 _eos_\n",
      "weired facade : renders as a ie garden cloche _eos_\n",
      "create - - - with _eos_ _eos_\n",
      "\n"
     ]
    },
    {
     "ename": "IndexError",
     "evalue": "index 64 is out of bounds for dimension 0 with size 64",
     "output_type": "error",
     "traceback": [
      "\u001b[1;31m---------------------------------------------------------------------------\u001b[0m",
      "\u001b[1;31mIndexError\u001b[0m                                Traceback (most recent call last)",
      "\u001b[1;32m<ipython-input-45-f2d244cc7d2a>\u001b[0m in \u001b[0;36m<module>\u001b[1;34m()\u001b[0m\n\u001b[0;32m      1\u001b[0m \u001b[1;32mfor\u001b[0m \u001b[0mi\u001b[0m \u001b[1;32min\u001b[0m \u001b[0mrange\u001b[0m\u001b[1;33m(\u001b[0m\u001b[1;36m50\u001b[0m\u001b[1;33m,\u001b[0m\u001b[1;36m80\u001b[0m\u001b[1;33m)\u001b[0m\u001b[1;33m:\u001b[0m\u001b[1;33m\u001b[0m\u001b[1;33m\u001b[0m\u001b[0m\n\u001b[1;32m----> 2\u001b[1;33m     \u001b[0mprint\u001b[0m\u001b[1;33m(\u001b[0m\u001b[1;34m' '\u001b[0m\u001b[1;33m.\u001b[0m\u001b[0mjoin\u001b[0m\u001b[1;33m(\u001b[0m\u001b[1;33m[\u001b[0m\u001b[0mbody_itos\u001b[0m\u001b[1;33m[\u001b[0m\u001b[0mo\u001b[0m\u001b[1;33m]\u001b[0m \u001b[1;32mfor\u001b[0m \u001b[0mo\u001b[0m \u001b[1;32min\u001b[0m \u001b[0mx\u001b[0m\u001b[1;33m[\u001b[0m\u001b[0mi\u001b[0m\u001b[1;33m,\u001b[0m\u001b[1;33m:\u001b[0m\u001b[1;33m]\u001b[0m \u001b[1;32mif\u001b[0m \u001b[0mo\u001b[0m \u001b[1;33m!=\u001b[0m \u001b[1;36m1\u001b[0m\u001b[1;33m]\u001b[0m\u001b[1;33m)\u001b[0m\u001b[1;33m)\u001b[0m\u001b[1;33m\u001b[0m\u001b[1;33m\u001b[0m\u001b[0m\n\u001b[0m\u001b[0;32m      3\u001b[0m     \u001b[0mprint\u001b[0m\u001b[1;33m(\u001b[0m\u001b[1;34m' '\u001b[0m\u001b[1;33m.\u001b[0m\u001b[0mjoin\u001b[0m\u001b[1;33m(\u001b[0m\u001b[1;33m[\u001b[0m\u001b[0mtitle_itos\u001b[0m\u001b[1;33m[\u001b[0m\u001b[0mo\u001b[0m\u001b[1;33m]\u001b[0m \u001b[1;32mfor\u001b[0m \u001b[0mo\u001b[0m \u001b[1;32min\u001b[0m \u001b[0my\u001b[0m\u001b[1;33m[\u001b[0m\u001b[0mi\u001b[0m\u001b[1;33m,\u001b[0m\u001b[1;33m:\u001b[0m\u001b[1;33m]\u001b[0m \u001b[1;32mif\u001b[0m \u001b[0mo\u001b[0m \u001b[1;33m!=\u001b[0m \u001b[1;36m1\u001b[0m\u001b[1;33m]\u001b[0m\u001b[1;33m)\u001b[0m\u001b[1;33m)\u001b[0m\u001b[1;33m\u001b[0m\u001b[1;33m\u001b[0m\u001b[0m\n\u001b[0;32m      4\u001b[0m     \u001b[0mprint\u001b[0m\u001b[1;33m(\u001b[0m\u001b[1;34m' '\u001b[0m\u001b[1;33m.\u001b[0m\u001b[0mjoin\u001b[0m\u001b[1;33m(\u001b[0m\u001b[1;33m[\u001b[0m\u001b[0mtitle_itos\u001b[0m\u001b[1;33m[\u001b[0m\u001b[0mo\u001b[0m\u001b[1;33m]\u001b[0m \u001b[1;32mfor\u001b[0m \u001b[0mo\u001b[0m \u001b[1;32min\u001b[0m \u001b[0mpreds\u001b[0m\u001b[1;33m[\u001b[0m\u001b[0mi\u001b[0m\u001b[1;33m,\u001b[0m\u001b[1;33m:\u001b[0m\u001b[1;33m]\u001b[0m \u001b[1;32mif\u001b[0m \u001b[0mo\u001b[0m\u001b[1;33m!=\u001b[0m\u001b[1;36m1\u001b[0m\u001b[1;33m]\u001b[0m\u001b[1;33m)\u001b[0m\u001b[1;33m)\u001b[0m\u001b[1;33m\u001b[0m\u001b[1;33m\u001b[0m\u001b[0m\n\u001b[0;32m      5\u001b[0m     \u001b[0mprint\u001b[0m\u001b[1;33m(\u001b[0m\u001b[1;33m)\u001b[0m\u001b[1;33m\u001b[0m\u001b[1;33m\u001b[0m\u001b[0m\n",
      "\u001b[1;31mIndexError\u001b[0m: index 64 is out of bounds for dimension 0 with size 64"
     ]
    },
    {
     "name": "stdout",
     "output_type": "stream",
     "text": [
      "> <ipython-input-45-f2d244cc7d2a>(2)<module>()\n",
      "      1 for i in range(50,80):\n",
      "----> 2     print(' '.join([body_itos[o] for o in x[i,:] if o != 1]))\n",
      "      3     print(' '.join([title_itos[o] for o in y[i,:] if o != 1]))\n",
      "      4     print(' '.join([title_itos[o] for o in preds[i,:] if o!=1]))\n",
      "      5     print()\n",
      "\n",
      "ipdb> c\n"
     ]
    }
   ],
   "source": [
    "for i in range(50,80):\n",
    "    print(' '.join([body_itos[o] for o in x[i,:] if o != 1]))\n",
    "    print(' '.join([title_itos[o] for o in y[i,:] if o != 1]))\n",
    "    print(' '.join([title_itos[o] for o in preds[i,:] if o!=1]))\n",
    "    print()"
   ]
  },
  {
   "cell_type": "markdown",
   "metadata": {
    "colab_type": "text",
    "id": "IjrJ6_5oEZRL"
   },
   "source": [
    "## Bidir"
   ]
  },
  {
   "cell_type": "code",
   "execution_count": 0,
   "metadata": {
    "colab": {},
    "colab_type": "code",
    "collapsed": true,
    "id": "E0Dh9gLdEZRM"
   },
   "outputs": [],
   "source": [
    "class Seq2SeqRNN_Bidir(nn.Module):\n",
    "    def __init__(self, vecs_enc, itos_enc, em_sz_enc, vecs_dec, itos_dec, em_sz_dec, nh, out_sl, nl=2):\n",
    "        super().__init__()\n",
    "        self.emb_enc = create_emb(vecs_enc, itos_enc, em_sz_enc)\n",
    "        self.nl,self.nh,self.out_sl = nl,nh,out_sl\n",
    "        self.gru_enc = nn.GRU(em_sz_enc, nh, num_layers=nl, dropout=0.25, bidirectional=True)\n",
    "        self.out_enc = nn.Linear(nh*2, em_sz_dec, bias=False)\n",
    "        self.drop_enc = nn.Dropout(0.05)\n",
    "        self.emb_dec = create_emb(vecs_dec, itos_dec, em_sz_dec)\n",
    "        self.gru_dec = nn.GRU(em_sz_dec, em_sz_dec, num_layers=nl, dropout=0.1)\n",
    "        self.emb_enc_drop = nn.Dropout(0.15)\n",
    "        self.out_drop = nn.Dropout(0.35)\n",
    "        self.out = nn.Linear(em_sz_dec, len(itos_dec))\n",
    "        self.out.weight.data = self.emb_dec.weight.data\n",
    "        \n",
    "    def forward(self, inp):\n",
    "        inp = inp.t()\n",
    "        sl,bs = inp.size()\n",
    "        h = self.initHidden(bs)\n",
    "        emb = self.emb_enc_drop(self.emb_enc(inp))\n",
    "        enc_out, h = self.gru_enc(emb, h)\n",
    "        h = h.view(2,2,bs,-1).permute(0,2,1,3).contiguous().view(2,bs,-1)\n",
    "        h = self.out_enc(self.drop_enc(h))\n",
    "\n",
    "#         dec_inp = V(torch.zeros(bs).long())\n",
    "        dec_inp = to_device(torch.zeros(bs).long(), 'cuda:0')\n",
    "        res = []\n",
    "        for i in range(self.out_sl):\n",
    "            emb = self.emb_dec(dec_inp).unsqueeze(0)\n",
    "            outp, h = self.gru_dec(emb, h)\n",
    "            outp = self.out(self.out_drop(outp[0]))\n",
    "            res.append(outp)\n",
    "#             dec_inp = V(outp.data.max(1)[1])\n",
    "            dec_inp = outp.data.max(1)[1]\n",
    "            if (dec_inp==1).all(): break\n",
    "#  ugly hack, since rnn.py expects the true output to be in the first element      \n",
    "#         return torch.stack(res)\n",
    "        res = torch.stack(res)\n",
    "        res = [res, res, res]\n",
    "        return res\n",
    "    \n",
    "#     def initHidden(self, bs): return V(torch.zeros(self.nl*2, bs, self.nh))\n",
    "    def initHidden(self, bs): return to_device(torch.zeros(self.nl*2, bs, self.nh), 'cuda:0')\n",
    "  \n",
    "    def reset(self):\n",
    "      pass"
   ]
  },
  {
   "cell_type": "code",
   "execution_count": 0,
   "metadata": {
    "colab": {
     "base_uri": "https://localhost:8080/",
     "height": 54
    },
    "colab_type": "code",
    "executionInfo": {
     "elapsed": 1432,
     "status": "ok",
     "timestamp": 1556212750037,
     "user": {
      "displayName": "Y T",
      "photoUrl": "https://lh5.googleusercontent.com/-cKJn6SIVybk/AAAAAAAAAAI/AAAAAAAAAC8/LkrUz0GW-ck/s64/photo.jpg",
      "userId": "15655710450810905216"
     },
     "user_tz": 300
    },
    "id": "eSTbabifEZRX",
    "outputId": "1c6a8e28-6ea2-465e-b402-0fd7825f4b51"
   },
   "outputs": [
    {
     "name": "stdout",
     "output_type": "stream",
     "text": [
      "0 []\n",
      "0 []\n"
     ]
    }
   ],
   "source": [
    "rnn = Seq2SeqRNN_Bidir(body_vecd, body_itos, dim_body_vec, title_vecd, title_itos, dim_title_vec, nh, title_len_90, nl)\n",
    "# learn = RNN_Learner(md, SingleModel(to_gpu(rnn)), opt_fn=opt_fn)\n",
    "# learn.crit = seq2seq_loss\n",
    "learn=RNNLearner(md, rnn, opt_func=opt_fn,callback_fns=ShowGraph)\n",
    "learn.loss_func = seq2seq_loss    "
   ]
  },
  {
   "cell_type": "code",
   "execution_count": 0,
   "metadata": {
    "colab": {
     "base_uri": "https://localhost:8080/",
     "height": 301
    },
    "colab_type": "code",
    "executionInfo": {
     "elapsed": 18447,
     "status": "ok",
     "timestamp": 1556212683747,
     "user": {
      "displayName": "Y T",
      "photoUrl": "https://lh5.googleusercontent.com/-cKJn6SIVybk/AAAAAAAAAAI/AAAAAAAAAC8/LkrUz0GW-ck/s64/photo.jpg",
      "userId": "15655710450810905216"
     },
     "user_tz": 300
    },
    "id": "pSWzgBuMfjVi",
    "outputId": "df0e0783-7027-4a40-fc36-64e46b0b87ed"
   },
   "outputs": [
    {
     "data": {
      "text/html": [],
      "text/plain": [
       "<IPython.core.display.HTML object>"
      ]
     },
     "metadata": {
      "tags": []
     },
     "output_type": "display_data"
    },
    {
     "name": "stdout",
     "output_type": "stream",
     "text": [
      "LR Finder is complete, type {learner_name}.recorder.plot() to see the graph.\n"
     ]
    },
    {
     "data": {
      "image/png": "[encoded data removed]",
      "text/plain": [
       "<Figure size 432x288 with 1 Axes>"
      ]
     },
     "metadata": {
      "tags": []
     },
     "output_type": "display_data"
    }
   ],
   "source": [
    "learn.lr_find()\n",
    "learn.recorder.plot()"
   ]
  },
  {
   "cell_type": "code",
   "execution_count": 0,
   "metadata": {
    "colab": {},
    "colab_type": "code",
    "collapsed": true,
    "id": "RIQPKS8TgUNI"
   },
   "outputs": [],
   "source": [
    "lr=5e-4"
   ]
  },
  {
   "cell_type": "code",
   "execution_count": 0,
   "metadata": {
    "colab": {
     "base_uri": "https://localhost:8080/",
     "height": 1870
    },
    "colab_type": "code",
    "executionInfo": {
     "elapsed": 3336223,
     "status": "ok",
     "timestamp": 1556216240667,
     "user": {
      "displayName": "Y T",
      "photoUrl": "https://lh5.googleusercontent.com/-cKJn6SIVybk/AAAAAAAAAAI/AAAAAAAAAC8/LkrUz0GW-ck/s64/photo.jpg",
      "userId": "15655710450810905216"
     },
     "user_tz": 300
    },
    "id": "_NF7gAW6EZRh",
    "outputId": "9eb6bf87-fe6c-49d0-9b4b-c0d2466cf139"
   },
   "outputs": [
    {
     "data": {
      "text/html": [
       "<table border=\"1\" class=\"dataframe\">\n",
       "  <thead>\n",
       "    <tr style=\"text-align: left;\">\n",
       "      <th>epoch</th>\n",
       "      <th>train_loss</th>\n",
       "      <th>valid_loss</th>\n",
       "      <th>time</th>\n",
       "    </tr>\n",
       "  </thead>\n",
       "  <tbody>\n",
       "    <tr>\n",
       "      <td>0</td>\n",
       "      <td>8.824606</td>\n",
       "      <td>9.357173</td>\n",
       "      <td>01:05</td>\n",
       "    </tr>\n",
       "    <tr>\n",
       "      <td>1</td>\n",
       "      <td>9.166949</td>\n",
       "      <td>9.039610</td>\n",
       "      <td>01:01</td>\n",
       "    </tr>\n",
       "    <tr>\n",
       "      <td>2</td>\n",
       "      <td>9.253172</td>\n",
       "      <td>9.053870</td>\n",
       "      <td>00:58</td>\n",
       "    </tr>\n",
       "    <tr>\n",
       "      <td>3</td>\n",
       "      <td>9.382486</td>\n",
       "      <td>9.118905</td>\n",
       "      <td>00:57</td>\n",
       "    </tr>\n",
       "    <tr>\n",
       "      <td>4</td>\n",
       "      <td>9.365967</td>\n",
       "      <td>9.069899</td>\n",
       "      <td>00:54</td>\n",
       "    </tr>\n",
       "    <tr>\n",
       "      <td>5</td>\n",
       "      <td>9.481003</td>\n",
       "      <td>8.965122</td>\n",
       "      <td>00:55</td>\n",
       "    </tr>\n",
       "    <tr>\n",
       "      <td>6</td>\n",
       "      <td>9.307871</td>\n",
       "      <td>8.984838</td>\n",
       "      <td>00:53</td>\n",
       "    </tr>\n",
       "    <tr>\n",
       "      <td>7</td>\n",
       "      <td>8.991921</td>\n",
       "      <td>8.818965</td>\n",
       "      <td>00:54</td>\n",
       "    </tr>\n",
       "    <tr>\n",
       "      <td>8</td>\n",
       "      <td>9.207253</td>\n",
       "      <td>9.145956</td>\n",
       "      <td>00:54</td>\n",
       "    </tr>\n",
       "    <tr>\n",
       "      <td>9</td>\n",
       "      <td>9.029139</td>\n",
       "      <td>8.750855</td>\n",
       "      <td>00:55</td>\n",
       "    </tr>\n",
       "    <tr>\n",
       "      <td>10</td>\n",
       "      <td>8.918694</td>\n",
       "      <td>8.729663</td>\n",
       "      <td>00:56</td>\n",
       "    </tr>\n",
       "    <tr>\n",
       "      <td>11</td>\n",
       "      <td>8.909123</td>\n",
       "      <td>8.667623</td>\n",
       "      <td>00:55</td>\n",
       "    </tr>\n",
       "    <tr>\n",
       "      <td>12</td>\n",
       "      <td>8.845407</td>\n",
       "      <td>8.669996</td>\n",
       "      <td>00:56</td>\n",
       "    </tr>\n",
       "    <tr>\n",
       "      <td>13</td>\n",
       "      <td>8.765015</td>\n",
       "      <td>8.614244</td>\n",
       "      <td>00:55</td>\n",
       "    </tr>\n",
       "    <tr>\n",
       "      <td>14</td>\n",
       "      <td>8.736260</td>\n",
       "      <td>8.608255</td>\n",
       "      <td>00:56</td>\n",
       "    </tr>\n",
       "    <tr>\n",
       "      <td>15</td>\n",
       "      <td>8.537648</td>\n",
       "      <td>8.541364</td>\n",
       "      <td>00:56</td>\n",
       "    </tr>\n",
       "    <tr>\n",
       "      <td>16</td>\n",
       "      <td>8.979213</td>\n",
       "      <td>8.743572</td>\n",
       "      <td>00:58</td>\n",
       "    </tr>\n",
       "    <tr>\n",
       "      <td>17</td>\n",
       "      <td>8.330183</td>\n",
       "      <td>8.242358</td>\n",
       "      <td>00:59</td>\n",
       "    </tr>\n",
       "    <tr>\n",
       "      <td>18</td>\n",
       "      <td>8.287552</td>\n",
       "      <td>8.355131</td>\n",
       "      <td>00:59</td>\n",
       "    </tr>\n",
       "    <tr>\n",
       "      <td>19</td>\n",
       "      <td>8.036943</td>\n",
       "      <td>8.378110</td>\n",
       "      <td>01:01</td>\n",
       "    </tr>\n",
       "    <tr>\n",
       "      <td>20</td>\n",
       "      <td>7.901452</td>\n",
       "      <td>8.162015</td>\n",
       "      <td>01:01</td>\n",
       "    </tr>\n",
       "    <tr>\n",
       "      <td>21</td>\n",
       "      <td>7.766507</td>\n",
       "      <td>7.865463</td>\n",
       "      <td>01:04</td>\n",
       "    </tr>\n",
       "    <tr>\n",
       "      <td>22</td>\n",
       "      <td>7.579597</td>\n",
       "      <td>7.717851</td>\n",
       "      <td>01:04</td>\n",
       "    </tr>\n",
       "    <tr>\n",
       "      <td>23</td>\n",
       "      <td>7.384051</td>\n",
       "      <td>7.504015</td>\n",
       "      <td>01:05</td>\n",
       "    </tr>\n",
       "    <tr>\n",
       "      <td>24</td>\n",
       "      <td>7.365313</td>\n",
       "      <td>7.219876</td>\n",
       "      <td>01:05</td>\n",
       "    </tr>\n",
       "    <tr>\n",
       "      <td>25</td>\n",
       "      <td>7.321936</td>\n",
       "      <td>7.605074</td>\n",
       "      <td>01:05</td>\n",
       "    </tr>\n",
       "    <tr>\n",
       "      <td>26</td>\n",
       "      <td>7.141445</td>\n",
       "      <td>7.485335</td>\n",
       "      <td>01:08</td>\n",
       "    </tr>\n",
       "    <tr>\n",
       "      <td>27</td>\n",
       "      <td>7.044305</td>\n",
       "      <td>7.213611</td>\n",
       "      <td>01:06</td>\n",
       "    </tr>\n",
       "    <tr>\n",
       "      <td>28</td>\n",
       "      <td>6.671934</td>\n",
       "      <td>7.253665</td>\n",
       "      <td>01:07</td>\n",
       "    </tr>\n",
       "    <tr>\n",
       "      <td>29</td>\n",
       "      <td>6.609655</td>\n",
       "      <td>7.049683</td>\n",
       "      <td>01:09</td>\n",
       "    </tr>\n",
       "    <tr>\n",
       "      <td>30</td>\n",
       "      <td>6.222185</td>\n",
       "      <td>6.896744</td>\n",
       "      <td>01:11</td>\n",
       "    </tr>\n",
       "    <tr>\n",
       "      <td>31</td>\n",
       "      <td>6.500792</td>\n",
       "      <td>6.972876</td>\n",
       "      <td>01:11</td>\n",
       "    </tr>\n",
       "    <tr>\n",
       "      <td>32</td>\n",
       "      <td>6.174245</td>\n",
       "      <td>6.343231</td>\n",
       "      <td>01:13</td>\n",
       "    </tr>\n",
       "    <tr>\n",
       "      <td>33</td>\n",
       "      <td>6.056870</td>\n",
       "      <td>6.395762</td>\n",
       "      <td>01:12</td>\n",
       "    </tr>\n",
       "    <tr>\n",
       "      <td>34</td>\n",
       "      <td>5.786024</td>\n",
       "      <td>7.144670</td>\n",
       "      <td>01:15</td>\n",
       "    </tr>\n",
       "    <tr>\n",
       "      <td>35</td>\n",
       "      <td>5.970123</td>\n",
       "      <td>6.679791</td>\n",
       "      <td>01:14</td>\n",
       "    </tr>\n",
       "    <tr>\n",
       "      <td>36</td>\n",
       "      <td>5.673989</td>\n",
       "      <td>6.381893</td>\n",
       "      <td>01:13</td>\n",
       "    </tr>\n",
       "    <tr>\n",
       "      <td>37</td>\n",
       "      <td>5.648621</td>\n",
       "      <td>6.549609</td>\n",
       "      <td>01:14</td>\n",
       "    </tr>\n",
       "    <tr>\n",
       "      <td>38</td>\n",
       "      <td>5.651288</td>\n",
       "      <td>6.257699</td>\n",
       "      <td>01:14</td>\n",
       "    </tr>\n",
       "    <tr>\n",
       "      <td>39</td>\n",
       "      <td>5.650623</td>\n",
       "      <td>6.128038</td>\n",
       "      <td>01:16</td>\n",
       "    </tr>\n",
       "    <tr>\n",
       "      <td>40</td>\n",
       "      <td>5.477005</td>\n",
       "      <td>5.950501</td>\n",
       "      <td>01:15</td>\n",
       "    </tr>\n",
       "    <tr>\n",
       "      <td>41</td>\n",
       "      <td>5.414887</td>\n",
       "      <td>6.153935</td>\n",
       "      <td>01:15</td>\n",
       "    </tr>\n",
       "    <tr>\n",
       "      <td>42</td>\n",
       "      <td>5.411601</td>\n",
       "      <td>5.827052</td>\n",
       "      <td>01:17</td>\n",
       "    </tr>\n",
       "    <tr>\n",
       "      <td>43</td>\n",
       "      <td>5.344693</td>\n",
       "      <td>5.960440</td>\n",
       "      <td>01:16</td>\n",
       "    </tr>\n",
       "    <tr>\n",
       "      <td>44</td>\n",
       "      <td>5.179066</td>\n",
       "      <td>5.935204</td>\n",
       "      <td>01:18</td>\n",
       "    </tr>\n",
       "    <tr>\n",
       "      <td>45</td>\n",
       "      <td>5.201571</td>\n",
       "      <td>5.920873</td>\n",
       "      <td>01:18</td>\n",
       "    </tr>\n",
       "    <tr>\n",
       "      <td>46</td>\n",
       "      <td>5.092681</td>\n",
       "      <td>5.928487</td>\n",
       "      <td>01:17</td>\n",
       "    </tr>\n",
       "    <tr>\n",
       "      <td>47</td>\n",
       "      <td>5.373846</td>\n",
       "      <td>5.960381</td>\n",
       "      <td>01:19</td>\n",
       "    </tr>\n",
       "    <tr>\n",
       "      <td>48</td>\n",
       "      <td>5.138509</td>\n",
       "      <td>5.935718</td>\n",
       "      <td>01:18</td>\n",
       "    </tr>\n",
       "    <tr>\n",
       "      <td>49</td>\n",
       "      <td>5.319074</td>\n",
       "      <td>5.900582</td>\n",
       "      <td>01:16</td>\n",
       "    </tr>\n",
       "  </tbody>\n",
       "</table>"
      ],
      "text/plain": [
       "<IPython.core.display.HTML object>"
      ]
     },
     "metadata": {
      "tags": []
     },
     "output_type": "display_data"
    },
    {
     "data": {
      "image/png": "[encoded data removed]",
      "text/plain": [
       "<Figure size 432x288 with 1 Axes>"
      ]
     },
     "metadata": {
      "tags": []
     },
     "output_type": "display_data"
    }
   ],
   "source": [
    "learn.fit_one_cycle(cyc_len=50, max_lr=lr)"
   ]
  },
  {
   "cell_type": "code",
   "execution_count": 0,
   "metadata": {
    "colab": {},
    "colab_type": "code",
    "collapsed": true,
    "id": "9IlA01lWEZRn"
   },
   "outputs": [],
   "source": [
    "learn.save('bidir-1')"
   ]
  },
  {
   "cell_type": "code",
   "execution_count": 0,
   "metadata": {
    "colab": {
     "base_uri": "https://localhost:8080/",
     "height": 1870
    },
    "colab_type": "code",
    "executionInfo": {
     "elapsed": 7024104,
     "status": "ok",
     "timestamp": 1556220437611,
     "user": {
      "displayName": "Y T",
      "photoUrl": "https://lh5.googleusercontent.com/-cKJn6SIVybk/AAAAAAAAAAI/AAAAAAAAAC8/LkrUz0GW-ck/s64/photo.jpg",
      "userId": "15655710450810905216"
     },
     "user_tz": 300
    },
    "id": "UZ3XobpZi9_j",
    "outputId": "abc067ed-d372-40a3-860d-16a647347e36"
   },
   "outputs": [
    {
     "data": {
      "text/html": [
       "<table border=\"1\" class=\"dataframe\">\n",
       "  <thead>\n",
       "    <tr style=\"text-align: left;\">\n",
       "      <th>epoch</th>\n",
       "      <th>train_loss</th>\n",
       "      <th>valid_loss</th>\n",
       "      <th>time</th>\n",
       "    </tr>\n",
       "  </thead>\n",
       "  <tbody>\n",
       "    <tr>\n",
       "      <td>0</td>\n",
       "      <td>5.343189</td>\n",
       "      <td>5.932213</td>\n",
       "      <td>01:16</td>\n",
       "    </tr>\n",
       "    <tr>\n",
       "      <td>1</td>\n",
       "      <td>5.139027</td>\n",
       "      <td>5.886058</td>\n",
       "      <td>01:16</td>\n",
       "    </tr>\n",
       "    <tr>\n",
       "      <td>2</td>\n",
       "      <td>5.147011</td>\n",
       "      <td>5.879438</td>\n",
       "      <td>01:16</td>\n",
       "    </tr>\n",
       "    <tr>\n",
       "      <td>3</td>\n",
       "      <td>5.207165</td>\n",
       "      <td>5.939956</td>\n",
       "      <td>01:16</td>\n",
       "    </tr>\n",
       "    <tr>\n",
       "      <td>4</td>\n",
       "      <td>5.468967</td>\n",
       "      <td>6.165179</td>\n",
       "      <td>01:16</td>\n",
       "    </tr>\n",
       "    <tr>\n",
       "      <td>5</td>\n",
       "      <td>5.343695</td>\n",
       "      <td>6.426039</td>\n",
       "      <td>01:18</td>\n",
       "    </tr>\n",
       "    <tr>\n",
       "      <td>6</td>\n",
       "      <td>5.102518</td>\n",
       "      <td>5.645752</td>\n",
       "      <td>01:17</td>\n",
       "    </tr>\n",
       "    <tr>\n",
       "      <td>7</td>\n",
       "      <td>5.524774</td>\n",
       "      <td>5.924502</td>\n",
       "      <td>01:16</td>\n",
       "    </tr>\n",
       "    <tr>\n",
       "      <td>8</td>\n",
       "      <td>5.514299</td>\n",
       "      <td>6.781503</td>\n",
       "      <td>01:17</td>\n",
       "    </tr>\n",
       "    <tr>\n",
       "      <td>9</td>\n",
       "      <td>5.460674</td>\n",
       "      <td>5.841944</td>\n",
       "      <td>01:18</td>\n",
       "    </tr>\n",
       "    <tr>\n",
       "      <td>10</td>\n",
       "      <td>5.547647</td>\n",
       "      <td>6.374464</td>\n",
       "      <td>01:15</td>\n",
       "    </tr>\n",
       "    <tr>\n",
       "      <td>11</td>\n",
       "      <td>5.250709</td>\n",
       "      <td>5.488924</td>\n",
       "      <td>01:19</td>\n",
       "    </tr>\n",
       "    <tr>\n",
       "      <td>12</td>\n",
       "      <td>5.626074</td>\n",
       "      <td>7.173110</td>\n",
       "      <td>01:17</td>\n",
       "    </tr>\n",
       "    <tr>\n",
       "      <td>13</td>\n",
       "      <td>4.934644</td>\n",
       "      <td>5.906043</td>\n",
       "      <td>01:17</td>\n",
       "    </tr>\n",
       "    <tr>\n",
       "      <td>14</td>\n",
       "      <td>4.869025</td>\n",
       "      <td>5.312855</td>\n",
       "      <td>01:19</td>\n",
       "    </tr>\n",
       "    <tr>\n",
       "      <td>15</td>\n",
       "      <td>5.197387</td>\n",
       "      <td>5.951733</td>\n",
       "      <td>01:17</td>\n",
       "    </tr>\n",
       "    <tr>\n",
       "      <td>16</td>\n",
       "      <td>4.748542</td>\n",
       "      <td>5.953399</td>\n",
       "      <td>01:22</td>\n",
       "    </tr>\n",
       "    <tr>\n",
       "      <td>17</td>\n",
       "      <td>4.540399</td>\n",
       "      <td>5.604927</td>\n",
       "      <td>01:19</td>\n",
       "    </tr>\n",
       "    <tr>\n",
       "      <td>18</td>\n",
       "      <td>4.558230</td>\n",
       "      <td>6.073720</td>\n",
       "      <td>01:20</td>\n",
       "    </tr>\n",
       "    <tr>\n",
       "      <td>19</td>\n",
       "      <td>4.460780</td>\n",
       "      <td>5.944238</td>\n",
       "      <td>01:21</td>\n",
       "    </tr>\n",
       "    <tr>\n",
       "      <td>20</td>\n",
       "      <td>4.354185</td>\n",
       "      <td>6.631693</td>\n",
       "      <td>01:21</td>\n",
       "    </tr>\n",
       "    <tr>\n",
       "      <td>21</td>\n",
       "      <td>4.258793</td>\n",
       "      <td>5.735382</td>\n",
       "      <td>01:21</td>\n",
       "    </tr>\n",
       "    <tr>\n",
       "      <td>22</td>\n",
       "      <td>4.399272</td>\n",
       "      <td>5.947670</td>\n",
       "      <td>01:22</td>\n",
       "    </tr>\n",
       "    <tr>\n",
       "      <td>23</td>\n",
       "      <td>4.068007</td>\n",
       "      <td>6.037896</td>\n",
       "      <td>01:22</td>\n",
       "    </tr>\n",
       "    <tr>\n",
       "      <td>24</td>\n",
       "      <td>4.265749</td>\n",
       "      <td>5.629620</td>\n",
       "      <td>01:23</td>\n",
       "    </tr>\n",
       "    <tr>\n",
       "      <td>25</td>\n",
       "      <td>3.828656</td>\n",
       "      <td>5.713537</td>\n",
       "      <td>01:25</td>\n",
       "    </tr>\n",
       "    <tr>\n",
       "      <td>26</td>\n",
       "      <td>3.809224</td>\n",
       "      <td>6.107697</td>\n",
       "      <td>01:24</td>\n",
       "    </tr>\n",
       "    <tr>\n",
       "      <td>27</td>\n",
       "      <td>3.808110</td>\n",
       "      <td>5.473595</td>\n",
       "      <td>01:24</td>\n",
       "    </tr>\n",
       "    <tr>\n",
       "      <td>28</td>\n",
       "      <td>3.683075</td>\n",
       "      <td>5.705704</td>\n",
       "      <td>01:26</td>\n",
       "    </tr>\n",
       "    <tr>\n",
       "      <td>29</td>\n",
       "      <td>3.681457</td>\n",
       "      <td>5.325737</td>\n",
       "      <td>01:25</td>\n",
       "    </tr>\n",
       "    <tr>\n",
       "      <td>30</td>\n",
       "      <td>3.590537</td>\n",
       "      <td>5.806231</td>\n",
       "      <td>01:26</td>\n",
       "    </tr>\n",
       "    <tr>\n",
       "      <td>31</td>\n",
       "      <td>3.532169</td>\n",
       "      <td>5.865647</td>\n",
       "      <td>01:27</td>\n",
       "    </tr>\n",
       "    <tr>\n",
       "      <td>32</td>\n",
       "      <td>3.392548</td>\n",
       "      <td>5.696517</td>\n",
       "      <td>01:26</td>\n",
       "    </tr>\n",
       "    <tr>\n",
       "      <td>33</td>\n",
       "      <td>3.490670</td>\n",
       "      <td>6.005235</td>\n",
       "      <td>01:26</td>\n",
       "    </tr>\n",
       "    <tr>\n",
       "      <td>34</td>\n",
       "      <td>3.319819</td>\n",
       "      <td>5.839192</td>\n",
       "      <td>01:27</td>\n",
       "    </tr>\n",
       "    <tr>\n",
       "      <td>35</td>\n",
       "      <td>3.311614</td>\n",
       "      <td>5.870067</td>\n",
       "      <td>01:27</td>\n",
       "    </tr>\n",
       "    <tr>\n",
       "      <td>36</td>\n",
       "      <td>3.172066</td>\n",
       "      <td>5.684753</td>\n",
       "      <td>01:29</td>\n",
       "    </tr>\n",
       "    <tr>\n",
       "      <td>37</td>\n",
       "      <td>3.197886</td>\n",
       "      <td>5.750278</td>\n",
       "      <td>01:29</td>\n",
       "    </tr>\n",
       "    <tr>\n",
       "      <td>38</td>\n",
       "      <td>2.905318</td>\n",
       "      <td>5.618849</td>\n",
       "      <td>01:28</td>\n",
       "    </tr>\n",
       "    <tr>\n",
       "      <td>39</td>\n",
       "      <td>3.115315</td>\n",
       "      <td>5.760294</td>\n",
       "      <td>01:29</td>\n",
       "    </tr>\n",
       "    <tr>\n",
       "      <td>40</td>\n",
       "      <td>3.013115</td>\n",
       "      <td>5.720309</td>\n",
       "      <td>01:30</td>\n",
       "    </tr>\n",
       "    <tr>\n",
       "      <td>41</td>\n",
       "      <td>2.941320</td>\n",
       "      <td>5.812942</td>\n",
       "      <td>01:29</td>\n",
       "    </tr>\n",
       "    <tr>\n",
       "      <td>42</td>\n",
       "      <td>2.847741</td>\n",
       "      <td>5.754844</td>\n",
       "      <td>01:30</td>\n",
       "    </tr>\n",
       "    <tr>\n",
       "      <td>43</td>\n",
       "      <td>2.919883</td>\n",
       "      <td>5.810061</td>\n",
       "      <td>01:28</td>\n",
       "    </tr>\n",
       "    <tr>\n",
       "      <td>44</td>\n",
       "      <td>2.843865</td>\n",
       "      <td>5.836441</td>\n",
       "      <td>01:30</td>\n",
       "    </tr>\n",
       "    <tr>\n",
       "      <td>45</td>\n",
       "      <td>2.865077</td>\n",
       "      <td>5.797080</td>\n",
       "      <td>01:29</td>\n",
       "    </tr>\n",
       "    <tr>\n",
       "      <td>46</td>\n",
       "      <td>2.799633</td>\n",
       "      <td>5.784639</td>\n",
       "      <td>01:30</td>\n",
       "    </tr>\n",
       "    <tr>\n",
       "      <td>47</td>\n",
       "      <td>2.883241</td>\n",
       "      <td>5.795240</td>\n",
       "      <td>01:30</td>\n",
       "    </tr>\n",
       "    <tr>\n",
       "      <td>48</td>\n",
       "      <td>2.908085</td>\n",
       "      <td>5.777126</td>\n",
       "      <td>01:29</td>\n",
       "    </tr>\n",
       "    <tr>\n",
       "      <td>49</td>\n",
       "      <td>2.925342</td>\n",
       "      <td>5.777570</td>\n",
       "      <td>01:30</td>\n",
       "    </tr>\n",
       "  </tbody>\n",
       "</table>"
      ],
      "text/plain": [
       "<IPython.core.display.HTML object>"
      ]
     },
     "metadata": {
      "tags": []
     },
     "output_type": "display_data"
    },
    {
     "data": {
      "image/png": "[encoded data removed]",
      "text/plain": [
       "<Figure size 432x288 with 1 Axes>"
      ]
     },
     "metadata": {
      "tags": []
     },
     "output_type": "display_data"
    }
   ],
   "source": [
    "learn.fit_one_cycle(cyc_len=50, max_lr=lr)"
   ]
  },
  {
   "cell_type": "code",
   "execution_count": 0,
   "metadata": {
    "colab": {},
    "colab_type": "code",
    "collapsed": true,
    "id": "vkHlyzaJjCP-"
   },
   "outputs": [],
   "source": [
    "learn.save('bidir-2')"
   ]
  },
  {
   "cell_type": "code",
   "execution_count": 0,
   "metadata": {
    "colab": {
     "base_uri": "https://localhost:8080/",
     "height": 1764
    },
    "colab_type": "code",
    "executionInfo": {
     "elapsed": 3805557,
     "status": "error",
     "timestamp": 1556222467514,
     "user": {
      "displayName": "Y T",
      "photoUrl": "https://lh5.googleusercontent.com/-cKJn6SIVybk/AAAAAAAAAAI/AAAAAAAAAC8/LkrUz0GW-ck/s64/photo.jpg",
      "userId": "15655710450810905216"
     },
     "user_tz": 300
    },
    "id": "zNuv8hFpzhws",
    "outputId": "7ff25099-c029-4d19-e9ac-30efdf44a25c"
   },
   "outputs": [
    {
     "data": {
      "text/html": [
       "\n",
       "    <div>\n",
       "        <style>\n",
       "            /* Turns off some styling */\n",
       "            progress {\n",
       "                /* gets rid of default border in Firefox and Opera. */\n",
       "                border: none;\n",
       "                /* Needs to be in here for Safari polyfill so background images work as expected. */\n",
       "                background-size: auto;\n",
       "            }\n",
       "            .progress-bar-interrupted, .progress-bar-interrupted::-webkit-progress-bar {\n",
       "                background: #F44336;\n",
       "            }\n",
       "        </style>\n",
       "      <progress value='22' class='' max='50', style='width:300px; height:20px; vertical-align: middle;'></progress>\n",
       "      44.00% [22/50 32:33<41:25]\n",
       "    </div>\n",
       "    \n",
       "<table border=\"1\" class=\"dataframe\">\n",
       "  <thead>\n",
       "    <tr style=\"text-align: left;\">\n",
       "      <th>epoch</th>\n",
       "      <th>train_loss</th>\n",
       "      <th>valid_loss</th>\n",
       "      <th>time</th>\n",
       "    </tr>\n",
       "  </thead>\n",
       "  <tbody>\n",
       "    <tr>\n",
       "      <td>0</td>\n",
       "      <td>3.068279</td>\n",
       "      <td>5.880157</td>\n",
       "      <td>01:28</td>\n",
       "    </tr>\n",
       "    <tr>\n",
       "      <td>1</td>\n",
       "      <td>2.674492</td>\n",
       "      <td>5.779438</td>\n",
       "      <td>01:29</td>\n",
       "    </tr>\n",
       "    <tr>\n",
       "      <td>2</td>\n",
       "      <td>3.006237</td>\n",
       "      <td>5.796078</td>\n",
       "      <td>01:29</td>\n",
       "    </tr>\n",
       "    <tr>\n",
       "      <td>3</td>\n",
       "      <td>2.900012</td>\n",
       "      <td>5.740192</td>\n",
       "      <td>01:29</td>\n",
       "    </tr>\n",
       "    <tr>\n",
       "      <td>4</td>\n",
       "      <td>2.884200</td>\n",
       "      <td>5.927579</td>\n",
       "      <td>01:28</td>\n",
       "    </tr>\n",
       "    <tr>\n",
       "      <td>5</td>\n",
       "      <td>2.913537</td>\n",
       "      <td>5.821389</td>\n",
       "      <td>01:30</td>\n",
       "    </tr>\n",
       "    <tr>\n",
       "      <td>6</td>\n",
       "      <td>3.000583</td>\n",
       "      <td>5.853787</td>\n",
       "      <td>01:28</td>\n",
       "    </tr>\n",
       "    <tr>\n",
       "      <td>7</td>\n",
       "      <td>2.969688</td>\n",
       "      <td>5.870916</td>\n",
       "      <td>01:29</td>\n",
       "    </tr>\n",
       "    <tr>\n",
       "      <td>8</td>\n",
       "      <td>3.145876</td>\n",
       "      <td>5.763643</td>\n",
       "      <td>01:27</td>\n",
       "    </tr>\n",
       "    <tr>\n",
       "      <td>9</td>\n",
       "      <td>3.022150</td>\n",
       "      <td>5.730629</td>\n",
       "      <td>01:27</td>\n",
       "    </tr>\n",
       "    <tr>\n",
       "      <td>10</td>\n",
       "      <td>3.109777</td>\n",
       "      <td>5.344421</td>\n",
       "      <td>01:28</td>\n",
       "    </tr>\n",
       "    <tr>\n",
       "      <td>11</td>\n",
       "      <td>3.224457</td>\n",
       "      <td>5.965822</td>\n",
       "      <td>01:28</td>\n",
       "    </tr>\n",
       "    <tr>\n",
       "      <td>12</td>\n",
       "      <td>3.326072</td>\n",
       "      <td>5.715411</td>\n",
       "      <td>01:26</td>\n",
       "    </tr>\n",
       "    <tr>\n",
       "      <td>13</td>\n",
       "      <td>3.259488</td>\n",
       "      <td>6.200815</td>\n",
       "      <td>01:30</td>\n",
       "    </tr>\n",
       "    <tr>\n",
       "      <td>14</td>\n",
       "      <td>3.072575</td>\n",
       "      <td>5.821972</td>\n",
       "      <td>01:28</td>\n",
       "    </tr>\n",
       "    <tr>\n",
       "      <td>15</td>\n",
       "      <td>3.218522</td>\n",
       "      <td>5.769017</td>\n",
       "      <td>01:28</td>\n",
       "    </tr>\n",
       "    <tr>\n",
       "      <td>16</td>\n",
       "      <td>3.285326</td>\n",
       "      <td>5.528377</td>\n",
       "      <td>01:28</td>\n",
       "    </tr>\n",
       "    <tr>\n",
       "      <td>17</td>\n",
       "      <td>2.963966</td>\n",
       "      <td>5.607464</td>\n",
       "      <td>01:28</td>\n",
       "    </tr>\n",
       "    <tr>\n",
       "      <td>18</td>\n",
       "      <td>2.913260</td>\n",
       "      <td>5.730002</td>\n",
       "      <td>01:27</td>\n",
       "    </tr>\n",
       "    <tr>\n",
       "      <td>19</td>\n",
       "      <td>3.037767</td>\n",
       "      <td>5.609959</td>\n",
       "      <td>01:28</td>\n",
       "    </tr>\n",
       "    <tr>\n",
       "      <td>20</td>\n",
       "      <td>3.102908</td>\n",
       "      <td>6.072665</td>\n",
       "      <td>01:27</td>\n",
       "    </tr>\n",
       "    <tr>\n",
       "      <td>21</td>\n",
       "      <td>2.902357</td>\n",
       "      <td>5.892441</td>\n",
       "      <td>01:28</td>\n",
       "    </tr>\n",
       "  </tbody>\n",
       "</table><p>\n",
       "\n",
       "    <div>\n",
       "        <style>\n",
       "            /* Turns off some styling */\n",
       "            progress {\n",
       "                /* gets rid of default border in Firefox and Opera. */\n",
       "                border: none;\n",
       "                /* Needs to be in here for Safari polyfill so background images work as expected. */\n",
       "                background-size: auto;\n",
       "            }\n",
       "            .progress-bar-interrupted, .progress-bar-interrupted::-webkit-progress-bar {\n",
       "                background: #F44336;\n",
       "            }\n",
       "        </style>\n",
       "      <progress value='0' class='progress-bar-interrupted' max='413', style='width:300px; height:20px; vertical-align: middle;'></progress>\n",
       "      Interrupted\n",
       "    </div>\n",
       "    "
      ],
      "text/plain": [
       "<IPython.core.display.HTML object>"
      ]
     },
     "metadata": {
      "tags": []
     },
     "output_type": "display_data"
    },
    {
     "data": {
      "image/png": "[encoded data removed]",
      "text/plain": [
       "<Figure size 432x288 with 1 Axes>"
      ]
     },
     "metadata": {
      "tags": []
     },
     "output_type": "display_data"
    },
    {
     "ename": "KeyboardInterrupt",
     "evalue": "ignored",
     "output_type": "error",
     "traceback": [
      "\u001b[0;31m---------------------------------------------------------------------------\u001b[0m",
      "\u001b[0;31mKeyboardInterrupt\u001b[0m                         Traceback (most recent call last)",
      "\u001b[0;32m<ipython-input-99-5e473e73b324>\u001b[0m in \u001b[0;36m<module>\u001b[0;34m()\u001b[0m\n\u001b[0;32m----> 1\u001b[0;31m \u001b[0mlearn\u001b[0m\u001b[0;34m.\u001b[0m\u001b[0mfit_one_cycle\u001b[0m\u001b[0;34m(\u001b[0m\u001b[0mcyc_len\u001b[0m\u001b[0;34m=\u001b[0m\u001b[0;36m50\u001b[0m\u001b[0;34m,\u001b[0m \u001b[0mmax_lr\u001b[0m\u001b[0;34m=\u001b[0m\u001b[0mlr\u001b[0m\u001b[0;34m)\u001b[0m\u001b[0;34m\u001b[0m\u001b[0;34m\u001b[0m\u001b[0m\n\u001b[0m",
      "\u001b[0;32m/usr/local/lib/python3.6/dist-packages/fastai/train.py\u001b[0m in \u001b[0;36mfit_one_cycle\u001b[0;34m(learn, cyc_len, max_lr, moms, div_factor, pct_start, final_div, wd, callbacks, tot_epochs, start_epoch)\u001b[0m\n\u001b[1;32m     20\u001b[0m     callbacks.append(OneCycleScheduler(learn, max_lr, moms=moms, div_factor=div_factor, pct_start=pct_start,\n\u001b[1;32m     21\u001b[0m                                        final_div=final_div, tot_epochs=tot_epochs, start_epoch=start_epoch))\n\u001b[0;32m---> 22\u001b[0;31m     \u001b[0mlearn\u001b[0m\u001b[0;34m.\u001b[0m\u001b[0mfit\u001b[0m\u001b[0;34m(\u001b[0m\u001b[0mcyc_len\u001b[0m\u001b[0;34m,\u001b[0m \u001b[0mmax_lr\u001b[0m\u001b[0;34m,\u001b[0m \u001b[0mwd\u001b[0m\u001b[0;34m=\u001b[0m\u001b[0mwd\u001b[0m\u001b[0;34m,\u001b[0m \u001b[0mcallbacks\u001b[0m\u001b[0;34m=\u001b[0m\u001b[0mcallbacks\u001b[0m\u001b[0;34m)\u001b[0m\u001b[0;34m\u001b[0m\u001b[0;34m\u001b[0m\u001b[0m\n\u001b[0m\u001b[1;32m     23\u001b[0m \u001b[0;34m\u001b[0m\u001b[0m\n\u001b[1;32m     24\u001b[0m \u001b[0;32mdef\u001b[0m \u001b[0mlr_find\u001b[0m\u001b[0;34m(\u001b[0m\u001b[0mlearn\u001b[0m\u001b[0;34m:\u001b[0m\u001b[0mLearner\u001b[0m\u001b[0;34m,\u001b[0m \u001b[0mstart_lr\u001b[0m\u001b[0;34m:\u001b[0m\u001b[0mFloats\u001b[0m\u001b[0;34m=\u001b[0m\u001b[0;36m1e-7\u001b[0m\u001b[0;34m,\u001b[0m \u001b[0mend_lr\u001b[0m\u001b[0;34m:\u001b[0m\u001b[0mFloats\u001b[0m\u001b[0;34m=\u001b[0m\u001b[0;36m10\u001b[0m\u001b[0;34m,\u001b[0m \u001b[0mnum_it\u001b[0m\u001b[0;34m:\u001b[0m\u001b[0mint\u001b[0m\u001b[0;34m=\u001b[0m\u001b[0;36m100\u001b[0m\u001b[0;34m,\u001b[0m \u001b[0mstop_div\u001b[0m\u001b[0;34m:\u001b[0m\u001b[0mbool\u001b[0m\u001b[0;34m=\u001b[0m\u001b[0;32mTrue\u001b[0m\u001b[0;34m,\u001b[0m \u001b[0mwd\u001b[0m\u001b[0;34m:\u001b[0m\u001b[0mfloat\u001b[0m\u001b[0;34m=\u001b[0m\u001b[0;32mNone\u001b[0m\u001b[0;34m)\u001b[0m\u001b[0;34m:\u001b[0m\u001b[0;34m\u001b[0m\u001b[0;34m\u001b[0m\u001b[0m\n",
      "\u001b[0;32m/usr/local/lib/python3.6/dist-packages/fastai/basic_train.py\u001b[0m in \u001b[0;36mfit\u001b[0;34m(self, epochs, lr, wd, callbacks)\u001b[0m\n\u001b[1;32m    194\u001b[0m         \u001b[0mcallbacks\u001b[0m \u001b[0;34m=\u001b[0m \u001b[0;34m[\u001b[0m\u001b[0mcb\u001b[0m\u001b[0;34m(\u001b[0m\u001b[0mself\u001b[0m\u001b[0;34m)\u001b[0m \u001b[0;32mfor\u001b[0m \u001b[0mcb\u001b[0m \u001b[0;32min\u001b[0m \u001b[0mself\u001b[0m\u001b[0;34m.\u001b[0m\u001b[0mcallback_fns\u001b[0m\u001b[0;34m]\u001b[0m \u001b[0;34m+\u001b[0m \u001b[0mlistify\u001b[0m\u001b[0;34m(\u001b[0m\u001b[0mcallbacks\u001b[0m\u001b[0;34m)\u001b[0m\u001b[0;34m\u001b[0m\u001b[0;34m\u001b[0m\u001b[0m\n\u001b[1;32m    195\u001b[0m         \u001b[0;32mif\u001b[0m \u001b[0mdefaults\u001b[0m\u001b[0;34m.\u001b[0m\u001b[0mextra_callbacks\u001b[0m \u001b[0;32mis\u001b[0m \u001b[0;32mnot\u001b[0m \u001b[0;32mNone\u001b[0m\u001b[0;34m:\u001b[0m \u001b[0mcallbacks\u001b[0m \u001b[0;34m+=\u001b[0m \u001b[0mdefaults\u001b[0m\u001b[0;34m.\u001b[0m\u001b[0mextra_callbacks\u001b[0m\u001b[0;34m\u001b[0m\u001b[0;34m\u001b[0m\u001b[0m\n\u001b[0;32m--> 196\u001b[0;31m         \u001b[0mfit\u001b[0m\u001b[0;34m(\u001b[0m\u001b[0mepochs\u001b[0m\u001b[0;34m,\u001b[0m \u001b[0mself\u001b[0m\u001b[0;34m,\u001b[0m \u001b[0mmetrics\u001b[0m\u001b[0;34m=\u001b[0m\u001b[0mself\u001b[0m\u001b[0;34m.\u001b[0m\u001b[0mmetrics\u001b[0m\u001b[0;34m,\u001b[0m \u001b[0mcallbacks\u001b[0m\u001b[0;34m=\u001b[0m\u001b[0mself\u001b[0m\u001b[0;34m.\u001b[0m\u001b[0mcallbacks\u001b[0m\u001b[0;34m+\u001b[0m\u001b[0mcallbacks\u001b[0m\u001b[0;34m)\u001b[0m\u001b[0;34m\u001b[0m\u001b[0;34m\u001b[0m\u001b[0m\n\u001b[0m\u001b[1;32m    197\u001b[0m \u001b[0;34m\u001b[0m\u001b[0m\n\u001b[1;32m    198\u001b[0m     \u001b[0;32mdef\u001b[0m \u001b[0mcreate_opt\u001b[0m\u001b[0;34m(\u001b[0m\u001b[0mself\u001b[0m\u001b[0;34m,\u001b[0m \u001b[0mlr\u001b[0m\u001b[0;34m:\u001b[0m\u001b[0mFloats\u001b[0m\u001b[0;34m,\u001b[0m \u001b[0mwd\u001b[0m\u001b[0;34m:\u001b[0m\u001b[0mFloats\u001b[0m\u001b[0;34m=\u001b[0m\u001b[0;36m0.\u001b[0m\u001b[0;34m)\u001b[0m\u001b[0;34m->\u001b[0m\u001b[0;32mNone\u001b[0m\u001b[0;34m:\u001b[0m\u001b[0;34m\u001b[0m\u001b[0;34m\u001b[0m\u001b[0m\n",
      "\u001b[0;32m/usr/local/lib/python3.6/dist-packages/fastai/basic_train.py\u001b[0m in \u001b[0;36mfit\u001b[0;34m(epochs, learn, callbacks, metrics)\u001b[0m\n\u001b[1;32m     98\u001b[0m             \u001b[0;32mfor\u001b[0m \u001b[0mxb\u001b[0m\u001b[0;34m,\u001b[0m\u001b[0myb\u001b[0m \u001b[0;32min\u001b[0m \u001b[0mprogress_bar\u001b[0m\u001b[0;34m(\u001b[0m\u001b[0mlearn\u001b[0m\u001b[0;34m.\u001b[0m\u001b[0mdata\u001b[0m\u001b[0;34m.\u001b[0m\u001b[0mtrain_dl\u001b[0m\u001b[0;34m,\u001b[0m \u001b[0mparent\u001b[0m\u001b[0;34m=\u001b[0m\u001b[0mpbar\u001b[0m\u001b[0;34m)\u001b[0m\u001b[0;34m:\u001b[0m\u001b[0;34m\u001b[0m\u001b[0;34m\u001b[0m\u001b[0m\n\u001b[1;32m     99\u001b[0m                 \u001b[0mxb\u001b[0m\u001b[0;34m,\u001b[0m \u001b[0myb\u001b[0m \u001b[0;34m=\u001b[0m \u001b[0mcb_handler\u001b[0m\u001b[0;34m.\u001b[0m\u001b[0mon_batch_begin\u001b[0m\u001b[0;34m(\u001b[0m\u001b[0mxb\u001b[0m\u001b[0;34m,\u001b[0m \u001b[0myb\u001b[0m\u001b[0;34m)\u001b[0m\u001b[0;34m\u001b[0m\u001b[0;34m\u001b[0m\u001b[0m\n\u001b[0;32m--> 100\u001b[0;31m                 \u001b[0mloss\u001b[0m \u001b[0;34m=\u001b[0m \u001b[0mloss_batch\u001b[0m\u001b[0;34m(\u001b[0m\u001b[0mlearn\u001b[0m\u001b[0;34m.\u001b[0m\u001b[0mmodel\u001b[0m\u001b[0;34m,\u001b[0m \u001b[0mxb\u001b[0m\u001b[0;34m,\u001b[0m \u001b[0myb\u001b[0m\u001b[0;34m,\u001b[0m \u001b[0mlearn\u001b[0m\u001b[0;34m.\u001b[0m\u001b[0mloss_func\u001b[0m\u001b[0;34m,\u001b[0m \u001b[0mlearn\u001b[0m\u001b[0;34m.\u001b[0m\u001b[0mopt\u001b[0m\u001b[0;34m,\u001b[0m \u001b[0mcb_handler\u001b[0m\u001b[0;34m)\u001b[0m\u001b[0;34m\u001b[0m\u001b[0;34m\u001b[0m\u001b[0m\n\u001b[0m\u001b[1;32m    101\u001b[0m                 \u001b[0;32mif\u001b[0m \u001b[0mcb_handler\u001b[0m\u001b[0;34m.\u001b[0m\u001b[0mon_batch_end\u001b[0m\u001b[0;34m(\u001b[0m\u001b[0mloss\u001b[0m\u001b[0;34m)\u001b[0m\u001b[0;34m:\u001b[0m \u001b[0;32mbreak\u001b[0m\u001b[0;34m\u001b[0m\u001b[0;34m\u001b[0m\u001b[0m\n\u001b[1;32m    102\u001b[0m \u001b[0;34m\u001b[0m\u001b[0m\n",
      "\u001b[0;32m/usr/local/lib/python3.6/dist-packages/fastai/basic_train.py\u001b[0m in \u001b[0;36mloss_batch\u001b[0;34m(model, xb, yb, loss_func, opt, cb_handler)\u001b[0m\n\u001b[1;32m     31\u001b[0m     \u001b[0;32mif\u001b[0m \u001b[0mopt\u001b[0m \u001b[0;32mis\u001b[0m \u001b[0;32mnot\u001b[0m \u001b[0;32mNone\u001b[0m\u001b[0;34m:\u001b[0m\u001b[0;34m\u001b[0m\u001b[0;34m\u001b[0m\u001b[0m\n\u001b[1;32m     32\u001b[0m         \u001b[0mloss\u001b[0m\u001b[0;34m,\u001b[0m\u001b[0mskip_bwd\u001b[0m \u001b[0;34m=\u001b[0m \u001b[0mcb_handler\u001b[0m\u001b[0;34m.\u001b[0m\u001b[0mon_backward_begin\u001b[0m\u001b[0;34m(\u001b[0m\u001b[0mloss\u001b[0m\u001b[0;34m)\u001b[0m\u001b[0;34m\u001b[0m\u001b[0;34m\u001b[0m\u001b[0m\n\u001b[0;32m---> 33\u001b[0;31m         \u001b[0;32mif\u001b[0m \u001b[0;32mnot\u001b[0m \u001b[0mskip_bwd\u001b[0m\u001b[0;34m:\u001b[0m                     \u001b[0mloss\u001b[0m\u001b[0;34m.\u001b[0m\u001b[0mbackward\u001b[0m\u001b[0;34m(\u001b[0m\u001b[0;34m)\u001b[0m\u001b[0;34m\u001b[0m\u001b[0;34m\u001b[0m\u001b[0m\n\u001b[0m\u001b[1;32m     34\u001b[0m         \u001b[0;32mif\u001b[0m \u001b[0;32mnot\u001b[0m \u001b[0mcb_handler\u001b[0m\u001b[0;34m.\u001b[0m\u001b[0mon_backward_end\u001b[0m\u001b[0;34m(\u001b[0m\u001b[0;34m)\u001b[0m\u001b[0;34m:\u001b[0m \u001b[0mopt\u001b[0m\u001b[0;34m.\u001b[0m\u001b[0mstep\u001b[0m\u001b[0;34m(\u001b[0m\u001b[0;34m)\u001b[0m\u001b[0;34m\u001b[0m\u001b[0;34m\u001b[0m\u001b[0m\n\u001b[1;32m     35\u001b[0m         \u001b[0;32mif\u001b[0m \u001b[0;32mnot\u001b[0m \u001b[0mcb_handler\u001b[0m\u001b[0;34m.\u001b[0m\u001b[0mon_step_end\u001b[0m\u001b[0;34m(\u001b[0m\u001b[0;34m)\u001b[0m\u001b[0;34m:\u001b[0m     \u001b[0mopt\u001b[0m\u001b[0;34m.\u001b[0m\u001b[0mzero_grad\u001b[0m\u001b[0;34m(\u001b[0m\u001b[0;34m)\u001b[0m\u001b[0;34m\u001b[0m\u001b[0;34m\u001b[0m\u001b[0m\n",
      "\u001b[0;32m/usr/local/lib/python3.6/dist-packages/torch/tensor.py\u001b[0m in \u001b[0;36mbackward\u001b[0;34m(self, gradient, retain_graph, create_graph)\u001b[0m\n\u001b[1;32m    100\u001b[0m                 \u001b[0mproducts\u001b[0m\u001b[0;34m.\u001b[0m \u001b[0mDefaults\u001b[0m \u001b[0mto\u001b[0m\u001b[0;31m \u001b[0m\u001b[0;31m`\u001b[0m\u001b[0;31m`\u001b[0m\u001b[0;32mFalse\u001b[0m\u001b[0;31m`\u001b[0m\u001b[0;31m`\u001b[0m\u001b[0;34m.\u001b[0m\u001b[0;34m\u001b[0m\u001b[0;34m\u001b[0m\u001b[0m\n\u001b[1;32m    101\u001b[0m         \"\"\"\n\u001b[0;32m--> 102\u001b[0;31m         \u001b[0mtorch\u001b[0m\u001b[0;34m.\u001b[0m\u001b[0mautograd\u001b[0m\u001b[0;34m.\u001b[0m\u001b[0mbackward\u001b[0m\u001b[0;34m(\u001b[0m\u001b[0mself\u001b[0m\u001b[0;34m,\u001b[0m \u001b[0mgradient\u001b[0m\u001b[0;34m,\u001b[0m \u001b[0mretain_graph\u001b[0m\u001b[0;34m,\u001b[0m \u001b[0mcreate_graph\u001b[0m\u001b[0;34m)\u001b[0m\u001b[0;34m\u001b[0m\u001b[0;34m\u001b[0m\u001b[0m\n\u001b[0m\u001b[1;32m    103\u001b[0m \u001b[0;34m\u001b[0m\u001b[0m\n\u001b[1;32m    104\u001b[0m     \u001b[0;32mdef\u001b[0m \u001b[0mregister_hook\u001b[0m\u001b[0;34m(\u001b[0m\u001b[0mself\u001b[0m\u001b[0;34m,\u001b[0m \u001b[0mhook\u001b[0m\u001b[0;34m)\u001b[0m\u001b[0;34m:\u001b[0m\u001b[0;34m\u001b[0m\u001b[0;34m\u001b[0m\u001b[0m\n",
      "\u001b[0;32m/usr/local/lib/python3.6/dist-packages/torch/autograd/__init__.py\u001b[0m in \u001b[0;36mbackward\u001b[0;34m(tensors, grad_tensors, retain_graph, create_graph, grad_variables)\u001b[0m\n\u001b[1;32m     88\u001b[0m     Variable._execution_engine.run_backward(\n\u001b[1;32m     89\u001b[0m         \u001b[0mtensors\u001b[0m\u001b[0;34m,\u001b[0m \u001b[0mgrad_tensors\u001b[0m\u001b[0;34m,\u001b[0m \u001b[0mretain_graph\u001b[0m\u001b[0;34m,\u001b[0m \u001b[0mcreate_graph\u001b[0m\u001b[0;34m,\u001b[0m\u001b[0;34m\u001b[0m\u001b[0;34m\u001b[0m\u001b[0m\n\u001b[0;32m---> 90\u001b[0;31m         allow_unreachable=True)  # allow_unreachable flag\n\u001b[0m\u001b[1;32m     91\u001b[0m \u001b[0;34m\u001b[0m\u001b[0m\n\u001b[1;32m     92\u001b[0m \u001b[0;34m\u001b[0m\u001b[0m\n",
      "\u001b[0;31mKeyboardInterrupt\u001b[0m: "
     ]
    },
    {
     "name": "stdout",
     "output_type": "stream",
     "text": [
      "> \u001b[0;32m/usr/local/lib/python3.6/dist-packages/torch/autograd/__init__.py\u001b[0m(90)\u001b[0;36mbackward\u001b[0;34m()\u001b[0m\n",
      "\u001b[0;32m     88 \u001b[0;31m    Variable._execution_engine.run_backward(\n",
      "\u001b[0m\u001b[0;32m     89 \u001b[0;31m        \u001b[0mtensors\u001b[0m\u001b[0;34m,\u001b[0m \u001b[0mgrad_tensors\u001b[0m\u001b[0;34m,\u001b[0m \u001b[0mretain_graph\u001b[0m\u001b[0;34m,\u001b[0m \u001b[0mcreate_graph\u001b[0m\u001b[0;34m,\u001b[0m\u001b[0;34m\u001b[0m\u001b[0;34m\u001b[0m\u001b[0m\n",
      "\u001b[0m\u001b[0;32m---> 90 \u001b[0;31m        allow_unreachable=True)  # allow_unreachable flag\n",
      "\u001b[0m\u001b[0;32m     91 \u001b[0;31m\u001b[0;34m\u001b[0m\u001b[0m\n",
      "\u001b[0m\u001b[0;32m     92 \u001b[0;31m\u001b[0;34m\u001b[0m\u001b[0m\n",
      "\u001b[0m\n",
      "ipdb> c\n"
     ]
    },
    {
     "data": {
      "image/png": "[encoded data removed]",
      "text/plain": [
       "<Figure size 432x288 with 1 Axes>"
      ]
     },
     "metadata": {
      "tags": []
     },
     "output_type": "display_data"
    }
   ],
   "source": [
    "learn.fit_one_cycle(cyc_len=50, max_lr=lr)"
   ]
  },
  {
   "cell_type": "code",
   "execution_count": 0,
   "metadata": {
    "colab": {},
    "colab_type": "code",
    "collapsed": true,
    "id": "9JBFkTzfzkCx"
   },
   "outputs": [],
   "source": [
    "learn.save('bidir-3')"
   ]
  },
  {
   "cell_type": "markdown",
   "metadata": {
    "colab_type": "text",
    "id": "OEH1T6WiEZRy"
   },
   "source": [
    "## Teacher forcing"
   ]
  },
  {
   "cell_type": "code",
   "execution_count": 26,
   "metadata": {
    "colab": {},
    "colab_type": "code",
    "collapsed": true,
    "id": "d8RhqPz3vVHW"
   },
   "outputs": [],
   "source": [
    "@dataclass\n",
    "class PrForceUpdaterCallback(Callback):\n",
    "    learn:Learner\n",
    "\n",
    "    def on_epoch_begin(self, **kwargs):\n",
    "#        pdb.set_trace()\n",
    "        epoch = kwargs['epoch']\n",
    "        max_runs_with_pr_force = 10\n",
    "        self.learn.model.pr_force = (max_runs_with_pr_force-epoch)*(1.0/max_runs_with_pr_force) if epoch<max_runs_with_pr_force else 0\n",
    "      \n",
    "    def on_batch_begin(self, **kwargs):  \n",
    "#         pdb.set_trace()\n",
    "        self.learn.model.y_in_batch = kwargs['last_target'].t()"
   ]
  },
  {
   "cell_type": "code",
   "execution_count": 30,
   "metadata": {
    "colab": {},
    "colab_type": "code",
    "collapsed": true,
    "id": "282_XYZkEZR7"
   },
   "outputs": [],
   "source": [
    "class Seq2SeqRNN_TeacherForcing(nn.Module):\n",
    "    def __init__(self, vecs_enc, itos_enc, em_sz_enc, vecs_dec, itos_dec, em_sz_dec, nh, out_sl, nl=2):\n",
    "        super().__init__()\n",
    "        self.emb_enc = create_emb(vecs_enc, itos_enc, em_sz_enc)\n",
    "        self.nl,self.nh,self.out_sl = nl,nh,out_sl\n",
    "        self.gru_enc = nn.GRU(em_sz_enc, nh, num_layers=nl, dropout=0.25)\n",
    "        self.out_enc = nn.Linear(nh, em_sz_dec, bias=False)\n",
    "        self.emb_dec = create_emb(vecs_dec, itos_dec, em_sz_dec)\n",
    "        self.gru_dec = nn.GRU(em_sz_dec, em_sz_dec, num_layers=nl, dropout=0.1)\n",
    "        self.emb_enc_drop = nn.Dropout(0.15)\n",
    "        self.out_drop = nn.Dropout(0.35)\n",
    "        self.out = nn.Linear(em_sz_dec, len(itos_dec))\n",
    "        self.out.weight.data = self.emb_dec.weight.data\n",
    "        self.pr_force = 1.\n",
    "        self.y_in_batch = None\n",
    "        \n",
    "    def forward(self, inp):\n",
    "#         pdb.set_trace()\n",
    "# transpose inp\n",
    "        inp = inp.t()\n",
    "        sl,bs = inp.size()\n",
    "        h = self.initHidden(bs)\n",
    "        emb = self.emb_enc_drop(self.emb_enc(inp))\n",
    "        enc_out, h = self.gru_enc(emb, h)\n",
    "        h = self.out_enc(h)\n",
    "\n",
    "#         dec_inp = V(torch.zeros(bs).long())\n",
    "        dec_inp = to_device(torch.zeros(bs).long(), 'cuda:0')\n",
    "        res = []\n",
    "        for i in range(self.out_sl):\n",
    "            emb = self.emb_dec(dec_inp).unsqueeze(0)\n",
    "            outp, h = self.gru_dec(emb, h)\n",
    "            outp = self.out(self.out_drop(outp[0]))\n",
    "            res.append(outp)\n",
    "#             dec_inp = V(outp.data.max(1)[1])\n",
    "            dec_inp = outp.data.max(1)[1]\n",
    "            if (dec_inp==1).all(): break\n",
    "            if (self.y_in_batch is not None) and (random.random()<self.pr_force):\n",
    "                if i>=len(self.y_in_batch): break\n",
    "                dec_inp = self.y_in_batch[i]\n",
    "#         return torch.stack(res)\n",
    "        res = torch.stack(res)\n",
    "        res = [res, res, res]\n",
    "        return res\n",
    "    \n",
    "#     def initHidden(self, bs): return V(torch.zeros(self.nl, bs, self.nh))\n",
    "    def initHidden(self, bs): return to_device(torch.zeros(self.nl, bs, self.nh),'cuda:0')\n",
    "  \n",
    "    def reset(self):\n",
    "      pass\n",
    "    "
   ]
  },
  {
   "cell_type": "code",
   "execution_count": 31,
   "metadata": {
    "colab": {
     "base_uri": "https://localhost:8080/",
     "height": 54
    },
    "colab_type": "code",
    "executionInfo": {
     "elapsed": 1474,
     "status": "ok",
     "timestamp": 1556240432528,
     "user": {
      "displayName": "Y T",
      "photoUrl": "https://lh5.googleusercontent.com/-cKJn6SIVybk/AAAAAAAAAAI/AAAAAAAAAC8/LkrUz0GW-ck/s64/photo.jpg",
      "userId": "15655710450810905216"
     },
     "user_tz": 300
    },
    "id": "5QEKAcCbEZR_",
    "outputId": "a661f992-4ab5-46b7-828c-d1a772dd3d99"
   },
   "outputs": [
    {
     "name": "stdout",
     "output_type": "stream",
     "text": [
      "0 []\n",
      "0 []\n"
     ]
    }
   ],
   "source": [
    "# rnn = Seq2SeqRNN_TeacherForcing(fr_vecd, fr_itos, dim_fr_vec, en_vecd, en_itos, dim_en_vec, nh, enlen_90)\n",
    "# learn = RNN_Learner(md, SingleModel(to_gpu(rnn)), opt_fn=opt_fn)\n",
    "# learn.crit = seq2seq_loss\n",
    "\n",
    "rnn = Seq2SeqRNN_TeacherForcing(body_vecd, body_itos, dim_body_vec, title_vecd, title_itos, dim_title_vec, nh, title_len_90,nl)\n",
    "learn=RNNLearner(md, rnn, opt_func=opt_fn,callback_fns=[ShowGraph, PrForceUpdaterCallback])\n",
    "learn.loss_func = seq2seq_loss    "
   ]
  },
  {
   "cell_type": "code",
   "execution_count": 184,
   "metadata": {
    "colab": {
     "base_uri": "https://localhost:8080/",
     "height": 301
    },
    "colab_type": "code",
    "executionInfo": {
     "elapsed": 18329,
     "status": "ok",
     "timestamp": 1556231506494,
     "user": {
      "displayName": "Y T",
      "photoUrl": "https://lh5.googleusercontent.com/-cKJn6SIVybk/AAAAAAAAAAI/AAAAAAAAAC8/LkrUz0GW-ck/s64/photo.jpg",
      "userId": "15655710450810905216"
     },
     "user_tz": 300
    },
    "id": "4dJ4l651xYFE",
    "outputId": "f64af348-1fda-45ad-ccb1-1ae3684aa7cb"
   },
   "outputs": [
    {
     "data": {
      "text/html": [],
      "text/plain": [
       "<IPython.core.display.HTML object>"
      ]
     },
     "metadata": {
      "tags": []
     },
     "output_type": "display_data"
    },
    {
     "name": "stdout",
     "output_type": "stream",
     "text": [
      "LR Finder is complete, type {learner_name}.recorder.plot() to see the graph.\n"
     ]
    },
    {
     "data": {
      "image/png": "[encoded data removed]",
      "text/plain": [
       "<Figure size 432x288 with 1 Axes>"
      ]
     },
     "metadata": {
      "tags": []
     },
     "output_type": "display_data"
    }
   ],
   "source": [
    "learn.lr_find()\n",
    "learn.recorder.plot()"
   ]
  },
  {
   "cell_type": "code",
   "execution_count": 32,
   "metadata": {
    "colab": {},
    "colab_type": "code",
    "collapsed": true,
    "id": "fxD1X8aSxnyM"
   },
   "outputs": [],
   "source": [
    "lr=5e-4"
   ]
  },
  {
   "cell_type": "code",
   "execution_count": 33,
   "metadata": {
    "colab": {
     "base_uri": "https://localhost:8080/",
     "height": 1383
    },
    "colab_type": "code",
    "id": "5_Vnn4PGEZSC",
    "outputId": "edccc9b4-8781-4225-c8ec-4ead1d94e2a3",
    "scrolled": true
   },
   "outputs": [
    {
     "data": {
      "text/html": [
       "Total time: 2:48:36 <p><table border=\"1\" class=\"dataframe\">\n",
       "  <thead>\n",
       "    <tr style=\"text-align: left;\">\n",
       "      <th>epoch</th>\n",
       "      <th>train_loss</th>\n",
       "      <th>valid_loss</th>\n",
       "      <th>time</th>\n",
       "    </tr>\n",
       "  </thead>\n",
       "  <tbody>\n",
       "    <tr>\n",
       "      <td>0</td>\n",
       "      <td>4.900857</td>\n",
       "      <td>4.537313</td>\n",
       "      <td>04:34</td>\n",
       "    </tr>\n",
       "    <tr>\n",
       "      <td>1</td>\n",
       "      <td>5.447841</td>\n",
       "      <td>6.960493</td>\n",
       "      <td>04:16</td>\n",
       "    </tr>\n",
       "    <tr>\n",
       "      <td>2</td>\n",
       "      <td>6.220037</td>\n",
       "      <td>7.140869</td>\n",
       "      <td>03:49</td>\n",
       "    </tr>\n",
       "    <tr>\n",
       "      <td>3</td>\n",
       "      <td>6.705345</td>\n",
       "      <td>7.032690</td>\n",
       "      <td>03:29</td>\n",
       "    </tr>\n",
       "    <tr>\n",
       "      <td>4</td>\n",
       "      <td>7.133180</td>\n",
       "      <td>7.895955</td>\n",
       "      <td>03:20</td>\n",
       "    </tr>\n",
       "    <tr>\n",
       "      <td>5</td>\n",
       "      <td>7.370011</td>\n",
       "      <td>8.008861</td>\n",
       "      <td>03:09</td>\n",
       "    </tr>\n",
       "    <tr>\n",
       "      <td>6</td>\n",
       "      <td>7.790182</td>\n",
       "      <td>7.665424</td>\n",
       "      <td>03:08</td>\n",
       "    </tr>\n",
       "    <tr>\n",
       "      <td>7</td>\n",
       "      <td>8.176488</td>\n",
       "      <td>8.183355</td>\n",
       "      <td>02:57</td>\n",
       "    </tr>\n",
       "    <tr>\n",
       "      <td>8</td>\n",
       "      <td>8.240283</td>\n",
       "      <td>8.235775</td>\n",
       "      <td>02:52</td>\n",
       "    </tr>\n",
       "    <tr>\n",
       "      <td>9</td>\n",
       "      <td>8.624154</td>\n",
       "      <td>8.424122</td>\n",
       "      <td>02:42</td>\n",
       "    </tr>\n",
       "    <tr>\n",
       "      <td>10</td>\n",
       "      <td>8.845841</td>\n",
       "      <td>8.625766</td>\n",
       "      <td>02:36</td>\n",
       "    </tr>\n",
       "    <tr>\n",
       "      <td>11</td>\n",
       "      <td>8.901155</td>\n",
       "      <td>8.652961</td>\n",
       "      <td>02:37</td>\n",
       "    </tr>\n",
       "    <tr>\n",
       "      <td>12</td>\n",
       "      <td>8.796726</td>\n",
       "      <td>8.816598</td>\n",
       "      <td>02:40</td>\n",
       "    </tr>\n",
       "    <tr>\n",
       "      <td>13</td>\n",
       "      <td>8.714116</td>\n",
       "      <td>8.565421</td>\n",
       "      <td>02:43</td>\n",
       "    </tr>\n",
       "    <tr>\n",
       "      <td>14</td>\n",
       "      <td>8.673438</td>\n",
       "      <td>8.687672</td>\n",
       "      <td>02:49</td>\n",
       "    </tr>\n",
       "    <tr>\n",
       "      <td>15</td>\n",
       "      <td>8.457149</td>\n",
       "      <td>8.507005</td>\n",
       "      <td>02:49</td>\n",
       "    </tr>\n",
       "    <tr>\n",
       "      <td>16</td>\n",
       "      <td>8.455610</td>\n",
       "      <td>9.166878</td>\n",
       "      <td>02:51</td>\n",
       "    </tr>\n",
       "    <tr>\n",
       "      <td>17</td>\n",
       "      <td>8.335573</td>\n",
       "      <td>8.292827</td>\n",
       "      <td>02:56</td>\n",
       "    </tr>\n",
       "    <tr>\n",
       "      <td>18</td>\n",
       "      <td>8.106457</td>\n",
       "      <td>8.147046</td>\n",
       "      <td>02:55</td>\n",
       "    </tr>\n",
       "    <tr>\n",
       "      <td>19</td>\n",
       "      <td>7.939887</td>\n",
       "      <td>8.282942</td>\n",
       "      <td>03:02</td>\n",
       "    </tr>\n",
       "    <tr>\n",
       "      <td>20</td>\n",
       "      <td>7.588460</td>\n",
       "      <td>8.073568</td>\n",
       "      <td>03:05</td>\n",
       "    </tr>\n",
       "    <tr>\n",
       "      <td>21</td>\n",
       "      <td>7.655375</td>\n",
       "      <td>7.791800</td>\n",
       "      <td>03:07</td>\n",
       "    </tr>\n",
       "    <tr>\n",
       "      <td>22</td>\n",
       "      <td>7.886455</td>\n",
       "      <td>8.213082</td>\n",
       "      <td>03:08</td>\n",
       "    </tr>\n",
       "    <tr>\n",
       "      <td>23</td>\n",
       "      <td>7.641526</td>\n",
       "      <td>7.660457</td>\n",
       "      <td>03:11</td>\n",
       "    </tr>\n",
       "    <tr>\n",
       "      <td>24</td>\n",
       "      <td>7.402208</td>\n",
       "      <td>7.770578</td>\n",
       "      <td>03:16</td>\n",
       "    </tr>\n",
       "    <tr>\n",
       "      <td>25</td>\n",
       "      <td>7.369606</td>\n",
       "      <td>7.433843</td>\n",
       "      <td>03:13</td>\n",
       "    </tr>\n",
       "    <tr>\n",
       "      <td>26</td>\n",
       "      <td>6.998950</td>\n",
       "      <td>7.295960</td>\n",
       "      <td>03:19</td>\n",
       "    </tr>\n",
       "    <tr>\n",
       "      <td>27</td>\n",
       "      <td>6.837642</td>\n",
       "      <td>7.391253</td>\n",
       "      <td>03:20</td>\n",
       "    </tr>\n",
       "    <tr>\n",
       "      <td>28</td>\n",
       "      <td>6.791673</td>\n",
       "      <td>7.301839</td>\n",
       "      <td>03:22</td>\n",
       "    </tr>\n",
       "    <tr>\n",
       "      <td>29</td>\n",
       "      <td>6.594488</td>\n",
       "      <td>7.245845</td>\n",
       "      <td>03:26</td>\n",
       "    </tr>\n",
       "    <tr>\n",
       "      <td>30</td>\n",
       "      <td>6.888034</td>\n",
       "      <td>6.986194</td>\n",
       "      <td>03:26</td>\n",
       "    </tr>\n",
       "    <tr>\n",
       "      <td>31</td>\n",
       "      <td>6.662884</td>\n",
       "      <td>7.353478</td>\n",
       "      <td>03:28</td>\n",
       "    </tr>\n",
       "    <tr>\n",
       "      <td>32</td>\n",
       "      <td>6.405684</td>\n",
       "      <td>6.969440</td>\n",
       "      <td>03:32</td>\n",
       "    </tr>\n",
       "    <tr>\n",
       "      <td>33</td>\n",
       "      <td>6.234994</td>\n",
       "      <td>6.871792</td>\n",
       "      <td>03:34</td>\n",
       "    </tr>\n",
       "    <tr>\n",
       "      <td>34</td>\n",
       "      <td>6.250275</td>\n",
       "      <td>6.787615</td>\n",
       "      <td>03:36</td>\n",
       "    </tr>\n",
       "    <tr>\n",
       "      <td>35</td>\n",
       "      <td>6.206489</td>\n",
       "      <td>6.980930</td>\n",
       "      <td>03:35</td>\n",
       "    </tr>\n",
       "    <tr>\n",
       "      <td>36</td>\n",
       "      <td>6.136839</td>\n",
       "      <td>7.210321</td>\n",
       "      <td>03:37</td>\n",
       "    </tr>\n",
       "    <tr>\n",
       "      <td>37</td>\n",
       "      <td>6.004516</td>\n",
       "      <td>6.821885</td>\n",
       "      <td>03:39</td>\n",
       "    </tr>\n",
       "    <tr>\n",
       "      <td>38</td>\n",
       "      <td>6.033609</td>\n",
       "      <td>6.836277</td>\n",
       "      <td>03:37</td>\n",
       "    </tr>\n",
       "    <tr>\n",
       "      <td>39</td>\n",
       "      <td>5.830536</td>\n",
       "      <td>6.729989</td>\n",
       "      <td>03:40</td>\n",
       "    </tr>\n",
       "    <tr>\n",
       "      <td>40</td>\n",
       "      <td>5.763138</td>\n",
       "      <td>6.565893</td>\n",
       "      <td>03:44</td>\n",
       "    </tr>\n",
       "    <tr>\n",
       "      <td>41</td>\n",
       "      <td>6.103220</td>\n",
       "      <td>6.823960</td>\n",
       "      <td>03:41</td>\n",
       "    </tr>\n",
       "    <tr>\n",
       "      <td>42</td>\n",
       "      <td>5.598418</td>\n",
       "      <td>6.702106</td>\n",
       "      <td>03:42</td>\n",
       "    </tr>\n",
       "    <tr>\n",
       "      <td>43</td>\n",
       "      <td>5.831379</td>\n",
       "      <td>6.626423</td>\n",
       "      <td>03:44</td>\n",
       "    </tr>\n",
       "    <tr>\n",
       "      <td>44</td>\n",
       "      <td>5.669080</td>\n",
       "      <td>6.666739</td>\n",
       "      <td>03:43</td>\n",
       "    </tr>\n",
       "    <tr>\n",
       "      <td>45</td>\n",
       "      <td>5.792976</td>\n",
       "      <td>6.622605</td>\n",
       "      <td>03:44</td>\n",
       "    </tr>\n",
       "    <tr>\n",
       "      <td>46</td>\n",
       "      <td>5.717294</td>\n",
       "      <td>6.670126</td>\n",
       "      <td>03:44</td>\n",
       "    </tr>\n",
       "    <tr>\n",
       "      <td>47</td>\n",
       "      <td>5.663440</td>\n",
       "      <td>6.631201</td>\n",
       "      <td>03:46</td>\n",
       "    </tr>\n",
       "    <tr>\n",
       "      <td>48</td>\n",
       "      <td>5.418581</td>\n",
       "      <td>6.615894</td>\n",
       "      <td>03:44</td>\n",
       "    </tr>\n",
       "    <tr>\n",
       "      <td>49</td>\n",
       "      <td>5.584278</td>\n",
       "      <td>6.636219</td>\n",
       "      <td>03:46</td>\n",
       "    </tr>\n",
       "  </tbody>\n",
       "</table>"
      ],
      "text/plain": [
       "<IPython.core.display.HTML object>"
      ]
     },
     "metadata": {},
     "output_type": "display_data"
    },
    {
     "name": "stderr",
     "output_type": "stream",
     "text": [
      "d:\\tools\\Anaconda3\\envs\\pytorch\\lib\\site-packages\\fastai\\torch_core.py:83: UserWarning: Tensor is int32: upgrading to int64; for better performance use int64 input\n",
      "  warn('Tensor is int32: upgrading to int64; for better performance use int64 input')\n"
     ]
    },
    {
     "data": {
      "image/png": "[encoded data removed]",
      "text/plain": [
       "<Figure size 432x288 with 1 Axes>"
      ]
     },
     "metadata": {},
     "output_type": "display_data"
    }
   ],
   "source": [
    "#learn.fit(lr, 1, cycle_len=12, use_clr=(20,10), stepper=Seq2SeqStepper)\n",
    "learn.fit_one_cycle(cyc_len=50, max_lr=lr)"
   ]
  },
  {
   "cell_type": "code",
   "execution_count": 34,
   "metadata": {
    "colab": {},
    "colab_type": "code",
    "collapsed": true,
    "id": "d03zvpAqEZSG"
   },
   "outputs": [],
   "source": [
    "learn.save('forcing-1')"
   ]
  },
  {
   "cell_type": "markdown",
   "metadata": {
    "colab_type": "text",
    "id": "ZrdpNb3vEZSJ"
   },
   "source": [
    "## Attentional model"
   ]
  },
  {
   "cell_type": "code",
   "execution_count": 27,
   "metadata": {
    "colab": {},
    "colab_type": "code",
    "collapsed": true,
    "id": "3aUsE-fmEZSJ"
   },
   "outputs": [],
   "source": [
    "def rand_t(*sz): return torch.randn(sz)/math.sqrt(sz[0])\n",
    "def rand_p(*sz): return nn.Parameter(rand_t(*sz))"
   ]
  },
  {
   "cell_type": "code",
   "execution_count": 55,
   "metadata": {
    "colab": {},
    "colab_type": "code",
    "collapsed": true,
    "id": "gjuF8048EZSR"
   },
   "outputs": [],
   "source": [
    "class Seq2SeqAttnRNN(nn.Module):\n",
    "    def __init__(self, vecs_enc, itos_enc, em_sz_enc, vecs_dec, itos_dec, em_sz_dec, nh, out_sl, nl=2):\n",
    "        super().__init__()\n",
    "        self.emb_enc = create_emb(vecs_enc, itos_enc, em_sz_enc)\n",
    "        self.nl,self.nh,self.out_sl = nl,nh,out_sl\n",
    "        self.gru_enc = nn.GRU(em_sz_enc, nh, num_layers=nl, dropout=0.25)\n",
    "        self.out_enc = nn.Linear(nh, em_sz_dec, bias=False)\n",
    "        self.emb_dec = create_emb(vecs_dec, itos_dec, em_sz_dec)\n",
    "        self.gru_dec = nn.GRU(em_sz_dec, em_sz_dec, num_layers=nl, dropout=0.1)\n",
    "        self.emb_enc_drop = nn.Dropout(0.15)\n",
    "        self.out_drop = nn.Dropout(0.35)\n",
    "        self.out = nn.Linear(em_sz_dec, len(itos_dec))\n",
    "        self.out.weight.data = self.emb_dec.weight.data\n",
    "\n",
    "        self.W1 = rand_p(nh, em_sz_dec)\n",
    "        self.l2 = nn.Linear(em_sz_dec, em_sz_dec)\n",
    "        self.l3 = nn.Linear(em_sz_dec+nh, em_sz_dec)\n",
    "        self.V = rand_p(em_sz_dec)\n",
    "        \n",
    "        self.y_in_batch = None\n",
    "\n",
    "    def forward(self, inp, y=None, ret_attn=False):\n",
    "# transpose inp\n",
    "        inp = inp.t()\n",
    "        sl,bs = inp.size()\n",
    "        h = self.initHidden(bs)\n",
    "        emb = self.emb_enc_drop(self.emb_enc(inp))\n",
    "        enc_out, h = self.gru_enc(emb, h)\n",
    "        h = self.out_enc(h)\n",
    "\n",
    "        pdb.set_trace()\n",
    "#         dec_inp = V(torch.zeros(bs).long())\n",
    "        dec_inp = to_device(torch.zeros(bs).long(), 'cuda:0')\n",
    "#         dec_inp = to_device(torch.nn.Parameter(torch.zeros(bs).long()), 'cuda:0')\n",
    "        res,attns = [],[]\n",
    "        w1e = enc_out @ self.W1\n",
    "        for i in range(self.out_sl):\n",
    "            w2h = self.l2(h[-1])\n",
    "            u = F.tanh(w1e + w2h)\n",
    "            a = F.softmax(u @ self.V, 0)\n",
    "            attns.append(a)\n",
    "            Xa = (a.unsqueeze(2) * enc_out).sum(0)\n",
    "            emb = self.emb_dec(dec_inp)\n",
    "            wgt_enc = self.l3(torch.cat([emb, Xa], 1))\n",
    "            \n",
    "            outp, h = self.gru_dec(wgt_enc.unsqueeze(0), h)\n",
    "            outp = self.out(self.out_drop(outp[0]))\n",
    "            res.append(outp)\n",
    "#             dec_inp = V(outp.data.max(1)[1])\n",
    "            dec_inp = outp.data.max(1)[1]\n",
    "#             dec_inp = torch.nn.Parameter(outp.data.max(1)[1])\n",
    "            if (dec_inp==1).all(): break\n",
    "            if (self.y_in_batch is not None) and (random.random()<self.pr_force):\n",
    "                if i>=len(self.y_in_batch): break\n",
    "                dec_inp = self.y_in_batch[i]\n",
    "\n",
    "        res = torch.stack(res)\n",
    "        res = [res, res, res]\n",
    "        if ret_attn: res = res,torch.stack(attns)\n",
    "        return res\n",
    "\n",
    "#     def initHidden(self, bs): return V(torch.zeros(self.nl, bs, self.nh))\n",
    "    def initHidden(self, bs): return to_device(torch.zeros(self.nl, bs, self.nh),'cuda:0')\n",
    "#     def initHidden(self, bs): return to_device(torch.nn.Parameter(torch.zeros(self.nl, bs, self.nh)),'cuda:0')\n",
    "  \n",
    "    def reset(self):\n",
    "      pass\n",
    "    "
   ]
  },
  {
   "cell_type": "code",
   "execution_count": 56,
   "metadata": {
    "colab": {},
    "colab_type": "code",
    "id": "GspVBYe0EZST"
   },
   "outputs": [
    {
     "name": "stdout",
     "output_type": "stream",
     "text": [
      "0 []\n",
      "0 []\n"
     ]
    }
   ],
   "source": [
    "# rnn = Seq2SeqAttnRNN(fr_vecd, fr_itos, dim_fr_vec, en_vecd, en_itos, dim_en_vec, nh, enlen_90)\n",
    "# learn = RNN_Learner(md, SingleModel(to_gpu(rnn)), opt_fn=opt_fn)\n",
    "# learn.crit = seq2seq_loss\n",
    "rnn = Seq2SeqAttnRNN(body_vecd, body_itos, dim_body_vec, title_vecd, title_itos, dim_title_vec, nh, title_len_90,nl)\n",
    "#learn=RNNLearner(md, rnn, opt_func=opt_fn,callback_fns=[ShowGraph, PrForceUpdaterCallback])\n",
    "learn=RNNLearner(md, rnn, opt_func=opt_fn,callback_fns=[ShowGraph])\n",
    "learn.loss_func = seq2seq_loss    "
   ]
  },
  {
   "cell_type": "code",
   "execution_count": 62,
   "metadata": {
    "colab": {},
    "colab_type": "code",
    "id": "IvrzxT2kzMpk"
   },
   "outputs": [
    {
     "data": {
      "text/html": [],
      "text/plain": [
       "<IPython.core.display.HTML object>"
      ]
     },
     "metadata": {},
     "output_type": "display_data"
    },
    {
     "name": "stderr",
     "output_type": "stream",
     "text": [
      "d:\\tools\\Anaconda3\\envs\\pytorch\\lib\\site-packages\\fastai\\torch_core.py:83: UserWarning: Tensor is int32: upgrading to int64; for better performance use int64 input\n",
      "  warn('Tensor is int32: upgrading to int64; for better performance use int64 input')\n"
     ]
    },
    {
     "name": "stdout",
     "output_type": "stream",
     "text": [
      "> <ipython-input-55-f10b2ad68542>(33)forward()\n",
      "-> dec_inp = to_device(torch.zeros(bs).long(), 'cuda:0')\n",
      "(Pdb) l\n",
      " 28  \t        enc_out, h = self.gru_enc(emb, h)\n",
      " 29  \t        h = self.out_enc(h)\n",
      " 30  \t\n",
      " 31  \t        pdb.set_trace()\n",
      " 32  \t#         dec_inp = V(torch.zeros(bs).long())\n",
      " 33  ->\t        dec_inp = to_device(torch.zeros(bs).long(), 'cuda:0')\n",
      " 34  \t#         dec_inp = to_device(torch.nn.Parameter(torch.zeros(bs).long()), 'cuda:0')\n",
      " 35  \t        res,attns = [],[]\n",
      " 36  \t        w1e = enc_out @ self.W1\n",
      " 37  \t        for i in range(self.out_sl):\n",
      " 38  \t            w2h = self.l2(h[-1])\n",
      "(Pdb) n\n",
      "> <ipython-input-55-f10b2ad68542>(35)forward()\n",
      "-> res,attns = [],[]\n",
      "(Pdb) \n",
      "> <ipython-input-55-f10b2ad68542>(36)forward()\n",
      "-> w1e = enc_out @ self.W1\n",
      "(Pdb) \n",
      "> <ipython-input-55-f10b2ad68542>(37)forward()\n",
      "-> for i in range(self.out_sl):\n",
      "(Pdb) \n",
      "> <ipython-input-55-f10b2ad68542>(38)forward()\n",
      "-> w2h = self.l2(h[-1])\n",
      "(Pdb) \n",
      "> <ipython-input-55-f10b2ad68542>(39)forward()\n",
      "-> u = F.tanh(w1e + w2h)\n",
      "(Pdb) \n"
     ]
    },
    {
     "name": "stderr",
     "output_type": "stream",
     "text": [
      "d:\\tools\\Anaconda3\\envs\\pytorch\\lib\\site-packages\\torch\\nn\\functional.py:1320: UserWarning: nn.functional.tanh is deprecated. Use torch.tanh instead.\n",
      "  warnings.warn(\"nn.functional.tanh is deprecated. Use torch.tanh instead.\")\n"
     ]
    },
    {
     "name": "stdout",
     "output_type": "stream",
     "text": [
      "> <ipython-input-55-f10b2ad68542>(40)forward()\n",
      "-> a = F.softmax(u @ self.V, 0)\n",
      "(Pdb) \n",
      "> <ipython-input-55-f10b2ad68542>(41)forward()\n",
      "-> attns.append(a)\n",
      "(Pdb) \n",
      "> <ipython-input-55-f10b2ad68542>(42)forward()\n",
      "-> Xa = (a.unsqueeze(2) * enc_out).sum(0)\n",
      "(Pdb) \n",
      "> <ipython-input-55-f10b2ad68542>(43)forward()\n",
      "-> emb = self.emb_dec(dec_inp)\n",
      "(Pdb) \n",
      "> <ipython-input-55-f10b2ad68542>(44)forward()\n",
      "-> wgt_enc = self.l3(torch.cat([emb, Xa], 1))\n",
      "(Pdb) p Xa.size()\n",
      "torch.Size([64, 128])\n",
      "(Pdb) p emb.size()\n",
      "torch.Size([64, 300])\n",
      "(Pdb) p enc_out.size()\n",
      "torch.Size([99, 64, 128])\n",
      "(Pdb) p a\n",
      "tensor([[0.0088, 0.0101, 0.0099,  ..., 0.0084, 0.0095, 0.0095],\n",
      "        [0.0077, 0.0094, 0.0095,  ..., 0.0075, 0.0086, 0.0088],\n",
      "        [0.0076, 0.0102, 0.0087,  ..., 0.0080, 0.0087, 0.0088],\n",
      "        ...,\n",
      "        [0.0124, 0.0097, 0.0108,  ..., 0.0091, 0.0126, 0.0108],\n",
      "        [0.0112, 0.0084, 0.0105,  ..., 0.0090, 0.0129, 0.0101],\n",
      "        [0.0118, 0.0087, 0.0096,  ..., 0.0091, 0.0108, 0.0102]],\n",
      "       device='cuda:0', grad_fn=<SoftmaxBackward>)\n",
      "(Pdb) p a.size()\n",
      "torch.Size([99, 64])\n",
      "(Pdb) p u.size()\n",
      "torch.Size([99, 64, 300])\n",
      "(Pdb) p inp.size()\n",
      "torch.Size([99, 64])\n",
      "(Pdb) p nh\n",
      "128\n",
      "(Pdb) p W1.size()\n",
      "*** NameError: name 'W1' is not defined\n",
      "(Pdb) p self.W1\n",
      "Parameter containing:\n",
      "tensor([[-0.0379, -0.1337, -0.0626,  ...,  0.0347,  0.0371,  0.2007],\n",
      "        [-0.1153, -0.0450, -0.0482,  ...,  0.0489,  0.1578, -0.0447],\n",
      "        [ 0.1829,  0.0900,  0.0466,  ..., -0.0372,  0.0762,  0.2033],\n",
      "        ...,\n",
      "        [ 0.0399, -0.0316, -0.1281,  ..., -0.0404, -0.0518,  0.0104],\n",
      "        [ 0.1690, -0.0705,  0.0215,  ..., -0.1069, -0.0412, -0.0086],\n",
      "        [-0.0556, -0.0719, -0.1846,  ...,  0.1227, -0.2355, -0.0350]],\n",
      "       device='cuda:0', requires_grad=True)\n",
      "(Pdb) p self.W1.size()\n",
      "torch.Size([128, 300])\n",
      "(Pdb) c\n",
      "> <ipython-input-55-f10b2ad68542>(33)forward()\n",
      "-> dec_inp = to_device(torch.zeros(bs).long(), 'cuda:0')\n",
      "(Pdb) c\n",
      "> <ipython-input-55-f10b2ad68542>(33)forward()\n",
      "-> dec_inp = to_device(torch.zeros(bs).long(), 'cuda:0')\n",
      "(Pdb) q\n",
      "LR Finder is complete, type {learner_name}.recorder.plot() to see the graph.\n"
     ]
    },
    {
     "ename": "BdbQuit",
     "evalue": "",
     "output_type": "error",
     "traceback": [
      "\u001b[1;31m---------------------------------------------------------------------------\u001b[0m",
      "\u001b[1;31mBdbQuit\u001b[0m                                   Traceback (most recent call last)",
      "\u001b[1;32m<ipython-input-62-5aa600e31cfe>\u001b[0m in \u001b[0;36m<module>\u001b[1;34m()\u001b[0m\n\u001b[1;32m----> 1\u001b[1;33m \u001b[0mlearn\u001b[0m\u001b[1;33m.\u001b[0m\u001b[0mlr_find\u001b[0m\u001b[1;33m(\u001b[0m\u001b[1;33m)\u001b[0m\u001b[1;33m\u001b[0m\u001b[1;33m\u001b[0m\u001b[0m\n\u001b[0m\u001b[0;32m      2\u001b[0m \u001b[0mlearn\u001b[0m\u001b[1;33m.\u001b[0m\u001b[0mrecorder\u001b[0m\u001b[1;33m.\u001b[0m\u001b[0mplot\u001b[0m\u001b[1;33m(\u001b[0m\u001b[1;33m)\u001b[0m\u001b[1;33m\u001b[0m\u001b[1;33m\u001b[0m\u001b[0m\n",
      "\u001b[1;32md:\\tools\\Anaconda3\\envs\\pytorch\\lib\\site-packages\\fastai\\train.py\u001b[0m in \u001b[0;36mlr_find\u001b[1;34m(learn, start_lr, end_lr, num_it, stop_div, wd)\u001b[0m\n\u001b[0;32m     30\u001b[0m     \u001b[0mcb\u001b[0m \u001b[1;33m=\u001b[0m \u001b[0mLRFinder\u001b[0m\u001b[1;33m(\u001b[0m\u001b[0mlearn\u001b[0m\u001b[1;33m,\u001b[0m \u001b[0mstart_lr\u001b[0m\u001b[1;33m,\u001b[0m \u001b[0mend_lr\u001b[0m\u001b[1;33m,\u001b[0m \u001b[0mnum_it\u001b[0m\u001b[1;33m,\u001b[0m \u001b[0mstop_div\u001b[0m\u001b[1;33m)\u001b[0m\u001b[1;33m\u001b[0m\u001b[1;33m\u001b[0m\u001b[0m\n\u001b[0;32m     31\u001b[0m     \u001b[0mepochs\u001b[0m \u001b[1;33m=\u001b[0m \u001b[0mint\u001b[0m\u001b[1;33m(\u001b[0m\u001b[0mnp\u001b[0m\u001b[1;33m.\u001b[0m\u001b[0mceil\u001b[0m\u001b[1;33m(\u001b[0m\u001b[0mnum_it\u001b[0m\u001b[1;33m/\u001b[0m\u001b[0mlen\u001b[0m\u001b[1;33m(\u001b[0m\u001b[0mlearn\u001b[0m\u001b[1;33m.\u001b[0m\u001b[0mdata\u001b[0m\u001b[1;33m.\u001b[0m\u001b[0mtrain_dl\u001b[0m\u001b[1;33m)\u001b[0m\u001b[1;33m)\u001b[0m\u001b[1;33m)\u001b[0m\u001b[1;33m\u001b[0m\u001b[1;33m\u001b[0m\u001b[0m\n\u001b[1;32m---> 32\u001b[1;33m     \u001b[0mlearn\u001b[0m\u001b[1;33m.\u001b[0m\u001b[0mfit\u001b[0m\u001b[1;33m(\u001b[0m\u001b[0mepochs\u001b[0m\u001b[1;33m,\u001b[0m \u001b[0mstart_lr\u001b[0m\u001b[1;33m,\u001b[0m \u001b[0mcallbacks\u001b[0m\u001b[1;33m=\u001b[0m\u001b[1;33m[\u001b[0m\u001b[0mcb\u001b[0m\u001b[1;33m]\u001b[0m\u001b[1;33m,\u001b[0m \u001b[0mwd\u001b[0m\u001b[1;33m=\u001b[0m\u001b[0mwd\u001b[0m\u001b[1;33m)\u001b[0m\u001b[1;33m\u001b[0m\u001b[1;33m\u001b[0m\u001b[0m\n\u001b[0m\u001b[0;32m     33\u001b[0m \u001b[1;33m\u001b[0m\u001b[0m\n\u001b[0;32m     34\u001b[0m def to_fp16(learn:Learner, loss_scale:float=None, max_noskip:int=1000, dynamic:bool=True, clip:float=None,\n",
      "\u001b[1;32md:\\tools\\Anaconda3\\envs\\pytorch\\lib\\site-packages\\fastai\\basic_train.py\u001b[0m in \u001b[0;36mfit\u001b[1;34m(self, epochs, lr, wd, callbacks)\u001b[0m\n\u001b[0;32m    194\u001b[0m         \u001b[0mcallbacks\u001b[0m \u001b[1;33m=\u001b[0m \u001b[1;33m[\u001b[0m\u001b[0mcb\u001b[0m\u001b[1;33m(\u001b[0m\u001b[0mself\u001b[0m\u001b[1;33m)\u001b[0m \u001b[1;32mfor\u001b[0m \u001b[0mcb\u001b[0m \u001b[1;32min\u001b[0m \u001b[0mself\u001b[0m\u001b[1;33m.\u001b[0m\u001b[0mcallback_fns\u001b[0m\u001b[1;33m]\u001b[0m \u001b[1;33m+\u001b[0m \u001b[0mlistify\u001b[0m\u001b[1;33m(\u001b[0m\u001b[0mcallbacks\u001b[0m\u001b[1;33m)\u001b[0m\u001b[1;33m\u001b[0m\u001b[1;33m\u001b[0m\u001b[0m\n\u001b[0;32m    195\u001b[0m         \u001b[1;32mif\u001b[0m \u001b[0mdefaults\u001b[0m\u001b[1;33m.\u001b[0m\u001b[0mextra_callbacks\u001b[0m \u001b[1;32mis\u001b[0m \u001b[1;32mnot\u001b[0m \u001b[1;32mNone\u001b[0m\u001b[1;33m:\u001b[0m \u001b[0mcallbacks\u001b[0m \u001b[1;33m+=\u001b[0m \u001b[0mdefaults\u001b[0m\u001b[1;33m.\u001b[0m\u001b[0mextra_callbacks\u001b[0m\u001b[1;33m\u001b[0m\u001b[1;33m\u001b[0m\u001b[0m\n\u001b[1;32m--> 196\u001b[1;33m         \u001b[0mfit\u001b[0m\u001b[1;33m(\u001b[0m\u001b[0mepochs\u001b[0m\u001b[1;33m,\u001b[0m \u001b[0mself\u001b[0m\u001b[1;33m,\u001b[0m \u001b[0mmetrics\u001b[0m\u001b[1;33m=\u001b[0m\u001b[0mself\u001b[0m\u001b[1;33m.\u001b[0m\u001b[0mmetrics\u001b[0m\u001b[1;33m,\u001b[0m \u001b[0mcallbacks\u001b[0m\u001b[1;33m=\u001b[0m\u001b[0mself\u001b[0m\u001b[1;33m.\u001b[0m\u001b[0mcallbacks\u001b[0m\u001b[1;33m+\u001b[0m\u001b[0mcallbacks\u001b[0m\u001b[1;33m)\u001b[0m\u001b[1;33m\u001b[0m\u001b[1;33m\u001b[0m\u001b[0m\n\u001b[0m\u001b[0;32m    197\u001b[0m \u001b[1;33m\u001b[0m\u001b[0m\n\u001b[0;32m    198\u001b[0m     \u001b[1;32mdef\u001b[0m \u001b[0mcreate_opt\u001b[0m\u001b[1;33m(\u001b[0m\u001b[0mself\u001b[0m\u001b[1;33m,\u001b[0m \u001b[0mlr\u001b[0m\u001b[1;33m:\u001b[0m\u001b[0mFloats\u001b[0m\u001b[1;33m,\u001b[0m \u001b[0mwd\u001b[0m\u001b[1;33m:\u001b[0m\u001b[0mFloats\u001b[0m\u001b[1;33m=\u001b[0m\u001b[1;36m0.\u001b[0m\u001b[1;33m)\u001b[0m\u001b[1;33m->\u001b[0m\u001b[1;32mNone\u001b[0m\u001b[1;33m:\u001b[0m\u001b[1;33m\u001b[0m\u001b[1;33m\u001b[0m\u001b[0m\n",
      "\u001b[1;32md:\\tools\\Anaconda3\\envs\\pytorch\\lib\\site-packages\\fastai\\basic_train.py\u001b[0m in \u001b[0;36mfit\u001b[1;34m(epochs, learn, callbacks, metrics)\u001b[0m\n\u001b[0;32m     98\u001b[0m             \u001b[1;32mfor\u001b[0m \u001b[0mxb\u001b[0m\u001b[1;33m,\u001b[0m\u001b[0myb\u001b[0m \u001b[1;32min\u001b[0m \u001b[0mprogress_bar\u001b[0m\u001b[1;33m(\u001b[0m\u001b[0mlearn\u001b[0m\u001b[1;33m.\u001b[0m\u001b[0mdata\u001b[0m\u001b[1;33m.\u001b[0m\u001b[0mtrain_dl\u001b[0m\u001b[1;33m,\u001b[0m \u001b[0mparent\u001b[0m\u001b[1;33m=\u001b[0m\u001b[0mpbar\u001b[0m\u001b[1;33m)\u001b[0m\u001b[1;33m:\u001b[0m\u001b[1;33m\u001b[0m\u001b[1;33m\u001b[0m\u001b[0m\n\u001b[0;32m     99\u001b[0m                 \u001b[0mxb\u001b[0m\u001b[1;33m,\u001b[0m \u001b[0myb\u001b[0m \u001b[1;33m=\u001b[0m \u001b[0mcb_handler\u001b[0m\u001b[1;33m.\u001b[0m\u001b[0mon_batch_begin\u001b[0m\u001b[1;33m(\u001b[0m\u001b[0mxb\u001b[0m\u001b[1;33m,\u001b[0m \u001b[0myb\u001b[0m\u001b[1;33m)\u001b[0m\u001b[1;33m\u001b[0m\u001b[1;33m\u001b[0m\u001b[0m\n\u001b[1;32m--> 100\u001b[1;33m                 \u001b[0mloss\u001b[0m \u001b[1;33m=\u001b[0m \u001b[0mloss_batch\u001b[0m\u001b[1;33m(\u001b[0m\u001b[0mlearn\u001b[0m\u001b[1;33m.\u001b[0m\u001b[0mmodel\u001b[0m\u001b[1;33m,\u001b[0m \u001b[0mxb\u001b[0m\u001b[1;33m,\u001b[0m \u001b[0myb\u001b[0m\u001b[1;33m,\u001b[0m \u001b[0mlearn\u001b[0m\u001b[1;33m.\u001b[0m\u001b[0mloss_func\u001b[0m\u001b[1;33m,\u001b[0m \u001b[0mlearn\u001b[0m\u001b[1;33m.\u001b[0m\u001b[0mopt\u001b[0m\u001b[1;33m,\u001b[0m \u001b[0mcb_handler\u001b[0m\u001b[1;33m)\u001b[0m\u001b[1;33m\u001b[0m\u001b[1;33m\u001b[0m\u001b[0m\n\u001b[0m\u001b[0;32m    101\u001b[0m                 \u001b[1;32mif\u001b[0m \u001b[0mcb_handler\u001b[0m\u001b[1;33m.\u001b[0m\u001b[0mon_batch_end\u001b[0m\u001b[1;33m(\u001b[0m\u001b[0mloss\u001b[0m\u001b[1;33m)\u001b[0m\u001b[1;33m:\u001b[0m \u001b[1;32mbreak\u001b[0m\u001b[1;33m\u001b[0m\u001b[1;33m\u001b[0m\u001b[0m\n\u001b[0;32m    102\u001b[0m \u001b[1;33m\u001b[0m\u001b[0m\n",
      "\u001b[1;32md:\\tools\\Anaconda3\\envs\\pytorch\\lib\\site-packages\\fastai\\basic_train.py\u001b[0m in \u001b[0;36mloss_batch\u001b[1;34m(model, xb, yb, loss_func, opt, cb_handler)\u001b[0m\n\u001b[0;32m     23\u001b[0m     \u001b[1;32mif\u001b[0m \u001b[1;32mnot\u001b[0m \u001b[0mis_listy\u001b[0m\u001b[1;33m(\u001b[0m\u001b[0mxb\u001b[0m\u001b[1;33m)\u001b[0m\u001b[1;33m:\u001b[0m \u001b[0mxb\u001b[0m \u001b[1;33m=\u001b[0m \u001b[1;33m[\u001b[0m\u001b[0mxb\u001b[0m\u001b[1;33m]\u001b[0m\u001b[1;33m\u001b[0m\u001b[1;33m\u001b[0m\u001b[0m\n\u001b[0;32m     24\u001b[0m     \u001b[1;32mif\u001b[0m \u001b[1;32mnot\u001b[0m \u001b[0mis_listy\u001b[0m\u001b[1;33m(\u001b[0m\u001b[0myb\u001b[0m\u001b[1;33m)\u001b[0m\u001b[1;33m:\u001b[0m \u001b[0myb\u001b[0m \u001b[1;33m=\u001b[0m \u001b[1;33m[\u001b[0m\u001b[0myb\u001b[0m\u001b[1;33m]\u001b[0m\u001b[1;33m\u001b[0m\u001b[1;33m\u001b[0m\u001b[0m\n\u001b[1;32m---> 25\u001b[1;33m     \u001b[0mout\u001b[0m \u001b[1;33m=\u001b[0m \u001b[0mmodel\u001b[0m\u001b[1;33m(\u001b[0m\u001b[1;33m*\u001b[0m\u001b[0mxb\u001b[0m\u001b[1;33m)\u001b[0m\u001b[1;33m\u001b[0m\u001b[1;33m\u001b[0m\u001b[0m\n\u001b[0m\u001b[0;32m     26\u001b[0m     \u001b[0mout\u001b[0m \u001b[1;33m=\u001b[0m \u001b[0mcb_handler\u001b[0m\u001b[1;33m.\u001b[0m\u001b[0mon_loss_begin\u001b[0m\u001b[1;33m(\u001b[0m\u001b[0mout\u001b[0m\u001b[1;33m)\u001b[0m\u001b[1;33m\u001b[0m\u001b[1;33m\u001b[0m\u001b[0m\n\u001b[0;32m     27\u001b[0m \u001b[1;33m\u001b[0m\u001b[0m\n",
      "\u001b[1;32md:\\tools\\Anaconda3\\envs\\pytorch\\lib\\site-packages\\torch\\nn\\modules\\module.py\u001b[0m in \u001b[0;36m__call__\u001b[1;34m(self, *input, **kwargs)\u001b[0m\n\u001b[0;32m    487\u001b[0m             \u001b[0mresult\u001b[0m \u001b[1;33m=\u001b[0m \u001b[0mself\u001b[0m\u001b[1;33m.\u001b[0m\u001b[0m_slow_forward\u001b[0m\u001b[1;33m(\u001b[0m\u001b[1;33m*\u001b[0m\u001b[0minput\u001b[0m\u001b[1;33m,\u001b[0m \u001b[1;33m**\u001b[0m\u001b[0mkwargs\u001b[0m\u001b[1;33m)\u001b[0m\u001b[1;33m\u001b[0m\u001b[1;33m\u001b[0m\u001b[0m\n\u001b[0;32m    488\u001b[0m         \u001b[1;32melse\u001b[0m\u001b[1;33m:\u001b[0m\u001b[1;33m\u001b[0m\u001b[1;33m\u001b[0m\u001b[0m\n\u001b[1;32m--> 489\u001b[1;33m             \u001b[0mresult\u001b[0m \u001b[1;33m=\u001b[0m \u001b[0mself\u001b[0m\u001b[1;33m.\u001b[0m\u001b[0mforward\u001b[0m\u001b[1;33m(\u001b[0m\u001b[1;33m*\u001b[0m\u001b[0minput\u001b[0m\u001b[1;33m,\u001b[0m \u001b[1;33m**\u001b[0m\u001b[0mkwargs\u001b[0m\u001b[1;33m)\u001b[0m\u001b[1;33m\u001b[0m\u001b[1;33m\u001b[0m\u001b[0m\n\u001b[0m\u001b[0;32m    490\u001b[0m         \u001b[1;32mfor\u001b[0m \u001b[0mhook\u001b[0m \u001b[1;32min\u001b[0m \u001b[0mself\u001b[0m\u001b[1;33m.\u001b[0m\u001b[0m_forward_hooks\u001b[0m\u001b[1;33m.\u001b[0m\u001b[0mvalues\u001b[0m\u001b[1;33m(\u001b[0m\u001b[1;33m)\u001b[0m\u001b[1;33m:\u001b[0m\u001b[1;33m\u001b[0m\u001b[1;33m\u001b[0m\u001b[0m\n\u001b[0;32m    491\u001b[0m             \u001b[0mhook_result\u001b[0m \u001b[1;33m=\u001b[0m \u001b[0mhook\u001b[0m\u001b[1;33m(\u001b[0m\u001b[0mself\u001b[0m\u001b[1;33m,\u001b[0m \u001b[0minput\u001b[0m\u001b[1;33m,\u001b[0m \u001b[0mresult\u001b[0m\u001b[1;33m)\u001b[0m\u001b[1;33m\u001b[0m\u001b[1;33m\u001b[0m\u001b[0m\n",
      "\u001b[1;32m<ipython-input-55-f10b2ad68542>\u001b[0m in \u001b[0;36mforward\u001b[1;34m(self, inp, y, ret_attn)\u001b[0m\n\u001b[0;32m     31\u001b[0m         \u001b[0mpdb\u001b[0m\u001b[1;33m.\u001b[0m\u001b[0mset_trace\u001b[0m\u001b[1;33m(\u001b[0m\u001b[1;33m)\u001b[0m\u001b[1;33m\u001b[0m\u001b[1;33m\u001b[0m\u001b[0m\n\u001b[0;32m     32\u001b[0m \u001b[1;31m#         dec_inp = V(torch.zeros(bs).long())\u001b[0m\u001b[1;33m\u001b[0m\u001b[1;33m\u001b[0m\u001b[1;33m\u001b[0m\u001b[0m\n\u001b[1;32m---> 33\u001b[1;33m         \u001b[0mdec_inp\u001b[0m \u001b[1;33m=\u001b[0m \u001b[0mto_device\u001b[0m\u001b[1;33m(\u001b[0m\u001b[0mtorch\u001b[0m\u001b[1;33m.\u001b[0m\u001b[0mzeros\u001b[0m\u001b[1;33m(\u001b[0m\u001b[0mbs\u001b[0m\u001b[1;33m)\u001b[0m\u001b[1;33m.\u001b[0m\u001b[0mlong\u001b[0m\u001b[1;33m(\u001b[0m\u001b[1;33m)\u001b[0m\u001b[1;33m,\u001b[0m \u001b[1;34m'cuda:0'\u001b[0m\u001b[1;33m)\u001b[0m\u001b[1;33m\u001b[0m\u001b[1;33m\u001b[0m\u001b[0m\n\u001b[0m\u001b[0;32m     34\u001b[0m \u001b[1;31m#         dec_inp = to_device(torch.nn.Parameter(torch.zeros(bs).long()), 'cuda:0')\u001b[0m\u001b[1;33m\u001b[0m\u001b[1;33m\u001b[0m\u001b[1;33m\u001b[0m\u001b[0m\n\u001b[0;32m     35\u001b[0m         \u001b[0mres\u001b[0m\u001b[1;33m,\u001b[0m\u001b[0mattns\u001b[0m \u001b[1;33m=\u001b[0m \u001b[1;33m[\u001b[0m\u001b[1;33m]\u001b[0m\u001b[1;33m,\u001b[0m\u001b[1;33m[\u001b[0m\u001b[1;33m]\u001b[0m\u001b[1;33m\u001b[0m\u001b[1;33m\u001b[0m\u001b[0m\n",
      "\u001b[1;32m<ipython-input-55-f10b2ad68542>\u001b[0m in \u001b[0;36mforward\u001b[1;34m(self, inp, y, ret_attn)\u001b[0m\n\u001b[0;32m     31\u001b[0m         \u001b[0mpdb\u001b[0m\u001b[1;33m.\u001b[0m\u001b[0mset_trace\u001b[0m\u001b[1;33m(\u001b[0m\u001b[1;33m)\u001b[0m\u001b[1;33m\u001b[0m\u001b[1;33m\u001b[0m\u001b[0m\n\u001b[0;32m     32\u001b[0m \u001b[1;31m#         dec_inp = V(torch.zeros(bs).long())\u001b[0m\u001b[1;33m\u001b[0m\u001b[1;33m\u001b[0m\u001b[1;33m\u001b[0m\u001b[0m\n\u001b[1;32m---> 33\u001b[1;33m         \u001b[0mdec_inp\u001b[0m \u001b[1;33m=\u001b[0m \u001b[0mto_device\u001b[0m\u001b[1;33m(\u001b[0m\u001b[0mtorch\u001b[0m\u001b[1;33m.\u001b[0m\u001b[0mzeros\u001b[0m\u001b[1;33m(\u001b[0m\u001b[0mbs\u001b[0m\u001b[1;33m)\u001b[0m\u001b[1;33m.\u001b[0m\u001b[0mlong\u001b[0m\u001b[1;33m(\u001b[0m\u001b[1;33m)\u001b[0m\u001b[1;33m,\u001b[0m \u001b[1;34m'cuda:0'\u001b[0m\u001b[1;33m)\u001b[0m\u001b[1;33m\u001b[0m\u001b[1;33m\u001b[0m\u001b[0m\n\u001b[0m\u001b[0;32m     34\u001b[0m \u001b[1;31m#         dec_inp = to_device(torch.nn.Parameter(torch.zeros(bs).long()), 'cuda:0')\u001b[0m\u001b[1;33m\u001b[0m\u001b[1;33m\u001b[0m\u001b[1;33m\u001b[0m\u001b[0m\n\u001b[0;32m     35\u001b[0m         \u001b[0mres\u001b[0m\u001b[1;33m,\u001b[0m\u001b[0mattns\u001b[0m \u001b[1;33m=\u001b[0m \u001b[1;33m[\u001b[0m\u001b[1;33m]\u001b[0m\u001b[1;33m,\u001b[0m\u001b[1;33m[\u001b[0m\u001b[1;33m]\u001b[0m\u001b[1;33m\u001b[0m\u001b[1;33m\u001b[0m\u001b[0m\n",
      "\u001b[1;32md:\\tools\\Anaconda3\\envs\\pytorch\\lib\\bdb.py\u001b[0m in \u001b[0;36mtrace_dispatch\u001b[1;34m(self, frame, event, arg)\u001b[0m\n\u001b[0;32m     49\u001b[0m             \u001b[1;32mreturn\u001b[0m \u001b[1;31m# None\u001b[0m\u001b[1;33m\u001b[0m\u001b[1;33m\u001b[0m\u001b[0m\n\u001b[0;32m     50\u001b[0m         \u001b[1;32mif\u001b[0m \u001b[0mevent\u001b[0m \u001b[1;33m==\u001b[0m \u001b[1;34m'line'\u001b[0m\u001b[1;33m:\u001b[0m\u001b[1;33m\u001b[0m\u001b[1;33m\u001b[0m\u001b[0m\n\u001b[1;32m---> 51\u001b[1;33m             \u001b[1;32mreturn\u001b[0m \u001b[0mself\u001b[0m\u001b[1;33m.\u001b[0m\u001b[0mdispatch_line\u001b[0m\u001b[1;33m(\u001b[0m\u001b[0mframe\u001b[0m\u001b[1;33m)\u001b[0m\u001b[1;33m\u001b[0m\u001b[1;33m\u001b[0m\u001b[0m\n\u001b[0m\u001b[0;32m     52\u001b[0m         \u001b[1;32mif\u001b[0m \u001b[0mevent\u001b[0m \u001b[1;33m==\u001b[0m \u001b[1;34m'call'\u001b[0m\u001b[1;33m:\u001b[0m\u001b[1;33m\u001b[0m\u001b[1;33m\u001b[0m\u001b[0m\n\u001b[0;32m     53\u001b[0m             \u001b[1;32mreturn\u001b[0m \u001b[0mself\u001b[0m\u001b[1;33m.\u001b[0m\u001b[0mdispatch_call\u001b[0m\u001b[1;33m(\u001b[0m\u001b[0mframe\u001b[0m\u001b[1;33m,\u001b[0m \u001b[0marg\u001b[0m\u001b[1;33m)\u001b[0m\u001b[1;33m\u001b[0m\u001b[1;33m\u001b[0m\u001b[0m\n",
      "\u001b[1;32md:\\tools\\Anaconda3\\envs\\pytorch\\lib\\bdb.py\u001b[0m in \u001b[0;36mdispatch_line\u001b[1;34m(self, frame)\u001b[0m\n\u001b[0;32m     68\u001b[0m         \u001b[1;32mif\u001b[0m \u001b[0mself\u001b[0m\u001b[1;33m.\u001b[0m\u001b[0mstop_here\u001b[0m\u001b[1;33m(\u001b[0m\u001b[0mframe\u001b[0m\u001b[1;33m)\u001b[0m \u001b[1;32mor\u001b[0m \u001b[0mself\u001b[0m\u001b[1;33m.\u001b[0m\u001b[0mbreak_here\u001b[0m\u001b[1;33m(\u001b[0m\u001b[0mframe\u001b[0m\u001b[1;33m)\u001b[0m\u001b[1;33m:\u001b[0m\u001b[1;33m\u001b[0m\u001b[1;33m\u001b[0m\u001b[0m\n\u001b[0;32m     69\u001b[0m             \u001b[0mself\u001b[0m\u001b[1;33m.\u001b[0m\u001b[0muser_line\u001b[0m\u001b[1;33m(\u001b[0m\u001b[0mframe\u001b[0m\u001b[1;33m)\u001b[0m\u001b[1;33m\u001b[0m\u001b[1;33m\u001b[0m\u001b[0m\n\u001b[1;32m---> 70\u001b[1;33m             \u001b[1;32mif\u001b[0m \u001b[0mself\u001b[0m\u001b[1;33m.\u001b[0m\u001b[0mquitting\u001b[0m\u001b[1;33m:\u001b[0m \u001b[1;32mraise\u001b[0m \u001b[0mBdbQuit\u001b[0m\u001b[1;33m\u001b[0m\u001b[1;33m\u001b[0m\u001b[0m\n\u001b[0m\u001b[0;32m     71\u001b[0m         \u001b[1;32mreturn\u001b[0m \u001b[0mself\u001b[0m\u001b[1;33m.\u001b[0m\u001b[0mtrace_dispatch\u001b[0m\u001b[1;33m\u001b[0m\u001b[1;33m\u001b[0m\u001b[0m\n\u001b[0;32m     72\u001b[0m \u001b[1;33m\u001b[0m\u001b[0m\n",
      "\u001b[1;31mBdbQuit\u001b[0m: "
     ]
    },
    {
     "name": "stdout",
     "output_type": "stream",
     "text": [
      "> d:\\tools\\anaconda3\\envs\\pytorch\\lib\\bdb.py(70)dispatch_line()\n",
      "     68         if self.stop_here(frame) or self.break_here(frame):\n",
      "     69             self.user_line(frame)\n",
      "---> 70             if self.quitting: raise BdbQuit\n",
      "     71         return self.trace_dispatch\n",
      "     72 \n",
      "\n",
      "ipdb> q\n"
     ]
    }
   ],
   "source": [
    "learn.lr_find()\n",
    "learn.recorder.plot()"
   ]
  },
  {
   "cell_type": "code",
   "execution_count": 59,
   "metadata": {
    "colab": {},
    "colab_type": "code",
    "collapsed": true,
    "id": "IuAzpW7aEZSV"
   },
   "outputs": [],
   "source": [
    "lr=6e-4"
   ]
  },
  {
   "cell_type": "code",
   "execution_count": 39,
   "metadata": {
    "colab": {},
    "colab_type": "code",
    "id": "44_3eeiUEZSs",
    "outputId": "1a56668c-9b9e-4aa8-a3f4-cf570e43f253"
   },
   "outputs": [
    {
     "data": {
      "text/html": [
       "Total time: 9:32:33 <p><table border=\"1\" class=\"dataframe\">\n",
       "  <thead>\n",
       "    <tr style=\"text-align: left;\">\n",
       "      <th>epoch</th>\n",
       "      <th>train_loss</th>\n",
       "      <th>valid_loss</th>\n",
       "      <th>time</th>\n",
       "    </tr>\n",
       "  </thead>\n",
       "  <tbody>\n",
       "    <tr>\n",
       "      <td>0</td>\n",
       "      <td>9.638729</td>\n",
       "      <td>9.585742</td>\n",
       "      <td>08:46</td>\n",
       "    </tr>\n",
       "    <tr>\n",
       "      <td>1</td>\n",
       "      <td>9.353812</td>\n",
       "      <td>9.022728</td>\n",
       "      <td>08:00</td>\n",
       "    </tr>\n",
       "    <tr>\n",
       "      <td>2</td>\n",
       "      <td>9.415967</td>\n",
       "      <td>8.926170</td>\n",
       "      <td>07:55</td>\n",
       "    </tr>\n",
       "    <tr>\n",
       "      <td>3</td>\n",
       "      <td>8.920947</td>\n",
       "      <td>8.644317</td>\n",
       "      <td>08:26</td>\n",
       "    </tr>\n",
       "    <tr>\n",
       "      <td>4</td>\n",
       "      <td>8.649264</td>\n",
       "      <td>8.178968</td>\n",
       "      <td>08:52</td>\n",
       "    </tr>\n",
       "    <tr>\n",
       "      <td>5</td>\n",
       "      <td>8.403473</td>\n",
       "      <td>8.256416</td>\n",
       "      <td>09:11</td>\n",
       "    </tr>\n",
       "    <tr>\n",
       "      <td>6</td>\n",
       "      <td>8.254729</td>\n",
       "      <td>7.985465</td>\n",
       "      <td>09:29</td>\n",
       "    </tr>\n",
       "    <tr>\n",
       "      <td>7</td>\n",
       "      <td>7.979084</td>\n",
       "      <td>7.975975</td>\n",
       "      <td>09:46</td>\n",
       "    </tr>\n",
       "    <tr>\n",
       "      <td>8</td>\n",
       "      <td>7.822968</td>\n",
       "      <td>7.710956</td>\n",
       "      <td>09:57</td>\n",
       "    </tr>\n",
       "    <tr>\n",
       "      <td>9</td>\n",
       "      <td>8.101272</td>\n",
       "      <td>7.733490</td>\n",
       "      <td>10:04</td>\n",
       "    </tr>\n",
       "    <tr>\n",
       "      <td>10</td>\n",
       "      <td>7.943241</td>\n",
       "      <td>7.612101</td>\n",
       "      <td>09:55</td>\n",
       "    </tr>\n",
       "    <tr>\n",
       "      <td>11</td>\n",
       "      <td>7.841874</td>\n",
       "      <td>7.404468</td>\n",
       "      <td>10:05</td>\n",
       "    </tr>\n",
       "    <tr>\n",
       "      <td>12</td>\n",
       "      <td>7.964697</td>\n",
       "      <td>7.584497</td>\n",
       "      <td>10:02</td>\n",
       "    </tr>\n",
       "    <tr>\n",
       "      <td>13</td>\n",
       "      <td>8.074202</td>\n",
       "      <td>7.525972</td>\n",
       "      <td>10:06</td>\n",
       "    </tr>\n",
       "    <tr>\n",
       "      <td>14</td>\n",
       "      <td>7.734064</td>\n",
       "      <td>7.737344</td>\n",
       "      <td>10:18</td>\n",
       "    </tr>\n",
       "    <tr>\n",
       "      <td>15</td>\n",
       "      <td>7.826974</td>\n",
       "      <td>6.596097</td>\n",
       "      <td>10:25</td>\n",
       "    </tr>\n",
       "    <tr>\n",
       "      <td>16</td>\n",
       "      <td>7.670307</td>\n",
       "      <td>7.458389</td>\n",
       "      <td>10:28</td>\n",
       "    </tr>\n",
       "    <tr>\n",
       "      <td>17</td>\n",
       "      <td>7.738076</td>\n",
       "      <td>7.006547</td>\n",
       "      <td>10:45</td>\n",
       "    </tr>\n",
       "    <tr>\n",
       "      <td>18</td>\n",
       "      <td>7.689770</td>\n",
       "      <td>7.583712</td>\n",
       "      <td>10:39</td>\n",
       "    </tr>\n",
       "    <tr>\n",
       "      <td>19</td>\n",
       "      <td>7.814763</td>\n",
       "      <td>7.192997</td>\n",
       "      <td>10:45</td>\n",
       "    </tr>\n",
       "    <tr>\n",
       "      <td>20</td>\n",
       "      <td>7.527760</td>\n",
       "      <td>7.236367</td>\n",
       "      <td>11:00</td>\n",
       "    </tr>\n",
       "    <tr>\n",
       "      <td>21</td>\n",
       "      <td>7.323633</td>\n",
       "      <td>6.208636</td>\n",
       "      <td>11:14</td>\n",
       "    </tr>\n",
       "    <tr>\n",
       "      <td>22</td>\n",
       "      <td>7.223981</td>\n",
       "      <td>6.784656</td>\n",
       "      <td>11:08</td>\n",
       "    </tr>\n",
       "    <tr>\n",
       "      <td>23</td>\n",
       "      <td>7.363169</td>\n",
       "      <td>7.074843</td>\n",
       "      <td>11:22</td>\n",
       "    </tr>\n",
       "    <tr>\n",
       "      <td>24</td>\n",
       "      <td>7.272383</td>\n",
       "      <td>7.025437</td>\n",
       "      <td>11:22</td>\n",
       "    </tr>\n",
       "    <tr>\n",
       "      <td>25</td>\n",
       "      <td>7.157233</td>\n",
       "      <td>7.085718</td>\n",
       "      <td>11:16</td>\n",
       "    </tr>\n",
       "    <tr>\n",
       "      <td>26</td>\n",
       "      <td>6.943756</td>\n",
       "      <td>6.106514</td>\n",
       "      <td>11:26</td>\n",
       "    </tr>\n",
       "    <tr>\n",
       "      <td>27</td>\n",
       "      <td>7.147812</td>\n",
       "      <td>6.865928</td>\n",
       "      <td>11:39</td>\n",
       "    </tr>\n",
       "    <tr>\n",
       "      <td>28</td>\n",
       "      <td>6.725546</td>\n",
       "      <td>6.218083</td>\n",
       "      <td>11:35</td>\n",
       "    </tr>\n",
       "    <tr>\n",
       "      <td>29</td>\n",
       "      <td>6.676763</td>\n",
       "      <td>6.339643</td>\n",
       "      <td>11:44</td>\n",
       "    </tr>\n",
       "    <tr>\n",
       "      <td>30</td>\n",
       "      <td>6.758438</td>\n",
       "      <td>6.516415</td>\n",
       "      <td>11:56</td>\n",
       "    </tr>\n",
       "    <tr>\n",
       "      <td>31</td>\n",
       "      <td>6.729737</td>\n",
       "      <td>6.399858</td>\n",
       "      <td>12:08</td>\n",
       "    </tr>\n",
       "    <tr>\n",
       "      <td>32</td>\n",
       "      <td>6.407248</td>\n",
       "      <td>6.621584</td>\n",
       "      <td>12:20</td>\n",
       "    </tr>\n",
       "    <tr>\n",
       "      <td>33</td>\n",
       "      <td>6.435321</td>\n",
       "      <td>6.178334</td>\n",
       "      <td>12:22</td>\n",
       "    </tr>\n",
       "    <tr>\n",
       "      <td>34</td>\n",
       "      <td>6.171314</td>\n",
       "      <td>6.234555</td>\n",
       "      <td>12:20</td>\n",
       "    </tr>\n",
       "    <tr>\n",
       "      <td>35</td>\n",
       "      <td>6.161377</td>\n",
       "      <td>6.114000</td>\n",
       "      <td>12:24</td>\n",
       "    </tr>\n",
       "    <tr>\n",
       "      <td>36</td>\n",
       "      <td>6.160596</td>\n",
       "      <td>6.549891</td>\n",
       "      <td>12:41</td>\n",
       "    </tr>\n",
       "    <tr>\n",
       "      <td>37</td>\n",
       "      <td>5.794164</td>\n",
       "      <td>5.826363</td>\n",
       "      <td>12:57</td>\n",
       "    </tr>\n",
       "    <tr>\n",
       "      <td>38</td>\n",
       "      <td>5.830812</td>\n",
       "      <td>5.959859</td>\n",
       "      <td>12:59</td>\n",
       "    </tr>\n",
       "    <tr>\n",
       "      <td>39</td>\n",
       "      <td>5.450907</td>\n",
       "      <td>5.686594</td>\n",
       "      <td>13:11</td>\n",
       "    </tr>\n",
       "    <tr>\n",
       "      <td>40</td>\n",
       "      <td>5.165903</td>\n",
       "      <td>5.538572</td>\n",
       "      <td>13:24</td>\n",
       "    </tr>\n",
       "    <tr>\n",
       "      <td>41</td>\n",
       "      <td>5.240499</td>\n",
       "      <td>5.511087</td>\n",
       "      <td>13:27</td>\n",
       "    </tr>\n",
       "    <tr>\n",
       "      <td>42</td>\n",
       "      <td>5.353038</td>\n",
       "      <td>5.707484</td>\n",
       "      <td>13:34</td>\n",
       "    </tr>\n",
       "    <tr>\n",
       "      <td>43</td>\n",
       "      <td>5.150978</td>\n",
       "      <td>5.548115</td>\n",
       "      <td>13:33</td>\n",
       "    </tr>\n",
       "    <tr>\n",
       "      <td>44</td>\n",
       "      <td>4.923929</td>\n",
       "      <td>5.452610</td>\n",
       "      <td>13:53</td>\n",
       "    </tr>\n",
       "    <tr>\n",
       "      <td>45</td>\n",
       "      <td>5.144178</td>\n",
       "      <td>5.527702</td>\n",
       "      <td>14:03</td>\n",
       "    </tr>\n",
       "    <tr>\n",
       "      <td>46</td>\n",
       "      <td>5.017860</td>\n",
       "      <td>5.456887</td>\n",
       "      <td>13:46</td>\n",
       "    </tr>\n",
       "    <tr>\n",
       "      <td>47</td>\n",
       "      <td>4.752488</td>\n",
       "      <td>5.467161</td>\n",
       "      <td>14:08</td>\n",
       "    </tr>\n",
       "    <tr>\n",
       "      <td>48</td>\n",
       "      <td>4.902623</td>\n",
       "      <td>5.477611</td>\n",
       "      <td>14:13</td>\n",
       "    </tr>\n",
       "    <tr>\n",
       "      <td>49</td>\n",
       "      <td>4.737711</td>\n",
       "      <td>5.406332</td>\n",
       "      <td>14:07</td>\n",
       "    </tr>\n",
       "  </tbody>\n",
       "</table>"
      ],
      "text/plain": [
       "<IPython.core.display.HTML object>"
      ]
     },
     "metadata": {},
     "output_type": "display_data"
    },
    {
     "name": "stderr",
     "output_type": "stream",
     "text": [
      "d:\\tools\\Anaconda3\\envs\\pytorch\\lib\\site-packages\\fastai\\torch_core.py:83: UserWarning: Tensor is int32: upgrading to int64; for better performance use int64 input\n",
      "  warn('Tensor is int32: upgrading to int64; for better performance use int64 input')\n",
      "d:\\tools\\Anaconda3\\envs\\pytorch\\lib\\site-packages\\torch\\nn\\functional.py:1320: UserWarning: nn.functional.tanh is deprecated. Use torch.tanh instead.\n",
      "  warnings.warn(\"nn.functional.tanh is deprecated. Use torch.tanh instead.\")\n"
     ]
    },
    {
     "data": {
      "image/png": "[encoded data removed]",
      "text/plain": [
       "<Figure size 432x288 with 1 Axes>"
      ]
     },
     "metadata": {},
     "output_type": "display_data"
    }
   ],
   "source": [
    "# learn.fit(lr, 1, cycle_len=15, use_clr=(20,10), stepper=Seq2SeqStepper)\n",
    "learn.fit_one_cycle(cyc_len=50, max_lr=lr)"
   ]
  },
  {
   "cell_type": "code",
   "execution_count": 40,
   "metadata": {
    "colab": {},
    "colab_type": "code",
    "collapsed": true,
    "id": "dGbHYMtzEZTH"
   },
   "outputs": [],
   "source": [
    "learn.save('attn-50')"
   ]
  },
  {
   "cell_type": "code",
   "execution_count": 38,
   "metadata": {
    "colab": {},
    "colab_type": "code",
    "id": "ZFqchCNSEZTQ"
   },
   "outputs": [
    {
     "name": "stderr",
     "output_type": "stream",
     "text": [
      "d:\\tools\\Anaconda3\\envs\\pytorch\\lib\\site-packages\\torch\\serialization.py:251: UserWarning: Couldn't retrieve source code for container of type Seq2SeqAttnRNN. It won't be checked for correctness upon loading.\n",
      "  \"type \" + obj.__name__ + \". It won't be checked \"\n"
     ]
    },
    {
     "data": {
      "text/plain": [
       "RNNLearner(data=Seq2SeqTextDataBunch;\n",
       "\n",
       "Train: <__main__.Seq2SeqDataset object at 0x000001751774D470>;\n",
       "\n",
       "Valid: <__main__.Seq2SeqDataset object at 0x000001751774D438>;\n",
       "\n",
       "Test: None, model=Seq2SeqAttnRNN(\n",
       "  (emb_enc): Embedding(40004, 300, padding_idx=1)\n",
       "  (gru_enc): GRU(300, 128, num_layers=2, dropout=0.25)\n",
       "  (out_enc): Linear(in_features=128, out_features=300, bias=False)\n",
       "  (emb_dec): Embedding(40004, 300, padding_idx=1)\n",
       "  (gru_dec): GRU(300, 300, num_layers=2, dropout=0.1)\n",
       "  (emb_enc_drop): Dropout(p=0.15)\n",
       "  (out_drop): Dropout(p=0.35)\n",
       "  (out): Linear(in_features=300, out_features=40004, bias=True)\n",
       "  (l2): Linear(in_features=300, out_features=300, bias=True)\n",
       "  (l3): Linear(in_features=428, out_features=300, bias=True)\n",
       "), opt_func=functools.partial(<class 'torch.optim.adam.Adam'>, betas=(0.8, 0.99)), loss_func=<function seq2seq_loss at 0x0000017523841620>, metrics=[], true_wd=True, bn_wd=True, wd=0.01, train_bn=True, path=WindowsPath('data/translate'), model_dir='models', callback_fns=[functools.partial(<class 'fastai.basic_train.Recorder'>, add_time=True), <class 'fastai.train.ShowGraph'>], callbacks=[RNNTrainer\n",
       "learn: RNNLearner(data=Seq2SeqTextDataBunch;\n",
       "\n",
       "Train: <__main__.Seq2SeqDataset object at 0x000001751774D470>;\n",
       "\n",
       "Valid: <__main__.Seq2SeqDataset object at 0x000001751774D438>;\n",
       "\n",
       "Test: None, model=Seq2SeqAttnRNN(\n",
       "  (emb_enc): Embedding(40004, 300, padding_idx=1)\n",
       "  (gru_enc): GRU(300, 128, num_layers=2, dropout=0.25)\n",
       "  (out_enc): Linear(in_features=128, out_features=300, bias=False)\n",
       "  (emb_dec): Embedding(40004, 300, padding_idx=1)\n",
       "  (gru_dec): GRU(300, 300, num_layers=2, dropout=0.1)\n",
       "  (emb_enc_drop): Dropout(p=0.15)\n",
       "  (out_drop): Dropout(p=0.35)\n",
       "  (out): Linear(in_features=300, out_features=40004, bias=True)\n",
       "  (l2): Linear(in_features=300, out_features=300, bias=True)\n",
       "  (l3): Linear(in_features=428, out_features=300, bias=True)\n",
       "), opt_func=functools.partial(<class 'torch.optim.adam.Adam'>, betas=(0.8, 0.99)), loss_func=<function seq2seq_loss at 0x0000017523841620>, metrics=[], true_wd=True, bn_wd=True, wd=0.01, train_bn=True, path=WindowsPath('data/translate'), model_dir='models', callback_fns=[functools.partial(<class 'fastai.basic_train.Recorder'>, add_time=True), <class 'fastai.train.ShowGraph'>], callbacks=[...], layer_groups=[Sequential(\n",
       "  (0): Embedding(40004, 300, padding_idx=1)\n",
       "  (1): GRU(300, 128, num_layers=2, dropout=0.25)\n",
       "  (2): Linear(in_features=128, out_features=300, bias=False)\n",
       "  (3): Embedding(40004, 300, padding_idx=1)\n",
       "  (4): GRU(300, 300, num_layers=2, dropout=0.1)\n",
       "  (5): Dropout(p=0.15)\n",
       "  (6): Dropout(p=0.35)\n",
       "  (7): Linear(in_features=300, out_features=40004, bias=True)\n",
       "  (8): Linear(in_features=300, out_features=300, bias=True)\n",
       "  (9): Linear(in_features=428, out_features=300, bias=True)\n",
       "  (10): ParameterModule()\n",
       "  (11): ParameterModule()\n",
       ")], add_time=True)\n",
       "alpha: 2.0\n",
       "beta: 1.0], layer_groups=[Sequential(\n",
       "  (0): Embedding(40004, 300, padding_idx=1)\n",
       "  (1): GRU(300, 128, num_layers=2, dropout=0.25)\n",
       "  (2): Linear(in_features=128, out_features=300, bias=False)\n",
       "  (3): Embedding(40004, 300, padding_idx=1)\n",
       "  (4): GRU(300, 300, num_layers=2, dropout=0.1)\n",
       "  (5): Dropout(p=0.15)\n",
       "  (6): Dropout(p=0.35)\n",
       "  (7): Linear(in_features=300, out_features=40004, bias=True)\n",
       "  (8): Linear(in_features=300, out_features=300, bias=True)\n",
       "  (9): Linear(in_features=428, out_features=300, bias=True)\n",
       "  (10): ParameterModule()\n",
       "  (11): ParameterModule()\n",
       ")], add_time=True)"
      ]
     },
     "execution_count": 38,
     "metadata": {},
     "output_type": "execute_result"
    }
   ],
   "source": [
    "learn.load('attn-50')"
   ]
  },
  {
   "cell_type": "code",
   "execution_count": 39,
   "metadata": {},
   "outputs": [
    {
     "data": {
      "text/html": [
       "Total time: 11:47:51 <p><table border=\"1\" class=\"dataframe\">\n",
       "  <thead>\n",
       "    <tr style=\"text-align: left;\">\n",
       "      <th>epoch</th>\n",
       "      <th>train_loss</th>\n",
       "      <th>valid_loss</th>\n",
       "      <th>time</th>\n",
       "    </tr>\n",
       "  </thead>\n",
       "  <tbody>\n",
       "    <tr>\n",
       "      <td>0</td>\n",
       "      <td>4.991679</td>\n",
       "      <td>5.531359</td>\n",
       "      <td>13:46</td>\n",
       "    </tr>\n",
       "    <tr>\n",
       "      <td>1</td>\n",
       "      <td>4.809300</td>\n",
       "      <td>5.502222</td>\n",
       "      <td>13:49</td>\n",
       "    </tr>\n",
       "    <tr>\n",
       "      <td>2</td>\n",
       "      <td>4.950780</td>\n",
       "      <td>5.533848</td>\n",
       "      <td>13:34</td>\n",
       "    </tr>\n",
       "    <tr>\n",
       "      <td>3</td>\n",
       "      <td>4.571059</td>\n",
       "      <td>5.493266</td>\n",
       "      <td>14:02</td>\n",
       "    </tr>\n",
       "    <tr>\n",
       "      <td>4</td>\n",
       "      <td>4.772600</td>\n",
       "      <td>5.631424</td>\n",
       "      <td>13:53</td>\n",
       "    </tr>\n",
       "    <tr>\n",
       "      <td>5</td>\n",
       "      <td>4.909251</td>\n",
       "      <td>5.440450</td>\n",
       "      <td>13:39</td>\n",
       "    </tr>\n",
       "    <tr>\n",
       "      <td>6</td>\n",
       "      <td>4.746326</td>\n",
       "      <td>5.767180</td>\n",
       "      <td>13:37</td>\n",
       "    </tr>\n",
       "    <tr>\n",
       "      <td>7</td>\n",
       "      <td>5.305796</td>\n",
       "      <td>5.871752</td>\n",
       "      <td>13:33</td>\n",
       "    </tr>\n",
       "    <tr>\n",
       "      <td>8</td>\n",
       "      <td>4.995747</td>\n",
       "      <td>5.573273</td>\n",
       "      <td>13:29</td>\n",
       "    </tr>\n",
       "    <tr>\n",
       "      <td>9</td>\n",
       "      <td>5.080386</td>\n",
       "      <td>5.749509</td>\n",
       "      <td>13:40</td>\n",
       "    </tr>\n",
       "    <tr>\n",
       "      <td>10</td>\n",
       "      <td>4.876451</td>\n",
       "      <td>5.414681</td>\n",
       "      <td>13:30</td>\n",
       "    </tr>\n",
       "    <tr>\n",
       "      <td>11</td>\n",
       "      <td>5.018218</td>\n",
       "      <td>5.769515</td>\n",
       "      <td>13:29</td>\n",
       "    </tr>\n",
       "    <tr>\n",
       "      <td>12</td>\n",
       "      <td>5.064284</td>\n",
       "      <td>5.850321</td>\n",
       "      <td>13:18</td>\n",
       "    </tr>\n",
       "    <tr>\n",
       "      <td>13</td>\n",
       "      <td>5.043011</td>\n",
       "      <td>5.541963</td>\n",
       "      <td>13:26</td>\n",
       "    </tr>\n",
       "    <tr>\n",
       "      <td>14</td>\n",
       "      <td>5.137279</td>\n",
       "      <td>5.487969</td>\n",
       "      <td>13:31</td>\n",
       "    </tr>\n",
       "    <tr>\n",
       "      <td>15</td>\n",
       "      <td>4.959352</td>\n",
       "      <td>5.482567</td>\n",
       "      <td>13:32</td>\n",
       "    </tr>\n",
       "    <tr>\n",
       "      <td>16</td>\n",
       "      <td>4.760612</td>\n",
       "      <td>5.459568</td>\n",
       "      <td>13:25</td>\n",
       "    </tr>\n",
       "    <tr>\n",
       "      <td>17</td>\n",
       "      <td>5.235282</td>\n",
       "      <td>5.798695</td>\n",
       "      <td>13:31</td>\n",
       "    </tr>\n",
       "    <tr>\n",
       "      <td>18</td>\n",
       "      <td>6.000373</td>\n",
       "      <td>5.776092</td>\n",
       "      <td>12:31</td>\n",
       "    </tr>\n",
       "    <tr>\n",
       "      <td>19</td>\n",
       "      <td>5.348010</td>\n",
       "      <td>5.785352</td>\n",
       "      <td>13:13</td>\n",
       "    </tr>\n",
       "    <tr>\n",
       "      <td>20</td>\n",
       "      <td>5.215464</td>\n",
       "      <td>6.045087</td>\n",
       "      <td>13:28</td>\n",
       "    </tr>\n",
       "    <tr>\n",
       "      <td>21</td>\n",
       "      <td>5.095379</td>\n",
       "      <td>5.828105</td>\n",
       "      <td>13:33</td>\n",
       "    </tr>\n",
       "    <tr>\n",
       "      <td>22</td>\n",
       "      <td>4.747284</td>\n",
       "      <td>5.439154</td>\n",
       "      <td>13:39</td>\n",
       "    </tr>\n",
       "    <tr>\n",
       "      <td>23</td>\n",
       "      <td>5.299722</td>\n",
       "      <td>5.859704</td>\n",
       "      <td>13:42</td>\n",
       "    </tr>\n",
       "    <tr>\n",
       "      <td>24</td>\n",
       "      <td>4.820276</td>\n",
       "      <td>5.520772</td>\n",
       "      <td>13:47</td>\n",
       "    </tr>\n",
       "    <tr>\n",
       "      <td>25</td>\n",
       "      <td>4.684352</td>\n",
       "      <td>5.546222</td>\n",
       "      <td>13:42</td>\n",
       "    </tr>\n",
       "    <tr>\n",
       "      <td>26</td>\n",
       "      <td>4.777439</td>\n",
       "      <td>5.567126</td>\n",
       "      <td>13:50</td>\n",
       "    </tr>\n",
       "    <tr>\n",
       "      <td>27</td>\n",
       "      <td>4.649080</td>\n",
       "      <td>5.649812</td>\n",
       "      <td>14:03</td>\n",
       "    </tr>\n",
       "    <tr>\n",
       "      <td>28</td>\n",
       "      <td>4.602544</td>\n",
       "      <td>5.467221</td>\n",
       "      <td>14:09</td>\n",
       "    </tr>\n",
       "    <tr>\n",
       "      <td>29</td>\n",
       "      <td>4.463771</td>\n",
       "      <td>5.834702</td>\n",
       "      <td>14:10</td>\n",
       "    </tr>\n",
       "    <tr>\n",
       "      <td>30</td>\n",
       "      <td>4.258834</td>\n",
       "      <td>5.439837</td>\n",
       "      <td>14:18</td>\n",
       "    </tr>\n",
       "    <tr>\n",
       "      <td>31</td>\n",
       "      <td>4.330706</td>\n",
       "      <td>5.310938</td>\n",
       "      <td>14:27</td>\n",
       "    </tr>\n",
       "    <tr>\n",
       "      <td>32</td>\n",
       "      <td>4.195272</td>\n",
       "      <td>5.486281</td>\n",
       "      <td>14:34</td>\n",
       "    </tr>\n",
       "    <tr>\n",
       "      <td>33</td>\n",
       "      <td>4.212057</td>\n",
       "      <td>5.410089</td>\n",
       "      <td>14:37</td>\n",
       "    </tr>\n",
       "    <tr>\n",
       "      <td>34</td>\n",
       "      <td>4.239050</td>\n",
       "      <td>5.346024</td>\n",
       "      <td>14:23</td>\n",
       "    </tr>\n",
       "    <tr>\n",
       "      <td>35</td>\n",
       "      <td>4.112504</td>\n",
       "      <td>5.343558</td>\n",
       "      <td>14:29</td>\n",
       "    </tr>\n",
       "    <tr>\n",
       "      <td>36</td>\n",
       "      <td>4.158340</td>\n",
       "      <td>5.349211</td>\n",
       "      <td>14:39</td>\n",
       "    </tr>\n",
       "    <tr>\n",
       "      <td>37</td>\n",
       "      <td>4.119101</td>\n",
       "      <td>5.371309</td>\n",
       "      <td>14:48</td>\n",
       "    </tr>\n",
       "    <tr>\n",
       "      <td>38</td>\n",
       "      <td>3.854017</td>\n",
       "      <td>5.273448</td>\n",
       "      <td>14:47</td>\n",
       "    </tr>\n",
       "    <tr>\n",
       "      <td>39</td>\n",
       "      <td>3.726228</td>\n",
       "      <td>5.152759</td>\n",
       "      <td>14:51</td>\n",
       "    </tr>\n",
       "    <tr>\n",
       "      <td>40</td>\n",
       "      <td>3.615709</td>\n",
       "      <td>5.316849</td>\n",
       "      <td>15:08</td>\n",
       "    </tr>\n",
       "    <tr>\n",
       "      <td>41</td>\n",
       "      <td>3.853750</td>\n",
       "      <td>5.290466</td>\n",
       "      <td>15:08</td>\n",
       "    </tr>\n",
       "    <tr>\n",
       "      <td>42</td>\n",
       "      <td>3.875627</td>\n",
       "      <td>5.311984</td>\n",
       "      <td>15:01</td>\n",
       "    </tr>\n",
       "    <tr>\n",
       "      <td>43</td>\n",
       "      <td>3.671880</td>\n",
       "      <td>5.272401</td>\n",
       "      <td>15:28</td>\n",
       "    </tr>\n",
       "    <tr>\n",
       "      <td>44</td>\n",
       "      <td>3.742488</td>\n",
       "      <td>5.304588</td>\n",
       "      <td>15:07</td>\n",
       "    </tr>\n",
       "    <tr>\n",
       "      <td>45</td>\n",
       "      <td>3.788206</td>\n",
       "      <td>5.278028</td>\n",
       "      <td>15:11</td>\n",
       "    </tr>\n",
       "    <tr>\n",
       "      <td>46</td>\n",
       "      <td>3.765440</td>\n",
       "      <td>5.367486</td>\n",
       "      <td>14:56</td>\n",
       "    </tr>\n",
       "    <tr>\n",
       "      <td>47</td>\n",
       "      <td>3.460913</td>\n",
       "      <td>5.287514</td>\n",
       "      <td>15:29</td>\n",
       "    </tr>\n",
       "    <tr>\n",
       "      <td>48</td>\n",
       "      <td>3.701554</td>\n",
       "      <td>5.294496</td>\n",
       "      <td>15:26</td>\n",
       "    </tr>\n",
       "    <tr>\n",
       "      <td>49</td>\n",
       "      <td>3.433606</td>\n",
       "      <td>5.296580</td>\n",
       "      <td>15:05</td>\n",
       "    </tr>\n",
       "  </tbody>\n",
       "</table>"
      ],
      "text/plain": [
       "<IPython.core.display.HTML object>"
      ]
     },
     "metadata": {},
     "output_type": "display_data"
    },
    {
     "name": "stderr",
     "output_type": "stream",
     "text": [
      "d:\\tools\\Anaconda3\\envs\\pytorch\\lib\\site-packages\\fastai\\torch_core.py:83: UserWarning: Tensor is int32: upgrading to int64; for better performance use int64 input\n",
      "  warn('Tensor is int32: upgrading to int64; for better performance use int64 input')\n",
      "d:\\tools\\Anaconda3\\envs\\pytorch\\lib\\site-packages\\torch\\nn\\functional.py:1320: UserWarning: nn.functional.tanh is deprecated. Use torch.tanh instead.\n",
      "  warnings.warn(\"nn.functional.tanh is deprecated. Use torch.tanh instead.\")\n"
     ]
    },
    {
     "data": {
      "image/png": "[encoded data removed]",
      "text/plain": [
       "<Figure size 432x288 with 1 Axes>"
      ]
     },
     "metadata": {},
     "output_type": "display_data"
    }
   ],
   "source": [
    "learn.fit_one_cycle(cyc_len=50, max_lr=lr)"
   ]
  },
  {
   "cell_type": "code",
   "execution_count": 40,
   "metadata": {
    "collapsed": true
   },
   "outputs": [],
   "source": [
    "learn.save('attn-100')"
   ]
  },
  {
   "cell_type": "markdown",
   "metadata": {},
   "source": [
    "Attention with Beam search"
   ]
  },
  {
   "cell_type": "code",
   "execution_count": 48,
   "metadata": {
    "collapsed": true
   },
   "outputs": [],
   "source": [
    "def to_gpu(v):\n",
    "    return to_device(v, 'cuda:0')"
   ]
  },
  {
   "cell_type": "code",
   "execution_count": 69,
   "metadata": {},
   "outputs": [],
   "source": [
    "class Seq2SeqAttnRNNWithBeam(nn.Module):\n",
    "    def __init__(self, vecs_enc, itos_enc, em_sz_enc, vecs_dec, itos_dec, em_sz_dec, nh, out_sl, nl=2, beam=False, s=2):\n",
    "        super().__init__()\n",
    "        self.emb_enc = create_emb(vecs_enc, itos_enc, em_sz_enc)\n",
    "        self.nl,self.nh,self.out_sl = nl,nh,out_sl\n",
    "        self.gru_enc = nn.GRU(em_sz_enc, nh, num_layers=nl, dropout=0.25)\n",
    "        self.out_enc = nn.Linear(nh, em_sz_dec, bias=False)\n",
    "        self.emb_dec = create_emb(vecs_dec, itos_dec, em_sz_dec)\n",
    "        self.gru_dec = nn.GRU(em_sz_dec, em_sz_dec, num_layers=nl, dropout=0.1)\n",
    "        self.emb_enc_drop = nn.Dropout(0.15)\n",
    "        self.out_drop = nn.Dropout(0.35)\n",
    "        self.out = nn.Linear(em_sz_dec, len(itos_dec))\n",
    "        self.out.weight.data = self.emb_dec.weight.data\n",
    "\n",
    "        self.W1 = rand_p(nh, em_sz_dec)\n",
    "        self.l2 = nn.Linear(em_sz_dec, em_sz_dec)\n",
    "        self.l3 = nn.Linear(em_sz_dec+nh, em_sz_dec)\n",
    "        self.V = rand_p(em_sz_dec)\n",
    "        \n",
    "        self.beam = beam\n",
    "        self.s = s\n",
    "        self.y_in_batch = None\n",
    "\n",
    "    def forward(self, inp, y=None, ret_attn=False):\n",
    "# transpose inp\n",
    "        inp = inp.t()\n",
    "        sl,bs = inp.size()\n",
    "        h = self.initHidden(bs)\n",
    "        emb = self.emb_enc_drop(self.emb_enc(inp))\n",
    "        enc_out, h = self.gru_enc(emb, h)\n",
    "        h = self.out_enc(h)\n",
    "\n",
    "        pdb.set_trace()\n",
    "#         dec_inp = V(torch.zeros(bs).long())\n",
    "        dec_inp = to_device(torch.zeros(bs).long(), 'cuda:0')\n",
    "#         dec_inp = to_device(torch.nn.Parameter(torch.zeros(bs).long()), 'cuda:0')\n",
    "        res,attns = [],[]\n",
    "        w1e = enc_out @ self.W1\n",
    "        cur_probs = None\n",
    "        s = self.s\n",
    "        for i in range(self.out_sl):\n",
    "            if self.beam:\n",
    "                if i==0:\n",
    "                    cur_probs = to_gpu(torch.zeros(bs, s))\n",
    "                    # calculate the topk probs for the current word\n",
    "                    cur_w_topk_p, cur_w_topk_i, h = self._get_new_topk_h(w1e, enc_out, dec_inp, h, s, attns=attns)\n",
    "                    \n",
    "                    # calculate the new topk probs for the entire sequence\n",
    "                    cur_probs += cur_w_topk_p.log_()\n",
    "                    \n",
    "                    # prepare dec_inp and h for next iteration\n",
    "                    dec_inp = cur_w_topk_i.t().contiguous().view(-1)\n",
    "                    h = h.repeat(s,1,1)\n",
    "                    res = cur_w_topk_i.view(bs,1,-1)\n",
    "                    \n",
    "                    # expand w1e and enc_out\n",
    "                    w1e, enc_out = w1e.repeat(s,1,1), enc_out.repeat(s,1,1)\n",
    "                else:\n",
    "                    # calculate the topk probs for the current word\n",
    "                    cur_w_topk_p, cur_w_topk_i, h = self._get_new_topk_h(w1e, enc_out, dec_inp, h, s, attns=attns)\n",
    "                    cur_w_topk_p, cur_w_topk_i = torch.cat(cur_w_topk_p.view(s, bs, s), 1), torch.cat(cur_w_topk_i.view(s, bs, s), 1)\n",
    "                    \n",
    "                    # calculate the new topk probs for the entire sequence\n",
    "                    cur_probs = cur_probs.repeat(1,s) + cur_w_topk_p.log_()\n",
    "                    cur_probs, cur_topk_idxes = cur_probs.topk(s,dim=1)\n",
    "                    \n",
    "                    # select topk prev results based on updated topk probs\n",
    "                    old_res_idxes = cur_topk_idxes / s\n",
    "                    new_res = []\n",
    "                    for k in range(s):\n",
    "                        new_res.append(res.gather(2, old_res_idxes[:,k:k+1].expand(bs, res.shape[1]).unsqueeze(-1)))\n",
    "                    res = torch.cat(new_res, dim=2)\n",
    "                    \n",
    "                    # select topk new words based on updated topk probs\n",
    "                    cur_w_topk_id = cur_w_topk_i.gather(1, cur_topk_idxes)\n",
    "                    \n",
    "                    # concat new words onto the topk seqs\n",
    "                    res = torch.cat((res, cur_w_topk_id.unsqueeze(1)), dim=1)\n",
    "                    \n",
    "                    # prepare dec_inp and h for next iteration\n",
    "                    dec_inp = cur_w_topk_id.t().contiguous().view(-1)\n",
    "                    h_idxes = to_gpu(torch.arange(bs)).long().repeat(s) + old_res_idxes.t().contiguous().view(-1) * bs\n",
    "                    h.data = h.data.index_select(1,h_idxes)\n",
    "            else:\n",
    "                w2h = self.l2(h[-1])\n",
    "                u = F.tanh(w1e + w2h)\n",
    "                a = F.softmax(u @ self.V, 0)\n",
    "                attns.append(a)\n",
    "                Xa = (a.unsqueeze(2) * enc_out).sum(0)\n",
    "                emb = self.emb_dec(dec_inp)\n",
    "                wgt_enc = self.l3(torch.cat([emb, Xa], 1))\n",
    "\n",
    "                outp, h = self.gru_dec(wgt_enc.unsqueeze(0), h)\n",
    "                outp = self.out(self.out_drop(outp[0]))\n",
    "                res.append(outp)\n",
    "#             dec_inp = V(outp.data.max(1)[1])\n",
    "                dec_inp = outp.data.max(1)[1]\n",
    "#             dec_inp = torch.nn.Parameter(outp.data.max(1)[1])\n",
    "\n",
    "            if (dec_inp==1).all(): break\n",
    "            if (self.y_in_batch is not None) and (random.random()<self.pr_force):\n",
    "                if i>=len(self.y_in_batch): break\n",
    "                dec_inp = self.y_in_batch[i]\n",
    "\n",
    "        res = torch.stack(res)\n",
    "        res = [res, res, res]\n",
    "        if ret_attn: res = res,torch.stack(attns)\n",
    "        return res\n",
    "\n",
    "    def _get_new_topk_h(self, w1e, enc_out, dec_inp, h, s, attns=None):\n",
    "        w2h = self.l2(h[-1])\n",
    "        u = F.tanh(w1e + w2h)\n",
    "        a = F.softmax(u @ self.V, 0)\n",
    "        if attns:\n",
    "            attns.append(a)\n",
    "        Xa = (a.unsqueeze(2) * enc_out).sum(0)\n",
    "\n",
    "        emb = self.emb_enc(dec_inp)\n",
    "        wgt_enc = self.l3(torch.cat([emb, Xa], 1))\n",
    "        outp, h = self.gru_dec(wgt_enc.unsqueeze(0), h)\n",
    "        outp = self.out(self.out_drop(outp[0]))\n",
    "        outp = F.softmax(outp, dim=1)\n",
    "        \n",
    "        return (*outp.data.topk(s, dim=1), h)\n",
    "\n",
    "#     def initHidden(self, bs): return V(torch.zeros(self.nl, bs, self.nh))\n",
    "    def initHidden(self, bs): return to_device(torch.zeros(self.nl, bs, self.nh),'cuda:0')\n",
    "#     def initHidden(self, bs): return to_device(torch.nn.Parameter(torch.zeros(self.nl, bs, self.nh)),'cuda:0')\n",
    "  \n",
    "    def reset(self):\n",
    "      pass\n",
    "    "
   ]
  },
  {
   "cell_type": "code",
   "execution_count": 70,
   "metadata": {},
   "outputs": [
    {
     "name": "stdout",
     "output_type": "stream",
     "text": [
      "0 []\n",
      "0 []\n"
     ]
    }
   ],
   "source": [
    "# rnn = Seq2SeqAttnRNN(fr_vecd, fr_itos, dim_fr_vec, en_vecd, en_itos, dim_en_vec, nh, enlen_90)\n",
    "# learn = RNN_Learner(md, SingleModel(to_gpu(rnn)), opt_fn=opt_fn)\n",
    "# learn.crit = seq2seq_loss\n",
    "rnn = Seq2SeqAttnRNNWithBeam(body_vecd, body_itos, dim_body_vec, title_vecd, title_itos, dim_title_vec, nh, title_len_90,nl, True, 2)\n",
    "learn=RNNLearner(md, rnn, opt_func=opt_fn,callback_fns=[ShowGraph, PrForceUpdaterCallback])\n",
    "# learn=RNNLearner(md, rnn, opt_func=opt_fn,callback_fns=[ShowGraph])\n",
    "learn.loss_func = seq2seq_loss    "
   ]
  },
  {
   "cell_type": "code",
   "execution_count": 71,
   "metadata": {},
   "outputs": [
    {
     "data": {
      "text/html": [],
      "text/plain": [
       "<IPython.core.display.HTML object>"
      ]
     },
     "metadata": {},
     "output_type": "display_data"
    },
    {
     "name": "stderr",
     "output_type": "stream",
     "text": [
      "d:\\tools\\Anaconda3\\envs\\pytorch\\lib\\site-packages\\fastai\\torch_core.py:83: UserWarning: Tensor is int32: upgrading to int64; for better performance use int64 input\n",
      "  warn('Tensor is int32: upgrading to int64; for better performance use int64 input')\n"
     ]
    },
    {
     "name": "stdout",
     "output_type": "stream",
     "text": [
      "> <ipython-input-69-0529ce6a1ce2>(35)forward()\n",
      "-> dec_inp = to_device(torch.zeros(bs).long(), 'cuda:0')\n",
      "(Pdb) c\n"
     ]
    },
    {
     "name": "stderr",
     "output_type": "stream",
     "text": [
      "d:\\tools\\Anaconda3\\envs\\pytorch\\lib\\site-packages\\torch\\nn\\functional.py:1320: UserWarning: nn.functional.tanh is deprecated. Use torch.tanh instead.\n",
      "  warnings.warn(\"nn.functional.tanh is deprecated. Use torch.tanh instead.\")\n"
     ]
    },
    {
     "name": "stdout",
     "output_type": "stream",
     "text": [
      "LR Finder is complete, type {learner_name}.recorder.plot() to see the graph.\n"
     ]
    },
    {
     "ename": "RuntimeError",
     "evalue": "Expected hidden size (2, 64, 300), got (4, 64, 300)",
     "output_type": "error",
     "traceback": [
      "\u001b[1;31m---------------------------------------------------------------------------\u001b[0m",
      "\u001b[1;31mRuntimeError\u001b[0m                              Traceback (most recent call last)",
      "\u001b[1;32m<ipython-input-71-5aa600e31cfe>\u001b[0m in \u001b[0;36m<module>\u001b[1;34m()\u001b[0m\n\u001b[1;32m----> 1\u001b[1;33m \u001b[0mlearn\u001b[0m\u001b[1;33m.\u001b[0m\u001b[0mlr_find\u001b[0m\u001b[1;33m(\u001b[0m\u001b[1;33m)\u001b[0m\u001b[1;33m\u001b[0m\u001b[1;33m\u001b[0m\u001b[0m\n\u001b[0m\u001b[0;32m      2\u001b[0m \u001b[0mlearn\u001b[0m\u001b[1;33m.\u001b[0m\u001b[0mrecorder\u001b[0m\u001b[1;33m.\u001b[0m\u001b[0mplot\u001b[0m\u001b[1;33m(\u001b[0m\u001b[1;33m)\u001b[0m\u001b[1;33m\u001b[0m\u001b[1;33m\u001b[0m\u001b[0m\n",
      "\u001b[1;32md:\\tools\\Anaconda3\\envs\\pytorch\\lib\\site-packages\\fastai\\train.py\u001b[0m in \u001b[0;36mlr_find\u001b[1;34m(learn, start_lr, end_lr, num_it, stop_div, wd)\u001b[0m\n\u001b[0;32m     30\u001b[0m     \u001b[0mcb\u001b[0m \u001b[1;33m=\u001b[0m \u001b[0mLRFinder\u001b[0m\u001b[1;33m(\u001b[0m\u001b[0mlearn\u001b[0m\u001b[1;33m,\u001b[0m \u001b[0mstart_lr\u001b[0m\u001b[1;33m,\u001b[0m \u001b[0mend_lr\u001b[0m\u001b[1;33m,\u001b[0m \u001b[0mnum_it\u001b[0m\u001b[1;33m,\u001b[0m \u001b[0mstop_div\u001b[0m\u001b[1;33m)\u001b[0m\u001b[1;33m\u001b[0m\u001b[1;33m\u001b[0m\u001b[0m\n\u001b[0;32m     31\u001b[0m     \u001b[0mepochs\u001b[0m \u001b[1;33m=\u001b[0m \u001b[0mint\u001b[0m\u001b[1;33m(\u001b[0m\u001b[0mnp\u001b[0m\u001b[1;33m.\u001b[0m\u001b[0mceil\u001b[0m\u001b[1;33m(\u001b[0m\u001b[0mnum_it\u001b[0m\u001b[1;33m/\u001b[0m\u001b[0mlen\u001b[0m\u001b[1;33m(\u001b[0m\u001b[0mlearn\u001b[0m\u001b[1;33m.\u001b[0m\u001b[0mdata\u001b[0m\u001b[1;33m.\u001b[0m\u001b[0mtrain_dl\u001b[0m\u001b[1;33m)\u001b[0m\u001b[1;33m)\u001b[0m\u001b[1;33m)\u001b[0m\u001b[1;33m\u001b[0m\u001b[1;33m\u001b[0m\u001b[0m\n\u001b[1;32m---> 32\u001b[1;33m     \u001b[0mlearn\u001b[0m\u001b[1;33m.\u001b[0m\u001b[0mfit\u001b[0m\u001b[1;33m(\u001b[0m\u001b[0mepochs\u001b[0m\u001b[1;33m,\u001b[0m \u001b[0mstart_lr\u001b[0m\u001b[1;33m,\u001b[0m \u001b[0mcallbacks\u001b[0m\u001b[1;33m=\u001b[0m\u001b[1;33m[\u001b[0m\u001b[0mcb\u001b[0m\u001b[1;33m]\u001b[0m\u001b[1;33m,\u001b[0m \u001b[0mwd\u001b[0m\u001b[1;33m=\u001b[0m\u001b[0mwd\u001b[0m\u001b[1;33m)\u001b[0m\u001b[1;33m\u001b[0m\u001b[1;33m\u001b[0m\u001b[0m\n\u001b[0m\u001b[0;32m     33\u001b[0m \u001b[1;33m\u001b[0m\u001b[0m\n\u001b[0;32m     34\u001b[0m def to_fp16(learn:Learner, loss_scale:float=None, max_noskip:int=1000, dynamic:bool=True, clip:float=None,\n",
      "\u001b[1;32md:\\tools\\Anaconda3\\envs\\pytorch\\lib\\site-packages\\fastai\\basic_train.py\u001b[0m in \u001b[0;36mfit\u001b[1;34m(self, epochs, lr, wd, callbacks)\u001b[0m\n\u001b[0;32m    194\u001b[0m         \u001b[0mcallbacks\u001b[0m \u001b[1;33m=\u001b[0m \u001b[1;33m[\u001b[0m\u001b[0mcb\u001b[0m\u001b[1;33m(\u001b[0m\u001b[0mself\u001b[0m\u001b[1;33m)\u001b[0m \u001b[1;32mfor\u001b[0m \u001b[0mcb\u001b[0m \u001b[1;32min\u001b[0m \u001b[0mself\u001b[0m\u001b[1;33m.\u001b[0m\u001b[0mcallback_fns\u001b[0m\u001b[1;33m]\u001b[0m \u001b[1;33m+\u001b[0m \u001b[0mlistify\u001b[0m\u001b[1;33m(\u001b[0m\u001b[0mcallbacks\u001b[0m\u001b[1;33m)\u001b[0m\u001b[1;33m\u001b[0m\u001b[1;33m\u001b[0m\u001b[0m\n\u001b[0;32m    195\u001b[0m         \u001b[1;32mif\u001b[0m \u001b[0mdefaults\u001b[0m\u001b[1;33m.\u001b[0m\u001b[0mextra_callbacks\u001b[0m \u001b[1;32mis\u001b[0m \u001b[1;32mnot\u001b[0m \u001b[1;32mNone\u001b[0m\u001b[1;33m:\u001b[0m \u001b[0mcallbacks\u001b[0m \u001b[1;33m+=\u001b[0m \u001b[0mdefaults\u001b[0m\u001b[1;33m.\u001b[0m\u001b[0mextra_callbacks\u001b[0m\u001b[1;33m\u001b[0m\u001b[1;33m\u001b[0m\u001b[0m\n\u001b[1;32m--> 196\u001b[1;33m         \u001b[0mfit\u001b[0m\u001b[1;33m(\u001b[0m\u001b[0mepochs\u001b[0m\u001b[1;33m,\u001b[0m \u001b[0mself\u001b[0m\u001b[1;33m,\u001b[0m \u001b[0mmetrics\u001b[0m\u001b[1;33m=\u001b[0m\u001b[0mself\u001b[0m\u001b[1;33m.\u001b[0m\u001b[0mmetrics\u001b[0m\u001b[1;33m,\u001b[0m \u001b[0mcallbacks\u001b[0m\u001b[1;33m=\u001b[0m\u001b[0mself\u001b[0m\u001b[1;33m.\u001b[0m\u001b[0mcallbacks\u001b[0m\u001b[1;33m+\u001b[0m\u001b[0mcallbacks\u001b[0m\u001b[1;33m)\u001b[0m\u001b[1;33m\u001b[0m\u001b[1;33m\u001b[0m\u001b[0m\n\u001b[0m\u001b[0;32m    197\u001b[0m \u001b[1;33m\u001b[0m\u001b[0m\n\u001b[0;32m    198\u001b[0m     \u001b[1;32mdef\u001b[0m \u001b[0mcreate_opt\u001b[0m\u001b[1;33m(\u001b[0m\u001b[0mself\u001b[0m\u001b[1;33m,\u001b[0m \u001b[0mlr\u001b[0m\u001b[1;33m:\u001b[0m\u001b[0mFloats\u001b[0m\u001b[1;33m,\u001b[0m \u001b[0mwd\u001b[0m\u001b[1;33m:\u001b[0m\u001b[0mFloats\u001b[0m\u001b[1;33m=\u001b[0m\u001b[1;36m0.\u001b[0m\u001b[1;33m)\u001b[0m\u001b[1;33m->\u001b[0m\u001b[1;32mNone\u001b[0m\u001b[1;33m:\u001b[0m\u001b[1;33m\u001b[0m\u001b[1;33m\u001b[0m\u001b[0m\n",
      "\u001b[1;32md:\\tools\\Anaconda3\\envs\\pytorch\\lib\\site-packages\\fastai\\basic_train.py\u001b[0m in \u001b[0;36mfit\u001b[1;34m(epochs, learn, callbacks, metrics)\u001b[0m\n\u001b[0;32m     98\u001b[0m             \u001b[1;32mfor\u001b[0m \u001b[0mxb\u001b[0m\u001b[1;33m,\u001b[0m\u001b[0myb\u001b[0m \u001b[1;32min\u001b[0m \u001b[0mprogress_bar\u001b[0m\u001b[1;33m(\u001b[0m\u001b[0mlearn\u001b[0m\u001b[1;33m.\u001b[0m\u001b[0mdata\u001b[0m\u001b[1;33m.\u001b[0m\u001b[0mtrain_dl\u001b[0m\u001b[1;33m,\u001b[0m \u001b[0mparent\u001b[0m\u001b[1;33m=\u001b[0m\u001b[0mpbar\u001b[0m\u001b[1;33m)\u001b[0m\u001b[1;33m:\u001b[0m\u001b[1;33m\u001b[0m\u001b[1;33m\u001b[0m\u001b[0m\n\u001b[0;32m     99\u001b[0m                 \u001b[0mxb\u001b[0m\u001b[1;33m,\u001b[0m \u001b[0myb\u001b[0m \u001b[1;33m=\u001b[0m \u001b[0mcb_handler\u001b[0m\u001b[1;33m.\u001b[0m\u001b[0mon_batch_begin\u001b[0m\u001b[1;33m(\u001b[0m\u001b[0mxb\u001b[0m\u001b[1;33m,\u001b[0m \u001b[0myb\u001b[0m\u001b[1;33m)\u001b[0m\u001b[1;33m\u001b[0m\u001b[1;33m\u001b[0m\u001b[0m\n\u001b[1;32m--> 100\u001b[1;33m                 \u001b[0mloss\u001b[0m \u001b[1;33m=\u001b[0m \u001b[0mloss_batch\u001b[0m\u001b[1;33m(\u001b[0m\u001b[0mlearn\u001b[0m\u001b[1;33m.\u001b[0m\u001b[0mmodel\u001b[0m\u001b[1;33m,\u001b[0m \u001b[0mxb\u001b[0m\u001b[1;33m,\u001b[0m \u001b[0myb\u001b[0m\u001b[1;33m,\u001b[0m \u001b[0mlearn\u001b[0m\u001b[1;33m.\u001b[0m\u001b[0mloss_func\u001b[0m\u001b[1;33m,\u001b[0m \u001b[0mlearn\u001b[0m\u001b[1;33m.\u001b[0m\u001b[0mopt\u001b[0m\u001b[1;33m,\u001b[0m \u001b[0mcb_handler\u001b[0m\u001b[1;33m)\u001b[0m\u001b[1;33m\u001b[0m\u001b[1;33m\u001b[0m\u001b[0m\n\u001b[0m\u001b[0;32m    101\u001b[0m                 \u001b[1;32mif\u001b[0m \u001b[0mcb_handler\u001b[0m\u001b[1;33m.\u001b[0m\u001b[0mon_batch_end\u001b[0m\u001b[1;33m(\u001b[0m\u001b[0mloss\u001b[0m\u001b[1;33m)\u001b[0m\u001b[1;33m:\u001b[0m \u001b[1;32mbreak\u001b[0m\u001b[1;33m\u001b[0m\u001b[1;33m\u001b[0m\u001b[0m\n\u001b[0;32m    102\u001b[0m \u001b[1;33m\u001b[0m\u001b[0m\n",
      "\u001b[1;32md:\\tools\\Anaconda3\\envs\\pytorch\\lib\\site-packages\\fastai\\basic_train.py\u001b[0m in \u001b[0;36mloss_batch\u001b[1;34m(model, xb, yb, loss_func, opt, cb_handler)\u001b[0m\n\u001b[0;32m     23\u001b[0m     \u001b[1;32mif\u001b[0m \u001b[1;32mnot\u001b[0m \u001b[0mis_listy\u001b[0m\u001b[1;33m(\u001b[0m\u001b[0mxb\u001b[0m\u001b[1;33m)\u001b[0m\u001b[1;33m:\u001b[0m \u001b[0mxb\u001b[0m \u001b[1;33m=\u001b[0m \u001b[1;33m[\u001b[0m\u001b[0mxb\u001b[0m\u001b[1;33m]\u001b[0m\u001b[1;33m\u001b[0m\u001b[1;33m\u001b[0m\u001b[0m\n\u001b[0;32m     24\u001b[0m     \u001b[1;32mif\u001b[0m \u001b[1;32mnot\u001b[0m \u001b[0mis_listy\u001b[0m\u001b[1;33m(\u001b[0m\u001b[0myb\u001b[0m\u001b[1;33m)\u001b[0m\u001b[1;33m:\u001b[0m \u001b[0myb\u001b[0m \u001b[1;33m=\u001b[0m \u001b[1;33m[\u001b[0m\u001b[0myb\u001b[0m\u001b[1;33m]\u001b[0m\u001b[1;33m\u001b[0m\u001b[1;33m\u001b[0m\u001b[0m\n\u001b[1;32m---> 25\u001b[1;33m     \u001b[0mout\u001b[0m \u001b[1;33m=\u001b[0m \u001b[0mmodel\u001b[0m\u001b[1;33m(\u001b[0m\u001b[1;33m*\u001b[0m\u001b[0mxb\u001b[0m\u001b[1;33m)\u001b[0m\u001b[1;33m\u001b[0m\u001b[1;33m\u001b[0m\u001b[0m\n\u001b[0m\u001b[0;32m     26\u001b[0m     \u001b[0mout\u001b[0m \u001b[1;33m=\u001b[0m \u001b[0mcb_handler\u001b[0m\u001b[1;33m.\u001b[0m\u001b[0mon_loss_begin\u001b[0m\u001b[1;33m(\u001b[0m\u001b[0mout\u001b[0m\u001b[1;33m)\u001b[0m\u001b[1;33m\u001b[0m\u001b[1;33m\u001b[0m\u001b[0m\n\u001b[0;32m     27\u001b[0m \u001b[1;33m\u001b[0m\u001b[0m\n",
      "\u001b[1;32md:\\tools\\Anaconda3\\envs\\pytorch\\lib\\site-packages\\torch\\nn\\modules\\module.py\u001b[0m in \u001b[0;36m__call__\u001b[1;34m(self, *input, **kwargs)\u001b[0m\n\u001b[0;32m    487\u001b[0m             \u001b[0mresult\u001b[0m \u001b[1;33m=\u001b[0m \u001b[0mself\u001b[0m\u001b[1;33m.\u001b[0m\u001b[0m_slow_forward\u001b[0m\u001b[1;33m(\u001b[0m\u001b[1;33m*\u001b[0m\u001b[0minput\u001b[0m\u001b[1;33m,\u001b[0m \u001b[1;33m**\u001b[0m\u001b[0mkwargs\u001b[0m\u001b[1;33m)\u001b[0m\u001b[1;33m\u001b[0m\u001b[1;33m\u001b[0m\u001b[0m\n\u001b[0;32m    488\u001b[0m         \u001b[1;32melse\u001b[0m\u001b[1;33m:\u001b[0m\u001b[1;33m\u001b[0m\u001b[1;33m\u001b[0m\u001b[0m\n\u001b[1;32m--> 489\u001b[1;33m             \u001b[0mresult\u001b[0m \u001b[1;33m=\u001b[0m \u001b[0mself\u001b[0m\u001b[1;33m.\u001b[0m\u001b[0mforward\u001b[0m\u001b[1;33m(\u001b[0m\u001b[1;33m*\u001b[0m\u001b[0minput\u001b[0m\u001b[1;33m,\u001b[0m \u001b[1;33m**\u001b[0m\u001b[0mkwargs\u001b[0m\u001b[1;33m)\u001b[0m\u001b[1;33m\u001b[0m\u001b[1;33m\u001b[0m\u001b[0m\n\u001b[0m\u001b[0;32m    490\u001b[0m         \u001b[1;32mfor\u001b[0m \u001b[0mhook\u001b[0m \u001b[1;32min\u001b[0m \u001b[0mself\u001b[0m\u001b[1;33m.\u001b[0m\u001b[0m_forward_hooks\u001b[0m\u001b[1;33m.\u001b[0m\u001b[0mvalues\u001b[0m\u001b[1;33m(\u001b[0m\u001b[1;33m)\u001b[0m\u001b[1;33m:\u001b[0m\u001b[1;33m\u001b[0m\u001b[1;33m\u001b[0m\u001b[0m\n\u001b[0;32m    491\u001b[0m             \u001b[0mhook_result\u001b[0m \u001b[1;33m=\u001b[0m \u001b[0mhook\u001b[0m\u001b[1;33m(\u001b[0m\u001b[0mself\u001b[0m\u001b[1;33m,\u001b[0m \u001b[0minput\u001b[0m\u001b[1;33m,\u001b[0m \u001b[0mresult\u001b[0m\u001b[1;33m)\u001b[0m\u001b[1;33m\u001b[0m\u001b[1;33m\u001b[0m\u001b[0m\n",
      "\u001b[1;32m<ipython-input-69-0529ce6a1ce2>\u001b[0m in \u001b[0;36mforward\u001b[1;34m(self, inp, y, ret_attn)\u001b[0m\n\u001b[0;32m     33\u001b[0m         \u001b[0mpdb\u001b[0m\u001b[1;33m.\u001b[0m\u001b[0mset_trace\u001b[0m\u001b[1;33m(\u001b[0m\u001b[1;33m)\u001b[0m\u001b[1;33m\u001b[0m\u001b[1;33m\u001b[0m\u001b[0m\n\u001b[0;32m     34\u001b[0m \u001b[1;31m#         dec_inp = V(torch.zeros(bs).long())\u001b[0m\u001b[1;33m\u001b[0m\u001b[1;33m\u001b[0m\u001b[1;33m\u001b[0m\u001b[0m\n\u001b[1;32m---> 35\u001b[1;33m         \u001b[0mdec_inp\u001b[0m \u001b[1;33m=\u001b[0m \u001b[0mto_device\u001b[0m\u001b[1;33m(\u001b[0m\u001b[0mtorch\u001b[0m\u001b[1;33m.\u001b[0m\u001b[0mzeros\u001b[0m\u001b[1;33m(\u001b[0m\u001b[0mbs\u001b[0m\u001b[1;33m)\u001b[0m\u001b[1;33m.\u001b[0m\u001b[0mlong\u001b[0m\u001b[1;33m(\u001b[0m\u001b[1;33m)\u001b[0m\u001b[1;33m,\u001b[0m \u001b[1;34m'cuda:0'\u001b[0m\u001b[1;33m)\u001b[0m\u001b[1;33m\u001b[0m\u001b[1;33m\u001b[0m\u001b[0m\n\u001b[0m\u001b[0;32m     36\u001b[0m \u001b[1;31m#         dec_inp = to_device(torch.nn.Parameter(torch.zeros(bs).long()), 'cuda:0')\u001b[0m\u001b[1;33m\u001b[0m\u001b[1;33m\u001b[0m\u001b[1;33m\u001b[0m\u001b[0m\n\u001b[0;32m     37\u001b[0m         \u001b[0mres\u001b[0m\u001b[1;33m,\u001b[0m\u001b[0mattns\u001b[0m \u001b[1;33m=\u001b[0m \u001b[1;33m[\u001b[0m\u001b[1;33m]\u001b[0m\u001b[1;33m,\u001b[0m\u001b[1;33m[\u001b[0m\u001b[1;33m]\u001b[0m\u001b[1;33m\u001b[0m\u001b[1;33m\u001b[0m\u001b[0m\n",
      "\u001b[1;32m<ipython-input-69-0529ce6a1ce2>\u001b[0m in \u001b[0;36m_get_new_topk_h\u001b[1;34m(self, w1e, enc_out, dec_inp, h, s, attns)\u001b[0m\n\u001b[0;32m    118\u001b[0m         \u001b[0memb\u001b[0m \u001b[1;33m=\u001b[0m \u001b[0mself\u001b[0m\u001b[1;33m.\u001b[0m\u001b[0memb_enc\u001b[0m\u001b[1;33m(\u001b[0m\u001b[0mdec_inp\u001b[0m\u001b[1;33m)\u001b[0m\u001b[1;33m\u001b[0m\u001b[1;33m\u001b[0m\u001b[0m\n\u001b[0;32m    119\u001b[0m         \u001b[0mwgt_enc\u001b[0m \u001b[1;33m=\u001b[0m \u001b[0mself\u001b[0m\u001b[1;33m.\u001b[0m\u001b[0ml3\u001b[0m\u001b[1;33m(\u001b[0m\u001b[0mtorch\u001b[0m\u001b[1;33m.\u001b[0m\u001b[0mcat\u001b[0m\u001b[1;33m(\u001b[0m\u001b[1;33m[\u001b[0m\u001b[0memb\u001b[0m\u001b[1;33m,\u001b[0m \u001b[0mXa\u001b[0m\u001b[1;33m]\u001b[0m\u001b[1;33m,\u001b[0m \u001b[1;36m1\u001b[0m\u001b[1;33m)\u001b[0m\u001b[1;33m)\u001b[0m\u001b[1;33m\u001b[0m\u001b[1;33m\u001b[0m\u001b[0m\n\u001b[1;32m--> 120\u001b[1;33m         \u001b[0moutp\u001b[0m\u001b[1;33m,\u001b[0m \u001b[0mh\u001b[0m \u001b[1;33m=\u001b[0m \u001b[0mself\u001b[0m\u001b[1;33m.\u001b[0m\u001b[0mgru_dec\u001b[0m\u001b[1;33m(\u001b[0m\u001b[0mwgt_enc\u001b[0m\u001b[1;33m.\u001b[0m\u001b[0munsqueeze\u001b[0m\u001b[1;33m(\u001b[0m\u001b[1;36m0\u001b[0m\u001b[1;33m)\u001b[0m\u001b[1;33m,\u001b[0m \u001b[0mh\u001b[0m\u001b[1;33m)\u001b[0m\u001b[1;33m\u001b[0m\u001b[1;33m\u001b[0m\u001b[0m\n\u001b[0m\u001b[0;32m    121\u001b[0m         \u001b[0moutp\u001b[0m \u001b[1;33m=\u001b[0m \u001b[0mself\u001b[0m\u001b[1;33m.\u001b[0m\u001b[0mout\u001b[0m\u001b[1;33m(\u001b[0m\u001b[0mself\u001b[0m\u001b[1;33m.\u001b[0m\u001b[0mout_drop\u001b[0m\u001b[1;33m(\u001b[0m\u001b[0moutp\u001b[0m\u001b[1;33m[\u001b[0m\u001b[1;36m0\u001b[0m\u001b[1;33m]\u001b[0m\u001b[1;33m)\u001b[0m\u001b[1;33m)\u001b[0m\u001b[1;33m\u001b[0m\u001b[1;33m\u001b[0m\u001b[0m\n\u001b[0;32m    122\u001b[0m         \u001b[0moutp\u001b[0m \u001b[1;33m=\u001b[0m \u001b[0mF\u001b[0m\u001b[1;33m.\u001b[0m\u001b[0msoftmax\u001b[0m\u001b[1;33m(\u001b[0m\u001b[0moutp\u001b[0m\u001b[1;33m,\u001b[0m \u001b[0mdim\u001b[0m\u001b[1;33m=\u001b[0m\u001b[1;36m1\u001b[0m\u001b[1;33m)\u001b[0m\u001b[1;33m\u001b[0m\u001b[1;33m\u001b[0m\u001b[0m\n",
      "\u001b[1;32md:\\tools\\Anaconda3\\envs\\pytorch\\lib\\site-packages\\torch\\nn\\modules\\module.py\u001b[0m in \u001b[0;36m__call__\u001b[1;34m(self, *input, **kwargs)\u001b[0m\n\u001b[0;32m    487\u001b[0m             \u001b[0mresult\u001b[0m \u001b[1;33m=\u001b[0m \u001b[0mself\u001b[0m\u001b[1;33m.\u001b[0m\u001b[0m_slow_forward\u001b[0m\u001b[1;33m(\u001b[0m\u001b[1;33m*\u001b[0m\u001b[0minput\u001b[0m\u001b[1;33m,\u001b[0m \u001b[1;33m**\u001b[0m\u001b[0mkwargs\u001b[0m\u001b[1;33m)\u001b[0m\u001b[1;33m\u001b[0m\u001b[1;33m\u001b[0m\u001b[0m\n\u001b[0;32m    488\u001b[0m         \u001b[1;32melse\u001b[0m\u001b[1;33m:\u001b[0m\u001b[1;33m\u001b[0m\u001b[1;33m\u001b[0m\u001b[0m\n\u001b[1;32m--> 489\u001b[1;33m             \u001b[0mresult\u001b[0m \u001b[1;33m=\u001b[0m \u001b[0mself\u001b[0m\u001b[1;33m.\u001b[0m\u001b[0mforward\u001b[0m\u001b[1;33m(\u001b[0m\u001b[1;33m*\u001b[0m\u001b[0minput\u001b[0m\u001b[1;33m,\u001b[0m \u001b[1;33m**\u001b[0m\u001b[0mkwargs\u001b[0m\u001b[1;33m)\u001b[0m\u001b[1;33m\u001b[0m\u001b[1;33m\u001b[0m\u001b[0m\n\u001b[0m\u001b[0;32m    490\u001b[0m         \u001b[1;32mfor\u001b[0m \u001b[0mhook\u001b[0m \u001b[1;32min\u001b[0m \u001b[0mself\u001b[0m\u001b[1;33m.\u001b[0m\u001b[0m_forward_hooks\u001b[0m\u001b[1;33m.\u001b[0m\u001b[0mvalues\u001b[0m\u001b[1;33m(\u001b[0m\u001b[1;33m)\u001b[0m\u001b[1;33m:\u001b[0m\u001b[1;33m\u001b[0m\u001b[1;33m\u001b[0m\u001b[0m\n\u001b[0;32m    491\u001b[0m             \u001b[0mhook_result\u001b[0m \u001b[1;33m=\u001b[0m \u001b[0mhook\u001b[0m\u001b[1;33m(\u001b[0m\u001b[0mself\u001b[0m\u001b[1;33m,\u001b[0m \u001b[0minput\u001b[0m\u001b[1;33m,\u001b[0m \u001b[0mresult\u001b[0m\u001b[1;33m)\u001b[0m\u001b[1;33m\u001b[0m\u001b[1;33m\u001b[0m\u001b[0m\n",
      "\u001b[1;32md:\\tools\\Anaconda3\\envs\\pytorch\\lib\\site-packages\\torch\\nn\\modules\\rnn.py\u001b[0m in \u001b[0;36mforward\u001b[1;34m(self, input, hx)\u001b[0m\n\u001b[0;32m    173\u001b[0m                 \u001b[0mhx\u001b[0m \u001b[1;33m=\u001b[0m \u001b[1;33m(\u001b[0m\u001b[0mhx\u001b[0m\u001b[1;33m,\u001b[0m \u001b[0mhx\u001b[0m\u001b[1;33m)\u001b[0m\u001b[1;33m\u001b[0m\u001b[1;33m\u001b[0m\u001b[0m\n\u001b[0;32m    174\u001b[0m \u001b[1;33m\u001b[0m\u001b[0m\n\u001b[1;32m--> 175\u001b[1;33m         \u001b[0mself\u001b[0m\u001b[1;33m.\u001b[0m\u001b[0mcheck_forward_args\u001b[0m\u001b[1;33m(\u001b[0m\u001b[0minput\u001b[0m\u001b[1;33m,\u001b[0m \u001b[0mhx\u001b[0m\u001b[1;33m,\u001b[0m \u001b[0mbatch_sizes\u001b[0m\u001b[1;33m)\u001b[0m\u001b[1;33m\u001b[0m\u001b[1;33m\u001b[0m\u001b[0m\n\u001b[0m\u001b[0;32m    176\u001b[0m         \u001b[0m_impl\u001b[0m \u001b[1;33m=\u001b[0m \u001b[0m_rnn_impls\u001b[0m\u001b[1;33m[\u001b[0m\u001b[0mself\u001b[0m\u001b[1;33m.\u001b[0m\u001b[0mmode\u001b[0m\u001b[1;33m]\u001b[0m\u001b[1;33m\u001b[0m\u001b[1;33m\u001b[0m\u001b[0m\n\u001b[0;32m    177\u001b[0m         \u001b[1;32mif\u001b[0m \u001b[0mbatch_sizes\u001b[0m \u001b[1;32mis\u001b[0m \u001b[1;32mNone\u001b[0m\u001b[1;33m:\u001b[0m\u001b[1;33m\u001b[0m\u001b[1;33m\u001b[0m\u001b[0m\n",
      "\u001b[1;32md:\\tools\\Anaconda3\\envs\\pytorch\\lib\\site-packages\\torch\\nn\\modules\\rnn.py\u001b[0m in \u001b[0;36mcheck_forward_args\u001b[1;34m(self, input, hidden, batch_sizes)\u001b[0m\n\u001b[0;32m    154\u001b[0m                               'Expected hidden[1] size {}, got {}')\n\u001b[0;32m    155\u001b[0m         \u001b[1;32melse\u001b[0m\u001b[1;33m:\u001b[0m\u001b[1;33m\u001b[0m\u001b[1;33m\u001b[0m\u001b[0m\n\u001b[1;32m--> 156\u001b[1;33m             \u001b[0mcheck_hidden_size\u001b[0m\u001b[1;33m(\u001b[0m\u001b[0mhidden\u001b[0m\u001b[1;33m,\u001b[0m \u001b[0mexpected_hidden_size\u001b[0m\u001b[1;33m)\u001b[0m\u001b[1;33m\u001b[0m\u001b[1;33m\u001b[0m\u001b[0m\n\u001b[0m\u001b[0;32m    157\u001b[0m \u001b[1;33m\u001b[0m\u001b[0m\n\u001b[0;32m    158\u001b[0m     \u001b[1;32mdef\u001b[0m \u001b[0mforward\u001b[0m\u001b[1;33m(\u001b[0m\u001b[0mself\u001b[0m\u001b[1;33m,\u001b[0m \u001b[0minput\u001b[0m\u001b[1;33m,\u001b[0m \u001b[0mhx\u001b[0m\u001b[1;33m=\u001b[0m\u001b[1;32mNone\u001b[0m\u001b[1;33m)\u001b[0m\u001b[1;33m:\u001b[0m\u001b[1;33m\u001b[0m\u001b[1;33m\u001b[0m\u001b[0m\n",
      "\u001b[1;32md:\\tools\\Anaconda3\\envs\\pytorch\\lib\\site-packages\\torch\\nn\\modules\\rnn.py\u001b[0m in \u001b[0;36mcheck_hidden_size\u001b[1;34m(hx, expected_hidden_size, msg)\u001b[0m\n\u001b[0;32m    146\u001b[0m         \u001b[1;32mdef\u001b[0m \u001b[0mcheck_hidden_size\u001b[0m\u001b[1;33m(\u001b[0m\u001b[0mhx\u001b[0m\u001b[1;33m,\u001b[0m \u001b[0mexpected_hidden_size\u001b[0m\u001b[1;33m,\u001b[0m \u001b[0mmsg\u001b[0m\u001b[1;33m=\u001b[0m\u001b[1;34m'Expected hidden size {}, got {}'\u001b[0m\u001b[1;33m)\u001b[0m\u001b[1;33m:\u001b[0m\u001b[1;33m\u001b[0m\u001b[1;33m\u001b[0m\u001b[0m\n\u001b[0;32m    147\u001b[0m             \u001b[1;32mif\u001b[0m \u001b[0mtuple\u001b[0m\u001b[1;33m(\u001b[0m\u001b[0mhx\u001b[0m\u001b[1;33m.\u001b[0m\u001b[0msize\u001b[0m\u001b[1;33m(\u001b[0m\u001b[1;33m)\u001b[0m\u001b[1;33m)\u001b[0m \u001b[1;33m!=\u001b[0m \u001b[0mexpected_hidden_size\u001b[0m\u001b[1;33m:\u001b[0m\u001b[1;33m\u001b[0m\u001b[1;33m\u001b[0m\u001b[0m\n\u001b[1;32m--> 148\u001b[1;33m                 \u001b[1;32mraise\u001b[0m \u001b[0mRuntimeError\u001b[0m\u001b[1;33m(\u001b[0m\u001b[0mmsg\u001b[0m\u001b[1;33m.\u001b[0m\u001b[0mformat\u001b[0m\u001b[1;33m(\u001b[0m\u001b[0mexpected_hidden_size\u001b[0m\u001b[1;33m,\u001b[0m \u001b[0mtuple\u001b[0m\u001b[1;33m(\u001b[0m\u001b[0mhx\u001b[0m\u001b[1;33m.\u001b[0m\u001b[0msize\u001b[0m\u001b[1;33m(\u001b[0m\u001b[1;33m)\u001b[0m\u001b[1;33m)\u001b[0m\u001b[1;33m)\u001b[0m\u001b[1;33m)\u001b[0m\u001b[1;33m\u001b[0m\u001b[1;33m\u001b[0m\u001b[0m\n\u001b[0m\u001b[0;32m    149\u001b[0m \u001b[1;33m\u001b[0m\u001b[0m\n\u001b[0;32m    150\u001b[0m         \u001b[1;32mif\u001b[0m \u001b[0mself\u001b[0m\u001b[1;33m.\u001b[0m\u001b[0mmode\u001b[0m \u001b[1;33m==\u001b[0m \u001b[1;34m'LSTM'\u001b[0m\u001b[1;33m:\u001b[0m\u001b[1;33m\u001b[0m\u001b[1;33m\u001b[0m\u001b[0m\n",
      "\u001b[1;31mRuntimeError\u001b[0m: Expected hidden size (2, 64, 300), got (4, 64, 300)"
     ]
    },
    {
     "name": "stdout",
     "output_type": "stream",
     "text": [
      "> d:\\tools\\anaconda3\\envs\\pytorch\\lib\\site-packages\\torch\\nn\\modules\\rnn.py(148)check_hidden_size()\n",
      "    146         def check_hidden_size(hx, expected_hidden_size, msg='Expected hidden size {}, got {}'):\n",
      "    147             if tuple(hx.size()) != expected_hidden_size:\n",
      "--> 148                 raise RuntimeError(msg.format(expected_hidden_size, tuple(hx.size())))\n",
      "    149 \n",
      "    150         if self.mode == 'LSTM':\n",
      "\n",
      "ipdb> where\n",
      "  <ipython-input-71-5aa600e31cfe>(1)<module>()\n",
      "----> 1 learn.lr_find()\n",
      "      2 learn.recorder.plot()\n",
      "\n",
      "  d:\\tools\\anaconda3\\envs\\pytorch\\lib\\site-packages\\fastai\\train.py(32)lr_find()\n",
      "     30     cb = LRFinder(learn, start_lr, end_lr, num_it, stop_div)\n",
      "     31     epochs = int(np.ceil(num_it/len(learn.data.train_dl)))\n",
      "---> 32     learn.fit(epochs, start_lr, callbacks=[cb], wd=wd)\n",
      "     33 \n",
      "     34 def to_fp16(learn:Learner, loss_scale:float=None, max_noskip:int=1000, dynamic:bool=True, clip:float=None,\n",
      "\n",
      "  d:\\tools\\anaconda3\\envs\\pytorch\\lib\\site-packages\\fastai\\basic_train.py(196)fit()\n",
      "    194         callbacks = [cb(self) for cb in self.callback_fns] + listify(callbacks)\n",
      "    195         if defaults.extra_callbacks is not None: callbacks += defaults.extra_callbacks\n",
      "--> 196         fit(epochs, self, metrics=self.metrics, callbacks=self.callbacks+callbacks)\n",
      "    197 \n",
      "    198     def create_opt(self, lr:Floats, wd:Floats=0.)->None:\n",
      "\n",
      "  d:\\tools\\anaconda3\\envs\\pytorch\\lib\\site-packages\\fastai\\basic_train.py(111)fit()\n",
      "    109         exception = e\n",
      "    110         raise\n",
      "--> 111     finally: cb_handler.on_train_end(exception)\n",
      "    112 \n",
      "    113 loss_func_name2activ = {'cross_entropy_loss': F.softmax, 'nll_loss': torch.exp, 'poisson_nll_loss': torch.exp,\n",
      "\n",
      "  d:\\tools\\anaconda3\\envs\\pytorch\\lib\\site-packages\\fastai\\basic_train.py(25)loss_batch()\n",
      "     23     if not is_listy(xb): xb = [xb]\n",
      "     24     if not is_listy(yb): yb = [yb]\n",
      "---> 25     out = model(*xb)\n",
      "     26     out = cb_handler.on_loss_begin(out)\n",
      "     27 \n",
      "\n",
      "  d:\\tools\\anaconda3\\envs\\pytorch\\lib\\site-packages\\torch\\nn\\modules\\module.py(489)__call__()\n",
      "    487             result = self._slow_forward(*input, **kwargs)\n",
      "    488         else:\n",
      "--> 489             result = self.forward(*input, **kwargs)\n",
      "    490         for hook in self._forward_hooks.values():\n",
      "    491             hook_result = hook(self, input, result)\n",
      "\n",
      "  <ipython-input-69-0529ce6a1ce2>(35)forward()\n",
      "     33         pdb.set_trace()\n",
      "     34 #         dec_inp = V(torch.zeros(bs).long())\n",
      "---> 35         dec_inp = to_device(torch.zeros(bs).long(), 'cuda:0')\n",
      "     36 #         dec_inp = to_device(torch.nn.Parameter(torch.zeros(bs).long()), 'cuda:0')\n",
      "     37         res,attns = [],[]\n",
      "\n",
      "  <ipython-input-69-0529ce6a1ce2>(120)_get_new_topk_h()\n",
      "    118         emb = self.emb_enc(dec_inp)\n",
      "    119         wgt_enc = self.l3(torch.cat([emb, Xa], 1))\n",
      "--> 120         outp, h = self.gru_dec(wgt_enc.unsqueeze(0), h)\n",
      "    121         outp = self.out(self.out_drop(outp[0]))\n",
      "    122         outp = F.softmax(outp, dim=1)\n",
      "\n",
      "  d:\\tools\\anaconda3\\envs\\pytorch\\lib\\site-packages\\torch\\nn\\modules\\module.py(489)__call__()\n",
      "    487             result = self._slow_forward(*input, **kwargs)\n",
      "    488         else:\n",
      "--> 489             result = self.forward(*input, **kwargs)\n",
      "    490         for hook in self._forward_hooks.values():\n",
      "    491             hook_result = hook(self, input, result)\n",
      "\n",
      "  d:\\tools\\anaconda3\\envs\\pytorch\\lib\\site-packages\\torch\\nn\\modules\\rnn.py(175)forward()\n",
      "    173                 hx = (hx, hx)\n",
      "    174 \n",
      "--> 175         self.check_forward_args(input, hx, batch_sizes)\n",
      "    176         _impl = _rnn_impls[self.mode]\n",
      "    177         if batch_sizes is None:\n",
      "\n",
      "  d:\\tools\\anaconda3\\envs\\pytorch\\lib\\site-packages\\torch\\nn\\modules\\rnn.py(156)check_forward_args()\n",
      "    154                               'Expected hidden[1] size {}, got {}')\n",
      "    155         else:\n",
      "--> 156             check_hidden_size(hidden, expected_hidden_size)\n",
      "    157 \n",
      "    158     def forward(self, input, hx=None):\n",
      "\n",
      "> d:\\tools\\anaconda3\\envs\\pytorch\\lib\\site-packages\\torch\\nn\\modules\\rnn.py(148)check_hidden_size()\n",
      "    146         def check_hidden_size(hx, expected_hidden_size, msg='Expected hidden size {}, got {}'):\n",
      "    147             if tuple(hx.size()) != expected_hidden_size:\n",
      "--> 148                 raise RuntimeError(msg.format(expected_hidden_size, tuple(hx.size())))\n",
      "    149 \n",
      "    150         if self.mode == 'LSTM':\n",
      "\n",
      "ipdb> q\n"
     ]
    }
   ],
   "source": [
    "learn.lr_find()\n",
    "learn.recorder.plot()"
   ]
  },
  {
   "cell_type": "raw",
   "metadata": {},
   "source": [
    "lr="
   ]
  },
  {
   "cell_type": "code",
   "execution_count": null,
   "metadata": {
    "collapsed": true
   },
   "outputs": [],
   "source": [
    "learn.fit_one_cycle(cyc_len=50, max_lr=lr)"
   ]
  },
  {
   "cell_type": "code",
   "execution_count": null,
   "metadata": {
    "collapsed": true
   },
   "outputs": [],
   "source": [
    "learn.save('attn-beam-100')"
   ]
  },
  {
   "cell_type": "markdown",
   "metadata": {
    "colab_type": "text",
    "id": "jTk_UIN7EZTU"
   },
   "source": [
    "### Test"
   ]
  },
  {
   "cell_type": "code",
   "execution_count": 41,
   "metadata": {
    "colab": {},
    "colab_type": "code",
    "id": "UNeQuLOdEZTX"
   },
   "outputs": [
    {
     "ename": "NameError",
     "evalue": "name 'val_dl' is not defined",
     "output_type": "error",
     "traceback": [
      "\u001b[1;31m---------------------------------------------------------------------------\u001b[0m",
      "\u001b[1;31mNameError\u001b[0m                                 Traceback (most recent call last)",
      "\u001b[1;32m<ipython-input-41-4ad0dc30a418>\u001b[0m in \u001b[0;36m<module>\u001b[1;34m()\u001b[0m\n\u001b[1;32m----> 1\u001b[1;33m \u001b[0mx\u001b[0m\u001b[1;33m,\u001b[0m\u001b[0my\u001b[0m \u001b[1;33m=\u001b[0m \u001b[0mnext\u001b[0m\u001b[1;33m(\u001b[0m\u001b[0miter\u001b[0m\u001b[1;33m(\u001b[0m\u001b[0mval_dl\u001b[0m\u001b[1;33m)\u001b[0m\u001b[1;33m)\u001b[0m\u001b[1;33m\u001b[0m\u001b[1;33m\u001b[0m\u001b[0m\n\u001b[0m\u001b[0;32m      2\u001b[0m \u001b[0mprobs\u001b[0m\u001b[1;33m,\u001b[0m\u001b[0mattns\u001b[0m \u001b[1;33m=\u001b[0m \u001b[0mlearn\u001b[0m\u001b[1;33m.\u001b[0m\u001b[0mmodel\u001b[0m\u001b[1;33m(\u001b[0m\u001b[0mV\u001b[0m\u001b[1;33m(\u001b[0m\u001b[0mx\u001b[0m\u001b[1;33m)\u001b[0m\u001b[1;33m,\u001b[0m\u001b[0mret_attn\u001b[0m\u001b[1;33m=\u001b[0m\u001b[1;32mTrue\u001b[0m\u001b[1;33m)\u001b[0m\u001b[1;33m\u001b[0m\u001b[1;33m\u001b[0m\u001b[0m\n\u001b[0;32m      3\u001b[0m \u001b[0mpreds\u001b[0m \u001b[1;33m=\u001b[0m \u001b[0mto_np\u001b[0m\u001b[1;33m(\u001b[0m\u001b[0mprobs\u001b[0m\u001b[1;33m.\u001b[0m\u001b[0mmax\u001b[0m\u001b[1;33m(\u001b[0m\u001b[1;36m2\u001b[0m\u001b[1;33m)\u001b[0m\u001b[1;33m[\u001b[0m\u001b[1;36m1\u001b[0m\u001b[1;33m]\u001b[0m\u001b[1;33m)\u001b[0m\u001b[1;33m\u001b[0m\u001b[1;33m\u001b[0m\u001b[0m\n",
      "\u001b[1;31mNameError\u001b[0m: name 'val_dl' is not defined"
     ]
    },
    {
     "name": "stdout",
     "output_type": "stream",
     "text": [
      "> <ipython-input-41-4ad0dc30a418>(1)<module>()\n",
      "----> 1 x,y = next(iter(val_dl))\n",
      "      2 probs,attns = learn.model(V(x),ret_attn=True)\n",
      "      3 preds = to_np(probs.max(2)[1])\n",
      "\n",
      "ipdb> c\n"
     ]
    }
   ],
   "source": [
    "x,y = next(iter(val_dl))\n",
    "probs,attns = learn.model(V(x),ret_attn=True)\n",
    "preds = to_np(probs.max(2)[1])"
   ]
  },
  {
   "cell_type": "code",
   "execution_count": 0,
   "metadata": {
    "colab": {},
    "colab_type": "code",
    "id": "UtU-x5uiEZTc",
    "outputId": "d940bdd4-ec8c-4c35-db6c-6fffe5d8c554"
   },
   "outputs": [
    {
     "name": "stdout",
     "output_type": "stream",
     "text": [
      "quels facteurs pourraient influer sur le choix de leur emplacement ? _eos_\n",
      "what factors influencetheir location ? _eos_\n",
      "what factors might influence the their their their ? _eos_\n",
      "\n",
      "qu’ est -ce qui ne peut pas changer ? _eos_\n",
      "what can not change ? _eos_\n",
      "what can not change change ? _eos_\n",
      "\n",
      "que faites - vous ? _eos_\n",
      "what do you do ? _eos_\n",
      "what do you do ? _eos_\n",
      "\n",
      "qui réglemente les pylônes d' antennes ? _eos_\n",
      "who regulates antenna towers ? _eos_\n",
      "who regulates the lights ? ? _eos_\n",
      "\n",
      "où sont - ils situés ? _eos_\n",
      "where are they located ? _eos_\n",
      "where are they located ? _eos_\n",
      "\n",
      "quelles sont leurs compétences ? _eos_\n",
      "what are their qualifications ? _eos_\n",
      "what are their skills ? _eos_\n",
      "\n",
      "qui est victime de harcèlement sexuel ? _eos_\n",
      "who experiences sexual harassment ? _eos_\n",
      "who is victim sexual sexual ? _eos_\n",
      "\n",
      "quelles sont les personnes qui visitent les communautés autochtones ? _eos_\n",
      "who visits indigenous communities ? _eos_\n",
      "who is people people aboriginal people ? _eos_\n",
      "\n",
      "pourquoi ces trois points en particulier ? _eos_\n",
      "why these specific three ? _eos_\n",
      "why are these three three ? ? _eos_\n",
      "\n",
      "pourquoi ou pourquoi pas ? _eos_\n",
      "why or why not ? _eos_\n",
      "why or why not ? _eos_\n",
      "\n"
     ]
    }
   ],
   "source": [
    "for i in range(180,190):\n",
    "    print(' '.join([fr_itos[o] for o in x[:,i] if o != 1]))\n",
    "    print(' '.join([en_itos[o] for o in y[:,i] if o != 1]))\n",
    "    print(' '.join([en_itos[o] for o in preds[:,i] if o!=1]))\n",
    "    print()"
   ]
  },
  {
   "cell_type": "code",
   "execution_count": 0,
   "metadata": {
    "colab": {},
    "colab_type": "code",
    "collapsed": true,
    "id": "G292kzweEZUb"
   },
   "outputs": [],
   "source": [
    "attn = to_np(attns[...,180])"
   ]
  },
  {
   "cell_type": "code",
   "execution_count": 0,
   "metadata": {
    "colab": {},
    "colab_type": "code",
    "id": "QQFKZpg8EZUf",
    "outputId": "587ce242-d323-4849-8bcf-65104a704106"
   },
   "outputs": [
    {
     "data": {
      "image/png": "[encoded data removed]",
      "text/plain": [
       "<matplotlib.figure.Figure at 0x7f27d3ffeba8>"
      ]
     },
     "metadata": {
      "tags": []
     },
     "output_type": "display_data"
    }
   ],
   "source": [
    "fig, axes = plt.subplots(3, 3, figsize=(15, 10))\n",
    "for i,ax in enumerate(axes.flat):\n",
    "    ax.plot(attn[i])"
   ]
  },
  {
   "cell_type": "markdown",
   "metadata": {
    "colab_type": "text",
    "id": "X0huL4LZEZU6"
   },
   "source": [
    "## All"
   ]
  },
  {
   "cell_type": "code",
   "execution_count": 0,
   "metadata": {
    "colab": {},
    "colab_type": "code",
    "collapsed": true,
    "id": "wR6Ake2jEZU6"
   },
   "outputs": [],
   "source": [
    "class Seq2SeqRNN_All(nn.Module):\n",
    "    def __init__(self, vecs_enc, itos_enc, em_sz_enc, vecs_dec, itos_dec, em_sz_dec, nh, out_sl, nl=2):\n",
    "        super().__init__()\n",
    "        self.emb_enc = create_emb(vecs_enc, itos_enc, em_sz_enc)\n",
    "        self.nl,self.nh,self.out_sl = nl,nh,out_sl\n",
    "        self.gru_enc = nn.GRU(em_sz_enc, nh, num_layers=nl, dropout=0.25, bidirectional=True)\n",
    "        self.out_enc = nn.Linear(nh*2, em_sz_dec, bias=False)\n",
    "        self.drop_enc = nn.Dropout(0.25)\n",
    "        self.emb_dec = create_emb(vecs_dec, itos_dec, em_sz_dec)\n",
    "        self.gru_dec = nn.GRU(em_sz_dec, em_sz_dec, num_layers=nl, dropout=0.1)\n",
    "        self.emb_enc_drop = nn.Dropout(0.15)\n",
    "        self.out_drop = nn.Dropout(0.35)\n",
    "        self.out = nn.Linear(em_sz_dec, len(itos_dec))\n",
    "        self.out.weight.data = self.emb_dec.weight.data\n",
    "\n",
    "        self.W1 = rand_p(nh*2, em_sz_dec)\n",
    "        self.l2 = nn.Linear(em_sz_dec, em_sz_dec)\n",
    "        self.l3 = nn.Linear(em_sz_dec+nh*2, em_sz_dec)\n",
    "        self.V = rand_p(em_sz_dec)\n",
    "\n",
    "    def forward(self, inp, y=None):\n",
    "        sl,bs = inp.size()\n",
    "        h = self.initHidden(bs)\n",
    "        emb = self.emb_enc_drop(self.emb_enc(inp))\n",
    "        enc_out, h = self.gru_enc(emb, h)\n",
    "        h = h.view(2,2,bs,-1).permute(0,2,1,3).contiguous().view(2,bs,-1)\n",
    "        h = self.out_enc(self.drop_enc(h))\n",
    "\n",
    "        dec_inp = V(torch.zeros(bs).long())\n",
    "        res,attns = [],[]\n",
    "        w1e = enc_out @ self.W1\n",
    "        for i in range(self.out_sl):\n",
    "            w2h = self.l2(h[-1])\n",
    "            u = F.tanh(w1e + w2h)\n",
    "            a = F.softmax(u @ self.V, 0)\n",
    "            attns.append(a)\n",
    "            Xa = (a.unsqueeze(2) * enc_out).sum(0)\n",
    "            emb = self.emb_dec(dec_inp)\n",
    "            wgt_enc = self.l3(torch.cat([emb, Xa], 1))\n",
    "            \n",
    "            outp, h = self.gru_dec(wgt_enc.unsqueeze(0), h)\n",
    "            outp = self.out(self.out_drop(outp[0]))\n",
    "            res.append(outp)\n",
    "            dec_inp = V(outp.data.max(1)[1])\n",
    "            if (dec_inp==1).all(): break\n",
    "            if (y is not None) and (random.random()<self.pr_force):\n",
    "                if i>=len(y): break\n",
    "                dec_inp = y[i]\n",
    "        return torch.stack(res)\n",
    "\n",
    "    def initHidden(self, bs): return V(torch.zeros(self.nl*2, bs, self.nh))"
   ]
  },
  {
   "cell_type": "code",
   "execution_count": 0,
   "metadata": {
    "colab": {},
    "colab_type": "code",
    "collapsed": true,
    "id": "g5yW1orxEZU-"
   },
   "outputs": [],
   "source": [
    "rnn = Seq2SeqRNN_All(fr_vecd, fr_itos, dim_fr_vec, en_vecd, en_itos, dim_en_vec, nh, enlen_90)\n",
    "learn = RNN_Learner(md, SingleModel(to_gpu(rnn)), opt_fn=opt_fn)\n",
    "learn.crit = seq2seq_loss"
   ]
  },
  {
   "cell_type": "code",
   "execution_count": 0,
   "metadata": {
    "colab": {},
    "colab_type": "code",
    "id": "XAcqAoFaEZVF",
    "outputId": "b8568288-52f8-4787-abc6-a13778c23c40"
   },
   "outputs": [
    {
     "data": {
      "application/vnd.jupyter.widget-view+json": {
       "model_id": "cec8c2bb6118434b8758dd816b504c49",
       "version_major": 2,
       "version_minor": 0
      },
      "text/plain": [
       "A Jupyter Widget"
      ]
     },
     "metadata": {
      "tags": []
     },
     "output_type": "display_data"
    },
    {
     "name": "stdout",
     "output_type": "stream",
     "text": [
      "epoch      trn_loss   val_loss                              \n",
      "    0      3.817306   7.527982  \n",
      "    1      3.239813   5.82099                               \n",
      "    2      3.06717    5.437195                              \n",
      "    3      3.077923   4.718295                              \n",
      "    4      2.952973   4.337892                              \n",
      "    5      3.018182   3.994012                              \n",
      "    6      2.761607   3.777056                              \n",
      "    7      2.913683   3.595531                              \n",
      "    8      2.91521    3.46984                               \n",
      "    9      2.921533   3.370839                              \n",
      "    10     2.913826   3.336167                              \n",
      "    11     2.746896   3.37274                               \n",
      "    12     2.695839   3.332427                              \n",
      "    13     2.531583   3.341861                              \n",
      "    14     2.524642   3.324184                              \n",
      "\n"
     ]
    },
    {
     "data": {
      "text/plain": [
       "[3.3241842]"
      ]
     },
     "execution_count": 0,
     "metadata": {
      "tags": []
     },
     "output_type": "execute_result"
    }
   ],
   "source": [
    "learn.fit(lr, 1, cycle_len=15, use_clr=(20,10), stepper=Seq2SeqStepper)"
   ]
  },
  {
   "cell_type": "markdown",
   "metadata": {
    "colab_type": "text",
    "id": "SbVKATxxEZVL"
   },
   "source": [
    "### Test"
   ]
  },
  {
   "cell_type": "code",
   "execution_count": 0,
   "metadata": {
    "colab": {},
    "colab_type": "code",
    "id": "0uLW8ipsEZVN",
    "outputId": "27e7ff10-9aa6-4eed-b321-605f52fc171b"
   },
   "outputs": [
    {
     "name": "stdout",
     "output_type": "stream",
     "text": [
      "quels facteurs pourraient influer sur le choix de leur emplacement ? _eos_\n",
      "what factors influencetheir location ? _eos_\n",
      "what factors might affect the choice of their ? ? _eos_\n",
      "\n",
      "qu’ est -ce qui ne peut pas changer ? _eos_\n",
      "what can not change ? _eos_\n",
      "what can not change change _eos_\n",
      "\n",
      "que faites - vous ? _eos_\n",
      "what do you do ? _eos_\n",
      "what do you do ? _eos_\n",
      "\n",
      "qui réglemente les pylônes d' antennes ? _eos_\n",
      "who regulates antenna towers ? _eos_\n",
      "who regulates the antenna ? ? _eos_\n",
      "\n",
      "où sont - ils situés ? _eos_\n",
      "where are they located ? _eos_\n",
      "where are they located ? _eos_\n",
      "\n",
      "quelles sont leurs compétences ? _eos_\n",
      "what are their qualifications ? _eos_\n",
      "what are their skills ? _eos_\n",
      "\n",
      "qui est victime de harcèlement sexuel ? _eos_\n",
      "who experiences sexual harassment ? _eos_\n",
      "who is victim harassment harassment ? _eos_\n",
      "\n",
      "quelles sont les personnes qui visitent les communautés autochtones ? _eos_\n",
      "who visits indigenous communities ? _eos_\n",
      "who are the people people ? ?\n",
      "\n",
      "pourquoi ces trois points en particulier ? _eos_\n",
      "why these specific three ? _eos_\n",
      "why are these three specific ? _eos_\n",
      "\n",
      "pourquoi ou pourquoi pas ? _eos_\n",
      "why or why not ? _eos_\n",
      "why or why not ? _eos_\n",
      "\n"
     ]
    }
   ],
   "source": [
    "x,y = next(iter(val_dl))\n",
    "probs = learn.model(V(x))\n",
    "preds = to_np(probs.max(2)[1])\n",
    "\n",
    "for i in range(180,190):\n",
    "    print(' '.join([fr_itos[o] for o in x[:,i] if o != 1]))\n",
    "    print(' '.join([en_itos[o] for o in y[:,i] if o != 1]))\n",
    "    print(' '.join([en_itos[o] for o in preds[:,i] if o!=1]))\n",
    "    print()"
   ]
  }
 ],
 "metadata": {
  "accelerator": "GPU",
  "colab": {
   "collapsed_sections": [
    "jTk_UIN7EZTU",
    "X0huL4LZEZU6",
    "SbVKATxxEZVL"
   ],
   "name": "github.summary.ipynb",
   "provenance": [
    {
     "file_id": "https://github.com/fastai/fastai/blob/master/courses/dl2/translate.ipynb",
     "timestamp": 1555517529355
    }
   ],
   "toc_visible": true,
   "version": "0.3.2"
  },
  "kernelspec": {
   "display_name": "Python 3",
   "language": "python",
   "name": "python3"
  },
  "language_info": {
   "codemirror_mode": {
    "name": "ipython",
    "version": 3
   },
   "file_extension": ".py",
   "mimetype": "text/x-python",
   "name": "python",
   "nbconvert_exporter": "python",
   "pygments_lexer": "ipython3",
   "version": "3.6.8"
  }
 },
 "nbformat": 4,
 "nbformat_minor": 1
}
