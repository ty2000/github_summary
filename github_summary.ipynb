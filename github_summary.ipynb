{
  "nbformat": 4,
  "nbformat_minor": 0,
  "metadata": {
    "colab": {
      "name": "github.summary.ipynb",
      "version": "0.3.2",
      "provenance": [],
      "collapsed_sections": [
        "IjrJ6_5oEZRL",
        "OEH1T6WiEZRy",
        "ZrdpNb3vEZSJ",
        "jTk_UIN7EZTU",
        "X0huL4LZEZU6",
        "SbVKATxxEZVL"
      ],
      "toc_visible": true
    },
    "kernelspec": {
      "name": "python3",
      "display_name": "Python 3"
    },
    "accelerator": "GPU"
  },
  "cells": [
    {
      "metadata": {
        "id": "-Rk58DqEEZDy",
        "colab_type": "code",
        "outputId": "8b384942-472b-4440-bb74-e2cd9467c57f",
        "colab": {
          "base_uri": "https://localhost:8080/",
          "height": 35
        }
      },
      "cell_type": "code",
      "source": [
        "%matplotlib inline\n",
        "%reload_ext autoreload\n",
        "%autoreload 2\n",
        "# allows debugger to be launched automatically on exception\n",
        "%pdb 1\n"
      ],
      "execution_count": 0,
      "outputs": [
        {
          "output_type": "stream",
          "text": [
            "Automatic pdb calling has been turned ON\n"
          ],
          "name": "stdout"
        }
      ]
    },
    {
      "metadata": {
        "id": "7GUxFuooEZEJ",
        "colab_type": "text"
      },
      "cell_type": "markdown",
      "source": [
        "Please note that this notebook is most likely going to cause a stuck process. So if you are going to run it, please make sure to restart your jupyter notebook as soon as you completed running it.\n",
        "\n",
        "The bug happens inside the `fastText` library, which we have no control over. You can check the status of this issue: [here](https://github.com/fastai/fastai/issues/754) and [here](https://github.com/facebookresearch/fastText/issues/618#issuecomment-419554225).\n",
        "\n",
        "For the future, note that there're 3 separate implementations of fasttext, perhaps one of them works:\n",
        "https://github.com/facebookresearch/fastText/tree/master/python\n",
        "https://pypi.org/project/fasttext/\n",
        "https://radimrehurek.com/gensim/models/fasttext.html#module-gensim.models.fasttext"
      ]
    },
    {
      "metadata": {
        "id": "yyT6ebYgEZEN",
        "colab_type": "text"
      },
      "cell_type": "markdown",
      "source": [
        "## Translation files"
      ]
    },
    {
      "metadata": {
        "id": "M9vizz7MEZER",
        "colab_type": "code",
        "colab": {}
      },
      "cell_type": "code",
      "source": [
        "from fastai.text import *"
      ],
      "execution_count": 0,
      "outputs": []
    },
    {
      "metadata": {
        "id": "OdBDyTgwOxfa",
        "colab_type": "code",
        "outputId": "02290636-ce17-4a65-fdfe-d0becaacaddf",
        "colab": {
          "base_uri": "https://localhost:8080/",
          "height": 90
        }
      },
      "cell_type": "code",
      "source": [
        "!curl -L -O https://github.com/ty2000/github_summary/releases/download/0.1/github-issues.zip"
      ],
      "execution_count": 0,
      "outputs": [
        {
          "output_type": "stream",
          "text": [
            "  % Total    % Received % Xferd  Average Speed   Time    Time     Time  Current\n",
            "                                 Dload  Upload   Total   Spent    Left  Speed\n",
            "100   608    0   608    0     0   2565      0 --:--:-- --:--:-- --:--:--  2565\n",
            "100  979M  100  979M    0     0  34.6M      0  0:00:28  0:00:28 --:--:-- 36.2M\n"
          ],
          "name": "stdout"
        }
      ]
    },
    {
      "metadata": {
        "id": "S8p-jfB2O59X",
        "colab_type": "code",
        "outputId": "390f9eba-fcf8-47dd-edf0-7958cc882a99",
        "colab": {
          "base_uri": "https://localhost:8080/",
          "height": 54
        }
      },
      "cell_type": "code",
      "source": [
        "!unzip *zip"
      ],
      "execution_count": 0,
      "outputs": [
        {
          "output_type": "stream",
          "text": [
            "Archive:  github-issues.zip\n",
            "  inflating: github_issues.csv       \n"
          ],
          "name": "stdout"
        }
      ]
    },
    {
      "metadata": {
        "id": "aSpvVTDITwxF",
        "colab_type": "code",
        "outputId": "53c0dce9-0fe4-49b7-f619-bb7ca705d46f",
        "colab": {
          "base_uri": "https://localhost:8080/",
          "height": 90
        }
      },
      "cell_type": "code",
      "source": [
        "!ls -l"
      ],
      "execution_count": 0,
      "outputs": [
        {
          "output_type": "stream",
          "text": [
            "total 3788908\n",
            "-rw-r--r-- 1 root root 2852401417 Jan 17  2018 github_issues.csv\n",
            "-rw-r--r-- 1 root root 1027424178 Apr 23 13:32 github-issues.zip\n",
            "drwxr-xr-x 1 root root       4096 Apr  4 20:20 sample_data\n"
          ],
          "name": "stdout"
        }
      ]
    },
    {
      "metadata": {
        "id": "eoNeStVmPjr6",
        "colab_type": "code",
        "outputId": "7ecd988d-eed8-4eb0-b7c4-97e246d291cd",
        "colab": {
          "base_uri": "https://localhost:8080/",
          "height": 221
        }
      },
      "cell_type": "code",
      "source": [
        "!head -n 10 github_issues.csv"
      ],
      "execution_count": 0,
      "outputs": [
        {
          "output_type": "stream",
          "text": [
            "issue_url,issue_title,body\n",
            "\"\"\"https://github.com/zhangyuanwei/node-images/issues/123\"\"\",can't load the addon. issue to: https://github.com/zhangyuanwei/node-images/issues error: /lib64/libc.so.6: version glibc_2.14' not found required by /usr/local/app/taf/fileserver.fileserver/bin/src/node_modules/images/bindings/linux/x64/8.0.0/binding.node,can't load the addon. issue to: https://github.com/zhangyuanwei/node-images/issues error: /lib64/libc.so.6: version glibc_2.14' not found required by /usr/local/app/taf/fileserver.fileserver/bin/src/node_modules/images/bindings/linux/x64/8.0.0/binding.node 有低点的版本，不需要glibc_2.14的吗\n",
            "\"\"\"https://github.com/Microsoft/pxt/issues/2543\"\"\",hcl accessibility a11yblocking a11ymas mas4.2.10 hcl-makecode win10-edge -title screen reader-help-javascript-call a function narrator focus does not moving to expand side a documentation button after pressing enter on collapse side a documentation button.,user experience: user who depends on screen reader will get confused if narrator focus does not retain on expand side a documentation button after pressing enter on collapse side a documentation button test environment os: rs2 version 1703 os build 15063.483 platform: edge. screen reader: narrator repro steps 1-navigate to https://makecode.microbit.org/acc 2-navigate to the micro bit section element and select code control given on it. 3-navigate to the help control lying in the header section on the page and select it. 4-navigate to 'javascript' control and select it. 5-navigate to various controls lying on the pane opened. 6-navigate to the pane opened and select any link listed under it. 7-verify narrator focus moving or not on expand side a documentation button after pressing enter on collapse side a documentation button. actual result narrator focus does not retain on expand side a documentation button after pressing enter on collapse side a documentation button. after pressing enter on collapse side a documentation button narrator focus visible on same place not moving to expand button. expected result narrator focus should be shift to expand side a documentation button after pressing enter on collapse side a documentation button. mas reference https://microsoft.sharepoint.com/teams/msenable/_layouts/15/wopiframe.aspx?sourcedoc={b24201d1-2276-4471-8183-e1e5353031ad} please refer attachment for more details: mas2.4.7_call a function_ visual focus indicator is not visible on side a documentation button.zip https://github.com/microsoft/pxt/files/1179553/mas2.4.7_call.a.function_visual.focus.indicator.is.not.visible.on.siade.a.documentation.button.zip\n",
            "\"\"\"https://github.com/MatisiekPL/Czekolada/issues/1268\"\"\",issue 1265: issue 1264: issue 1261: issue 1260: issue 1257: issue 1256: issue 1253: issue 1252: issue 1250: issue 1247: issue 1246: issue 1243: issue 1242: issue 1239: issue 1237: issue 1236: issue 1233: issue 1231: issue 1230: issue 1227: issue 1226: issu,┆attachments: <a href= https:& x2f;& x2f;github.com& x2f;matisiekpl& x2f;czekolada& x2f;issues& x2f;1265 >https:& x2f;& x2f;github.com& x2f;matisiekpl& x2f;czekolada& x2f;issues& x2f;1265</a>\n",
            "\"\"\"https://github.com/MatisiekPL/Czekolada/issues/1267\"\"\",issue 1266: issue 1263: issue 1262: issue 1259: issue 1258: issue 1255: issue 1254: issue 1251: issue 1249: issue 1248: issue 1245: issue 1244: issue 1241: issue 1240: issue 1238: issue 1235: issue 1234: issue 1232: issue 1229: issue 1228: issue 1225: issu,\"gitlo = github x trello\n",
            "---\n",
            "this board is now linked with https://github.com/matisiekpl/czekolada , any update on the issue tracker will be sync to this board. -------\n",
            "via trello, you can: --- __✍ create github issues__ - add a card in the corresponding column, an issue will be created in github ! add an issue http://i.imgur.com/yewicu8.gif ------- __✐ comment on github issues__ - just comment as you always do in a card ! comment on an issue http://i.imgur.com/jdnjscf.gif ------- __➦ close opened issues__ - move issue cards to close list - of course you can reopen them by dragging them out of close list ! close an issue http://i.imgur.com/opaazo8.gif ------- __✕ close pull requests__ - move pr cards to close list - important: you can not merge a pr via trello ! close pr http://i.imgur.com/nras2dg.gif __✚__ add any custom columns you need - the column will be sync to github as a label ------- default columns\n",
            "---\n",
            "we've set up default columns for you - please help keeping them in place ; you can also add your custom columns to enhance your work flow. ! add a column http://i.imgur.com/1rxnqcv.gif ------- dashboard & settings\n"
          ],
          "name": "stdout"
        }
      ]
    },
    {
      "metadata": {
        "id": "v-z2YJ_7T9ON",
        "colab_type": "code",
        "colab": {}
      },
      "cell_type": "code",
      "source": [
        "import pandas as pd"
      ],
      "execution_count": 0,
      "outputs": []
    },
    {
      "metadata": {
        "id": "1v0YRN1cT_BX",
        "colab_type": "code",
        "colab": {}
      },
      "cell_type": "code",
      "source": [
        "df = pd.read_csv('github_issues.csv').sample(n=100000)"
      ],
      "execution_count": 0,
      "outputs": []
    },
    {
      "metadata": {
        "id": "g9bJ6FECU_Wm",
        "colab_type": "code",
        "outputId": "3d5641e4-d075-4bde-bcee-8f5d2fd96248",
        "colab": {
          "base_uri": "https://localhost:8080/",
          "height": 175
        }
      },
      "cell_type": "code",
      "source": [
        "df.describe()"
      ],
      "execution_count": 0,
      "outputs": [
        {
          "output_type": "execute_result",
          "data": {
            "text/html": [
              "<div>\n",
              "<style scoped>\n",
              "    .dataframe tbody tr th:only-of-type {\n",
              "        vertical-align: middle;\n",
              "    }\n",
              "\n",
              "    .dataframe tbody tr th {\n",
              "        vertical-align: top;\n",
              "    }\n",
              "\n",
              "    .dataframe thead th {\n",
              "        text-align: right;\n",
              "    }\n",
              "</style>\n",
              "<table border=\"1\" class=\"dataframe\">\n",
              "  <thead>\n",
              "    <tr style=\"text-align: right;\">\n",
              "      <th></th>\n",
              "      <th>issue_url</th>\n",
              "      <th>issue_title</th>\n",
              "      <th>body</th>\n",
              "    </tr>\n",
              "  </thead>\n",
              "  <tbody>\n",
              "    <tr>\n",
              "      <th>count</th>\n",
              "      <td>100000</td>\n",
              "      <td>100000</td>\n",
              "      <td>100000</td>\n",
              "    </tr>\n",
              "    <tr>\n",
              "      <th>unique</th>\n",
              "      <td>99970</td>\n",
              "      <td>96326</td>\n",
              "      <td>97079</td>\n",
              "    </tr>\n",
              "    <tr>\n",
              "      <th>top</th>\n",
              "      <td>\"https://github.com/cmty-test/cmty-repository-...</td>\n",
              "      <td>first from flow in uk south</td>\n",
              "      <td>first from flow in uk south</td>\n",
              "    </tr>\n",
              "    <tr>\n",
              "      <th>freq</th>\n",
              "      <td>7</td>\n",
              "      <td>1648</td>\n",
              "      <td>1648</td>\n",
              "    </tr>\n",
              "  </tbody>\n",
              "</table>\n",
              "</div>"
            ],
            "text/plain": [
              "                                                issue_url  \\\n",
              "count                                              100000   \n",
              "unique                                              99970   \n",
              "top     \"https://github.com/cmty-test/cmty-repository-...   \n",
              "freq                                                    7   \n",
              "\n",
              "                        issue_title                         body  \n",
              "count                        100000                       100000  \n",
              "unique                        96326                        97079  \n",
              "top     first from flow in uk south  first from flow in uk south  \n",
              "freq                           1648                         1648  "
            ]
          },
          "metadata": {
            "tags": []
          },
          "execution_count": 11
        }
      ]
    },
    {
      "metadata": {
        "id": "dVknrM6bEZEl",
        "colab_type": "code",
        "colab": {}
      },
      "cell_type": "code",
      "source": [
        "PATH = Path('data/translate')\n",
        "TMP_PATH = PATH/'tmp'\n",
        "TMP_PATH.mkdir(exist_ok=True, parents=True)"
      ],
      "execution_count": 0,
      "outputs": []
    },
    {
      "metadata": {
        "id": "s1iNjqoPXCgL",
        "colab_type": "code",
        "colab": {}
      },
      "cell_type": "code",
      "source": [
        "titles_raw = df[\"issue_title\"].tolist()\n",
        "body_raw = df[\"body\"].tolist()\n",
        "\n",
        "pickle.dump(titles_raw, (PATH/'title_raw.pkl').open('wb'))\n",
        "pickle.dump(body_raw, (PATH/'body_raw.pkl').open('wb'))\n",
        "\n"
      ],
      "execution_count": 0,
      "outputs": []
    },
    {
      "metadata": {
        "id": "VycUqpVzskP_",
        "colab_type": "code",
        "colab": {}
      },
      "cell_type": "code",
      "source": [
        "title_raw = pickle.load((PATH/'title_raw.pkl').open('rb'));\n",
        "body_raw = pickle.load((PATH/'body_raw.pkl').open('rb'));\n"
      ],
      "execution_count": 0,
      "outputs": []
    },
    {
      "metadata": {
        "id": "nAb8UfbuXHYc",
        "colab_type": "code",
        "outputId": "94555f98-91e9-43a2-8358-0165c967f670",
        "colab": {
          "base_uri": "https://localhost:8080/",
          "height": 35
        }
      },
      "cell_type": "code",
      "source": [
        "type(titles_raw), len(titles_raw), len(body_raw)"
      ],
      "execution_count": 0,
      "outputs": [
        {
          "output_type": "execute_result",
          "data": {
            "text/plain": [
              "(list, 100000, 100000)"
            ]
          },
          "metadata": {
            "tags": []
          },
          "execution_count": 15
        }
      ]
    },
    {
      "metadata": {
        "id": "CmVyUh3iYSH7",
        "colab_type": "code",
        "outputId": "caf7ad91-1351-4693-bc64-0fb1f7dd35e4",
        "colab": {
          "base_uri": "https://localhost:8080/",
          "height": 221
        }
      },
      "cell_type": "code",
      "source": [
        "title_raw[:5], body_raw[:5]"
      ],
      "execution_count": 0,
      "outputs": [
        {
          "output_type": "execute_result",
          "data": {
            "text/plain": [
              "(['cannot unseal vault with wrong checksum',\n",
              "  'falta un avenger',\n",
              "  'how does @nuxtjs/proxy work with nuxt + express ?',\n",
              "  'using a retail/non-steam version of hitman blood money causes the game to crash',\n",
              "  'show military time format in p-calendar'],\n",
              " [\"this issue is probably related to 3241, but covers another failure mode. when having a vault plugin mounted, if the checksum set in sys/plugins/catalog/stuff is wrong, vault cannot be unsealed, and thus, the offending mount cannot be removed, essentially bricking the vault database. the unsealing fails with the following log: 2017/11/20 15:53:41.048250 info core: vault is unsealed 2017/11/20 15:53:41.050187 info core: post-unseal setup starting 2017/11/20 15:53:41.052123 info core: loaded wrapping token key 2017/11/20 15:53:41.052161 info core: successfully setup plugin catalog: plugin-directory=/vault/plugins 2017/11/20 15:53:41.055848 info core: successfully mounted backend: type=generic path=secret/ 2017/11/20 15:53:41.056002 info core: successfully mounted backend: type=system path=sys/ 2017/11/20 15:53:41.056228 info core: successfully mounted backend: type=identity path=identity/ 2017/11/20 15:53:41.111671 error core: failed to create mount entry: path=somepath/ error=checksums did not match 2017/11/20 15:53:41.111731 info core: pre-seal teardown starting 2017/11/20 15:53:41.111783 info core: cluster listeners not running 2017/11/20 15:53:41.111869 info core: pre-seal teardown complete 2017/11/20 15:53:41.111916 error core: post-unseal setup failed: error=failed to setup mount table 2017/11/20 15:53:41.111941 warn core: vault is sealed expected behavior: vault should unseal with a warnign and leave the offending mount inacessible. it should be possible to update the checksum and/or remove the mount. this also raises some questions: how do i update a plugin the correct way? set the new checksum -> shutdown -> replace plugin file -> startup? isn't it possible for a bad person with root rights to set a wrong checksum, seal vault and brick the vault database with it?\",\n",
              "  'falta un avenger por favor, agregar a nick fury',\n",
              "  \"i have use @nuxtjs/proxy on a starter project of nuxt, it looks nice to help me separating the enviorment between different enviroments, but when i am using express, the proxy function seems never worked again. i've saw the similar post here 36 which didn't solve my problem. does anybody using this ?\",\n",
              "  'i have a drm free copy of hitman blood money from the hitman collection dvd that i prefer over the steam version, but the problem is that using statman with that version causes the game to crash. is there anything wrong with my version or is this something you can fix? thank you.',\n",
              "  \"there is no guarantee in receiving a response in github issue tracker, if you'd like to secure our response, you may consider primeng pro support where support is provided within 4 business hours i'm submitting a ... check one with x bug report => search github for a similar issue or pr before submitting feature request => please check if request is not on the roadmap already https://github.com/primefaces/primeng/wiki/roadmap support request => please do not submit support request here, instead see http://forum.primefaces.org/viewforum.php?f=35 i want to show military time format in time like 1400 instead 14:00. please help me to fix it. this is an urgent issue for me.\"])"
            ]
          },
          "metadata": {
            "tags": []
          },
          "execution_count": 16
        }
      ]
    },
    {
      "metadata": {
        "id": "_x9uNAUgYt1d",
        "colab_type": "code",
        "colab": {}
      },
      "cell_type": "code",
      "source": [
        "tokenizer = Tokenizer()\n",
        "title_tok = tokenizer.process_all(title_raw)\n",
        "pickle.dump(title_tok, (PATH/'title_tok.pkl').open('wb'))\n",
        "\n",
        "body_tok = tokenizer.process_all(body_raw)\n",
        "pickle.dump(body_tok, (PATH/'body_tok.pkl').open('wb'))\n",
        "\n"
      ],
      "execution_count": 0,
      "outputs": []
    },
    {
      "metadata": {
        "id": "1bouINo2sozp",
        "colab_type": "code",
        "outputId": "2432b410-6615-4720-84d8-d0b0a0ef1626",
        "colab": {
          "base_uri": "https://localhost:8080/",
          "height": 35
        }
      },
      "cell_type": "code",
      "source": [
        "title_tok = pickle.load((PATH/'title_tok.pkl').open('rb'))\n",
        "body_tok =  pickle.load((PATH/'body_tok.pkl').open('rb'))\n",
        "len(title_tok), len(body_tok)"
      ],
      "execution_count": 0,
      "outputs": [
        {
          "output_type": "execute_result",
          "data": {
            "text/plain": [
              "(100000, 100000)"
            ]
          },
          "metadata": {
            "tags": []
          },
          "execution_count": 19
        }
      ]
    },
    {
      "metadata": {
        "id": "v-mBRbIdaplF",
        "colab_type": "code",
        "outputId": "4eab4d28-8511-4fab-8021-3572306452c4",
        "colab": {
          "base_uri": "https://localhost:8080/",
          "height": 35
        }
      },
      "cell_type": "code",
      "source": [
        "df = None\n",
        "\n",
        "import gc\n",
        "\n",
        "gc.collect()"
      ],
      "execution_count": 0,
      "outputs": [
        {
          "output_type": "execute_result",
          "data": {
            "text/plain": [
              "7"
            ]
          },
          "metadata": {
            "tags": []
          },
          "execution_count": 20
        }
      ]
    },
    {
      "metadata": {
        "id": "On7KYTWfaDqb",
        "colab_type": "code",
        "outputId": "8935596a-25d9-472b-faa9-b466118d63c2",
        "colab": {
          "base_uri": "https://localhost:8080/",
          "height": 1121
        }
      },
      "cell_type": "code",
      "source": [
        "idx = 11\n",
        "title_tok[idx], title_raw[idx],body_tok[idx], body_raw[idx]"
      ],
      "execution_count": 0,
      "outputs": [
        {
          "output_type": "execute_result",
          "data": {
            "text/plain": [
              "(['feature', 'request', 'swiping', 'panorama', 'on', 'mobile', 'phones'],\n",
              " 'feature request swiping panorama on mobile phones',\n",
              " ['by',\n",
              "  'default',\n",
              "  ',',\n",
              "  'to',\n",
              "  'rotate',\n",
              "  'panoramas',\n",
              "  'you',\n",
              "  'have',\n",
              "  'to',\n",
              "  'rotate',\n",
              "  'the',\n",
              "  'device',\n",
              "  '.',\n",
              "  'but',\n",
              "  'this',\n",
              "  'is',\n",
              "  'impractical',\n",
              "  'if',\n",
              "  'you',\n",
              "  'are',\n",
              "  'sitting',\n",
              "  'on',\n",
              "  'a',\n",
              "  'chair',\n",
              "  '.',\n",
              "  'rotating',\n",
              "  'panoramas',\n",
              "  'by',\n",
              "  'swiping',\n",
              "  'the',\n",
              "  'touch',\n",
              "  'screen',\n",
              "  'is',\n",
              "  'essential',\n",
              "  '.',\n",
              "  'it',\n",
              "  \"'s\",\n",
              "  'allowed',\n",
              "  'by',\n",
              "  'default',\n",
              "  'in',\n",
              "  'a',\n",
              "  '-',\n",
              "  'frame',\n",
              "  'along',\n",
              "  'side',\n",
              "  'with',\n",
              "  'gyro',\n",
              "  'sensor',\n",
              "  'input',\n",
              "  '.',\n",
              "  'thanks',\n",
              "  'for',\n",
              "  'you',\n",
              "  'consideration',\n",
              "  '.'],\n",
              " \"by default, to rotate panoramas you have to rotate the device. but this is impractical if you are sitting on a chair. rotating panoramas by swiping the touch screen is essential. it's allowed by default in a-frame along side with gyro sensor input. thanks for you consideration.\")"
            ]
          },
          "metadata": {
            "tags": []
          },
          "execution_count": 21
        }
      ]
    },
    {
      "metadata": {
        "id": "QBUpyyewdK5F",
        "colab_type": "text"
      },
      "cell_type": "markdown",
      "source": [
        "We have to keep the \"sentence\" size under a threshold, otherwise the padding will be too much"
      ]
    },
    {
      "metadata": {
        "id": "Zq9J8eo2EZG8",
        "colab_type": "code",
        "outputId": "919641f7-37ad-4ad9-f6c4-252f8ada3eef",
        "colab": {
          "base_uri": "https://localhost:8080/",
          "height": 35
        }
      },
      "cell_type": "code",
      "source": [
        "np.percentile([len(o) for o in title_tok], 90), np.percentile([len(o) for o in body_tok], 60)"
      ],
      "execution_count": 0,
      "outputs": [
        {
          "output_type": "execute_result",
          "data": {
            "text/plain": [
              "(12.0, 74.0)"
            ]
          },
          "metadata": {
            "tags": []
          },
          "execution_count": 22
        }
      ]
    },
    {
      "metadata": {
        "id": "pblBVyCsEZHH",
        "colab_type": "code",
        "colab": {}
      },
      "cell_type": "code",
      "source": [
        "keep = np.array([len(o)<70 for o in body_tok])"
      ],
      "execution_count": 0,
      "outputs": []
    },
    {
      "metadata": {
        "id": "Z3OPU_Dp2GLl",
        "colab_type": "text"
      },
      "cell_type": "markdown",
      "source": [
        "We only keep data items whose body is shorter than 70. When we emoving rows this way, we use the same keep indice for both the body and title (X and Y)"
      ]
    },
    {
      "metadata": {
        "id": "OIE6cHm6EZHO",
        "colab_type": "code",
        "colab": {}
      },
      "cell_type": "code",
      "source": [
        "body_tok = np.array(body_tok)[keep]\n",
        "title_tok = np.array(title_tok)[keep]"
      ],
      "execution_count": 0,
      "outputs": []
    },
    {
      "metadata": {
        "id": "D3-08qz4EZHb",
        "colab_type": "code",
        "colab": {}
      },
      "cell_type": "code",
      "source": [
        "pickle.dump(body_tok, (PATH/'body_tok.pkl').open('wb'))\n",
        "pickle.dump(title_tok, (PATH/'title_tok.pkl').open('wb'))"
      ],
      "execution_count": 0,
      "outputs": []
    },
    {
      "metadata": {
        "id": "k7SXamcGEZHj",
        "colab_type": "code",
        "outputId": "1e1e0924-247a-4005-a2fb-667e3b88b142",
        "colab": {
          "base_uri": "https://localhost:8080/",
          "height": 35
        }
      },
      "cell_type": "code",
      "source": [
        "body_tok = pickle.load((PATH/'body_tok.pkl').open('rb'))\n",
        "title_tok = pickle.load((PATH/'title_tok.pkl').open('rb'))\n",
        "len(body_tok), len(title_tok)"
      ],
      "execution_count": 0,
      "outputs": [
        {
          "output_type": "execute_result",
          "data": {
            "text/plain": [
              "(57380, 57380)"
            ]
          },
          "metadata": {
            "tags": []
          },
          "execution_count": 26
        }
      ]
    },
    {
      "metadata": {
        "id": "KhtYsg3TEZH2",
        "colab_type": "code",
        "colab": {}
      },
      "cell_type": "code",
      "source": [
        "def toks2ids(tok,pre):\n",
        "    freq = Counter(p for o in tok for p in o)\n",
        "    itos = [o for o,c in freq.most_common(40000)]\n",
        "    itos.insert(0, '_bos_')\n",
        "    itos.insert(1, '_pad_')\n",
        "    itos.insert(2, '_eos_')\n",
        "    itos.insert(3, '_unk')\n",
        "    stoi = collections.defaultdict(lambda: 3, {v:k for k,v in enumerate(itos)})\n",
        "    ids = np.array([([stoi[o] for o in p] + [2]) for p in tok]) # note the _eos_ at the end\n",
        "    np.save(TMP_PATH/f'{pre}_ids.npy', ids)\n",
        "    pickle.dump(itos, open(TMP_PATH/f'{pre}_itos.pkl', 'wb'))\n",
        "    return ids,itos,stoi"
      ],
      "execution_count": 0,
      "outputs": []
    },
    {
      "metadata": {
        "id": "U_LRk1-GEZIT",
        "colab_type": "code",
        "colab": {}
      },
      "cell_type": "code",
      "source": [
        "body_ids,body_itos,body_stoi = toks2ids(body_tok,'body')\n",
        "title_ids,title_itos,title_stoi = toks2ids(title_tok,'title')"
      ],
      "execution_count": 0,
      "outputs": []
    },
    {
      "metadata": {
        "id": "-FV49sodEZId",
        "colab_type": "code",
        "colab": {}
      },
      "cell_type": "code",
      "source": [
        "def load_ids(pre):\n",
        "    ids = np.load(TMP_PATH/f'{pre}_ids.npy')\n",
        "    itos = pickle.load(open(TMP_PATH/f'{pre}_itos.pkl', 'rb'))\n",
        "    stoi = collections.defaultdict(lambda: 3, {v:k for k,v in enumerate(itos)})\n",
        "    return ids,itos,stoi"
      ],
      "execution_count": 0,
      "outputs": []
    },
    {
      "metadata": {
        "id": "kMxkaJDaEZIq",
        "colab_type": "code",
        "colab": {}
      },
      "cell_type": "code",
      "source": [
        "body_ids,body_itos,body_stoi = load_ids('body')\n",
        "title_ids,title_itos,title_stoi = load_ids('title')"
      ],
      "execution_count": 0,
      "outputs": []
    },
    {
      "metadata": {
        "id": "iBINiNVYEZJJ",
        "colab_type": "code",
        "outputId": "c435491e-c310-49be-a979-83782faeeaa9",
        "colab": {
          "base_uri": "https://localhost:8080/",
          "height": 311
        }
      },
      "cell_type": "code",
      "source": [
        "[title_itos[o] for o in title_ids[0]], title_ids[0], [body_itos[o] for o in body_ids[0]], body_ids[0], len(body_itos), len(title_itos)"
      ],
      "execution_count": 0,
      "outputs": [
        {
          "output_type": "execute_result",
          "data": {
            "text/plain": [
              "(['falta', 'un', 'avenger', '_eos_'],\n",
              " [3134, 478, 5950, 2],\n",
              " ['falta',\n",
              "  'un',\n",
              "  'avenger',\n",
              "  'por',\n",
              "  'favor',\n",
              "  ',',\n",
              "  'agregar',\n",
              "  'a',\n",
              "  'nick',\n",
              "  'fury',\n",
              "  '_eos_'],\n",
              " [5447, 519, 11586, 1148, 3945, 8, 3667, 11, 5448, 16636, 2],\n",
              " 40004,\n",
              " 40004)"
            ]
          },
          "metadata": {
            "tags": []
          },
          "execution_count": 31
        }
      ]
    },
    {
      "metadata": {
        "id": "5ILkcw3TEZJj",
        "colab_type": "text"
      },
      "cell_type": "markdown",
      "source": [
        "## Word vectors"
      ]
    },
    {
      "metadata": {
        "id": "L-RV-uU6EZJl",
        "colab_type": "text"
      },
      "cell_type": "markdown",
      "source": [
        "fasttext word vectors available from https://fasttext.cc/docs/en/english-vectors.html"
      ]
    },
    {
      "metadata": {
        "id": "FAzkQnS7EZJo",
        "colab_type": "code",
        "outputId": "27357d2d-bcbf-43f2-db4b-76c7ab6dd194",
        "colab": {
          "base_uri": "https://localhost:8080/",
          "height": 239
        }
      },
      "cell_type": "code",
      "source": [
        "! pip install git+https://github.com/facebookresearch/fastText.git"
      ],
      "execution_count": 0,
      "outputs": [
        {
          "output_type": "stream",
          "text": [
            "Collecting git+https://github.com/facebookresearch/fastText.git\n",
            "  Cloning https://github.com/facebookresearch/fastText.git to /tmp/pip-req-build-4ja9_usv\n",
            "Requirement already satisfied: pybind11>=2.2 in /usr/local/lib/python3.6/dist-packages (from fasttext==0.8.22) (2.2.4)\n",
            "Requirement already satisfied: setuptools>=0.7.0 in /usr/local/lib/python3.6/dist-packages (from fasttext==0.8.22) (40.9.0)\n",
            "Requirement already satisfied: numpy in /usr/local/lib/python3.6/dist-packages (from fasttext==0.8.22) (1.16.2)\n",
            "Building wheels for collected packages: fasttext\n",
            "  Building wheel for fasttext (setup.py) ... \u001b[?25ldone\n",
            "\u001b[?25h  Stored in directory: /tmp/pip-ephem-wheel-cache-xhwo004z/wheels/69/f8/19/7f0ab407c078795bc9f86e1f6381349254f86fd7d229902355\n",
            "Successfully built fasttext\n",
            "Installing collected packages: fasttext\n",
            "Successfully installed fasttext-0.8.22\n"
          ],
          "name": "stdout"
        }
      ]
    },
    {
      "metadata": {
        "id": "n__YOeaOEZKA",
        "colab_type": "code",
        "colab": {}
      },
      "cell_type": "code",
      "source": [
        "import fastText as ft"
      ],
      "execution_count": 0,
      "outputs": []
    },
    {
      "metadata": {
        "id": "edBpCe6bEZKO",
        "colab_type": "text"
      },
      "cell_type": "markdown",
      "source": [
        "To use the fastText library, you'll need to download [fasttext word vectors](https://github.com/facebookresearch/fastText/blob/master/pretrained-vectors.md) for your language (download the 'bin plus text' ones)."
      ]
    },
    {
      "metadata": {
        "id": "5HthOTu6lLxn",
        "colab_type": "code",
        "outputId": "e5435f51-e637-4bba-f0bf-0f396483aa19",
        "colab": {
          "base_uri": "https://localhost:8080/",
          "height": 127
        }
      },
      "cell_type": "code",
      "source": [
        "!curl https://dl.fbaipublicfiles.com/fasttext/vectors-wiki/wiki.en.zip -o {PATH}/wiki.en.zip\n",
        "!unzip {PATH}/wiki.en.zip -d {PATH}\n",
        "\n",
        "#!mv wiki.en* {PATH}\n",
        "\n",
        "  "
      ],
      "execution_count": 0,
      "outputs": [
        {
          "output_type": "stream",
          "text": [
            "  % Total    % Received % Xferd  Average Speed   Time    Time     Time  Current\n",
            "                                 Dload  Upload   Total   Spent    Left  Speed\n",
            "100 9877M  100 9877M    0     0   9.8M      0  0:16:38  0:16:38 --:--:-- 12.0M\n",
            "Archive:  data/translate/wiki.en.zip\n",
            "  inflating: data/translate/wiki.en.vec  \n",
            "  inflating: data/translate/wiki.en.bin  \n"
          ],
          "name": "stdout"
        }
      ]
    },
    {
      "metadata": {
        "id": "iS-nay1aEZKP",
        "colab_type": "code",
        "colab": {}
      },
      "cell_type": "code",
      "source": [
        "en_vecs = ft.load_model(str((PATH/'wiki.en.bin')))"
      ],
      "execution_count": 0,
      "outputs": []
    },
    {
      "metadata": {
        "id": "5MSEj_ZyhRjp",
        "colab_type": "code",
        "outputId": "0e0a4229-9cb9-4b19-da16-01d2cc907a45",
        "colab": {
          "base_uri": "https://localhost:8080/",
          "height": 35
        }
      },
      "cell_type": "code",
      "source": [
        "type(en_vecs.get_words()), len(en_vecs.get_words()), en_vecs.get_words()[100:105]"
      ],
      "execution_count": 0,
      "outputs": [
        {
          "output_type": "execute_result",
          "data": {
            "text/plain": [
              "(list, 2519370, ['out', 'state', 'states', 'national', 'wikipedia'])"
            ]
          },
          "metadata": {
            "tags": []
          },
          "execution_count": 36
        }
      ]
    },
    {
      "metadata": {
        "id": "NK8zuJ8EEZLX",
        "colab_type": "code",
        "colab": {}
      },
      "cell_type": "code",
      "source": [
        "def get_vecs(token_type, ft_vecs, token_list):\n",
        "    vecd = {w:ft_vecs.get_word_vector(w) for w in token_list}\n",
        "    pickle.dump(vecd, open(PATH/f'wiki.embedding.{token_type}.pkl','wb'))\n",
        "    return vecd"
      ],
      "execution_count": 0,
      "outputs": []
    },
    {
      "metadata": {
        "id": "WYrzDGLkbdz4",
        "colab_type": "text"
      },
      "cell_type": "markdown",
      "source": [
        "Lookup the word vector (embedding) from the fasttext trained dictionary"
      ]
    },
    {
      "metadata": {
        "id": "TgG_AGmZEZLv",
        "colab_type": "code",
        "colab": {}
      },
      "cell_type": "code",
      "source": [
        "body_vecd = get_vecs('body', en_vecs, body_itos)\n",
        "title_vecd = get_vecs('title', en_vecs, title_itos)\n"
      ],
      "execution_count": 0,
      "outputs": []
    },
    {
      "metadata": {
        "id": "tpdnP2jbEZL6",
        "colab_type": "code",
        "outputId": "176639d4-08af-4611-d3c3-c361854509f3",
        "colab": {
          "base_uri": "https://localhost:8080/",
          "height": 35
        }
      },
      "cell_type": "code",
      "source": [
        "body_vecd = pickle.load(open(PATH/'wiki.embedding.body.pkl','rb'))\n",
        "title_vecd = pickle.load(open(PATH/'wiki.embedding.title.pkl','rb'))\n",
        "len(body_vecd), len(title_vecd)"
      ],
      "execution_count": 0,
      "outputs": [
        {
          "output_type": "execute_result",
          "data": {
            "text/plain": [
              "(40004, 40004)"
            ]
          },
          "metadata": {
            "tags": []
          },
          "execution_count": 39
        }
      ]
    },
    {
      "metadata": {
        "id": "pis4pRfLetWh",
        "colab_type": "code",
        "outputId": "9d913438-7108-46c1-8512-dfd9855f0626",
        "colab": {
          "base_uri": "https://localhost:8080/",
          "height": 35
        }
      },
      "cell_type": "code",
      "source": [
        "len(body_itos), len(title_itos),"
      ],
      "execution_count": 0,
      "outputs": [
        {
          "output_type": "execute_result",
          "data": {
            "text/plain": [
              "(40004, 40004)"
            ]
          },
          "metadata": {
            "tags": []
          },
          "execution_count": 40
        }
      ]
    },
    {
      "metadata": {
        "id": "4zuGInx2b1tq",
        "colab_type": "code",
        "outputId": "08131791-c524-41a7-9ee0-990f3eed5231",
        "colab": {
          "base_uri": "https://localhost:8080/",
          "height": 35
        }
      },
      "cell_type": "code",
      "source": [
        "dim_body_vec = len(body_vecd[','])\n",
        "dim_title_vec = len(title_vecd[','])\n",
        "dim_body_vec, dim_title_vec"
      ],
      "execution_count": 0,
      "outputs": [
        {
          "output_type": "execute_result",
          "data": {
            "text/plain": [
              "(300, 300)"
            ]
          },
          "metadata": {
            "tags": []
          },
          "execution_count": 41
        }
      ]
    },
    {
      "metadata": {
        "id": "9U4A4MBOe9lT",
        "colab_type": "code",
        "outputId": "c0fd798b-75bf-449d-d956-36b593d5a8de",
        "colab": {
          "base_uri": "https://localhost:8080/",
          "height": 35
        }
      },
      "cell_type": "code",
      "source": [
        "en_vecs = None\n",
        "gc.collect()"
      ],
      "execution_count": 0,
      "outputs": [
        {
          "output_type": "execute_result",
          "data": {
            "text/plain": [
              "0"
            ]
          },
          "metadata": {
            "tags": []
          },
          "execution_count": 42
        }
      ]
    },
    {
      "metadata": {
        "id": "xJEL3TkEEZM2",
        "colab_type": "text"
      },
      "cell_type": "markdown",
      "source": [
        "## Model data"
      ]
    },
    {
      "metadata": {
        "id": "MB0DdYHnEZM3",
        "colab_type": "code",
        "outputId": "44ea6297-09b2-48b5-c77a-dbe9edfff40d",
        "colab": {
          "base_uri": "https://localhost:8080/",
          "height": 35
        }
      },
      "cell_type": "code",
      "source": [
        "body_len_90 = int(np.percentile([len(o) for o in body_ids], 99))\n",
        "title_len_90 = int(np.percentile([len(o) for o in title_ids], 99))\n",
        "body_len_90,title_len_90"
      ],
      "execution_count": 0,
      "outputs": [
        {
          "output_type": "execute_result",
          "data": {
            "text/plain": [
              "(70, 20)"
            ]
          },
          "metadata": {
            "tags": []
          },
          "execution_count": 43
        }
      ]
    },
    {
      "metadata": {
        "id": "iGtcfScY2OT3",
        "colab_type": "code",
        "colab": {}
      },
      "cell_type": "code",
      "source": [
        "def trim_and_pad(rows, max_len:int=100, pad_index:int=1, pad_first:bool=True):\n",
        "  trimmed = np.array([o[:max_len] for o in rows])\n",
        "  res = np.zeros([len(rows), max_len], dtype=int) + pad_index  #initialize all cells to pad_index\n",
        "  for i,s in enumerate(trimmed):\n",
        "    if pad_first: res[i,-len(s):] = s\n",
        "    else:         res[i,:len(s)] = s\n",
        "  return res\n",
        "  "
      ],
      "execution_count": 0,
      "outputs": []
    },
    {
      "metadata": {
        "id": "pbIQ48nv38Bg",
        "colab_type": "code",
        "outputId": "50bd6f9e-4e68-484e-8781-34f8cdc8cf57",
        "colab": {
          "base_uri": "https://localhost:8080/",
          "height": 35
        }
      },
      "cell_type": "code",
      "source": [
        "x = trim_and_pad(title_ids[1:5], max_len=19, pad_first=False)\n",
        "[len(o) for o in x]"
      ],
      "execution_count": 0,
      "outputs": [
        {
          "output_type": "execute_result",
          "data": {
            "text/plain": [
              "[19, 19, 19, 19]"
            ]
          },
          "metadata": {
            "tags": []
          },
          "execution_count": 45
        }
      ]
    },
    {
      "metadata": {
        "id": "ycae3_Cc16gk",
        "colab_type": "text"
      },
      "cell_type": "markdown",
      "source": [
        "This time we trim by column, in other words, we throw away whatever that\n",
        "is beyond the max length"
      ]
    },
    {
      "metadata": {
        "id": "LOufovwcEZNX",
        "colab_type": "code",
        "colab": {}
      },
      "cell_type": "code",
      "source": [
        "#body_ids_trimmed = np.array([o[:body_len_90] for o in body_ids])\n",
        "#title_ids_trimmed = np.array([o[:title_len_90] for o in title_ids])"
      ],
      "execution_count": 0,
      "outputs": []
    },
    {
      "metadata": {
        "id": "nDsmV2CA5e_i",
        "colab_type": "code",
        "colab": {}
      },
      "cell_type": "code",
      "source": [
        "body_ids_trimmed = trim_and_pad(body_ids, body_len_90, pad_first=False)\n",
        "title_ids_trimmed = trim_and_pad(title_ids, title_len_90, pad_first=False)"
      ],
      "execution_count": 0,
      "outputs": []
    },
    {
      "metadata": {
        "id": "anchZiHYIcKQ",
        "colab_type": "code",
        "colab": {}
      },
      "cell_type": "code",
      "source": [
        "def A(*a):\n",
        "    \"\"\"convert iterable object into numpy array\"\"\"\n",
        "    return np.array(a[0]) if len(a)==1 else [np.array(o) for o in a]"
      ],
      "execution_count": 0,
      "outputs": []
    },
    {
      "metadata": {
        "id": "zG4F-lFZEZNa",
        "colab_type": "code",
        "colab": {}
      },
      "cell_type": "code",
      "source": [
        "class Seq2SeqDataset(Dataset):\n",
        "    def __init__(self, x, y): self.x,self.y = x,y\n",
        "    def __getitem__(self, idx): return A(self.x[idx], self.y[idx])\n",
        "    def __len__(self): return len(self.x)"
      ],
      "execution_count": 0,
      "outputs": []
    },
    {
      "metadata": {
        "id": "TunUUjDwEZN2",
        "colab_type": "code",
        "outputId": "d6ca7ab9-8eeb-4082-80da-fa1daeaa7c14",
        "colab": {
          "base_uri": "https://localhost:8080/",
          "height": 35
        }
      },
      "cell_type": "code",
      "source": [
        "np.random.seed(42)\n",
        "trn_keep = np.random.rand(len(body_ids_trimmed))>0.1\n",
        "body_trn,title_trn = body_ids_trimmed[trn_keep],title_ids_trimmed[trn_keep]\n",
        "body_val,title_val = body_ids_trimmed[~trn_keep],title_ids_trimmed[~trn_keep]\n",
        "len(body_trn),len(body_val),len(title_trn), len(title_val)"
      ],
      "execution_count": 0,
      "outputs": [
        {
          "output_type": "execute_result",
          "data": {
            "text/plain": [
              "(51625, 5755, 51625, 5755)"
            ]
          },
          "metadata": {
            "tags": []
          },
          "execution_count": 49
        }
      ]
    },
    {
      "metadata": {
        "id": "C7RNTEnBEZN9",
        "colab_type": "code",
        "colab": {}
      },
      "cell_type": "code",
      "source": [
        "trn_ds = Seq2SeqDataset(body_trn,title_trn)\n",
        "val_ds = Seq2SeqDataset(body_val,title_val)"
      ],
      "execution_count": 0,
      "outputs": []
    },
    {
      "metadata": {
        "id": "A9rQm7WUFseS",
        "colab_type": "code",
        "outputId": "3ebb8ef7-4b30-40b6-d5e1-d5b67a9520f1",
        "colab": {
          "base_uri": "https://localhost:8080/",
          "height": 129
        }
      },
      "cell_type": "code",
      "source": [
        "trn_ds[12], val_ds[7]"
      ],
      "execution_count": 0,
      "outputs": [
        {
          "output_type": "execute_result",
          "data": {
            "text/plain": [
              "([array([ 19,  30,  20, 585, ...,   1,   1,   1,   1]),\n",
              "  array([  42,   34,   21, 1045, 1411,  305,    5, 3853,    6, 3854, 9125,    2,    1,    1,    1,    1,    1,    1,\n",
              "            1,    1])],\n",
              " [array([ 16,  47, 702,   7, ...,   1,   1,   1,   1]),\n",
              "  array([370, 399, 455, 158, 259,   2,   1,   1,   1,   1,   1,   1,   1,   1,   1,   1,   1,   1,   1,   1])])"
            ]
          },
          "metadata": {
            "tags": []
          },
          "execution_count": 51
        }
      ]
    },
    {
      "metadata": {
        "id": "C6T7I1xREZOq",
        "colab_type": "code",
        "colab": {}
      },
      "cell_type": "code",
      "source": [
        "bs=125"
      ],
      "execution_count": 0,
      "outputs": []
    },
    {
      "metadata": {
        "id": "aEokTB3PEZOt",
        "colab_type": "code",
        "colab": {}
      },
      "cell_type": "code",
      "source": [
        "trn_samp = SortishSampler(body_trn, key=lambda x: len(body_trn[x]), bs=bs)\n",
        "val_samp = SortSampler(body_val, key=lambda x: len(body_val[x]))"
      ],
      "execution_count": 0,
      "outputs": []
    },
    {
      "metadata": {
        "id": "OSY5P8tC7ds5",
        "colab_type": "code",
        "colab": {}
      },
      "cell_type": "code",
      "source": [
        "class Seq2SeqTextDataBunch(TextDataBunch):\n",
        "    \"Create a `TextDataBunch` suitable for training a Seq2Seq RNN classifier.\"\n",
        "    @classmethod\n",
        "    def create(cls, train_ds, valid_ds, test_ds=None, path:PathOrStr='.', bs:int=32, val_bs:int=None, pad_idx=1,\n",
        "               pad_first=True, device:torch.device=None, no_check:bool=False, backwards:bool=False, **dl_kwargs) -> DataBunch:\n",
        "        \"Function that transform the `datasets` in a `DataBunch` for classification. Passes `**dl_kwargs` on to `DataLoader()`\"\n",
        "        datasets = cls._init_ds(train_ds, valid_ds, test_ds)\n",
        "        val_bs = ifnone(val_bs, bs)\n",
        "        collate_fn = partial(pad_collate, pad_idx=pad_idx, pad_first=pad_first, backwards=backwards)\n",
        "        train_sampler = SortishSampler(datasets[0].x, key=lambda t: len(datasets[0][t][0].data), bs=bs)\n",
        "        train_dl = DataLoader(datasets[0], batch_size=bs, sampler=train_sampler, drop_last=True, num_workers=0, **dl_kwargs)\n",
        "        dataloaders = [train_dl]\n",
        "        for ds in datasets[1:]:\n",
        "            sampler = SortSampler(ds.x, key=lambda t: len(datasets[0][t][0].data))\n",
        "            dataloaders.append(DataLoader(ds, batch_size=val_bs, sampler=sampler,num_workers=0,  **dl_kwargs))\n",
        "        return cls(*dataloaders, path=path, device=device, collate_fn=collate_fn, no_check=no_check)"
      ],
      "execution_count": 0,
      "outputs": []
    },
    {
      "metadata": {
        "id": "dbDdJ2XciUBW",
        "colab_type": "code",
        "colab": {}
      },
      "cell_type": "code",
      "source": [
        "#md = ModelData(PATH, trn_dl, val_dl)\n",
        "#ModelData is now DataBunch\n",
        "md = Seq2SeqTextDataBunch.create(trn_ds, val_ds, None, PATH, bs, pad_first=False)"
      ],
      "execution_count": 0,
      "outputs": []
    },
    {
      "metadata": {
        "id": "iTf6KjVQEZPO",
        "colab_type": "text"
      },
      "cell_type": "markdown",
      "source": [
        "## Initial model"
      ]
    },
    {
      "metadata": {
        "id": "eBqS35rZ66-l",
        "colab_type": "code",
        "colab": {}
      },
      "cell_type": "code",
      "source": [
        "import pdb"
      ],
      "execution_count": 0,
      "outputs": []
    },
    {
      "metadata": {
        "id": "-9Ps37MSEZPT",
        "colab_type": "code",
        "colab": {}
      },
      "cell_type": "code",
      "source": [
        "def create_emb(vecs, itos, em_sz):\n",
        "    emb = nn.Embedding(len(itos), em_sz, padding_idx=1)\n",
        "    wgts = emb.weight.data\n",
        "    miss = []\n",
        "    for i,w in enumerate(itos):\n",
        "        try: wgts[i] = torch.from_numpy(vecs[w]*3)\n",
        "        except: miss.append(w)\n",
        "    print(len(miss),miss[5:10])\n",
        "    return emb"
      ],
      "execution_count": 0,
      "outputs": []
    },
    {
      "metadata": {
        "id": "GA9pTnhqEZPd",
        "colab_type": "code",
        "colab": {}
      },
      "cell_type": "code",
      "source": [
        "# nh,nl = 256,2\n",
        "nh,nl = 256,2"
      ],
      "execution_count": 0,
      "outputs": []
    },
    {
      "metadata": {
        "id": "biMCeqLIEZPg",
        "colab_type": "code",
        "colab": {}
      },
      "cell_type": "code",
      "source": [
        "class Seq2SeqRNN(nn.Module):\n",
        "    def __init__(self, vecs_enc, itos_enc, em_sz_enc, vecs_dec, itos_dec, em_sz_dec, nh, out_sl, nl=2):\n",
        "        super().__init__()\n",
        "        self.nl,self.nh,self.out_sl = nl,nh,out_sl\n",
        "        self.emb_enc = create_emb(vecs_enc, itos_enc, em_sz_enc)\n",
        "        self.emb_enc_drop = nn.Dropout(0.15)\n",
        "        self.gru_enc = nn.GRU(em_sz_enc, nh, num_layers=nl, dropout=0.25)\n",
        "        self.out_enc = nn.Linear(nh, em_sz_dec, bias=False)\n",
        "        \n",
        "        self.emb_dec = create_emb(vecs_dec, itos_dec, em_sz_dec)\n",
        "        self.gru_dec = nn.GRU(em_sz_dec, em_sz_dec, num_layers=nl, dropout=0.1)\n",
        "        self.out_drop = nn.Dropout(0.35)\n",
        "        self.out = nn.Linear(em_sz_dec, len(itos_dec))\n",
        "        self.out.weight.data = self.emb_dec.weight.data\n",
        "        \n",
        "    def forward(self, inp):\n",
        "#         pdb.set_trace()\n",
        "# transpose inp\n",
        "        inp = inp.t()\n",
        "        sl,bs = inp.size()\n",
        "        h = self.initHidden(bs)\n",
        "        emb = self.emb_enc_drop(self.emb_enc(inp))\n",
        "        enc_out, h = self.gru_enc(emb, h)\n",
        "        h = self.out_enc(h)\n",
        "\n",
        "#         dec_inp = V(torch.zeros(bs).long())\n",
        "        dec_inp = to_device(torch.zeros(bs).long(), 'cuda:0')\n",
        "        res = []\n",
        "        for i in range(self.out_sl):\n",
        "            emb = self.emb_dec(dec_inp).unsqueeze(0)\n",
        "            outp, h = self.gru_dec(emb, h)\n",
        "            outp = self.out(self.out_drop(outp[0]))\n",
        "            res.append(outp)\n",
        "#             dec_inp = V(outp.data.max(1)[1])\n",
        "            dec_inp = outp.data.max(1)[1]\n",
        "            if (dec_inp==1).all(): break\n",
        "#  ugly hack, since rnn.py expects the true output to be in the first element      \n",
        "#         return torch.stack(res)\n",
        "        res = torch.stack(res)\n",
        "        res = [res, res, res]\n",
        "        return res\n",
        "    \n",
        "#     def initHidden(self, bs): return V(torch.zeros(self.nl, bs, self.nh))\n",
        "    def initHidden(self, bs): return to_device(torch.zeros(self.nl, bs, self.nh),'cuda:0')\n",
        "    \n",
        "    def reset(self):\n",
        "#         self.gru_enc.reset()\n",
        "#         self.out_enc.reset()\n",
        "#         self.gru_dec.reset()\n",
        "#         self.out.reset()\n",
        "         pass\n"
      ],
      "execution_count": 0,
      "outputs": []
    },
    {
      "metadata": {
        "id": "Pw2j6AHDXPER",
        "colab_type": "text"
      },
      "cell_type": "markdown",
      "source": [
        ""
      ]
    },
    {
      "metadata": {
        "id": "2Bu5FBW-EZPn",
        "colab_type": "code",
        "colab": {}
      },
      "cell_type": "code",
      "source": [
        "def seq2seq_loss(input, target):\n",
        "    target2 = target.t()\n",
        "    sl,bs = target2.size()\n",
        "#    bs,sl = target.size()\n",
        "    sl_in,bs_in,nc = input.size()\n",
        "#     bs_in,sl_in,nc = input.size()\n",
        "    if sl>sl_in: input = F.pad(input, (0,0,0,0,0,sl-sl_in))\n",
        "    input = input[:sl]\n",
        "    return F.cross_entropy(input.view(-1,nc), target2.contiguous().view(-1))#, ignore_index=1)"
      ],
      "execution_count": 0,
      "outputs": []
    },
    {
      "metadata": {
        "id": "Zsf9HoOxEZP5",
        "colab_type": "code",
        "colab": {}
      },
      "cell_type": "code",
      "source": [
        "opt_fn = partial(optim.Adam, betas=(0.8, 0.99))"
      ],
      "execution_count": 0,
      "outputs": []
    },
    {
      "metadata": {
        "id": "pApValHnEZP_",
        "colab_type": "code",
        "outputId": "8a2646b1-df4a-4493-97e4-ec5e1b680b9c",
        "colab": {
          "base_uri": "https://localhost:8080/",
          "height": 54
        }
      },
      "cell_type": "code",
      "source": [
        "rnn = Seq2SeqRNN(body_vecd, body_itos, dim_body_vec, title_vecd, title_itos, dim_title_vec, nh, title_len_90,nl)\n",
        "#learn = RNNLearner(md, SingleModel(to_gpu(rnn)), opt_fn=opt_fn)\n",
        "learn=RNNLearner(md, rnn, opt_func=opt_fn)\n",
        "#learn.crit = seq2seq_loss\n",
        "learn.loss_func = seq2seq_loss"
      ],
      "execution_count": 0,
      "outputs": [
        {
          "output_type": "stream",
          "text": [
            "0 []\n",
            "0 []\n"
          ],
          "name": "stdout"
        }
      ]
    },
    {
      "metadata": {
        "id": "rRozTGm1umAE",
        "colab_type": "code",
        "outputId": "c1fd2ef5-344e-499a-ab32-890153d2c505",
        "colab": {
          "base_uri": "https://localhost:8080/",
          "height": 54
        }
      },
      "cell_type": "code",
      "source": [
        "%debug -b /usr/local/lib/python3.6/dist-packages/fastai/text/data.py:130"
      ],
      "execution_count": 0,
      "outputs": [
        {
          "output_type": "stream",
          "text": [
            "Breakpoint 1 at /usr/local/lib/python3.6/dist-packages/fastai/text/data.py:130\n",
            "NOTE: Enter 'c' at the ipdb>  prompt to continue execution.\n"
          ],
          "name": "stdout"
        }
      ]
    },
    {
      "metadata": {
        "id": "Yi9BD_PjEZQM",
        "colab_type": "code",
        "outputId": "278786d7-0734-49ac-97f8-68d2c6450fea",
        "colab": {
          "base_uri": "https://localhost:8080/",
          "height": 301
        }
      },
      "cell_type": "code",
      "source": [
        "learn.lr_find()\n",
        "learn.recorder.plot()"
      ],
      "execution_count": 0,
      "outputs": [
        {
          "output_type": "display_data",
          "data": {
            "text/html": [
              ""
            ],
            "text/plain": [
              "<IPython.core.display.HTML object>"
            ]
          },
          "metadata": {
            "tags": []
          }
        },
        {
          "output_type": "stream",
          "text": [
            "LR Finder is complete, type {learner_name}.recorder.plot() to see the graph.\n"
          ],
          "name": "stdout"
        },
        {
          "output_type": "display_data",
          "data": {
            "image/png": "[encoded data removed]",
            "text/plain": [
              "<Figure size 432x288 with 1 Axes>"
            ]
          },
          "metadata": {
            "tags": []
          }
        }
      ]
    },
    {
      "metadata": {
        "id": "J-8olIoGEZQa",
        "colab_type": "code",
        "colab": {}
      },
      "cell_type": "code",
      "source": [
        "lr=5e-4"
      ],
      "execution_count": 0,
      "outputs": []
    },
    {
      "metadata": {
        "id": "WWz9ryvfEZQd",
        "colab_type": "code",
        "outputId": "0bb08043-9f9c-48e7-f1d9-838063b12c98",
        "colab": {
          "base_uri": "https://localhost:8080/",
          "height": 566
        }
      },
      "cell_type": "code",
      "source": [
        "#learn.fit(lr, 1, cycle_len=12, use_clr=(20,10))\n",
        "learn.fit_one_cycle(cyc_len=200, max_lr=lr)"
      ],
      "execution_count": 0,
      "outputs": [
        {
          "output_type": "display_data",
          "data": {
            "text/html": [
              "\n",
              "    <div>\n",
              "        <style>\n",
              "            /* Turns off some styling */\n",
              "            progress {\n",
              "                /* gets rid of default border in Firefox and Opera. */\n",
              "                border: none;\n",
              "                /* Needs to be in here for Safari polyfill so background images work as expected. */\n",
              "                background-size: auto;\n",
              "            }\n",
              "            .progress-bar-interrupted, .progress-bar-interrupted::-webkit-progress-bar {\n",
              "                background: #F44336;\n",
              "            }\n",
              "        </style>\n",
              "      <progress value='27' class='' max='200', style='width:300px; height:20px; vertical-align: middle;'></progress>\n",
              "      13.50% [27/200 1:14:08<7:55:00]\n",
              "    </div>\n",
              "    \n",
              "<table border=\"1\" class=\"dataframe\">\n",
              "  <thead>\n",
              "    <tr style=\"text-align: left;\">\n",
              "      <th>epoch</th>\n",
              "      <th>train_loss</th>\n",
              "      <th>valid_loss</th>\n",
              "      <th>time</th>\n",
              "    </tr>\n",
              "  </thead>\n",
              "  <tbody>\n",
              "    <tr>\n",
              "      <td>0</td>\n",
              "      <td>4.336642</td>\n",
              "      <td>5.559607</td>\n",
              "      <td>02:43</td>\n",
              "    </tr>\n",
              "    <tr>\n",
              "      <td>1</td>\n",
              "      <td>4.635474</td>\n",
              "      <td>5.564852</td>\n",
              "      <td>02:43</td>\n",
              "    </tr>\n",
              "    <tr>\n",
              "      <td>2</td>\n",
              "      <td>4.396523</td>\n",
              "      <td>5.603096</td>\n",
              "      <td>02:44</td>\n",
              "    </tr>\n",
              "    <tr>\n",
              "      <td>3</td>\n",
              "      <td>4.657037</td>\n",
              "      <td>5.769261</td>\n",
              "      <td>02:43</td>\n",
              "    </tr>\n",
              "    <tr>\n",
              "      <td>4</td>\n",
              "      <td>4.531082</td>\n",
              "      <td>5.641433</td>\n",
              "      <td>02:43</td>\n",
              "    </tr>\n",
              "    <tr>\n",
              "      <td>5</td>\n",
              "      <td>4.690431</td>\n",
              "      <td>5.730429</td>\n",
              "      <td>02:42</td>\n",
              "    </tr>\n",
              "    <tr>\n",
              "      <td>6</td>\n",
              "      <td>4.518584</td>\n",
              "      <td>5.788997</td>\n",
              "      <td>02:43</td>\n",
              "    </tr>\n",
              "    <tr>\n",
              "      <td>7</td>\n",
              "      <td>4.605886</td>\n",
              "      <td>5.497457</td>\n",
              "      <td>02:44</td>\n",
              "    </tr>\n",
              "    <tr>\n",
              "      <td>8</td>\n",
              "      <td>4.182817</td>\n",
              "      <td>5.512666</td>\n",
              "      <td>02:44</td>\n",
              "    </tr>\n",
              "    <tr>\n",
              "      <td>9</td>\n",
              "      <td>4.333531</td>\n",
              "      <td>5.451545</td>\n",
              "      <td>02:44</td>\n",
              "    </tr>\n",
              "    <tr>\n",
              "      <td>10</td>\n",
              "      <td>4.351157</td>\n",
              "      <td>5.542262</td>\n",
              "      <td>02:44</td>\n",
              "    </tr>\n",
              "    <tr>\n",
              "      <td>11</td>\n",
              "      <td>4.554950</td>\n",
              "      <td>5.491066</td>\n",
              "      <td>02:43</td>\n",
              "    </tr>\n",
              "    <tr>\n",
              "      <td>12</td>\n",
              "      <td>4.705678</td>\n",
              "      <td>5.656542</td>\n",
              "      <td>02:44</td>\n",
              "    </tr>\n",
              "    <tr>\n",
              "      <td>13</td>\n",
              "      <td>4.311786</td>\n",
              "      <td>5.495677</td>\n",
              "      <td>02:44</td>\n",
              "    </tr>\n",
              "    <tr>\n",
              "      <td>14</td>\n",
              "      <td>4.331446</td>\n",
              "      <td>5.359955</td>\n",
              "      <td>02:44</td>\n",
              "    </tr>\n",
              "    <tr>\n",
              "      <td>15</td>\n",
              "      <td>4.370572</td>\n",
              "      <td>5.697225</td>\n",
              "      <td>02:44</td>\n",
              "    </tr>\n",
              "    <tr>\n",
              "      <td>16</td>\n",
              "      <td>4.477349</td>\n",
              "      <td>5.580415</td>\n",
              "      <td>02:44</td>\n",
              "    </tr>\n",
              "    <tr>\n",
              "      <td>17</td>\n",
              "      <td>4.358803</td>\n",
              "      <td>5.281960</td>\n",
              "      <td>02:44</td>\n",
              "    </tr>\n",
              "    <tr>\n",
              "      <td>18</td>\n",
              "      <td>4.440377</td>\n",
              "      <td>5.599687</td>\n",
              "      <td>02:45</td>\n",
              "    </tr>\n",
              "    <tr>\n",
              "      <td>19</td>\n",
              "      <td>4.278073</td>\n",
              "      <td>5.368806</td>\n",
              "      <td>02:46</td>\n",
              "    </tr>\n",
              "    <tr>\n",
              "      <td>20</td>\n",
              "      <td>4.487670</td>\n",
              "      <td>5.664813</td>\n",
              "      <td>02:45</td>\n",
              "    </tr>\n",
              "    <tr>\n",
              "      <td>21</td>\n",
              "      <td>4.098069</td>\n",
              "      <td>5.283572</td>\n",
              "      <td>02:46</td>\n",
              "    </tr>\n",
              "    <tr>\n",
              "      <td>22</td>\n",
              "      <td>4.374246</td>\n",
              "      <td>5.430255</td>\n",
              "      <td>02:46</td>\n",
              "    </tr>\n",
              "    <tr>\n",
              "      <td>23</td>\n",
              "      <td>4.085947</td>\n",
              "      <td>5.414480</td>\n",
              "      <td>02:46</td>\n",
              "    </tr>\n",
              "    <tr>\n",
              "      <td>24</td>\n",
              "      <td>4.150136</td>\n",
              "      <td>5.278023</td>\n",
              "      <td>02:47</td>\n",
              "    </tr>\n",
              "    <tr>\n",
              "      <td>25</td>\n",
              "      <td>3.985450</td>\n",
              "      <td>5.518570</td>\n",
              "      <td>02:46</td>\n",
              "    </tr>\n",
              "    <tr>\n",
              "      <td>26</td>\n",
              "      <td>4.146240</td>\n",
              "      <td>5.281491</td>\n",
              "      <td>02:47</td>\n",
              "    </tr>\n",
              "  </tbody>\n",
              "</table><p>\n",
              "\n",
              "    <div>\n",
              "        <style>\n",
              "            /* Turns off some styling */\n",
              "            progress {\n",
              "                /* gets rid of default border in Firefox and Opera. */\n",
              "                border: none;\n",
              "                /* Needs to be in here for Safari polyfill so background images work as expected. */\n",
              "                background-size: auto;\n",
              "            }\n",
              "            .progress-bar-interrupted, .progress-bar-interrupted::-webkit-progress-bar {\n",
              "                background: #F44336;\n",
              "            }\n",
              "        </style>\n",
              "      <progress value='371' class='' max='413', style='width:300px; height:20px; vertical-align: middle;'></progress>\n",
              "      89.83% [371/413 02:24<00:16 4.2022]\n",
              "    </div>\n",
              "    "
            ],
            "text/plain": [
              "<IPython.core.display.HTML object>"
            ]
          },
          "metadata": {
            "tags": []
          }
        },
        {
          "output_type": "stream",
          "text": [
            "Buffered data was truncated after reaching the output size limit."
          ],
          "name": "stdout"
        }
      ]
    },
    {
      "metadata": {
        "id": "t4XdqpwKEZQj",
        "colab_type": "code",
        "colab": {}
      },
      "cell_type": "code",
      "source": [
        "learn.save('initial')"
      ],
      "execution_count": 0,
      "outputs": []
    },
    {
      "metadata": {
        "id": "KuZxChM4EZQ9",
        "colab_type": "code",
        "outputId": "b0fdbe72-fe20-4f70-8660-a5fbb7c63cfd",
        "colab": {
          "base_uri": "https://localhost:8080/",
          "height": 1029
        }
      },
      "cell_type": "code",
      "source": [
        "learn.load('initial')"
      ],
      "execution_count": 0,
      "outputs": [
        {
          "output_type": "stream",
          "text": [
            "/usr/local/lib/python3.6/dist-packages/torch/serialization.py:251: UserWarning: Couldn't retrieve source code for container of type Seq2SeqRNN. It won't be checked for correctness upon loading.\n",
            "  \"type \" + obj.__name__ + \". It won't be checked \"\n"
          ],
          "name": "stderr"
        },
        {
          "output_type": "execute_result",
          "data": {
            "text/plain": [
              "RNNLearner(data=Seq2SeqTextDataBunch;\n",
              "\n",
              "Train: <__main__.Seq2SeqDataset object at 0x7f61b683b780>;\n",
              "\n",
              "Valid: <__main__.Seq2SeqDataset object at 0x7f61b683b748>;\n",
              "\n",
              "Test: None, model=Seq2SeqRNN(\n",
              "  (emb_enc): Embedding(40004, 300, padding_idx=1)\n",
              "  (emb_enc_drop): Dropout(p=0.15)\n",
              "  (gru_enc): GRU(300, 256, num_layers=10, dropout=0.25)\n",
              "  (out_enc): Linear(in_features=256, out_features=300, bias=False)\n",
              "  (emb_dec): Embedding(15452, 300, padding_idx=1)\n",
              "  (gru_dec): GRU(300, 300, num_layers=10, dropout=0.1)\n",
              "  (out_drop): Dropout(p=0.35)\n",
              "  (out): Linear(in_features=300, out_features=15452, bias=True)\n",
              "), opt_func=functools.partial(<class 'torch.optim.adam.Adam'>, betas=(0.8, 0.99)), loss_func=<function seq2seq_loss at 0x7f61521dd620>, metrics=[], true_wd=True, bn_wd=True, wd=0.01, train_bn=True, path=PosixPath('data/translate'), model_dir='models', callback_fns=[functools.partial(<class 'fastai.basic_train.Recorder'>, add_time=True)], callbacks=[RNNTrainer\n",
              "learn: RNNLearner(data=Seq2SeqTextDataBunch;\n",
              "\n",
              "Train: <__main__.Seq2SeqDataset object at 0x7f61b683b780>;\n",
              "\n",
              "Valid: <__main__.Seq2SeqDataset object at 0x7f61b683b748>;\n",
              "\n",
              "Test: None, model=Seq2SeqRNN(\n",
              "  (emb_enc): Embedding(40004, 300, padding_idx=1)\n",
              "  (emb_enc_drop): Dropout(p=0.15)\n",
              "  (gru_enc): GRU(300, 256, num_layers=10, dropout=0.25)\n",
              "  (out_enc): Linear(in_features=256, out_features=300, bias=False)\n",
              "  (emb_dec): Embedding(15452, 300, padding_idx=1)\n",
              "  (gru_dec): GRU(300, 300, num_layers=10, dropout=0.1)\n",
              "  (out_drop): Dropout(p=0.35)\n",
              "  (out): Linear(in_features=300, out_features=15452, bias=True)\n",
              "), opt_func=functools.partial(<class 'torch.optim.adam.Adam'>, betas=(0.8, 0.99)), loss_func=<function seq2seq_loss at 0x7f61521dd620>, metrics=[], true_wd=True, bn_wd=True, wd=0.01, train_bn=True, path=PosixPath('data/translate'), model_dir='models', callback_fns=[functools.partial(<class 'fastai.basic_train.Recorder'>, add_time=True)], callbacks=[...], layer_groups=[Sequential(\n",
              "  (0): Embedding(40004, 300, padding_idx=1)\n",
              "  (1): Dropout(p=0.15)\n",
              "  (2): GRU(300, 256, num_layers=10, dropout=0.25)\n",
              "  (3): Linear(in_features=256, out_features=300, bias=False)\n",
              "  (4): Embedding(15452, 300, padding_idx=1)\n",
              "  (5): GRU(300, 300, num_layers=10, dropout=0.1)\n",
              "  (6): Dropout(p=0.35)\n",
              "  (7): Linear(in_features=300, out_features=15452, bias=True)\n",
              ")], add_time=True)\n",
              "alpha: 2.0\n",
              "beta: 1.0], layer_groups=[Sequential(\n",
              "  (0): Embedding(40004, 300, padding_idx=1)\n",
              "  (1): Dropout(p=0.15)\n",
              "  (2): GRU(300, 256, num_layers=10, dropout=0.25)\n",
              "  (3): Linear(in_features=256, out_features=300, bias=False)\n",
              "  (4): Embedding(15452, 300, padding_idx=1)\n",
              "  (5): GRU(300, 300, num_layers=10, dropout=0.1)\n",
              "  (6): Dropout(p=0.35)\n",
              "  (7): Linear(in_features=300, out_features=15452, bias=True)\n",
              ")], add_time=True)"
            ]
          },
          "metadata": {
            "tags": []
          },
          "execution_count": 109
        }
      ]
    },
    {
      "metadata": {
        "id": "VM7nrCGYEZRE",
        "colab_type": "text"
      },
      "cell_type": "markdown",
      "source": [
        "### Test"
      ]
    },
    {
      "metadata": {
        "id": "fuSVJnxVk9TJ",
        "colab_type": "code",
        "outputId": "4ea2c544-12ad-4764-a393-03bccf9adde4",
        "colab": {
          "base_uri": "https://localhost:8080/",
          "height": 484
        }
      },
      "cell_type": "code",
      "source": [
        "\n",
        "sampler = SortSampler(val_ds.x, key=lambda t: len(val_ds[t][0].data))\n",
        "val_dl = DataLoader(val_ds, batch_size=bs, sampler=sampler,num_workers=0)"
      ],
      "execution_count": 0,
      "outputs": [
        {
          "output_type": "error",
          "ename": "AttributeError",
          "evalue": "ignored",
          "traceback": [
            "\u001b[0;31m---------------------------------------------------------------------------\u001b[0m",
            "\u001b[0;31mAttributeError\u001b[0m                            Traceback (most recent call last)",
            "\u001b[0;32m<ipython-input-89-6d94a2509b11>\u001b[0m in \u001b[0;36m<module>\u001b[0;34m()\u001b[0m\n\u001b[0;32m----> 1\u001b[0;31m \u001b[0mto_device\u001b[0m\u001b[0;34m(\u001b[0m\u001b[0mval_ds\u001b[0m\u001b[0;34m,\u001b[0m \u001b[0;34m'cuda:0'\u001b[0m\u001b[0;34m)\u001b[0m\u001b[0;34m\u001b[0m\u001b[0;34m\u001b[0m\u001b[0m\n\u001b[0m\u001b[1;32m      2\u001b[0m \u001b[0msampler\u001b[0m \u001b[0;34m=\u001b[0m \u001b[0mSortSampler\u001b[0m\u001b[0;34m(\u001b[0m\u001b[0mval_ds\u001b[0m\u001b[0;34m.\u001b[0m\u001b[0mx\u001b[0m\u001b[0;34m,\u001b[0m \u001b[0mkey\u001b[0m\u001b[0;34m=\u001b[0m\u001b[0;32mlambda\u001b[0m \u001b[0mt\u001b[0m\u001b[0;34m:\u001b[0m \u001b[0mlen\u001b[0m\u001b[0;34m(\u001b[0m\u001b[0mval_ds\u001b[0m\u001b[0;34m[\u001b[0m\u001b[0mt\u001b[0m\u001b[0;34m]\u001b[0m\u001b[0;34m[\u001b[0m\u001b[0;36m0\u001b[0m\u001b[0;34m]\u001b[0m\u001b[0;34m.\u001b[0m\u001b[0mdata\u001b[0m\u001b[0;34m)\u001b[0m\u001b[0;34m)\u001b[0m\u001b[0;34m\u001b[0m\u001b[0;34m\u001b[0m\u001b[0m\n\u001b[1;32m      3\u001b[0m \u001b[0mval_dl\u001b[0m \u001b[0;34m=\u001b[0m \u001b[0mDataLoader\u001b[0m\u001b[0;34m(\u001b[0m\u001b[0mval_ds\u001b[0m\u001b[0;34m,\u001b[0m \u001b[0mbatch_size\u001b[0m\u001b[0;34m=\u001b[0m\u001b[0mbs\u001b[0m\u001b[0;34m,\u001b[0m \u001b[0msampler\u001b[0m\u001b[0;34m=\u001b[0m\u001b[0msampler\u001b[0m\u001b[0;34m,\u001b[0m\u001b[0mnum_workers\u001b[0m\u001b[0;34m=\u001b[0m\u001b[0;36m0\u001b[0m\u001b[0;34m)\u001b[0m\u001b[0;34m\u001b[0m\u001b[0;34m\u001b[0m\u001b[0m\n",
            "\u001b[0;32m/usr/local/lib/python3.6/dist-packages/fastai/torch_core.py\u001b[0m in \u001b[0;36mto_device\u001b[0;34m(b, device)\u001b[0m\n\u001b[1;32m    121\u001b[0m     \u001b[0;32mif\u001b[0m \u001b[0mis_listy\u001b[0m\u001b[0;34m(\u001b[0m\u001b[0mb\u001b[0m\u001b[0;34m)\u001b[0m\u001b[0;34m:\u001b[0m \u001b[0;32mreturn\u001b[0m \u001b[0;34m[\u001b[0m\u001b[0mto_device\u001b[0m\u001b[0;34m(\u001b[0m\u001b[0mo\u001b[0m\u001b[0;34m,\u001b[0m \u001b[0mdevice\u001b[0m\u001b[0;34m)\u001b[0m \u001b[0;32mfor\u001b[0m \u001b[0mo\u001b[0m \u001b[0;32min\u001b[0m \u001b[0mb\u001b[0m\u001b[0;34m]\u001b[0m\u001b[0;34m\u001b[0m\u001b[0;34m\u001b[0m\u001b[0m\n\u001b[1;32m    122\u001b[0m     \u001b[0;32mif\u001b[0m \u001b[0mis_dict\u001b[0m\u001b[0;34m(\u001b[0m\u001b[0mb\u001b[0m\u001b[0;34m)\u001b[0m\u001b[0;34m:\u001b[0m \u001b[0;32mreturn\u001b[0m \u001b[0;34m{\u001b[0m\u001b[0mk\u001b[0m\u001b[0;34m:\u001b[0m \u001b[0mto_device\u001b[0m\u001b[0;34m(\u001b[0m\u001b[0mv\u001b[0m\u001b[0;34m,\u001b[0m \u001b[0mdevice\u001b[0m\u001b[0;34m)\u001b[0m \u001b[0;32mfor\u001b[0m \u001b[0mk\u001b[0m\u001b[0;34m,\u001b[0m \u001b[0mv\u001b[0m \u001b[0;32min\u001b[0m \u001b[0mb\u001b[0m\u001b[0;34m.\u001b[0m\u001b[0mitems\u001b[0m\u001b[0;34m(\u001b[0m\u001b[0;34m)\u001b[0m\u001b[0;34m}\u001b[0m\u001b[0;34m\u001b[0m\u001b[0;34m\u001b[0m\u001b[0m\n\u001b[0;32m--> 123\u001b[0;31m     \u001b[0;32mreturn\u001b[0m \u001b[0mb\u001b[0m\u001b[0;34m.\u001b[0m\u001b[0mto\u001b[0m\u001b[0;34m(\u001b[0m\u001b[0mdevice\u001b[0m\u001b[0;34m,\u001b[0m \u001b[0mnon_blocking\u001b[0m\u001b[0;34m=\u001b[0m\u001b[0;32mTrue\u001b[0m\u001b[0;34m)\u001b[0m\u001b[0;34m\u001b[0m\u001b[0;34m\u001b[0m\u001b[0m\n\u001b[0m\u001b[1;32m    124\u001b[0m \u001b[0;34m\u001b[0m\u001b[0m\n\u001b[1;32m    125\u001b[0m \u001b[0;32mdef\u001b[0m \u001b[0mdata_collate\u001b[0m\u001b[0;34m(\u001b[0m\u001b[0mbatch\u001b[0m\u001b[0;34m:\u001b[0m\u001b[0mItemsList\u001b[0m\u001b[0;34m)\u001b[0m\u001b[0;34m->\u001b[0m\u001b[0mTensor\u001b[0m\u001b[0;34m:\u001b[0m\u001b[0;34m\u001b[0m\u001b[0;34m\u001b[0m\u001b[0m\n",
            "\u001b[0;31mAttributeError\u001b[0m: 'Seq2SeqDataset' object has no attribute 'to'"
          ]
        },
        {
          "output_type": "stream",
          "text": [
            "> \u001b[0;32m/usr/local/lib/python3.6/dist-packages/fastai/torch_core.py\u001b[0m(123)\u001b[0;36mto_device\u001b[0;34m()\u001b[0m\n",
            "\u001b[0;32m    121 \u001b[0;31m    \u001b[0;32mif\u001b[0m \u001b[0mis_listy\u001b[0m\u001b[0;34m(\u001b[0m\u001b[0mb\u001b[0m\u001b[0;34m)\u001b[0m\u001b[0;34m:\u001b[0m \u001b[0;32mreturn\u001b[0m \u001b[0;34m[\u001b[0m\u001b[0mto_device\u001b[0m\u001b[0;34m(\u001b[0m\u001b[0mo\u001b[0m\u001b[0;34m,\u001b[0m \u001b[0mdevice\u001b[0m\u001b[0;34m)\u001b[0m \u001b[0;32mfor\u001b[0m \u001b[0mo\u001b[0m \u001b[0;32min\u001b[0m \u001b[0mb\u001b[0m\u001b[0;34m]\u001b[0m\u001b[0;34m\u001b[0m\u001b[0;34m\u001b[0m\u001b[0m\n",
            "\u001b[0m\u001b[0;32m    122 \u001b[0;31m    \u001b[0;32mif\u001b[0m \u001b[0mis_dict\u001b[0m\u001b[0;34m(\u001b[0m\u001b[0mb\u001b[0m\u001b[0;34m)\u001b[0m\u001b[0;34m:\u001b[0m \u001b[0;32mreturn\u001b[0m \u001b[0;34m{\u001b[0m\u001b[0mk\u001b[0m\u001b[0;34m:\u001b[0m \u001b[0mto_device\u001b[0m\u001b[0;34m(\u001b[0m\u001b[0mv\u001b[0m\u001b[0;34m,\u001b[0m \u001b[0mdevice\u001b[0m\u001b[0;34m)\u001b[0m \u001b[0;32mfor\u001b[0m \u001b[0mk\u001b[0m\u001b[0;34m,\u001b[0m \u001b[0mv\u001b[0m \u001b[0;32min\u001b[0m \u001b[0mb\u001b[0m\u001b[0;34m.\u001b[0m\u001b[0mitems\u001b[0m\u001b[0;34m(\u001b[0m\u001b[0;34m)\u001b[0m\u001b[0;34m}\u001b[0m\u001b[0;34m\u001b[0m\u001b[0;34m\u001b[0m\u001b[0m\n",
            "\u001b[0m\u001b[0;32m--> 123 \u001b[0;31m    \u001b[0;32mreturn\u001b[0m \u001b[0mb\u001b[0m\u001b[0;34m.\u001b[0m\u001b[0mto\u001b[0m\u001b[0;34m(\u001b[0m\u001b[0mdevice\u001b[0m\u001b[0;34m,\u001b[0m \u001b[0mnon_blocking\u001b[0m\u001b[0;34m=\u001b[0m\u001b[0;32mTrue\u001b[0m\u001b[0;34m)\u001b[0m\u001b[0;34m\u001b[0m\u001b[0;34m\u001b[0m\u001b[0m\n",
            "\u001b[0m\u001b[0;32m    124 \u001b[0;31m\u001b[0;34m\u001b[0m\u001b[0m\n",
            "\u001b[0m\u001b[0;32m    125 \u001b[0;31m\u001b[0;32mdef\u001b[0m \u001b[0mdata_collate\u001b[0m\u001b[0;34m(\u001b[0m\u001b[0mbatch\u001b[0m\u001b[0;34m:\u001b[0m\u001b[0mItemsList\u001b[0m\u001b[0;34m)\u001b[0m\u001b[0;34m->\u001b[0m\u001b[0mTensor\u001b[0m\u001b[0;34m:\u001b[0m\u001b[0;34m\u001b[0m\u001b[0;34m\u001b[0m\u001b[0m\n",
            "\u001b[0m\n",
            "ipdb> c\n"
          ],
          "name": "stdout"
        }
      ]
    },
    {
      "metadata": {
        "id": "SXhcGXIyEZRF",
        "colab_type": "code",
        "outputId": "a97e0de0-421c-4123-83c2-a4052787103b",
        "colab": {
          "base_uri": "https://localhost:8080/",
          "height": 808
        }
      },
      "cell_type": "code",
      "source": [
        "x,y = next(iter(val_dl))\n",
        "x = to_device(x, 'cuda:0')\n",
        "y = to_device(y, 'cuda:0')\n",
        "probs = learn.model(x)\n",
        "preds = to_np(probs[0].data.max(2)[1].t())\n",
        "\n",
        "\n",
        "for i in range(80,90):\n",
        "    print(' '.join([body_itos[o] for o in x[i,:] if o != 1]))\n",
        "    print(' '.join([title_itos[o] for o in y[i,:] if o != 1]))\n",
        "    print(' '.join([title_itos[o] for o in preds[i,:] if o!=1]))\n",
        "    print()"
      ],
      "execution_count": 0,
      "outputs": [
        {
          "output_type": "stream",
          "text": [
            "now that flatlist and virtualizedlist is around corner available in 0.42.rc-3 , is there any plan to update the documentation as well ? from a quick skim there 's seemed to be a bunch of new properties to the virtualizedlist which is much worth documenting . _eos_\n",
            "add documentation for flatlist and underlying virtualizedlist ? _eos_\n",
            "fix : - in in _eos_ _eos_\n",
            "\n",
            "in the video , the probability table for p c includes a column for r. i 'd expect to only have c values : \n",
            "  + c = > 0.5 \n",
            "  -c = > 0.5 _eos_\n",
            "lesson 14.14 - p c table includes r _eos_\n",
            "issue : : - - _eos_ _eos_\n",
            "\n",
            "first from flow in uk south _eos_\n",
            "first from flow in uk south _eos_\n",
            "first from flow in uk south _eos_\n",
            "\n",
            "- 하위 메뉴를 펼칠 때 위치를 잘못 표시 함 - 모바일 페이지와 충돌 _eos_\n",
            "메뉴를 처리하는 스크립트가 메뉴를 잘못된 방법으로 펼침 _eos_\n",
            "\t - - _eos_ _eos_\n",
            "\n",
            "i crash-2017 - 09 - 13_22.55.21-client.txt https : / / github.com / chisel - team / chisel / files / 1301637 / crash-2017 - 09 - 13_22.55.21-client.txt usually get this from super circuit maker but not sure why chisel is reporting this . _eos_\n",
            "weird error in modpack _eos_\n",
            "fix - - in in in _eos_ _eos_\n",
            "\n",
            "it would be nice to add some ml features using tensorflow or others .. see https : / / chatbotsmagazine.com / contextual - chat - bots - with - tensorflow-4391749d0077 _eos_\n",
            "adding ml features _eos_\n",
            "add a for for for _eos_ _eos_\n",
            "\n",
            "as i understand openldap does not use any password expire attributes . so when i use openldap with pwm i ca n't use force password expiration on password set and many other features . it would be grate to use custom field to make our own expiration . _eos_\n",
            "feature request : own password expire realisation for openldap _eos_\n",
            "add to to to _eos_ _eos_\n",
            "\n",
            "https : / / github.com / appium / appium - base - driver / blob / master / lib / mjsonwp / routes.js document the lines from line 352 to 400 _eos_\n",
            "document session commands 7 _eos_\n",
            "error not in in _eos_ _eos_\n",
            "\n",
            "version : 7.3.0 3873 | com.sina.weibo reason no reason found . full stack trace includes libobjc.a.dylib , libsystem_network.dylib , libnetwork.dylib , libsystem_blocks.dylib , libdispatch.dylib , libsystem_pthread.dylib . link to hockeyapp https : / / rink.hockeyapp.net / manage / apps / 411124 / crash_reasons / 167805835 https : / / rink.hockeyapp.net / manage / apps / 411124 / crash_reasons / 167805835 _eos_\n",
            "fix crash in objc_object::release _eos_\n",
            "fix crash in _ _ _ _eos_ _eos_\n",
            "\n",
            "1 old recordings could be wiped this way . 2 this would delete data from urls that do n't exist anymore in the config file . _eos_\n",
            "command clean to wipe unnecessary data _eos_\n",
            "remove - - not not not in in _eos_ _eos_\n",
            "\n"
          ],
          "name": "stdout"
        }
      ]
    },
    {
      "metadata": {
        "id": "IjrJ6_5oEZRL",
        "colab_type": "text"
      },
      "cell_type": "markdown",
      "source": [
        "## Bidir"
      ]
    },
    {
      "metadata": {
        "id": "E0Dh9gLdEZRM",
        "colab_type": "code",
        "colab": {}
      },
      "cell_type": "code",
      "source": [
        "class Seq2SeqRNN_Bidir(nn.Module):\n",
        "    def __init__(self, vecs_enc, itos_enc, em_sz_enc, vecs_dec, itos_dec, em_sz_dec, nh, out_sl, nl=2):\n",
        "        super().__init__()\n",
        "        self.emb_enc = create_emb(vecs_enc, itos_enc, em_sz_enc)\n",
        "        self.nl,self.nh,self.out_sl = nl,nh,out_sl\n",
        "        self.gru_enc = nn.GRU(em_sz_enc, nh, num_layers=nl, dropout=0.25, bidirectional=True)\n",
        "        self.out_enc = nn.Linear(nh*2, em_sz_dec, bias=False)\n",
        "        self.drop_enc = nn.Dropout(0.05)\n",
        "        self.emb_dec = create_emb(vecs_dec, itos_dec, em_sz_dec)\n",
        "        self.gru_dec = nn.GRU(em_sz_dec, em_sz_dec, num_layers=nl, dropout=0.1)\n",
        "        self.emb_enc_drop = nn.Dropout(0.15)\n",
        "        self.out_drop = nn.Dropout(0.35)\n",
        "        self.out = nn.Linear(em_sz_dec, len(itos_dec))\n",
        "        self.out.weight.data = self.emb_dec.weight.data\n",
        "        \n",
        "    def forward(self, inp):\n",
        "        sl,bs = inp.size()\n",
        "        h = self.initHidden(bs)\n",
        "        emb = self.emb_enc_drop(self.emb_enc(inp))\n",
        "        enc_out, h = self.gru_enc(emb, h)\n",
        "        h = h.view(2,2,bs,-1).permute(0,2,1,3).contiguous().view(2,bs,-1)\n",
        "        h = self.out_enc(self.drop_enc(h))\n",
        "\n",
        "        dec_inp = V(torch.zeros(bs).long())\n",
        "        res = []\n",
        "        for i in range(self.out_sl):\n",
        "            emb = self.emb_dec(dec_inp).unsqueeze(0)\n",
        "            outp, h = self.gru_dec(emb, h)\n",
        "            outp = self.out(self.out_drop(outp[0]))\n",
        "            res.append(outp)\n",
        "            dec_inp = V(outp.data.max(1)[1])\n",
        "            if (dec_inp==1).all(): break\n",
        "        return torch.stack(res)\n",
        "    \n",
        "    def initHidden(self, bs): return V(torch.zeros(self.nl*2, bs, self.nh))"
      ],
      "execution_count": 0,
      "outputs": []
    },
    {
      "metadata": {
        "id": "eSTbabifEZRX",
        "colab_type": "code",
        "colab": {}
      },
      "cell_type": "code",
      "source": [
        "rnn = Seq2SeqRNN_Bidir(fr_vecd, fr_itos, dim_fr_vec, en_vecd, en_itos, dim_en_vec, nh, enlen_90)\n",
        "learn = RNN_Learner(md, SingleModel(to_gpu(rnn)), opt_fn=opt_fn)\n",
        "learn.crit = seq2seq_loss"
      ],
      "execution_count": 0,
      "outputs": []
    },
    {
      "metadata": {
        "id": "_NF7gAW6EZRh",
        "colab_type": "code",
        "outputId": "16fc2060-d75b-429f-b9b3-8faef014e8ff",
        "colab": {}
      },
      "cell_type": "code",
      "source": [
        "learn.fit(lr, 1, cycle_len=12, use_clr=(20,10))"
      ],
      "execution_count": 0,
      "outputs": [
        {
          "output_type": "display_data",
          "data": {
            "application/vnd.jupyter.widget-view+json": {
              "model_id": "311a44c5e45644b49728f8a4105e89ed",
              "version_major": 2,
              "version_minor": 0
            },
            "text/plain": [
              "A Jupyter Widget"
            ]
          },
          "metadata": {
            "tags": []
          }
        },
        {
          "output_type": "stream",
          "text": [
            "epoch      trn_loss   val_loss                              \n",
            "    0      4.896942   4.761351  \n",
            "    1      4.323335   4.260878                              \n",
            "    2      3.962747   4.06161                               \n",
            "    3      3.596254   3.940087                              \n",
            "    4      3.432788   3.944787                              \n",
            "    5      3.310895   3.686629                              \n",
            "    6      3.454976   3.638168                              \n",
            "    7      3.093827   3.588456                              \n",
            "    8      3.257495   3.610536                              \n",
            "    9      3.033345   3.540344                              \n",
            "    10     2.967694   3.516766                              \n",
            "    11     2.718945   3.513977                              \n",
            "\n"
          ],
          "name": "stdout"
        },
        {
          "output_type": "execute_result",
          "data": {
            "text/plain": [
              "[3.5139771]"
            ]
          },
          "metadata": {
            "tags": []
          },
          "execution_count": 0
        }
      ]
    },
    {
      "metadata": {
        "id": "9IlA01lWEZRn",
        "colab_type": "code",
        "colab": {}
      },
      "cell_type": "code",
      "source": [
        "learn.save('bidir')"
      ],
      "execution_count": 0,
      "outputs": []
    },
    {
      "metadata": {
        "id": "OEH1T6WiEZRy",
        "colab_type": "text"
      },
      "cell_type": "markdown",
      "source": [
        "## Teacher forcing"
      ]
    },
    {
      "metadata": {
        "id": "EcLbzKJhEZR0",
        "colab_type": "code",
        "colab": {}
      },
      "cell_type": "code",
      "source": [
        "class Seq2SeqStepper(Stepper):\n",
        "    def step(self, xs, y, epoch):\n",
        "        self.m.pr_force = (10-epoch)*0.1 if epoch<10 else 0\n",
        "        xtra = []\n",
        "        output = self.m(*xs, y)\n",
        "        if isinstance(output,tuple): output,*xtra = output\n",
        "        self.opt.zero_grad()\n",
        "        loss = raw_loss = self.crit(output, y)\n",
        "        if self.reg_fn: loss = self.reg_fn(output, xtra, raw_loss)\n",
        "        loss.backward()\n",
        "        if self.clip:   # Gradient clipping\n",
        "            nn.utils.clip_grad_norm(trainable_params_(self.m), self.clip)\n",
        "        self.opt.step()\n",
        "        return raw_loss.data[0]"
      ],
      "execution_count": 0,
      "outputs": []
    },
    {
      "metadata": {
        "id": "282_XYZkEZR7",
        "colab_type": "code",
        "colab": {}
      },
      "cell_type": "code",
      "source": [
        "class Seq2SeqRNN_TeacherForcing(nn.Module):\n",
        "    def __init__(self, vecs_enc, itos_enc, em_sz_enc, vecs_dec, itos_dec, em_sz_dec, nh, out_sl, nl=2):\n",
        "        super().__init__()\n",
        "        self.emb_enc = create_emb(vecs_enc, itos_enc, em_sz_enc)\n",
        "        self.nl,self.nh,self.out_sl = nl,nh,out_sl\n",
        "        self.gru_enc = nn.GRU(em_sz_enc, nh, num_layers=nl, dropout=0.25)\n",
        "        self.out_enc = nn.Linear(nh, em_sz_dec, bias=False)\n",
        "        self.emb_dec = create_emb(vecs_dec, itos_dec, em_sz_dec)\n",
        "        self.gru_dec = nn.GRU(em_sz_dec, em_sz_dec, num_layers=nl, dropout=0.1)\n",
        "        self.emb_enc_drop = nn.Dropout(0.15)\n",
        "        self.out_drop = nn.Dropout(0.35)\n",
        "        self.out = nn.Linear(em_sz_dec, len(itos_dec))\n",
        "        self.out.weight.data = self.emb_dec.weight.data\n",
        "        self.pr_force = 1.\n",
        "        \n",
        "    def forward(self, inp, y=None):\n",
        "        sl,bs = inp.size()\n",
        "        h = self.initHidden(bs)\n",
        "        emb = self.emb_enc_drop(self.emb_enc(inp))\n",
        "        enc_out, h = self.gru_enc(emb, h)\n",
        "        h = self.out_enc(h)\n",
        "\n",
        "        dec_inp = V(torch.zeros(bs).long())\n",
        "        res = []\n",
        "        for i in range(self.out_sl):\n",
        "            emb = self.emb_dec(dec_inp).unsqueeze(0)\n",
        "            outp, h = self.gru_dec(emb, h)\n",
        "            outp = self.out(self.out_drop(outp[0]))\n",
        "            res.append(outp)\n",
        "            dec_inp = V(outp.data.max(1)[1])\n",
        "            if (dec_inp==1).all(): break\n",
        "            if (y is not None) and (random.random()<self.pr_force):\n",
        "                if i>=len(y): break\n",
        "                dec_inp = y[i]\n",
        "        return torch.stack(res)\n",
        "    \n",
        "    def initHidden(self, bs): return V(torch.zeros(self.nl, bs, self.nh))"
      ],
      "execution_count": 0,
      "outputs": []
    },
    {
      "metadata": {
        "id": "5QEKAcCbEZR_",
        "colab_type": "code",
        "colab": {}
      },
      "cell_type": "code",
      "source": [
        "rnn = Seq2SeqRNN_TeacherForcing(fr_vecd, fr_itos, dim_fr_vec, en_vecd, en_itos, dim_en_vec, nh, enlen_90)\n",
        "learn = RNN_Learner(md, SingleModel(to_gpu(rnn)), opt_fn=opt_fn)\n",
        "learn.crit = seq2seq_loss"
      ],
      "execution_count": 0,
      "outputs": []
    },
    {
      "metadata": {
        "id": "5_Vnn4PGEZSC",
        "colab_type": "code",
        "outputId": "f7468b5b-130e-405e-d736-d97b0677372e",
        "colab": {}
      },
      "cell_type": "code",
      "source": [
        "learn.fit(lr, 1, cycle_len=12, use_clr=(20,10), stepper=Seq2SeqStepper)"
      ],
      "execution_count": 0,
      "outputs": [
        {
          "output_type": "display_data",
          "data": {
            "application/vnd.jupyter.widget-view+json": {
              "model_id": "fdd91dafb9c94ffc8eda007de8d0dabd",
              "version_major": 2,
              "version_minor": 0
            },
            "text/plain": [
              "A Jupyter Widget"
            ]
          },
          "metadata": {
            "tags": []
          }
        },
        {
          "output_type": "stream",
          "text": [
            "epoch      trn_loss   val_loss                              \n",
            "    0      4.460622   12.661013 \n",
            "    1      3.468132   7.138729                              \n",
            "    2      3.235244   6.202878                              \n",
            "    3      3.101616   5.454283                              \n",
            "    4      3.135989   4.823736                              \n",
            "    5      2.980696   4.933402                              \n",
            "    6      2.91562    4.287475                              \n",
            "    7      3.032661   3.975346                              \n",
            "    8      3.103834   3.790773                              \n",
            "    9      3.121457   3.578682                              \n",
            "    10     2.917534   3.532427                              \n",
            "    11     3.326946   3.490643                              \n",
            "\n"
          ],
          "name": "stdout"
        },
        {
          "output_type": "execute_result",
          "data": {
            "text/plain": [
              "[3.490643]"
            ]
          },
          "metadata": {
            "tags": []
          },
          "execution_count": 0
        }
      ]
    },
    {
      "metadata": {
        "id": "d03zvpAqEZSG",
        "colab_type": "code",
        "colab": {}
      },
      "cell_type": "code",
      "source": [
        "learn.save('forcing')"
      ],
      "execution_count": 0,
      "outputs": []
    },
    {
      "metadata": {
        "id": "ZrdpNb3vEZSJ",
        "colab_type": "text"
      },
      "cell_type": "markdown",
      "source": [
        "## Attentional model"
      ]
    },
    {
      "metadata": {
        "id": "3aUsE-fmEZSJ",
        "colab_type": "code",
        "colab": {}
      },
      "cell_type": "code",
      "source": [
        "def rand_t(*sz): return torch.randn(sz)/math.sqrt(sz[0])\n",
        "def rand_p(*sz): return nn.Parameter(rand_t(*sz))"
      ],
      "execution_count": 0,
      "outputs": []
    },
    {
      "metadata": {
        "id": "gjuF8048EZSR",
        "colab_type": "code",
        "colab": {}
      },
      "cell_type": "code",
      "source": [
        "class Seq2SeqAttnRNN(nn.Module):\n",
        "    def __init__(self, vecs_enc, itos_enc, em_sz_enc, vecs_dec, itos_dec, em_sz_dec, nh, out_sl, nl=2):\n",
        "        super().__init__()\n",
        "        self.emb_enc = create_emb(vecs_enc, itos_enc, em_sz_enc)\n",
        "        self.nl,self.nh,self.out_sl = nl,nh,out_sl\n",
        "        self.gru_enc = nn.GRU(em_sz_enc, nh, num_layers=nl, dropout=0.25)\n",
        "        self.out_enc = nn.Linear(nh, em_sz_dec, bias=False)\n",
        "        self.emb_dec = create_emb(vecs_dec, itos_dec, em_sz_dec)\n",
        "        self.gru_dec = nn.GRU(em_sz_dec, em_sz_dec, num_layers=nl, dropout=0.1)\n",
        "        self.emb_enc_drop = nn.Dropout(0.15)\n",
        "        self.out_drop = nn.Dropout(0.35)\n",
        "        self.out = nn.Linear(em_sz_dec, len(itos_dec))\n",
        "        self.out.weight.data = self.emb_dec.weight.data\n",
        "\n",
        "        self.W1 = rand_p(nh, em_sz_dec)\n",
        "        self.l2 = nn.Linear(em_sz_dec, em_sz_dec)\n",
        "        self.l3 = nn.Linear(em_sz_dec+nh, em_sz_dec)\n",
        "        self.V = rand_p(em_sz_dec)\n",
        "\n",
        "    def forward(self, inp, y=None, ret_attn=False):\n",
        "        sl,bs = inp.size()\n",
        "        h = self.initHidden(bs)\n",
        "        emb = self.emb_enc_drop(self.emb_enc(inp))\n",
        "        enc_out, h = self.gru_enc(emb, h)\n",
        "        h = self.out_enc(h)\n",
        "\n",
        "        dec_inp = V(torch.zeros(bs).long())\n",
        "        res,attns = [],[]\n",
        "        w1e = enc_out @ self.W1\n",
        "        for i in range(self.out_sl):\n",
        "            w2h = self.l2(h[-1])\n",
        "            u = F.tanh(w1e + w2h)\n",
        "            a = F.softmax(u @ self.V, 0)\n",
        "            attns.append(a)\n",
        "            Xa = (a.unsqueeze(2) * enc_out).sum(0)\n",
        "            emb = self.emb_dec(dec_inp)\n",
        "            wgt_enc = self.l3(torch.cat([emb, Xa], 1))\n",
        "            \n",
        "            outp, h = self.gru_dec(wgt_enc.unsqueeze(0), h)\n",
        "            outp = self.out(self.out_drop(outp[0]))\n",
        "            res.append(outp)\n",
        "            dec_inp = V(outp.data.max(1)[1])\n",
        "            if (dec_inp==1).all(): break\n",
        "            if (y is not None) and (random.random()<self.pr_force):\n",
        "                if i>=len(y): break\n",
        "                dec_inp = y[i]\n",
        "\n",
        "        res = torch.stack(res)\n",
        "        if ret_attn: res = res,torch.stack(attns)\n",
        "        return res\n",
        "\n",
        "    def initHidden(self, bs): return V(torch.zeros(self.nl, bs, self.nh))"
      ],
      "execution_count": 0,
      "outputs": []
    },
    {
      "metadata": {
        "id": "GspVBYe0EZST",
        "colab_type": "code",
        "colab": {}
      },
      "cell_type": "code",
      "source": [
        "rnn = Seq2SeqAttnRNN(fr_vecd, fr_itos, dim_fr_vec, en_vecd, en_itos, dim_en_vec, nh, enlen_90)\n",
        "learn = RNN_Learner(md, SingleModel(to_gpu(rnn)), opt_fn=opt_fn)\n",
        "learn.crit = seq2seq_loss"
      ],
      "execution_count": 0,
      "outputs": []
    },
    {
      "metadata": {
        "id": "IuAzpW7aEZSV",
        "colab_type": "code",
        "colab": {}
      },
      "cell_type": "code",
      "source": [
        "lr=2e-3"
      ],
      "execution_count": 0,
      "outputs": []
    },
    {
      "metadata": {
        "id": "44_3eeiUEZSs",
        "colab_type": "code",
        "outputId": "1a56668c-9b9e-4aa8-a3f4-cf570e43f253",
        "colab": {}
      },
      "cell_type": "code",
      "source": [
        "learn.fit(lr, 1, cycle_len=15, use_clr=(20,10), stepper=Seq2SeqStepper)"
      ],
      "execution_count": 0,
      "outputs": [
        {
          "output_type": "display_data",
          "data": {
            "application/vnd.jupyter.widget-view+json": {
              "model_id": "5eeb660d3184439191ed4390415a1241",
              "version_major": 2,
              "version_minor": 0
            },
            "text/plain": [
              "A Jupyter Widget"
            ]
          },
          "metadata": {
            "tags": []
          }
        },
        {
          "output_type": "stream",
          "text": [
            "epoch      trn_loss   val_loss                              \n",
            "    0      3.882168   11.125291 \n",
            "    1      3.599992   6.667136                              \n",
            "    2      3.236066   5.552943                              \n",
            "    3      3.050283   4.919096                              \n",
            "    4      2.99024    4.500383                              \n",
            "    5      3.07999    4.000295                              \n",
            "    6      2.891087   4.024115                              \n",
            "    7      2.854725   3.673913                              \n",
            "    8      2.979285   3.590668                              \n",
            "    9      3.109851   3.459867                              \n",
            "    10     2.92878    3.517598                              \n",
            "    11     2.778292   3.390253                              \n",
            "    12     2.795427   3.388423                              \n",
            "    13     2.809757   3.353334                              \n",
            "    14     2.6723     3.368584                              \n",
            "\n"
          ],
          "name": "stdout"
        },
        {
          "output_type": "execute_result",
          "data": {
            "text/plain": [
              "[3.3685837]"
            ]
          },
          "metadata": {
            "tags": []
          },
          "execution_count": 0
        }
      ]
    },
    {
      "metadata": {
        "id": "dGbHYMtzEZTH",
        "colab_type": "code",
        "colab": {}
      },
      "cell_type": "code",
      "source": [
        "learn.save('attn')"
      ],
      "execution_count": 0,
      "outputs": []
    },
    {
      "metadata": {
        "id": "ZFqchCNSEZTQ",
        "colab_type": "code",
        "colab": {}
      },
      "cell_type": "code",
      "source": [
        "learn.load('attn')"
      ],
      "execution_count": 0,
      "outputs": []
    },
    {
      "metadata": {
        "id": "jTk_UIN7EZTU",
        "colab_type": "text"
      },
      "cell_type": "markdown",
      "source": [
        "### Test"
      ]
    },
    {
      "metadata": {
        "id": "UNeQuLOdEZTX",
        "colab_type": "code",
        "colab": {}
      },
      "cell_type": "code",
      "source": [
        "x,y = next(iter(val_dl))\n",
        "probs,attns = learn.model(V(x),ret_attn=True)\n",
        "preds = to_np(probs.max(2)[1])"
      ],
      "execution_count": 0,
      "outputs": []
    },
    {
      "metadata": {
        "id": "UtU-x5uiEZTc",
        "colab_type": "code",
        "outputId": "d940bdd4-ec8c-4c35-db6c-6fffe5d8c554",
        "colab": {}
      },
      "cell_type": "code",
      "source": [
        "for i in range(180,190):\n",
        "    print(' '.join([fr_itos[o] for o in x[:,i] if o != 1]))\n",
        "    print(' '.join([en_itos[o] for o in y[:,i] if o != 1]))\n",
        "    print(' '.join([en_itos[o] for o in preds[:,i] if o!=1]))\n",
        "    print()"
      ],
      "execution_count": 0,
      "outputs": [
        {
          "output_type": "stream",
          "text": [
            "quels facteurs pourraient influer sur le choix de leur emplacement ? _eos_\n",
            "what factors influencetheir location ? _eos_\n",
            "what factors might influence the their their their ? _eos_\n",
            "\n",
            "qu’ est -ce qui ne peut pas changer ? _eos_\n",
            "what can not change ? _eos_\n",
            "what can not change change ? _eos_\n",
            "\n",
            "que faites - vous ? _eos_\n",
            "what do you do ? _eos_\n",
            "what do you do ? _eos_\n",
            "\n",
            "qui réglemente les pylônes d' antennes ? _eos_\n",
            "who regulates antenna towers ? _eos_\n",
            "who regulates the lights ? ? _eos_\n",
            "\n",
            "où sont - ils situés ? _eos_\n",
            "where are they located ? _eos_\n",
            "where are they located ? _eos_\n",
            "\n",
            "quelles sont leurs compétences ? _eos_\n",
            "what are their qualifications ? _eos_\n",
            "what are their skills ? _eos_\n",
            "\n",
            "qui est victime de harcèlement sexuel ? _eos_\n",
            "who experiences sexual harassment ? _eos_\n",
            "who is victim sexual sexual ? _eos_\n",
            "\n",
            "quelles sont les personnes qui visitent les communautés autochtones ? _eos_\n",
            "who visits indigenous communities ? _eos_\n",
            "who is people people aboriginal people ? _eos_\n",
            "\n",
            "pourquoi ces trois points en particulier ? _eos_\n",
            "why these specific three ? _eos_\n",
            "why are these three three ? ? _eos_\n",
            "\n",
            "pourquoi ou pourquoi pas ? _eos_\n",
            "why or why not ? _eos_\n",
            "why or why not ? _eos_\n",
            "\n"
          ],
          "name": "stdout"
        }
      ]
    },
    {
      "metadata": {
        "id": "G292kzweEZUb",
        "colab_type": "code",
        "colab": {}
      },
      "cell_type": "code",
      "source": [
        "attn = to_np(attns[...,180])"
      ],
      "execution_count": 0,
      "outputs": []
    },
    {
      "metadata": {
        "id": "QQFKZpg8EZUf",
        "colab_type": "code",
        "outputId": "587ce242-d323-4849-8bcf-65104a704106",
        "colab": {}
      },
      "cell_type": "code",
      "source": [
        "fig, axes = plt.subplots(3, 3, figsize=(15, 10))\n",
        "for i,ax in enumerate(axes.flat):\n",
        "    ax.plot(attn[i])"
      ],
      "execution_count": 0,
      "outputs": [
        {
          "output_type": "display_data",
          "data": {
            "image/png": "[encoded data removed]",
            "text/plain": [
              "<matplotlib.figure.Figure at 0x7f27d3ffeba8>"
            ]
          },
          "metadata": {
            "tags": []
          }
        }
      ]
    },
    {
      "metadata": {
        "id": "X0huL4LZEZU6",
        "colab_type": "text"
      },
      "cell_type": "markdown",
      "source": [
        "## All"
      ]
    },
    {
      "metadata": {
        "id": "wR6Ake2jEZU6",
        "colab_type": "code",
        "colab": {}
      },
      "cell_type": "code",
      "source": [
        "class Seq2SeqRNN_All(nn.Module):\n",
        "    def __init__(self, vecs_enc, itos_enc, em_sz_enc, vecs_dec, itos_dec, em_sz_dec, nh, out_sl, nl=2):\n",
        "        super().__init__()\n",
        "        self.emb_enc = create_emb(vecs_enc, itos_enc, em_sz_enc)\n",
        "        self.nl,self.nh,self.out_sl = nl,nh,out_sl\n",
        "        self.gru_enc = nn.GRU(em_sz_enc, nh, num_layers=nl, dropout=0.25, bidirectional=True)\n",
        "        self.out_enc = nn.Linear(nh*2, em_sz_dec, bias=False)\n",
        "        self.drop_enc = nn.Dropout(0.25)\n",
        "        self.emb_dec = create_emb(vecs_dec, itos_dec, em_sz_dec)\n",
        "        self.gru_dec = nn.GRU(em_sz_dec, em_sz_dec, num_layers=nl, dropout=0.1)\n",
        "        self.emb_enc_drop = nn.Dropout(0.15)\n",
        "        self.out_drop = nn.Dropout(0.35)\n",
        "        self.out = nn.Linear(em_sz_dec, len(itos_dec))\n",
        "        self.out.weight.data = self.emb_dec.weight.data\n",
        "\n",
        "        self.W1 = rand_p(nh*2, em_sz_dec)\n",
        "        self.l2 = nn.Linear(em_sz_dec, em_sz_dec)\n",
        "        self.l3 = nn.Linear(em_sz_dec+nh*2, em_sz_dec)\n",
        "        self.V = rand_p(em_sz_dec)\n",
        "\n",
        "    def forward(self, inp, y=None):\n",
        "        sl,bs = inp.size()\n",
        "        h = self.initHidden(bs)\n",
        "        emb = self.emb_enc_drop(self.emb_enc(inp))\n",
        "        enc_out, h = self.gru_enc(emb, h)\n",
        "        h = h.view(2,2,bs,-1).permute(0,2,1,3).contiguous().view(2,bs,-1)\n",
        "        h = self.out_enc(self.drop_enc(h))\n",
        "\n",
        "        dec_inp = V(torch.zeros(bs).long())\n",
        "        res,attns = [],[]\n",
        "        w1e = enc_out @ self.W1\n",
        "        for i in range(self.out_sl):\n",
        "            w2h = self.l2(h[-1])\n",
        "            u = F.tanh(w1e + w2h)\n",
        "            a = F.softmax(u @ self.V, 0)\n",
        "            attns.append(a)\n",
        "            Xa = (a.unsqueeze(2) * enc_out).sum(0)\n",
        "            emb = self.emb_dec(dec_inp)\n",
        "            wgt_enc = self.l3(torch.cat([emb, Xa], 1))\n",
        "            \n",
        "            outp, h = self.gru_dec(wgt_enc.unsqueeze(0), h)\n",
        "            outp = self.out(self.out_drop(outp[0]))\n",
        "            res.append(outp)\n",
        "            dec_inp = V(outp.data.max(1)[1])\n",
        "            if (dec_inp==1).all(): break\n",
        "            if (y is not None) and (random.random()<self.pr_force):\n",
        "                if i>=len(y): break\n",
        "                dec_inp = y[i]\n",
        "        return torch.stack(res)\n",
        "\n",
        "    def initHidden(self, bs): return V(torch.zeros(self.nl*2, bs, self.nh))"
      ],
      "execution_count": 0,
      "outputs": []
    },
    {
      "metadata": {
        "id": "g5yW1orxEZU-",
        "colab_type": "code",
        "colab": {}
      },
      "cell_type": "code",
      "source": [
        "rnn = Seq2SeqRNN_All(fr_vecd, fr_itos, dim_fr_vec, en_vecd, en_itos, dim_en_vec, nh, enlen_90)\n",
        "learn = RNN_Learner(md, SingleModel(to_gpu(rnn)), opt_fn=opt_fn)\n",
        "learn.crit = seq2seq_loss"
      ],
      "execution_count": 0,
      "outputs": []
    },
    {
      "metadata": {
        "id": "XAcqAoFaEZVF",
        "colab_type": "code",
        "outputId": "b8568288-52f8-4787-abc6-a13778c23c40",
        "colab": {}
      },
      "cell_type": "code",
      "source": [
        "learn.fit(lr, 1, cycle_len=15, use_clr=(20,10), stepper=Seq2SeqStepper)"
      ],
      "execution_count": 0,
      "outputs": [
        {
          "output_type": "display_data",
          "data": {
            "application/vnd.jupyter.widget-view+json": {
              "model_id": "cec8c2bb6118434b8758dd816b504c49",
              "version_major": 2,
              "version_minor": 0
            },
            "text/plain": [
              "A Jupyter Widget"
            ]
          },
          "metadata": {
            "tags": []
          }
        },
        {
          "output_type": "stream",
          "text": [
            "epoch      trn_loss   val_loss                              \n",
            "    0      3.817306   7.527982  \n",
            "    1      3.239813   5.82099                               \n",
            "    2      3.06717    5.437195                              \n",
            "    3      3.077923   4.718295                              \n",
            "    4      2.952973   4.337892                              \n",
            "    5      3.018182   3.994012                              \n",
            "    6      2.761607   3.777056                              \n",
            "    7      2.913683   3.595531                              \n",
            "    8      2.91521    3.46984                               \n",
            "    9      2.921533   3.370839                              \n",
            "    10     2.913826   3.336167                              \n",
            "    11     2.746896   3.37274                               \n",
            "    12     2.695839   3.332427                              \n",
            "    13     2.531583   3.341861                              \n",
            "    14     2.524642   3.324184                              \n",
            "\n"
          ],
          "name": "stdout"
        },
        {
          "output_type": "execute_result",
          "data": {
            "text/plain": [
              "[3.3241842]"
            ]
          },
          "metadata": {
            "tags": []
          },
          "execution_count": 0
        }
      ]
    },
    {
      "metadata": {
        "id": "SbVKATxxEZVL",
        "colab_type": "text"
      },
      "cell_type": "markdown",
      "source": [
        "### Test"
      ]
    },
    {
      "metadata": {
        "id": "0uLW8ipsEZVN",
        "colab_type": "code",
        "outputId": "27e7ff10-9aa6-4eed-b321-605f52fc171b",
        "colab": {}
      },
      "cell_type": "code",
      "source": [
        "x,y = next(iter(val_dl))\n",
        "probs = learn.model(V(x))\n",
        "preds = to_np(probs.max(2)[1])\n",
        "\n",
        "for i in range(180,190):\n",
        "    print(' '.join([fr_itos[o] for o in x[:,i] if o != 1]))\n",
        "    print(' '.join([en_itos[o] for o in y[:,i] if o != 1]))\n",
        "    print(' '.join([en_itos[o] for o in preds[:,i] if o!=1]))\n",
        "    print()"
      ],
      "execution_count": 0,
      "outputs": [
        {
          "output_type": "stream",
          "text": [
            "quels facteurs pourraient influer sur le choix de leur emplacement ? _eos_\n",
            "what factors influencetheir location ? _eos_\n",
            "what factors might affect the choice of their ? ? _eos_\n",
            "\n",
            "qu’ est -ce qui ne peut pas changer ? _eos_\n",
            "what can not change ? _eos_\n",
            "what can not change change _eos_\n",
            "\n",
            "que faites - vous ? _eos_\n",
            "what do you do ? _eos_\n",
            "what do you do ? _eos_\n",
            "\n",
            "qui réglemente les pylônes d' antennes ? _eos_\n",
            "who regulates antenna towers ? _eos_\n",
            "who regulates the antenna ? ? _eos_\n",
            "\n",
            "où sont - ils situés ? _eos_\n",
            "where are they located ? _eos_\n",
            "where are they located ? _eos_\n",
            "\n",
            "quelles sont leurs compétences ? _eos_\n",
            "what are their qualifications ? _eos_\n",
            "what are their skills ? _eos_\n",
            "\n",
            "qui est victime de harcèlement sexuel ? _eos_\n",
            "who experiences sexual harassment ? _eos_\n",
            "who is victim harassment harassment ? _eos_\n",
            "\n",
            "quelles sont les personnes qui visitent les communautés autochtones ? _eos_\n",
            "who visits indigenous communities ? _eos_\n",
            "who are the people people ? ?\n",
            "\n",
            "pourquoi ces trois points en particulier ? _eos_\n",
            "why these specific three ? _eos_\n",
            "why are these three specific ? _eos_\n",
            "\n",
            "pourquoi ou pourquoi pas ? _eos_\n",
            "why or why not ? _eos_\n",
            "why or why not ? _eos_\n",
            "\n"
          ],
          "name": "stdout"
        }
      ]
    }
  ]
}